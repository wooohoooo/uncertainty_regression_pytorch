{
 "cells": [
  {
   "cell_type": "code",
   "execution_count": 1,
   "metadata": {},
   "outputs": [],
   "source": [
    "import torch\n",
    "import numpy as np\n",
    "import matplotlib.pyplot as plt\n",
    "\n",
    "%matplotlib inline\n",
    "%config InlineBackend.figure_format = 'retina'\n",
    "\n",
    "seed = 42 #424\n",
    "np.random.seed(seed)\n",
    "torch.manual_seed(seed)\n",
    "#NOTE! This only works for non cudnn. gpu needs\n",
    "torch.backends.cudnn.deterministic = True\n",
    "torch.backends.cudnn.benchmark = False\n",
    "\n",
    "from bayes_opt import BayesianOptimization\n",
    "\n",
    "\n",
    "\n",
    "from helpers import showcase_code\n",
    "from measures import compute_error\n",
    "\n",
    "import itertools"
   ]
  },
  {
   "cell_type": "code",
   "execution_count": 2,
   "metadata": {},
   "outputs": [],
   "source": [
    "showcase = True"
   ]
  },
  {
   "cell_type": "markdown",
   "metadata": {},
   "source": [
    "# parameter search\n",
    "\n",
    "1. Bayesian optimization\n",
    "2. to ensure comparability, we only optimize the simple model that is the base for all the ensembles\n",
    "3. Optimize once for toy and once for kaggle dataset\n",
    "4. parameters to optimize:\n",
    "5. function to be optimized: \"an objective function ceases to be a good measuerement of success when it's used as optimization target\" or something like that. So we're happy to optimize for error while we're actually interested in things like cobeau and nlpd!\n",
    "\n",
    "\n",
    "\n",
    "\n"
   ]
  },
  {
   "cell_type": "code",
   "execution_count": 3,
   "metadata": {},
   "outputs": [
    {
     "data": {
      "text/html": [
       "<style type=\"text/css\">.highlight .hll { background-color: #ffffcc }\n",
       ".highlight  { background: #f8f8f8; }\n",
       ".highlight .c { color: #408080; font-style: italic } /* Comment */\n",
       ".highlight .err { border: 1px solid #FF0000 } /* Error */\n",
       ".highlight .k { color: #008000; font-weight: bold } /* Keyword */\n",
       ".highlight .o { color: #666666 } /* Operator */\n",
       ".highlight .ch { color: #408080; font-style: italic } /* Comment.Hashbang */\n",
       ".highlight .cm { color: #408080; font-style: italic } /* Comment.Multiline */\n",
       ".highlight .cp { color: #BC7A00 } /* Comment.Preproc */\n",
       ".highlight .cpf { color: #408080; font-style: italic } /* Comment.PreprocFile */\n",
       ".highlight .c1 { color: #408080; font-style: italic } /* Comment.Single */\n",
       ".highlight .cs { color: #408080; font-style: italic } /* Comment.Special */\n",
       ".highlight .gd { color: #A00000 } /* Generic.Deleted */\n",
       ".highlight .ge { font-style: italic } /* Generic.Emph */\n",
       ".highlight .gr { color: #FF0000 } /* Generic.Error */\n",
       ".highlight .gh { color: #000080; font-weight: bold } /* Generic.Heading */\n",
       ".highlight .gi { color: #00A000 } /* Generic.Inserted */\n",
       ".highlight .go { color: #888888 } /* Generic.Output */\n",
       ".highlight .gp { color: #000080; font-weight: bold } /* Generic.Prompt */\n",
       ".highlight .gs { font-weight: bold } /* Generic.Strong */\n",
       ".highlight .gu { color: #800080; font-weight: bold } /* Generic.Subheading */\n",
       ".highlight .gt { color: #0044DD } /* Generic.Traceback */\n",
       ".highlight .kc { color: #008000; font-weight: bold } /* Keyword.Constant */\n",
       ".highlight .kd { color: #008000; font-weight: bold } /* Keyword.Declaration */\n",
       ".highlight .kn { color: #008000; font-weight: bold } /* Keyword.Namespace */\n",
       ".highlight .kp { color: #008000 } /* Keyword.Pseudo */\n",
       ".highlight .kr { color: #008000; font-weight: bold } /* Keyword.Reserved */\n",
       ".highlight .kt { color: #B00040 } /* Keyword.Type */\n",
       ".highlight .m { color: #666666 } /* Literal.Number */\n",
       ".highlight .s { color: #BA2121 } /* Literal.String */\n",
       ".highlight .na { color: #7D9029 } /* Name.Attribute */\n",
       ".highlight .nb { color: #008000 } /* Name.Builtin */\n",
       ".highlight .nc { color: #0000FF; font-weight: bold } /* Name.Class */\n",
       ".highlight .no { color: #880000 } /* Name.Constant */\n",
       ".highlight .nd { color: #AA22FF } /* Name.Decorator */\n",
       ".highlight .ni { color: #999999; font-weight: bold } /* Name.Entity */\n",
       ".highlight .ne { color: #D2413A; font-weight: bold } /* Name.Exception */\n",
       ".highlight .nf { color: #0000FF } /* Name.Function */\n",
       ".highlight .nl { color: #A0A000 } /* Name.Label */\n",
       ".highlight .nn { color: #0000FF; font-weight: bold } /* Name.Namespace */\n",
       ".highlight .nt { color: #008000; font-weight: bold } /* Name.Tag */\n",
       ".highlight .nv { color: #19177C } /* Name.Variable */\n",
       ".highlight .ow { color: #AA22FF; font-weight: bold } /* Operator.Word */\n",
       ".highlight .w { color: #bbbbbb } /* Text.Whitespace */\n",
       ".highlight .mb { color: #666666 } /* Literal.Number.Bin */\n",
       ".highlight .mf { color: #666666 } /* Literal.Number.Float */\n",
       ".highlight .mh { color: #666666 } /* Literal.Number.Hex */\n",
       ".highlight .mi { color: #666666 } /* Literal.Number.Integer */\n",
       ".highlight .mo { color: #666666 } /* Literal.Number.Oct */\n",
       ".highlight .sa { color: #BA2121 } /* Literal.String.Affix */\n",
       ".highlight .sb { color: #BA2121 } /* Literal.String.Backtick */\n",
       ".highlight .sc { color: #BA2121 } /* Literal.String.Char */\n",
       ".highlight .dl { color: #BA2121 } /* Literal.String.Delimiter */\n",
       ".highlight .sd { color: #BA2121; font-style: italic } /* Literal.String.Doc */\n",
       ".highlight .s2 { color: #BA2121 } /* Literal.String.Double */\n",
       ".highlight .se { color: #BB6622; font-weight: bold } /* Literal.String.Escape */\n",
       ".highlight .sh { color: #BA2121 } /* Literal.String.Heredoc */\n",
       ".highlight .si { color: #BB6688; font-weight: bold } /* Literal.String.Interpol */\n",
       ".highlight .sx { color: #008000 } /* Literal.String.Other */\n",
       ".highlight .sr { color: #BB6688 } /* Literal.String.Regex */\n",
       ".highlight .s1 { color: #BA2121 } /* Literal.String.Single */\n",
       ".highlight .ss { color: #19177C } /* Literal.String.Symbol */\n",
       ".highlight .bp { color: #008000 } /* Name.Builtin.Pseudo */\n",
       ".highlight .fm { color: #0000FF } /* Name.Function.Magic */\n",
       ".highlight .vc { color: #19177C } /* Name.Variable.Class */\n",
       ".highlight .vg { color: #19177C } /* Name.Variable.Global */\n",
       ".highlight .vi { color: #19177C } /* Name.Variable.Instance */\n",
       ".highlight .vm { color: #19177C } /* Name.Variable.Magic */\n",
       ".highlight .il { color: #666666 } /* Literal.Number.Integer.Long */</style><div class=\"highlight\"><pre><span></span><span class=\"k\">class</span> <span class=\"nc\">SimpleModel</span><span class=\"p\">(</span><span class=\"n\">torch</span><span class=\"o\">.</span><span class=\"n\">nn</span><span class=\"o\">.</span><span class=\"n\">Module</span><span class=\"p\">):</span>\n",
       "    <span class=\"sd\">&quot;&quot;&quot;base NN model used in ensembles&quot;&quot;&quot;</span>\n",
       "    <span class=\"k\">def</span> <span class=\"fm\">__init__</span><span class=\"p\">(</span><span class=\"bp\">self</span><span class=\"p\">,</span><span class=\"n\">toy</span><span class=\"p\">,</span><span class=\"n\">n_dims_input</span><span class=\"p\">,</span><span class=\"n\">p</span><span class=\"o\">=</span><span class=\"mf\">0.00</span><span class=\"p\">,</span> <span class=\"n\">decay</span><span class=\"o\">=</span><span class=\"mf\">0.005</span><span class=\"p\">,</span> <span class=\"n\">non_linearity</span><span class=\"o\">=</span><span class=\"n\">torch</span><span class=\"o\">.</span><span class=\"n\">nn</span><span class=\"o\">.</span><span class=\"n\">LeakyReLU</span><span class=\"p\">,</span><span class=\"n\">model_provided</span> <span class=\"o\">=</span> <span class=\"bp\">False</span><span class=\"p\">):</span>\n",
       "        <span class=\"nb\">super</span><span class=\"p\">(</span><span class=\"n\">SimpleModel</span><span class=\"p\">,</span> <span class=\"bp\">self</span><span class=\"p\">)</span><span class=\"o\">.</span><span class=\"fm\">__init__</span><span class=\"p\">()</span>\n",
       "        <span class=\"bp\">self</span><span class=\"o\">.</span><span class=\"n\">dropout_p</span> <span class=\"o\">=</span> <span class=\"n\">p</span>\n",
       "        <span class=\"bp\">self</span><span class=\"o\">.</span><span class=\"n\">decay</span> <span class=\"o\">=</span> <span class=\"n\">decay</span>\n",
       "        <span class=\"bp\">self</span><span class=\"o\">.</span><span class=\"n\">criterion</span> <span class=\"o\">=</span> <span class=\"n\">torch</span><span class=\"o\">.</span><span class=\"n\">nn</span><span class=\"o\">.</span><span class=\"n\">MSELoss</span><span class=\"p\">()</span>\n",
       "        <span class=\"bp\">self</span><span class=\"o\">.</span><span class=\"n\">non_linearity</span> <span class=\"o\">=</span> <span class=\"n\">non_linearity</span>\n",
       "        <span class=\"k\">if</span> <span class=\"ow\">not</span> <span class=\"n\">model_provided</span><span class=\"p\">:</span>\n",
       "            <span class=\"k\">if</span> <span class=\"n\">toy</span><span class=\"p\">:</span>\n",
       "                <span class=\"bp\">self</span><span class=\"o\">.</span><span class=\"n\">f</span> <span class=\"o\">=</span> <span class=\"n\">get_toy_model</span><span class=\"p\">(</span><span class=\"n\">n_dims_input</span><span class=\"p\">,</span> <span class=\"n\">non_linearity</span><span class=\"p\">,</span><span class=\"bp\">self</span><span class=\"o\">.</span><span class=\"n\">dropout_p</span><span class=\"p\">)</span>\n",
       "\n",
       "            <span class=\"k\">else</span><span class=\"p\">:</span>\n",
       "                <span class=\"bp\">self</span><span class=\"o\">.</span><span class=\"n\">f</span> <span class=\"o\">=</span> <span class=\"n\">get_kaggle_model</span><span class=\"p\">(</span><span class=\"n\">n_dims_input</span><span class=\"p\">,</span> <span class=\"n\">non_linearity</span><span class=\"p\">,</span><span class=\"bp\">self</span><span class=\"o\">.</span><span class=\"n\">dropout_p</span><span class=\"p\">)</span>\n",
       "        <span class=\"k\">else</span><span class=\"p\">:</span>\n",
       "            <span class=\"bp\">self</span><span class=\"o\">.</span><span class=\"n\">f</span> <span class=\"o\">=</span> <span class=\"n\">model_provided</span>\n",
       "\n",
       "        <span class=\"bp\">self</span><span class=\"o\">.</span><span class=\"n\">optimizer</span> <span class=\"o\">=</span> <span class=\"n\">torch</span><span class=\"o\">.</span><span class=\"n\">optim</span><span class=\"o\">.</span><span class=\"n\">Adam</span><span class=\"p\">(</span>\n",
       "            <span class=\"bp\">self</span><span class=\"o\">.</span><span class=\"n\">parameters</span><span class=\"p\">(),</span>\n",
       "            <span class=\"n\">weight_decay</span><span class=\"o\">=</span><span class=\"bp\">self</span><span class=\"o\">.</span><span class=\"n\">decay</span><span class=\"p\">)</span> \n",
       "        \n",
       "    <span class=\"k\">def</span> <span class=\"nf\">forward</span><span class=\"p\">(</span><span class=\"bp\">self</span><span class=\"p\">,</span> <span class=\"n\">X</span><span class=\"p\">):</span>\n",
       "        <span class=\"n\">X</span> <span class=\"o\">=</span> <span class=\"n\">torch</span><span class=\"o\">.</span><span class=\"n\">autograd</span><span class=\"o\">.</span><span class=\"n\">Variable</span><span class=\"p\">(</span><span class=\"n\">torch</span><span class=\"o\">.</span><span class=\"n\">Tensor</span><span class=\"p\">(</span><span class=\"n\">X</span><span class=\"p\">),</span> <span class=\"n\">requires_grad</span><span class=\"o\">=</span><span class=\"bp\">False</span><span class=\"p\">)</span>\n",
       "        <span class=\"k\">return</span> <span class=\"bp\">self</span><span class=\"o\">.</span><span class=\"n\">f</span><span class=\"p\">(</span><span class=\"n\">X</span><span class=\"p\">)</span>\n",
       "\n",
       "    \n",
       "    \n",
       "    \n",
       "    <span class=\"k\">def</span> <span class=\"nf\">fit_model</span><span class=\"p\">(</span><span class=\"bp\">self</span><span class=\"p\">,</span> <span class=\"n\">X_obs</span><span class=\"p\">,</span><span class=\"n\">y_obs</span><span class=\"p\">):</span>\n",
       "        <span class=\"n\">y</span> <span class=\"o\">=</span> <span class=\"n\">torch</span><span class=\"o\">.</span><span class=\"n\">autograd</span><span class=\"o\">.</span><span class=\"n\">Variable</span><span class=\"p\">(</span><span class=\"n\">torch</span><span class=\"o\">.</span><span class=\"n\">Tensor</span><span class=\"p\">(</span><span class=\"n\">y_obs</span><span class=\"p\">),</span> <span class=\"n\">requires_grad</span><span class=\"o\">=</span><span class=\"bp\">False</span><span class=\"p\">)</span>\n",
       "        <span class=\"n\">y_pred</span> <span class=\"o\">=</span> <span class=\"bp\">self</span><span class=\"p\">(</span><span class=\"n\">X_obs</span><span class=\"p\">)</span>\n",
       "        <span class=\"bp\">self</span><span class=\"o\">.</span><span class=\"n\">optimizer</span><span class=\"o\">.</span><span class=\"n\">zero_grad</span><span class=\"p\">()</span>\n",
       "        <span class=\"n\">loss</span> <span class=\"o\">=</span> <span class=\"bp\">self</span><span class=\"o\">.</span><span class=\"n\">criterion</span><span class=\"p\">(</span><span class=\"n\">y_pred</span><span class=\"p\">,</span> <span class=\"n\">y</span><span class=\"p\">)</span>\n",
       "        <span class=\"n\">loss</span><span class=\"o\">.</span><span class=\"n\">backward</span><span class=\"p\">()</span>\n",
       "        <span class=\"bp\">self</span><span class=\"o\">.</span><span class=\"n\">optimizer</span><span class=\"o\">.</span><span class=\"n\">step</span><span class=\"p\">()</span>\n",
       "        <span class=\"k\">return</span> <span class=\"n\">loss</span>\n",
       "</pre></div>\n"
      ],
      "text/plain": [
       "<IPython.core.display.HTML object>"
      ]
     },
     "execution_count": 3,
     "metadata": {},
     "output_type": "execute_result"
    }
   ],
   "source": [
    "\n",
    "from nn_models.base_model import SimpleModel\n",
    "showcase_code('nn_models/base_model.py','SimpleModel',showcase)"
   ]
  },
  {
   "cell_type": "markdown",
   "metadata": {},
   "source": [
    "\n",
    "## toy model optimisation\n"
   ]
  },
  {
   "cell_type": "code",
   "execution_count": 4,
   "metadata": {},
   "outputs": [],
   "source": [
    "from data_loaders import get_X_y, generate_y\n",
    "#showcase_code('data_loaders.py')\n",
    "toy = False"
   ]
  },
  {
   "cell_type": "code",
   "execution_count": 5,
   "metadata": {},
   "outputs": [
    {
     "data": {
      "image/png": "[encoded data removed]",
      "text/plain": [
       "<Figure size 432x288 with 1 Axes>"
      ]
     },
     "metadata": {
      "image/png": {
       "height": 261,
       "width": 384
      },
      "needs_background": "light"
     },
     "output_type": "display_data"
    }
   ],
   "source": [
    "X_train, X_test, y_train, y_test, N, output_dims  = get_X_y(toy,seed=seed)"
   ]
  },
  {
   "cell_type": "code",
   "execution_count": 6,
   "metadata": {},
   "outputs": [
    {
     "data": {
      "text/plain": [
       "(887, 37)"
      ]
     },
     "execution_count": 6,
     "metadata": {},
     "output_type": "execute_result"
    }
   ],
   "source": [
    "X_train.shape"
   ]
  },
  {
   "cell_type": "code",
   "execution_count": 7,
   "metadata": {},
   "outputs": [
    {
     "data": {
      "text/plain": [
       "(887, 1)"
      ]
     },
     "execution_count": 7,
     "metadata": {},
     "output_type": "execute_result"
    }
   ],
   "source": [
    "y_train.shape"
   ]
  },
  {
   "cell_type": "code",
   "execution_count": 8,
   "metadata": {},
   "outputs": [],
   "source": [
    "def black_box_function(model_provided, decay, num_epochs=300):\n",
    "    model = SimpleModel(toy,X_train.shape[1], p=0.0, model_provided=model_provided, decay=decay)\n",
    "    \n",
    "    losses = []\n",
    "    for i in range(num_epochs):\n",
    "        losses.append(model.fit_model(X_train,y_train))\n",
    "        \n",
    "    y_pred = model(X_test).data.numpy()\n",
    "    \n",
    "    #plt.plot(X_test,y_test,'x')\n",
    "    #plt.plot(X_test,y_pred,'x')\n",
    "    #plt.plot(losses)\n",
    "    #plt.show()\n",
    "    \n",
    "    return compute_error(y_test,y_pred)\n",
    "\n"
   ]
  },
  {
   "cell_type": "code",
   "execution_count": 9,
   "metadata": {},
   "outputs": [
    {
     "name": "stdout",
     "output_type": "stream",
     "text": [
      "Wall time: 0 ns\n"
     ]
    }
   ],
   "source": [
    "%%time\n",
    "#black_box_function(torch.nn.ReLU,0.001)"
   ]
  },
  {
   "cell_type": "code",
   "execution_count": 10,
   "metadata": {},
   "outputs": [
    {
     "name": "stdout",
     "output_type": "stream",
     "text": [
      "Wall time: 0 ns\n"
     ]
    }
   ],
   "source": [
    "%%time\n",
    "#black_box_function(torch.nn.LeakyReLU,0.001)"
   ]
  },
  {
   "cell_type": "code",
   "execution_count": 11,
   "metadata": {},
   "outputs": [],
   "source": [
    "non_linearities = [torch.nn.LeakyReLU, torch.nn.ReLU]\n",
    "\n",
    "# models = \n",
    "\n",
    "def make_models(n_dims_input, non_linearity, layer_tuples):\n",
    "                \n",
    "        \n",
    "    layers_list = [[torch.nn.Linear(*layer_tuple), non_linearity()] for layer_tuple in layer_tuples] + [[torch.nn.Dropout(p=0),\n",
    "    torch.nn.Linear(layer_tuples[-1][1],1)]]\n",
    "    layers_list = list(itertools.chain.from_iterable(layers_list))\n",
    "\n",
    "    \n",
    "    return torch.nn.Sequential(\n",
    "    torch.nn.Linear(n_dims_input,layer_tuples[0][0]),\n",
    "    non_linearity(),\n",
    "        \n",
    "        \n",
    "        \n",
    "    *layers_list\n",
    "        \n",
    "\n",
    "    )\n",
    "    \n",
    "    #return layers_list"
   ]
  },
  {
   "cell_type": "code",
   "execution_count": null,
   "metadata": {},
   "outputs": [],
   "source": []
  },
  {
   "cell_type": "code",
   "execution_count": null,
   "metadata": {},
   "outputs": [],
   "source": []
  },
  {
   "cell_type": "code",
   "execution_count": 13,
   "metadata": {},
   "outputs": [],
   "source": [
    "layer_tuple_list = [\n",
    "                    [(100,100),(100,10)],\n",
    "                    [(100,100),(100,100),(100,10)],\n",
    "                    [(500,500),(500,15)],\n",
    "                    ]"
   ]
  },
  {
   "cell_type": "code",
   "execution_count": 14,
   "metadata": {},
   "outputs": [],
   "source": [
    "#models = [make_models(X_train.shape[1],non_linearity, layers) for non_linearity in [torch.nn.LeakyReLU, torch.nn.ReLU, torch.nn.Sigmoid, torch.nn.Tanh] for layers in layer_tuple_list]\n",
    "\n",
    "\n",
    "#models =  [make_models(X_train.shape[1],torch.nn.LeakyReLU, [(1,1)]), make_models(X_train.shape[1],torch.nn.LeakyReLU, [(10,10)])] + models"
   ]
  },
  {
   "cell_type": "code",
   "execution_count": 15,
   "metadata": {},
   "outputs": [],
   "source": [
    "#len(models)"
   ]
  },
  {
   "cell_type": "code",
   "execution_count": 16,
   "metadata": {},
   "outputs": [],
   "source": [
    "pbounds = {'layers':layer_tuple_list, \n",
    "           'decays': np.linspace(0.0005,0.005,num=3),\n",
    "           'non_linearities':[torch.nn.LeakyReLU, torch.nn.ReLU, torch.nn.Sigmoid, torch.nn.Tanh]\n",
    "          }\n",
    "#pbounds = { 'decay': (0.0005,0.005)}\n",
    "seeds = np.array([1, 3, 42, 69, 420, 100,])*1000"
   ]
  },
  {
   "cell_type": "code",
   "execution_count": 17,
   "metadata": {},
   "outputs": [
    {
     "name": "stdout",
     "output_type": "stream",
     "text": [
      "dumb net results: {'params': {'model': Sequential(\n",
      "  (0): Linear(in_features=37, out_features=1, bias=True)\n",
      "  (1): LeakyReLU(negative_slope=0.01)\n",
      "  (2): Linear(in_features=1, out_features=1, bias=True)\n",
      "  (3): LeakyReLU(negative_slope=0.01)\n",
      "  (4): Dropout(p=0, inplace=False)\n",
      "  (5): Linear(in_features=1, out_features=1, bias=True)\n",
      "), 'decay': 0.005}, 'stats': {'outcome_mean': 0.6849753692300867, 'outcome_std': 0.05443585976385645}}\n",
      "testing 36 models\n",
      "model #1 of 36\n",
      "(0.2456382247560772, 0.00682184700696556)\n",
      "model #2 of 36\n",
      "(0.2638108893246029, 0.030070787216036662)\n",
      "model #3 of 36\n",
      "(0.24535091371861206, 0.021473233154475302)\n",
      "model #4 of 36\n",
      "(0.20915172941022608, 0.004750397305786172)\n",
      "model #5 of 36\n",
      "(0.2456382247560772, 0.00682184700696556)\n",
      "model #6 of 36\n",
      "(0.2638108893246029, 0.030070787216036662)\n",
      "model #7 of 36\n",
      "(0.24535091371861206, 0.021473233154475302)\n",
      "model #8 of 36\n",
      "(0.20915172941022608, 0.004750397305786172)\n",
      "model #9 of 36\n",
      "(0.2456382247560772, 0.00682184700696556)\n",
      "model #10 of 36\n",
      "(0.2638108893246029, 0.030070787216036662)\n",
      "model #11 of 36\n",
      "(0.24535091371861206, 0.021473233154475302)\n",
      "model #12 of 36\n",
      "(0.20915172941022608, 0.004750397305786172)\n",
      "model #13 of 36\n",
      "(0.25352608950912664, 0.006142221078430114)\n",
      "model #14 of 36\n",
      "(0.25425619158368057, 0.00726522677990827)\n",
      "model #15 of 36\n",
      "(0.7341949081027502, 0.0002543784091799179)\n",
      "model #16 of 36\n",
      "(0.2188476643366696, 0.009088650308296187)\n",
      "model #17 of 36\n",
      "(0.25352608950912664, 0.006142221078430114)\n",
      "model #18 of 36\n",
      "(0.25425619158368057, 0.00726522677990827)\n",
      "model #19 of 36\n",
      "(0.7341949081027502, 0.0002543784091799179)\n",
      "model #20 of 36\n",
      "(0.2188476643366696, 0.009088650308296187)\n",
      "model #21 of 36\n",
      "(0.25352608950912664, 0.006142221078430114)\n",
      "model #22 of 36\n",
      "(0.25425619158368057, 0.00726522677990827)\n",
      "model #23 of 36\n",
      "(0.7341949081027502, 0.0002543784091799179)\n",
      "model #24 of 36\n",
      "(0.2188476643366696, 0.009088650308296187)\n",
      "model #25 of 36\n",
      "(0.251110955127194, 0.003103175193594118)\n",
      "model #26 of 36\n",
      "(0.251244619780919, 0.002587120162394118)\n",
      "model #27 of 36\n",
      "(0.2297689456790173, 0.005276770255407749)\n",
      "model #28 of 36\n",
      "(0.20221059711651154, 0.002289481318134289)\n",
      "model #29 of 36\n",
      "(0.251110955127194, 0.003103175193594118)\n",
      "model #30 of 36\n",
      "(0.251244619780919, 0.002587120162394118)\n",
      "model #31 of 36\n",
      "(0.2297689456790173, 0.005276770255407749)\n",
      "model #32 of 36\n",
      "(0.20221059711651154, 0.002289481318134289)\n",
      "model #33 of 36\n",
      "(0.251110955127194, 0.003103175193594118)\n",
      "model #34 of 36\n",
      "(0.251244619780919, 0.002587120162394118)\n",
      "model #35 of 36\n",
      "(0.2297689456790173, 0.005276770255407749)\n",
      "model #36 of 36\n",
      "(0.20221059711651154, 0.002289481318134289)\n",
      "Wall time: 13min 44s\n"
     ]
    }
   ],
   "source": [
    "%%time\n",
    "np.random.seed(0)\n",
    "torch.manual_seed(0)\n",
    "\n",
    "outcome_list = []\n",
    "\n",
    "\n",
    "# run the optimization on small net to see if somethings wrong\n",
    "seed_outcomes = []\n",
    "for seed in seeds:\n",
    "    decay = 0.005\n",
    "    dumb_network = make_models(X_train.shape[1],torch.nn.LeakyReLU, [(1,1)])\n",
    "    seed_outcomes.append(black_box_function(dumb_network,decay))\n",
    "\n",
    "\n",
    "\n",
    "outcome_mean = np.mean(seed_outcomes)\n",
    "outcome_std = np.std(seed_outcomes)\n",
    "outcome_dict = {'params':{'model':dumb_network,'decay':decay},\n",
    "                     'stats':{'outcome_mean':outcome_mean,'outcome_std':outcome_std}\n",
    "                    }\n",
    "\n",
    "print(f'dumb net results: {outcome_dict}')\n",
    "outcome_list.append(outcome_dict)\n",
    "\n",
    "\n",
    "num_models = len(pbounds['layers']) * len(pbounds['decays']) * len(pbounds['non_linearities'])\n",
    "print(f'testing {num_models} models')\n",
    "\n",
    "\n",
    "i = 0\n",
    "#append the actual gridsearch\n",
    "for layers in pbounds['layers']:\n",
    "    for decays in pbounds['decays']:\n",
    "        for non_linearity in pbounds['non_linearities']:\n",
    "            i+=1\n",
    "            print(f'model #{i} of {num_models}')\n",
    "            seed_outcomes = []\n",
    "            for seed in seeds:\n",
    "                \n",
    "                \n",
    "                np.random.seed(seed)\n",
    "                torch.manual_seed(seed) \n",
    "                \n",
    "                #make_models(X_train.shape[1],torch.nn.LeakyReLU, [(1,1)])\n",
    "                model = make_models(X_train.shape[1],non_linearity,layers)\n",
    "                \n",
    "                seed_outcomes.append(black_box_function(model,decay))\n",
    "                        \n",
    "            outcome_mean = np.mean(seed_outcomes)\n",
    "            outcome_std = np.std(seed_outcomes)\n",
    "            outcome_dict = {'params':{'model':model,'decay':decay},\n",
    "                                 'stats':{'outcome_mean':outcome_mean,'outcome_std':outcome_std}\n",
    "                                }\n",
    "            outcome_list.append(outcome_dict)\n",
    "            #print(outcome_dict)\n",
    "\n",
    "            print(f'{np.mean(seed_outcomes), np.std(seed_outcomes)}')\n"
   ]
  },
  {
   "cell_type": "code",
   "execution_count": 18,
   "metadata": {},
   "outputs": [
    {
     "data": {
      "text/plain": [
       "Sequential(\n",
       "  (0): Linear(in_features=37, out_features=500, bias=True)\n",
       "  (1): Tanh()\n",
       "  (2): Linear(in_features=500, out_features=500, bias=True)\n",
       "  (3): Tanh()\n",
       "  (4): Linear(in_features=500, out_features=15, bias=True)\n",
       "  (5): Tanh()\n",
       "  (6): Dropout(p=0, inplace=False)\n",
       "  (7): Linear(in_features=15, out_features=1, bias=True)\n",
       ")"
      ]
     },
     "execution_count": 18,
     "metadata": {},
     "output_type": "execute_result"
    }
   ],
   "source": [
    "model"
   ]
  },
  {
   "cell_type": "code",
   "execution_count": 19,
   "metadata": {},
   "outputs": [
    {
     "data": {
      "text/plain": [
       "torch.nn.modules.activation.Tanh"
      ]
     },
     "execution_count": 19,
     "metadata": {},
     "output_type": "execute_result"
    }
   ],
   "source": [
    "non_linearity"
   ]
  },
  {
   "cell_type": "code",
   "execution_count": null,
   "metadata": {},
   "outputs": [],
   "source": []
  },
  {
   "cell_type": "code",
   "execution_count": null,
   "metadata": {},
   "outputs": [],
   "source": []
  },
  {
   "cell_type": "code",
   "execution_count": 20,
   "metadata": {},
   "outputs": [],
   "source": [
    "# %%time\n",
    "\n",
    "# outcome_list = []\n",
    "# for seed in seeds:\n",
    "#     np.random.seed(seed)\n",
    "#     torch.manual_seed(seed) \n",
    "    \n",
    "#     models =  [make_models(X_train.shape[1],torch.nn.LeakyReLU, [(1,1)]), make_models(X_train.shape[1],torch.nn.LeakyReLU, [(10,10)])] + models\n",
    "    \n",
    "#     for model in pbounds['model_provided']:\n",
    "#         print(model)\n",
    "#         seed_outcomes = []\n",
    "\n",
    "#         seed_outcomes.append(black_box_function(model,decay))\n",
    "\n",
    "#         print(seed_outcomes)\n",
    "\n",
    "\n",
    "#         outcome_mean = np.mean(seed_outcomes)\n",
    "#         outcome_std = np.std(seed_outcomes)\n",
    "#         outcome_dict = {'params':{'model':model,'decay':decay},\n",
    "#                              'stats':{'outcome_mean':outcome_mean,'outcome_std':outcome_std}\n",
    "#                             }\n",
    "#         outcome_list.append(outcome_dict)\n",
    "#         #print(outcome_dict)\n",
    "\n",
    "#         print(f'{np.mean(seed_outcomes), np.std(seed_outcomes)}')\n"
   ]
  },
  {
   "cell_type": "code",
   "execution_count": 21,
   "metadata": {},
   "outputs": [],
   "source": [
    "stats = [x['stats'] for x in outcome_list] "
   ]
  },
  {
   "cell_type": "code",
   "execution_count": 22,
   "metadata": {},
   "outputs": [],
   "source": [
    "means = [ x['outcome_mean'] for x in stats]\n",
    "stds = [ x['outcome_std'] for x in stats]"
   ]
  },
  {
   "cell_type": "code",
   "execution_count": 23,
   "metadata": {},
   "outputs": [
    {
     "data": {
      "text/plain": [
       "<BarContainer object of 37 artists>"
      ]
     },
     "execution_count": 23,
     "metadata": {},
     "output_type": "execute_result"
    },
    {
     "data": {
      "image/png": "[encoded data removed]",
      "text/plain": [
       "<Figure size 432x288 with 1 Axes>"
      ]
     },
     "metadata": {
      "image/png": {
       "height": 248,
       "width": 372
      },
      "needs_background": "light"
     },
     "output_type": "display_data"
    }
   ],
   "source": [
    "plt.bar(list(range(len(means))),means,yerr=stds)"
   ]
  },
  {
   "cell_type": "code",
   "execution_count": 24,
   "metadata": {},
   "outputs": [],
   "source": [
    "index = np.argmin(means)"
   ]
  },
  {
   "cell_type": "code",
   "execution_count": 25,
   "metadata": {},
   "outputs": [],
   "source": [
    "params = [x['params'] for x in outcome_list]"
   ]
  },
  {
   "cell_type": "code",
   "execution_count": 26,
   "metadata": {},
   "outputs": [
    {
     "data": {
      "text/plain": [
       "0.20221059711651154"
      ]
     },
     "execution_count": 26,
     "metadata": {},
     "output_type": "execute_result"
    }
   ],
   "source": [
    "means[index]\n",
    "#0.2017040447815237\n"
   ]
  },
  {
   "cell_type": "code",
   "execution_count": 27,
   "metadata": {},
   "outputs": [
    {
     "data": {
      "text/plain": [
       "0.002289481318134289"
      ]
     },
     "execution_count": 27,
     "metadata": {},
     "output_type": "execute_result"
    }
   ],
   "source": [
    "stds[index]"
   ]
  },
  {
   "cell_type": "code",
   "execution_count": 30,
   "metadata": {},
   "outputs": [
    {
     "data": {
      "text/plain": [
       "{'model': Sequential(\n",
       "   (0): Linear(in_features=37, out_features=500, bias=True)\n",
       "   (1): Tanh()\n",
       "   (2): Linear(in_features=500, out_features=500, bias=True)\n",
       "   (3): Tanh()\n",
       "   (4): Linear(in_features=500, out_features=15, bias=True)\n",
       "   (5): Tanh()\n",
       "   (6): Dropout(p=0, inplace=False)\n",
       "   (7): Linear(in_features=15, out_features=1, bias=True)\n",
       " ), 'decay': 0.005}"
      ]
     },
     "execution_count": 30,
     "metadata": {},
     "output_type": "execute_result"
    }
   ],
   "source": [
    "params[index]"
   ]
  },
  {
   "cell_type": "code",
   "execution_count": 29,
   "metadata": {},
   "outputs": [
    {
     "data": {
      "text/plain": [
       "0.29087325823152027"
      ]
     },
     "execution_count": 29,
     "metadata": {},
     "output_type": "execute_result"
    }
   ],
   "source": [
    "np.mean(means)"
   ]
  },
  {
   "cell_type": "code",
   "execution_count": null,
   "metadata": {},
   "outputs": [],
   "source": []
  },
  {
   "cell_type": "code",
   "execution_count": null,
   "metadata": {},
   "outputs": [],
   "source": []
  },
  {
   "cell_type": "code",
   "execution_count": null,
   "metadata": {},
   "outputs": [],
   "source": []
  }
 ],
 "metadata": {
  "kernelspec": {
   "display_name": "Python 3",
   "language": "python",
   "name": "python3"
  },
  "language_info": {
   "codemirror_mode": {
    "name": "ipython",
    "version": 3
   },
   "file_extension": ".py",
   "mimetype": "text/x-python",
   "name": "python",
   "nbconvert_exporter": "python",
   "pygments_lexer": "ipython3",
   "version": "3.7.4"
  }
 },
 "nbformat": 4,
 "nbformat_minor": 4
}
