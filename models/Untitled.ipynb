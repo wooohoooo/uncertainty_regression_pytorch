{
 "cells": [
  {
   "cell_type": "code",
   "execution_count": 6,
   "metadata": {},
   "outputs": [],
   "source": [
    "import matplotlib.pyplot as plt\n",
    "%matplotlib inline\n",
    "import numpy as np"
   ]
  },
  {
   "cell_type": "code",
   "execution_count": 26,
   "metadata": {},
   "outputs": [],
   "source": [
    "def compute_nlpd(y,y_pred,y_std):\n",
    "    nlpd = 1/2 * ((y-y_pred)**2 / (y_std )) + np.log(y_std)\n",
    "    l = np.mean(nlpd)\n",
    "    return l\n",
    "    #return -1/2 *np.mean( safe_ln(y_std) + ((y_pred - y)**2/(y_std+0.0001)))\n",
    "def safe_ln(x):\n",
    "    return np.log(x+0.0001)"
   ]
  },
  {
   "cell_type": "code",
   "execution_count": 27,
   "metadata": {},
   "outputs": [],
   "source": [
    "y = np.ones(10)"
   ]
  },
  {
   "cell_type": "code",
   "execution_count": 28,
   "metadata": {},
   "outputs": [
    {
     "data": {
      "text/plain": [
       "10"
      ]
     },
     "execution_count": 28,
     "metadata": {},
     "output_type": "execute_result"
    }
   ],
   "source": [
    "len(y)"
   ]
  },
  {
   "cell_type": "code",
   "execution_count": 29,
   "metadata": {},
   "outputs": [],
   "source": [
    "y_hat = y + 1"
   ]
  },
  {
   "cell_type": "code",
   "execution_count": 53,
   "metadata": {},
   "outputs": [],
   "source": [
    "y_std = np.linspace(0.01,10,100)"
   ]
  },
  {
   "cell_type": "code",
   "execution_count": 54,
   "metadata": {},
   "outputs": [
    {
     "data": {
      "text/plain": [
       "array([ 0.01      ,  0.11090909,  0.21181818,  0.31272727,  0.41363636,\n",
       "        0.51454545,  0.61545455,  0.71636364,  0.81727273,  0.91818182,\n",
       "        1.01909091,  1.12      ,  1.22090909,  1.32181818,  1.42272727,\n",
       "        1.52363636,  1.62454545,  1.72545455,  1.82636364,  1.92727273,\n",
       "        2.02818182,  2.12909091,  2.23      ,  2.33090909,  2.43181818,\n",
       "        2.53272727,  2.63363636,  2.73454545,  2.83545455,  2.93636364,\n",
       "        3.03727273,  3.13818182,  3.23909091,  3.34      ,  3.44090909,\n",
       "        3.54181818,  3.64272727,  3.74363636,  3.84454545,  3.94545455,\n",
       "        4.04636364,  4.14727273,  4.24818182,  4.34909091,  4.45      ,\n",
       "        4.55090909,  4.65181818,  4.75272727,  4.85363636,  4.95454545,\n",
       "        5.05545455,  5.15636364,  5.25727273,  5.35818182,  5.45909091,\n",
       "        5.56      ,  5.66090909,  5.76181818,  5.86272727,  5.96363636,\n",
       "        6.06454545,  6.16545455,  6.26636364,  6.36727273,  6.46818182,\n",
       "        6.56909091,  6.67      ,  6.77090909,  6.87181818,  6.97272727,\n",
       "        7.07363636,  7.17454545,  7.27545455,  7.37636364,  7.47727273,\n",
       "        7.57818182,  7.67909091,  7.78      ,  7.88090909,  7.98181818,\n",
       "        8.08272727,  8.18363636,  8.28454545,  8.38545455,  8.48636364,\n",
       "        8.58727273,  8.68818182,  8.78909091,  8.89      ,  8.99090909,\n",
       "        9.09181818,  9.19272727,  9.29363636,  9.39454545,  9.49545455,\n",
       "        9.59636364,  9.69727273,  9.79818182,  9.89909091, 10.        ])"
      ]
     },
     "execution_count": 54,
     "metadata": {},
     "output_type": "execute_result"
    }
   ],
   "source": [
    "y_std"
   ]
  },
  {
   "cell_type": "code",
   "execution_count": 55,
   "metadata": {},
   "outputs": [],
   "source": [
    "nlpd = []\n",
    "for std in y_std:\n",
    "    nlpd.append(compute_nlpd(1,2,std))"
   ]
  },
  {
   "cell_type": "code",
   "execution_count": 56,
   "metadata": {},
   "outputs": [
    {
     "name": "stdout",
     "output_type": "stream",
     "text": [
      "[45.394829814011906, 2.30915230725827, 0.8084880162384658, 0.4364134078892621, 0.32602316895569716, 0.30726006817997187, 0.32701349507116023, 0.3644021742186253, 0.41000845443932965, 0.4591946064943877, 0.5095443273543867, 0.5597572567355745, 0.6091266387047578, 0.6572750493757785, 0.7040133438683027, 0.7492621134250175, 0.7930064559252885, 0.8352692348196599, 0.8760949498313595, 0.9155398711437471, 0.9536659570714403, 0.9905371007426781, 1.0262168321087985, 1.0607669395973125, 1.094246677179159, 1.1267123452302452, 1.1582171095731542, 1.1888109709641197, 1.2185408278758458, 1.247450595201138, 1.2755813544173464, 1.3029715192569493, 1.329657006566778, 1.3556714057910042, 1.381046143016395, 1.4058106371874628, 1.429992447207806, 1.4536174093743666, 1.4767097650657854, 1.4992922789070668, 1.5213863478164515, 1.5430121014449822, 1.5641884945709297, 1.5849333920279522, 1.6052636467399466, 1.6251951714154054, 1.6447430044255087, 1.6639213703570384, 1.6827437356961181, 1.7012228600634884, 1.7193708433876151, 1.7371991693690838, 1.7547187455588564, 1.7719399403442284, 1.7888726171098035, 1.8055261658164479, 1.8219095322189591, 1.8380312449229084, 1.853899440462712, 1.8695218865663068, 1.8849060037566616, 1.9000588854266949, 1.9149873165117821, 1.9296977908728499, 1.944196527492937, 1.9584894855809631, 1.972582378668162, 1.9864806877751673, 2.000189673720955, 2.013714388638725, 2.027059686758241, 2.04023023450911, 2.053230519994929, 2.066064861884047, 2.0787374177589646, 2.091252191962924, 2.1036130429791546, 2.1158236903753904, 2.127887721343685, 2.1398085968632015, 2.151589657511485, 2.1632341289477757, 2.17474512709011, 2.186125663006319, 2.197378647537513, 2.2085068956712943, 2.2195131306806175, 2.230399988043118, 2.24117001915461, 2.2518256948495075, 2.262369408739999, 2.272803480384987, 2.283130158299027, 2.2933516228108135, 2.303469988780078, 2.3134873081812013, 2.3234055725612484, 2.3332267153796464, 2.3429526142362453, 2.3525850929940457]\n"
     ]
    }
   ],
   "source": [
    "print(nlpd)"
   ]
  },
  {
   "cell_type": "code",
   "execution_count": 57,
   "metadata": {},
   "outputs": [
    {
     "data": {
      "text/plain": [
       "[<matplotlib.lines.Line2D at 0x209c3b74988>]"
      ]
     },
     "execution_count": 57,
     "metadata": {},
     "output_type": "execute_result"
    },
    {
     "data": {
      "image/png": "[encoded data removed]",
      "text/plain": [
       "<Figure size 432x288 with 1 Axes>"
      ]
     },
     "metadata": {
      "needs_background": "light"
     },
     "output_type": "display_data"
    }
   ],
   "source": [
    "plt.plot(np.log(y_std),np.log(nlpd))"
   ]
  },
  {
   "cell_type": "code",
   "execution_count": null,
   "metadata": {},
   "outputs": [],
   "source": []
  }
 ],
 "metadata": {
  "kernelspec": {
   "display_name": "Python 3",
   "language": "python",
   "name": "python3"
  },
  "language_info": {
   "codemirror_mode": {
    "name": "ipython",
    "version": 3
   },
   "file_extension": ".py",
   "mimetype": "text/x-python",
   "name": "python",
   "nbconvert_exporter": "python",
   "pygments_lexer": "ipython3",
   "version": "3.7.4"
  }
 },
 "nbformat": 4,
 "nbformat_minor": 4
}
