{
 "cells": [
  {
   "cell_type": "code",
   "execution_count": 1,
   "metadata": {},
   "outputs": [],
   "source": [
    "import numpy as np\n",
    "import torch\n",
    "\n",
    "seed = 42 #424\n",
    "np.random.seed(seed)\n",
    "torch.manual_seed(seed)\n",
    "#NOTE! This only works for non cudnn. gpu needs\n",
    "torch.backends.cudnn.deterministic = True\n",
    "torch.backends.cudnn.benchmark = False\n",
    "\n",
    "from helpers import showcase_code\n",
    "\n",
    "import matplotlib.pyplot as plt\n",
    "%matplotlib inline\n",
    "import seaborn as sns\n",
    "\n",
    "import gc"
   ]
  },
  {
   "cell_type": "code",
   "execution_count": 2,
   "metadata": {},
   "outputs": [],
   "source": [
    "# for working with external files, otherwise kernels needs to be restarted each time\n",
    "%load_ext autoreload\n",
    "%autoreload 2\n"
   ]
  },
  {
   "cell_type": "markdown",
   "metadata": {},
   "source": [
    "# Measures\n",
    "\n",
    "## NLPD\n",
    "\n",
    "## Error\n",
    "\n",
    "## cobeau\n",
    " \n",
    "## coverage ?\n",
    "\n",
    "## distance from 'optimally informed Tsomething' (DOIT)\n",
    "\n",
    "\n",
    "# experiment\n",
    "\n",
    "## setup\n",
    "\n",
    "\n",
    "\n",
    "### toy problem\n",
    "parameters were obtained via non-exhaustive gridsearch, since the performance on the error is not the most important metric, the other metrics were not optimized for.\n",
    "\n",
    "#### 100 times per model:\n",
    "\n",
    "\n",
    "for i in range experiment:\n",
    "  seed = f(i)\n",
    "  model = new_model(seed=f(i))\n",
    "  model.fit(X_train,y_train)\n",
    "  outcomes = model.get_uncertainty(X_test,y_test)\n",
    "  measures.append(get_measures(outcomes))\n",
    "  \n",
    "stats = mean/std(measures)\n",
    "  \n",
    "#### comparisson models:\n",
    "\n",
    "##### optimal model\n",
    "\n",
    "##### mean/std model\n",
    "\n",
    "### kaggle problem\n",
    "\n",
    "\n",
    "#### 100 times per model:\n",
    "\n",
    "\n",
    "for i in range experiment:\n",
    "  seed = f(i)\n",
    "  model = new_model(seed=f(i))\n",
    "  model.fit(X_train,y_train)\n",
    "  outcomes = model.get_uncertainty(X_test,y_test)\n",
    "  measures.append(get_measures(outcomes))\n",
    "  \n",
    "stats = mean/std(measures)"
   ]
  },
  {
   "cell_type": "code",
   "execution_count": null,
   "metadata": {},
   "outputs": [],
   "source": [
    "\n",
    "        "
   ]
  },
  {
   "cell_type": "code",
   "execution_count": 3,
   "metadata": {},
   "outputs": [
    {
     "data": {
      "text/html": [
       "<style type=\"text/css\">.highlight .hll { background-color: #ffffcc }\n",
       ".highlight  { background: #f8f8f8; }\n",
       ".highlight .c { color: #408080; font-style: italic } /* Comment */\n",
       ".highlight .err { border: 1px solid #FF0000 } /* Error */\n",
       ".highlight .k { color: #008000; font-weight: bold } /* Keyword */\n",
       ".highlight .o { color: #666666 } /* Operator */\n",
       ".highlight .ch { color: #408080; font-style: italic } /* Comment.Hashbang */\n",
       ".highlight .cm { color: #408080; font-style: italic } /* Comment.Multiline */\n",
       ".highlight .cp { color: #BC7A00 } /* Comment.Preproc */\n",
       ".highlight .cpf { color: #408080; font-style: italic } /* Comment.PreprocFile */\n",
       ".highlight .c1 { color: #408080; font-style: italic } /* Comment.Single */\n",
       ".highlight .cs { color: #408080; font-style: italic } /* Comment.Special */\n",
       ".highlight .gd { color: #A00000 } /* Generic.Deleted */\n",
       ".highlight .ge { font-style: italic } /* Generic.Emph */\n",
       ".highlight .gr { color: #FF0000 } /* Generic.Error */\n",
       ".highlight .gh { color: #000080; font-weight: bold } /* Generic.Heading */\n",
       ".highlight .gi { color: #00A000 } /* Generic.Inserted */\n",
       ".highlight .go { color: #888888 } /* Generic.Output */\n",
       ".highlight .gp { color: #000080; font-weight: bold } /* Generic.Prompt */\n",
       ".highlight .gs { font-weight: bold } /* Generic.Strong */\n",
       ".highlight .gu { color: #800080; font-weight: bold } /* Generic.Subheading */\n",
       ".highlight .gt { color: #0044DD } /* Generic.Traceback */\n",
       ".highlight .kc { color: #008000; font-weight: bold } /* Keyword.Constant */\n",
       ".highlight .kd { color: #008000; font-weight: bold } /* Keyword.Declaration */\n",
       ".highlight .kn { color: #008000; font-weight: bold } /* Keyword.Namespace */\n",
       ".highlight .kp { color: #008000 } /* Keyword.Pseudo */\n",
       ".highlight .kr { color: #008000; font-weight: bold } /* Keyword.Reserved */\n",
       ".highlight .kt { color: #B00040 } /* Keyword.Type */\n",
       ".highlight .m { color: #666666 } /* Literal.Number */\n",
       ".highlight .s { color: #BA2121 } /* Literal.String */\n",
       ".highlight .na { color: #7D9029 } /* Name.Attribute */\n",
       ".highlight .nb { color: #008000 } /* Name.Builtin */\n",
       ".highlight .nc { color: #0000FF; font-weight: bold } /* Name.Class */\n",
       ".highlight .no { color: #880000 } /* Name.Constant */\n",
       ".highlight .nd { color: #AA22FF } /* Name.Decorator */\n",
       ".highlight .ni { color: #999999; font-weight: bold } /* Name.Entity */\n",
       ".highlight .ne { color: #D2413A; font-weight: bold } /* Name.Exception */\n",
       ".highlight .nf { color: #0000FF } /* Name.Function */\n",
       ".highlight .nl { color: #A0A000 } /* Name.Label */\n",
       ".highlight .nn { color: #0000FF; font-weight: bold } /* Name.Namespace */\n",
       ".highlight .nt { color: #008000; font-weight: bold } /* Name.Tag */\n",
       ".highlight .nv { color: #19177C } /* Name.Variable */\n",
       ".highlight .ow { color: #AA22FF; font-weight: bold } /* Operator.Word */\n",
       ".highlight .w { color: #bbbbbb } /* Text.Whitespace */\n",
       ".highlight .mb { color: #666666 } /* Literal.Number.Bin */\n",
       ".highlight .mf { color: #666666 } /* Literal.Number.Float */\n",
       ".highlight .mh { color: #666666 } /* Literal.Number.Hex */\n",
       ".highlight .mi { color: #666666 } /* Literal.Number.Integer */\n",
       ".highlight .mo { color: #666666 } /* Literal.Number.Oct */\n",
       ".highlight .sa { color: #BA2121 } /* Literal.String.Affix */\n",
       ".highlight .sb { color: #BA2121 } /* Literal.String.Backtick */\n",
       ".highlight .sc { color: #BA2121 } /* Literal.String.Char */\n",
       ".highlight .dl { color: #BA2121 } /* Literal.String.Delimiter */\n",
       ".highlight .sd { color: #BA2121; font-style: italic } /* Literal.String.Doc */\n",
       ".highlight .s2 { color: #BA2121 } /* Literal.String.Double */\n",
       ".highlight .se { color: #BB6622; font-weight: bold } /* Literal.String.Escape */\n",
       ".highlight .sh { color: #BA2121 } /* Literal.String.Heredoc */\n",
       ".highlight .si { color: #BB6688; font-weight: bold } /* Literal.String.Interpol */\n",
       ".highlight .sx { color: #008000 } /* Literal.String.Other */\n",
       ".highlight .sr { color: #BB6688 } /* Literal.String.Regex */\n",
       ".highlight .s1 { color: #BA2121 } /* Literal.String.Single */\n",
       ".highlight .ss { color: #19177C } /* Literal.String.Symbol */\n",
       ".highlight .bp { color: #008000 } /* Name.Builtin.Pseudo */\n",
       ".highlight .fm { color: #0000FF } /* Name.Function.Magic */\n",
       ".highlight .vc { color: #19177C } /* Name.Variable.Class */\n",
       ".highlight .vg { color: #19177C } /* Name.Variable.Global */\n",
       ".highlight .vi { color: #19177C } /* Name.Variable.Instance */\n",
       ".highlight .vm { color: #19177C } /* Name.Variable.Magic */\n",
       ".highlight .il { color: #666666 } /* Literal.Number.Integer.Long */</style><div class=\"highlight\"><pre><span></span><span class=\"kn\">import</span> <span class=\"nn\">numpy</span> <span class=\"kn\">as</span> <span class=\"nn\">np</span>\n",
       "<span class=\"kn\">import</span> <span class=\"nn\">scipy.stats</span> <span class=\"kn\">as</span> <span class=\"nn\">stats</span>\n",
       "\n",
       "\n",
       "<span class=\"k\">def</span> <span class=\"nf\">safe_ln</span><span class=\"p\">(</span><span class=\"n\">x</span><span class=\"p\">):</span>\n",
       "    <span class=\"k\">return</span> <span class=\"n\">np</span><span class=\"o\">.</span><span class=\"n\">log</span><span class=\"p\">(</span><span class=\"n\">x</span><span class=\"o\">+</span><span class=\"mf\">0.0001</span><span class=\"p\">)</span>\n",
       "\n",
       "\n",
       "<span class=\"k\">def</span> <span class=\"nf\">compute_cobeau</span><span class=\"p\">(</span><span class=\"n\">y</span><span class=\"p\">,</span><span class=\"n\">y_pred</span><span class=\"p\">,</span><span class=\"n\">y_std</span><span class=\"p\">):</span>\n",
       "    <span class=\"n\">error</span> <span class=\"o\">=</span> <span class=\"n\">np</span><span class=\"o\">.</span><span class=\"n\">sqrt</span><span class=\"p\">((</span><span class=\"n\">y</span><span class=\"o\">-</span><span class=\"n\">y_pred</span><span class=\"p\">)</span><span class=\"o\">**</span><span class=\"mi\">2</span><span class=\"p\">)</span>\n",
       "    <span class=\"k\">return</span> <span class=\"n\">stats</span><span class=\"o\">.</span><span class=\"n\">pearsonr</span><span class=\"p\">(</span><span class=\"n\">error</span><span class=\"p\">,</span> <span class=\"n\">y_std</span><span class=\"p\">)</span>\n",
       "\n",
       "\n",
       "<span class=\"k\">def</span> <span class=\"nf\">compute_nlpd</span><span class=\"p\">(</span><span class=\"n\">y</span><span class=\"p\">,</span><span class=\"n\">y_pred</span><span class=\"p\">,</span><span class=\"n\">y_std</span><span class=\"p\">):</span>\n",
       "    <span class=\"n\">nlpd</span> <span class=\"o\">=</span> <span class=\"mi\">1</span><span class=\"o\">/</span><span class=\"mi\">2</span> <span class=\"o\">*</span> <span class=\"p\">((</span><span class=\"n\">y</span><span class=\"o\">-</span><span class=\"n\">y_pred</span><span class=\"p\">)</span><span class=\"o\">**</span><span class=\"mi\">2</span> <span class=\"o\">/</span> <span class=\"p\">(</span><span class=\"n\">y_std</span> <span class=\"o\">+</span><span class=\"mf\">0.0001</span><span class=\"p\">))</span> <span class=\"o\">+</span> <span class=\"n\">safe_ln</span><span class=\"p\">(</span><span class=\"n\">y_std</span><span class=\"p\">)</span>\n",
       "    <span class=\"n\">l</span> <span class=\"o\">=</span> <span class=\"n\">np</span><span class=\"o\">.</span><span class=\"n\">mean</span><span class=\"p\">(</span><span class=\"n\">nlpd</span><span class=\"p\">)</span>\n",
       "    <span class=\"k\">return</span> <span class=\"n\">l</span>\n",
       "    <span class=\"c1\">#return -1/2 *np.mean( safe_ln(y_std) + ((y_pred - y)**2/(y_std+0.0001)))</span>\n",
       "\n",
       "\n",
       "    \n",
       "<span class=\"k\">def</span> <span class=\"nf\">compute_error</span><span class=\"p\">(</span><span class=\"n\">y</span><span class=\"p\">,</span><span class=\"n\">y_pred</span><span class=\"p\">):</span>\n",
       "    <span class=\"k\">return</span> <span class=\"n\">np</span><span class=\"o\">.</span><span class=\"n\">mean</span><span class=\"p\">(</span><span class=\"n\">np</span><span class=\"o\">.</span><span class=\"n\">sqrt</span><span class=\"p\">((</span><span class=\"n\">y</span><span class=\"o\">-</span><span class=\"n\">y_pred</span><span class=\"p\">)</span><span class=\"o\">**</span><span class=\"mi\">2</span><span class=\"p\">))</span>\n",
       "</pre></div>\n"
      ],
      "text/plain": [
       "<IPython.core.display.HTML object>"
      ]
     },
     "execution_count": 3,
     "metadata": {},
     "output_type": "execute_result"
    }
   ],
   "source": [
    "showcase_code('measures.py',showcase=True)"
   ]
  },
  {
   "cell_type": "markdown",
   "metadata": {},
   "source": [
    "# Toy Problem"
   ]
  },
  {
   "cell_type": "code",
   "execution_count": 4,
   "metadata": {},
   "outputs": [],
   "source": [
    "from data_loaders import get_X_y, generate_y\n",
    "from measures import compute_cobeau, compute_nlpd, compute_error\n",
    "\n",
    "from helpers import plot_uncertainty"
   ]
  },
  {
   "cell_type": "code",
   "execution_count": null,
   "metadata": {},
   "outputs": [],
   "source": []
  },
  {
   "cell_type": "code",
   "execution_count": 5,
   "metadata": {},
   "outputs": [],
   "source": [
    "toy = True\n",
    "non_linearity = torch.nn.Tanh#torch.nn.LeakyReLU# torch.nn.Tanh\n",
    "out_of_sample = False\n",
    "num_epochs = 300\n",
    "if toy:\n",
    "    num_epochs = 500#2000\n",
    "    non_linearity = torch.nn.Tanh#torch.nn.LeakyReLU# torch.nn.ReLU# torch.nn.Tanh#torch.nn.LeakyReLU\n",
    "    decay = 0.0005\n",
    "    #decay = 0.012875000000000001\n",
    "    out_of_sample = True\n",
    "num_experiments = 20#3#20\n",
    "#decay = 0.005\n",
    "pre_set_data = False"
   ]
  },
  {
   "cell_type": "code",
   "execution_count": 6,
   "metadata": {},
   "outputs": [],
   "source": [
    "from nn_models.models import SaverModel, BobstrapEnsemble, DropoutModel\n",
    "from nn_models.base_ensemble import VanillaEnsemble\n",
    "from nn_models.ensembles import BootstrapEnsemble, ShuffleEnsemble\n",
    "import os\n",
    "# Done toy Bob, SaverModel, DropoutModel, BootstrapEnsemble, ShuffleEnsemble, VanillaEnsemble\n",
    "\n",
    "\n",
    "iters = 20\n",
    "l2 = 1\n",
    "n_std = 4"
   ]
  },
  {
   "cell_type": "code",
   "execution_count": 7,
   "metadata": {},
   "outputs": [],
   "source": [
    "from experimentation import Experimentator"
   ]
  },
  {
   "cell_type": "code",
   "execution_count": 8,
   "metadata": {},
   "outputs": [],
   "source": [
    "# import cPickle as pickle\n",
    "import pickle"
   ]
  },
  {
   "cell_type": "code",
   "execution_count": 9,
   "metadata": {},
   "outputs": [],
   "source": [
    "#os.makedirs(os.getcwd() + '\\\\' + save_file )"
   ]
  },
  {
   "cell_type": "code",
   "execution_count": 10,
   "metadata": {},
   "outputs": [
    {
     "data": {
      "text/plain": [
       "36"
      ]
     },
     "execution_count": 10,
     "metadata": {},
     "output_type": "execute_result"
    }
   ],
   "source": [
    "len(\"<class 'torch.nn.modules.activation.\")"
   ]
  },
  {
   "cell_type": "code",
   "execution_count": 11,
   "metadata": {},
   "outputs": [
    {
     "data": {
      "text/plain": [
       "'Tanh'"
      ]
     },
     "execution_count": 11,
     "metadata": {},
     "output_type": "execute_result"
    }
   ],
   "source": [
    "f'{non_linearity}'[36:-2]"
   ]
  },
  {
   "cell_type": "code",
   "execution_count": 12,
   "metadata": {},
   "outputs": [
    {
     "name": "stdout",
     "output_type": "stream",
     "text": [
      "saving file\n",
      "Creation of the directory pickles\\False\\Tanh_out_of_sampleTrue\\SaverModel_toy_True_20.pkl failed\n",
      "saving file\n",
      "Creation of the directory pickles\\False\\Tanh_out_of_sampleTrue\\BobstrapEnsemble_toy_True_20.pkl failed\n",
      "__init__() got an unexpected keyword argument 'save_path'\n",
      "__init__() got an unexpected keyword argument 'dataset_lenght'\n"
     ]
    },
    {
     "name": "stderr",
     "output_type": "stream",
     "text": [
      "100%|████████████████████████████████████████████████████████████████████████████████| 10/10 [00:00<00:00, 3300.78it/s]\n",
      "100%|████████████████████████████████████████████████████████████████████████████████| 10/10 [00:00<00:00, 1354.88it/s]\n"
     ]
    },
    {
     "name": "stdout",
     "output_type": "stream",
     "text": [
      "__init__() got an unexpected keyword argument 'save_path'\n",
      "__init__() got an unexpected keyword argument 'dataset_lenght'\n"
     ]
    },
    {
     "name": "stderr",
     "output_type": "stream",
     "text": [
      "100%|████████████████████████████████████████████████████████████████████████████████| 10/10 [00:00<00:00, 2501.97it/s]\n",
      "100%|█████████████████████████████████████████████████████████████████████████████████| 10/10 [00:00<00:00, 979.75it/s]\n"
     ]
    },
    {
     "name": "stdout",
     "output_type": "stream",
     "text": [
      "__init__() got an unexpected keyword argument 'save_path'\n",
      "__init__() got an unexpected keyword argument 'dataset_lenght'\n"
     ]
    },
    {
     "name": "stderr",
     "output_type": "stream",
     "text": [
      "100%|████████████████████████████████████████████████████████████████████████████████| 10/10 [00:00<00:00, 2000.72it/s]\n",
      "100%|████████████████████████████████████████████████████████████████████████████████| 10/10 [00:00<00:00, 2499.44it/s]\n"
     ]
    },
    {
     "name": "stdout",
     "output_type": "stream",
     "text": [
      "__init__() got an unexpected keyword argument 'save_path'\n",
      "__init__() got an unexpected keyword argument 'dataset_lenght'\n"
     ]
    },
    {
     "name": "stderr",
     "output_type": "stream",
     "text": [
      "100%|████████████████████████████████████████████████████████████████████████████████| 10/10 [00:00<00:00, 2501.97it/s]\n",
      "100%|████████████████████████████████████████████████████████████████████████████████| 10/10 [00:00<00:00, 2498.99it/s]\n"
     ]
    },
    {
     "name": "stdout",
     "output_type": "stream",
     "text": [
      "__init__() got an unexpected keyword argument 'save_path'\n",
      "__init__() got an unexpected keyword argument 'dataset_lenght'\n"
     ]
    },
    {
     "name": "stderr",
     "output_type": "stream",
     "text": [
      "100%|████████████████████████████████████████████████████████████████████████████████| 10/10 [00:00<00:00, 2501.37it/s]\n",
      "100%|█████████████████████████████████████████████████████████████████████████████████| 10/10 [00:00<00:00, 625.99it/s]\n"
     ]
    },
    {
     "name": "stdout",
     "output_type": "stream",
     "text": [
      "__init__() got an unexpected keyword argument 'save_path'\n",
      "__init__() got an unexpected keyword argument 'dataset_lenght'\n"
     ]
    },
    {
     "name": "stderr",
     "output_type": "stream",
     "text": [
      "100%|████████████████████████████████████████████████████████████████████████████████| 10/10 [00:00<00:00, 2500.93it/s]\n",
      "100%|█████████████████████████████████████████████████████████████████████████████████| 10/10 [00:00<00:00, 881.58it/s]\n"
     ]
    },
    {
     "name": "stdout",
     "output_type": "stream",
     "text": [
      "__init__() got an unexpected keyword argument 'save_path'\n",
      "__init__() got an unexpected keyword argument 'dataset_lenght'\n"
     ]
    },
    {
     "name": "stderr",
     "output_type": "stream",
     "text": [
      "100%|████████████████████████████████████████████████████████████████████████████████| 10/10 [00:00<00:00, 2501.37it/s]\n",
      "100%|████████████████████████████████████████████████████████████████████████████████| 10/10 [00:00<00:00, 2499.59it/s]\n"
     ]
    },
    {
     "name": "stdout",
     "output_type": "stream",
     "text": [
      "__init__() got an unexpected keyword argument 'save_path'\n",
      "__init__() got an unexpected keyword argument 'dataset_lenght'\n"
     ]
    },
    {
     "name": "stderr",
     "output_type": "stream",
     "text": [
      "100%|████████████████████████████████████████████████████████████████████████████████| 10/10 [00:00<00:00, 2501.37it/s]\n",
      "100%|████████████████████████████████████████████████████████████████████████████████| 10/10 [00:00<00:00, 2499.14it/s]\n"
     ]
    },
    {
     "name": "stdout",
     "output_type": "stream",
     "text": [
      "__init__() got an unexpected keyword argument 'save_path'\n",
      "__init__() got an unexpected keyword argument 'dataset_lenght'\n"
     ]
    },
    {
     "name": "stderr",
     "output_type": "stream",
     "text": [
      "100%|████████████████████████████████████████████████████████████████████████████████| 10/10 [00:00<00:00, 2501.37it/s]\n",
      "100%|████████████████████████████████████████████████████████████████████████████████| 10/10 [00:00<00:00, 1703.75it/s]\n"
     ]
    },
    {
     "name": "stdout",
     "output_type": "stream",
     "text": [
      "__init__() got an unexpected keyword argument 'save_path'\n",
      "__init__() got an unexpected keyword argument 'dataset_lenght'\n"
     ]
    },
    {
     "name": "stderr",
     "output_type": "stream",
     "text": [
      "100%|████████████████████████████████████████████████████████████████████████████████| 10/10 [00:00<00:00, 2500.93it/s]\n",
      "100%|█████████████████████████████████████████████████████████████████████████████████| 10/10 [00:00<00:00, 730.12it/s]\n"
     ]
    },
    {
     "name": "stdout",
     "output_type": "stream",
     "text": [
      "__init__() got an unexpected keyword argument 'save_path'\n",
      "__init__() got an unexpected keyword argument 'dataset_lenght'\n"
     ]
    },
    {
     "name": "stderr",
     "output_type": "stream",
     "text": [
      "100%|████████████████████████████████████████████████████████████████████████████████| 10/10 [00:00<00:00, 1666.79it/s]\n",
      "100%|█████████████████████████████████████████████████████████████████████████████████| 10/10 [00:00<00:00, 819.50it/s]\n"
     ]
    },
    {
     "name": "stdout",
     "output_type": "stream",
     "text": [
      "__init__() got an unexpected keyword argument 'save_path'\n",
      "__init__() got an unexpected keyword argument 'dataset_lenght'\n"
     ]
    },
    {
     "name": "stderr",
     "output_type": "stream",
     "text": [
      "100%|████████████████████████████████████████████████████████████████████████████████| 10/10 [00:00<00:00, 2499.59it/s]\n",
      "100%|████████████████████████████████████████████████████████████████████████████████| 10/10 [00:00<00:00, 3330.66it/s]\n"
     ]
    },
    {
     "name": "stdout",
     "output_type": "stream",
     "text": [
      "__init__() got an unexpected keyword argument 'save_path'\n",
      "__init__() got an unexpected keyword argument 'dataset_lenght'\n"
     ]
    },
    {
     "name": "stderr",
     "output_type": "stream",
     "text": [
      "100%|████████████████████████████████████████████████████████████████████████████████| 10/10 [00:00<00:00, 2499.59it/s]\n",
      "100%|████████████████████████████████████████████████████████████████████████████████| 10/10 [00:00<00:00, 2498.84it/s]\n"
     ]
    },
    {
     "name": "stdout",
     "output_type": "stream",
     "text": [
      "__init__() got an unexpected keyword argument 'save_path'\n",
      "__init__() got an unexpected keyword argument 'dataset_lenght'\n"
     ]
    },
    {
     "name": "stderr",
     "output_type": "stream",
     "text": [
      "100%|████████████████████████████████████████████████████████████████████████████████| 10/10 [00:00<00:00, 1999.86it/s]\n",
      "100%|████████████████████████████████████████████████████████████████████████████████| 10/10 [00:00<00:00, 2500.18it/s]\n"
     ]
    },
    {
     "name": "stdout",
     "output_type": "stream",
     "text": [
      "__init__() got an unexpected keyword argument 'save_path'\n",
      "__init__() got an unexpected keyword argument 'dataset_lenght'\n"
     ]
    },
    {
     "name": "stderr",
     "output_type": "stream",
     "text": [
      "100%|████████████████████████████████████████████████████████████████████████████████| 10/10 [00:00<00:00, 1999.67it/s]\n",
      "100%|█████████████████████████████████████████████████████████████████████████████████| 10/10 [00:00<00:00, 636.34it/s]\n"
     ]
    },
    {
     "name": "stdout",
     "output_type": "stream",
     "text": [
      "__init__() got an unexpected keyword argument 'save_path'\n",
      "__init__() got an unexpected keyword argument 'dataset_lenght'\n"
     ]
    },
    {
     "name": "stderr",
     "output_type": "stream",
     "text": [
      "100%|████████████████████████████████████████████████████████████████████████████████| 10/10 [00:00<00:00, 2502.27it/s]\n",
      "100%|█████████████████████████████████████████████████████████████████████████████████| 10/10 [00:00<00:00, 811.53it/s]\n"
     ]
    },
    {
     "name": "stdout",
     "output_type": "stream",
     "text": [
      "__init__() got an unexpected keyword argument 'save_path'\n",
      "__init__() got an unexpected keyword argument 'dataset_lenght'\n"
     ]
    },
    {
     "name": "stderr",
     "output_type": "stream",
     "text": [
      "100%|████████████████████████████████████████████████████████████████████████████████| 10/10 [00:00<00:00, 2500.33it/s]\n",
      "100%|████████████████████████████████████████████████████████████████████████████████| 10/10 [00:00<00:00, 3335.17it/s]\n"
     ]
    },
    {
     "name": "stdout",
     "output_type": "stream",
     "text": [
      "__init__() got an unexpected keyword argument 'save_path'\n",
      "__init__() got an unexpected keyword argument 'dataset_lenght'\n"
     ]
    },
    {
     "name": "stderr",
     "output_type": "stream",
     "text": [
      "100%|████████████████████████████████████████████████████████████████████████████████| 10/10 [00:00<00:00, 2501.22it/s]\n",
      "100%|████████████████████████████████████████████████████████████████████████████████| 10/10 [00:00<00:00, 2498.84it/s]\n"
     ]
    },
    {
     "name": "stdout",
     "output_type": "stream",
     "text": [
      "__init__() got an unexpected keyword argument 'save_path'\n",
      "__init__() got an unexpected keyword argument 'dataset_lenght'\n"
     ]
    },
    {
     "name": "stderr",
     "output_type": "stream",
     "text": [
      "100%|████████████████████████████████████████████████████████████████████████████████| 10/10 [00:00<00:00, 2595.32it/s]\n",
      "100%|████████████████████████████████████████████████████████████████████████████████| 10/10 [00:00<00:00, 1931.79it/s]\n"
     ]
    },
    {
     "name": "stdout",
     "output_type": "stream",
     "text": [
      "__init__() got an unexpected keyword argument 'save_path'\n",
      "__init__() got an unexpected keyword argument 'dataset_lenght'\n"
     ]
    },
    {
     "name": "stderr",
     "output_type": "stream",
     "text": [
      "100%|████████████████████████████████████████████████████████████████████████████████| 10/10 [00:00<00:00, 1999.76it/s]\n",
      "100%|█████████████████████████████████████████████████████████████████████████████████| 10/10 [00:00<00:00, 507.61it/s]\n"
     ]
    },
    {
     "name": "stdout",
     "output_type": "stream",
     "text": [
      "saving file\n",
      "Creation of the directory pickles\\False\\Tanh_out_of_sampleTrue\\DropoutModel_toy_True_20.pkl failed\n",
      "__init__() got an unexpected keyword argument 'save_path'\n",
      "__init__() got an unexpected keyword argument 'save_path'\n",
      "__init__() got an unexpected keyword argument 'save_path'\n",
      "__init__() got an unexpected keyword argument 'save_path'\n",
      "__init__() got an unexpected keyword argument 'save_path'\n",
      "__init__() got an unexpected keyword argument 'save_path'\n",
      "__init__() got an unexpected keyword argument 'save_path'\n",
      "__init__() got an unexpected keyword argument 'save_path'\n",
      "__init__() got an unexpected keyword argument 'save_path'\n",
      "__init__() got an unexpected keyword argument 'save_path'\n",
      "__init__() got an unexpected keyword argument 'save_path'\n",
      "__init__() got an unexpected keyword argument 'save_path'\n",
      "__init__() got an unexpected keyword argument 'save_path'\n",
      "__init__() got an unexpected keyword argument 'save_path'\n",
      "__init__() got an unexpected keyword argument 'save_path'\n",
      "__init__() got an unexpected keyword argument 'save_path'\n",
      "__init__() got an unexpected keyword argument 'save_path'\n",
      "__init__() got an unexpected keyword argument 'save_path'\n",
      "__init__() got an unexpected keyword argument 'save_path'\n",
      "__init__() got an unexpected keyword argument 'save_path'\n",
      "saving file\n",
      "Creation of the directory pickles\\False\\Tanh_out_of_sampleTrue\\VanillaEnsemble_toy_True_20.pkl failed\n",
      "__init__() got an unexpected keyword argument 'save_path'\n",
      "__init__() got an unexpected keyword argument 'save_path'\n",
      "__init__() got an unexpected keyword argument 'save_path'\n",
      "__init__() got an unexpected keyword argument 'save_path'\n",
      "__init__() got an unexpected keyword argument 'save_path'\n",
      "__init__() got an unexpected keyword argument 'save_path'\n",
      "__init__() got an unexpected keyword argument 'save_path'\n",
      "__init__() got an unexpected keyword argument 'save_path'\n",
      "__init__() got an unexpected keyword argument 'save_path'\n",
      "__init__() got an unexpected keyword argument 'save_path'\n",
      "__init__() got an unexpected keyword argument 'save_path'\n",
      "__init__() got an unexpected keyword argument 'save_path'\n",
      "__init__() got an unexpected keyword argument 'save_path'\n",
      "__init__() got an unexpected keyword argument 'save_path'\n",
      "__init__() got an unexpected keyword argument 'save_path'\n",
      "__init__() got an unexpected keyword argument 'save_path'\n",
      "__init__() got an unexpected keyword argument 'save_path'\n",
      "__init__() got an unexpected keyword argument 'save_path'\n",
      "__init__() got an unexpected keyword argument 'save_path'\n",
      "__init__() got an unexpected keyword argument 'save_path'\n",
      "saving file\n",
      "Creation of the directory pickles\\False\\Tanh_out_of_sampleTrue\\BootstrapEnsemble_toy_True_20.pkl failed\n",
      "__init__() got an unexpected keyword argument 'save_path'\n",
      "__init__() got an unexpected keyword argument 'save_path'\n",
      "__init__() got an unexpected keyword argument 'save_path'\n",
      "__init__() got an unexpected keyword argument 'save_path'\n",
      "__init__() got an unexpected keyword argument 'save_path'\n",
      "__init__() got an unexpected keyword argument 'save_path'\n",
      "__init__() got an unexpected keyword argument 'save_path'\n",
      "__init__() got an unexpected keyword argument 'save_path'\n",
      "__init__() got an unexpected keyword argument 'save_path'\n",
      "__init__() got an unexpected keyword argument 'save_path'\n",
      "__init__() got an unexpected keyword argument 'save_path'\n",
      "__init__() got an unexpected keyword argument 'save_path'\n",
      "__init__() got an unexpected keyword argument 'save_path'\n",
      "__init__() got an unexpected keyword argument 'save_path'\n",
      "__init__() got an unexpected keyword argument 'save_path'\n",
      "__init__() got an unexpected keyword argument 'save_path'\n",
      "__init__() got an unexpected keyword argument 'save_path'\n",
      "__init__() got an unexpected keyword argument 'save_path'\n",
      "__init__() got an unexpected keyword argument 'save_path'\n",
      "__init__() got an unexpected keyword argument 'save_path'\n",
      "saving file\n",
      "Creation of the directory pickles\\False\\Tanh_out_of_sampleTrue\\ShuffleEnsemble_toy_True_20.pkl failed\n"
     ]
    }
   ],
   "source": [
    "models =[ BootstrapEnsemble, ShuffleEnsemble, ] #\n",
    "\n",
    "models = [SaverModel, BobstrapEnsemble, DropoutModel, VanillaEnsemble,BootstrapEnsemble, ShuffleEnsemble,]\n",
    "\n",
    "for model in models:\n",
    "    exp = Experimentator(num_experiments,num_epochs,model,toy,seed=seed,generator_function = generate_y, non_linearity=non_linearity, decay=decay,pre_set_data=pre_set_data,out_of_sample=out_of_sample) #torch.nn.Tanh\n",
    "    exp.run_experiment()\n",
    "    print('saving file')\n",
    "    file_path = f'pickles\\\\{pre_set_data}\\\\{exp.non_linearity_name}\\\\'\n",
    "\n",
    "    if toy:\n",
    "        save_path = f\"pickles\\\\{pre_set_data}\\\\{exp.non_linearity_name}_out_of_sample{out_of_sample}\\\\\"\n",
    "        \n",
    "    save_file = save_path + f'{exp.model_name}_toy_{toy}_{num_experiments}.pkl'\n",
    "    \n",
    "    \n",
    "    try:\n",
    "        os.makedirs(os.getcwd() + '\\\\' + save_path )\n",
    "    except OSError:\n",
    "        print (\"Creation of the directory %s failed\" % save_file)\n",
    "    else:\n",
    "        print (\"Successfully created the directory %s \" % save_file)\n",
    "    \n",
    "    \n",
    "    pickle.dump( exp, open( save_file , \"wb\" ) )\n",
    "    \n",
    "    del exp\n",
    "    \n",
    "    gc.collect()"
   ]
  },
  {
   "cell_type": "code",
   "execution_count": 13,
   "metadata": {},
   "outputs": [
    {
     "ename": "NameError",
     "evalue": "name 'exp' is not defined",
     "output_type": "error",
     "traceback": [
      "\u001b[1;31m---------------------------------------------------------------------------\u001b[0m",
      "\u001b[1;31mNameError\u001b[0m                                 Traceback (most recent call last)",
      "\u001b[1;32m<ipython-input-13-0c12918d0241>\u001b[0m in \u001b[0;36m<module>\u001b[1;34m\u001b[0m\n\u001b[1;32m----> 1\u001b[1;33m \u001b[1;32mdel\u001b[0m \u001b[0mexp\u001b[0m\u001b[1;33m\u001b[0m\u001b[1;33m\u001b[0m\u001b[0m\n\u001b[0m\u001b[0;32m      2\u001b[0m \u001b[0mgc\u001b[0m\u001b[1;33m.\u001b[0m\u001b[0mcollect\u001b[0m\u001b[1;33m(\u001b[0m\u001b[1;33m)\u001b[0m\u001b[1;33m\u001b[0m\u001b[1;33m\u001b[0m\u001b[0m\n",
      "\u001b[1;31mNameError\u001b[0m: name 'exp' is not defined"
     ]
    }
   ],
   "source": [
    "del exp\n",
    "gc.collect()"
   ]
  },
  {
   "cell_type": "code",
   "execution_count": null,
   "metadata": {},
   "outputs": [],
   "source": [
    "# models =[SaverModel, BobstrapEnsemble, DropoutModel, VanillaEnsemble, BootstrapEnsemble, ShuffleEnsemble]\n",
    "\n",
    "# for model in models:\n",
    "#     exp = Experimentator(num_experiments,num_epochs,model,toy,seed=seed,generator_function = generate_y)\n",
    "#     exp.run_experiment()\n",
    "#     print('saving file')\n",
    "\n",
    "#     save_file = f\"pickles\\\\{exp.model_name}_toy_{toy}_{num_experiments}.pkl\"\n",
    "#     pickle.dump( exp, open( save_file, \"wb\" ) )\n",
    "    \n",
    "#     #del exp\n",
    "    \n",
    "#     #gc.collect()"
   ]
  },
  {
   "cell_type": "code",
   "execution_count": null,
   "metadata": {},
   "outputs": [],
   "source": []
  },
  {
   "cell_type": "code",
   "execution_count": null,
   "metadata": {},
   "outputs": [],
   "source": []
  },
  {
   "cell_type": "code",
   "execution_count": null,
   "metadata": {},
   "outputs": [],
   "source": [
    "exp = pickle.loads( open( save_file, \"rb\" ) )"
   ]
  },
  {
   "cell_type": "code",
   "execution_count": null,
   "metadata": {},
   "outputs": [],
   "source": [
    "    save_file = f\"pickles\\\\{exp.model_name}_toy_{toy}_{num_experiments}.pkl\"\n",
    "    pickle.dump( exp, open( save_file, \"wb\" ) )"
   ]
  },
  {
   "cell_type": "code",
   "execution_count": null,
   "metadata": {},
   "outputs": [],
   "source": [
    "exp = pickle.load( open( save_file, \"rb\" ) )"
   ]
  },
  {
   "cell_type": "code",
   "execution_count": null,
   "metadata": {},
   "outputs": [],
   "source": [
    "exp"
   ]
  },
  {
   "cell_type": "code",
   "execution_count": null,
   "metadata": {},
   "outputs": [],
   "source": [
    "plt.plot(exp.stats_dict['training']['losses'])"
   ]
  },
  {
   "cell_type": "code",
   "execution_count": null,
   "metadata": {},
   "outputs": [],
   "source": []
  },
  {
   "cell_type": "code",
   "execution_count": null,
   "metadata": {},
   "outputs": [],
   "source": []
  }
 ],
 "metadata": {
  "kernelspec": {
   "display_name": "Python 3",
   "language": "python",
   "name": "python3"
  },
  "language_info": {
   "codemirror_mode": {
    "name": "ipython",
    "version": 3
   },
   "file_extension": ".py",
   "mimetype": "text/x-python",
   "name": "python",
   "nbconvert_exporter": "python",
   "pygments_lexer": "ipython3",
   "version": "3.7.4"
  }
 },
 "nbformat": 4,
 "nbformat_minor": 4
}
