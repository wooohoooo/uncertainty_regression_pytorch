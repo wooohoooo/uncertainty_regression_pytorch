{
 "cells": [
  {
   "cell_type": "code",
   "execution_count": 1,
   "metadata": {},
   "outputs": [],
   "source": [
    "import numpy as np\n",
    "import torch\n",
    "\n",
    "seed = 42 #424\n",
    "np.random.seed(seed)\n",
    "torch.manual_seed(seed)\n",
    "#NOTE! This only works for non cudnn. gpu needs\n",
    "torch.backends.cudnn.deterministic = True\n",
    "torch.backends.cudnn.benchmark = False\n",
    "\n",
    "from helpers import showcase_code\n",
    "\n",
    "import matplotlib.pyplot as plt\n",
    "#%matplotlib inline\n",
    "import seaborn as sns\n",
    "import pickle\n",
    "\n",
    "from experimentation import ExperimentAnalyzer\n",
    "import os\n",
    "import time\n",
    "import pandas as pd"
   ]
  },
  {
   "cell_type": "code",
   "execution_count": 2,
   "metadata": {},
   "outputs": [],
   "source": [
    "# for working with external files, otherwise kernels needs to be restarted each time\n",
    "%load_ext autoreload\n",
    "%autoreload 2"
   ]
  },
  {
   "cell_type": "code",
   "execution_count": null,
   "metadata": {},
   "outputs": [],
   "source": []
  },
  {
   "cell_type": "markdown",
   "metadata": {},
   "source": [
    "import numpy as np\n",
    "import torch\n",
    "\n",
    "seed = 42 #424\n",
    "np.random.seed(seed)\n",
    "torch.manual_seed(seed)\n",
    "#NOTE! This only works for non cudnn. gpu needs\n",
    "torch.backends.cudnn.deterministic = True\n",
    "torch.backends.cudnn.benchmark = False\n",
    "\n",
    "from helpers import showcase_code\n",
    "\n",
    "import matplotlib.pyplot as plt\n",
    "#%matplotlib inline\n",
    "import seaborn as sns\n",
    "import pickle\n",
    "\n",
    "from experimentation import ExperimentAnalyzer\n",
    "import os\n",
    "import time\n",
    "import pandas as pd\n",
    "files = [x for x in os.listdir('pickles') if x.endswith('pkl')]\n",
    "\n",
    "\n",
    "for file in files:\n",
    "    with  open('pickles\\\\'+file, \"rb\") as f:\n",
    "        exp = pickle.load(f)\n",
    "\n",
    "\n",
    "\n",
    "    analyzer = ExperimentAnalyzer(exp)\n",
    "    df1 = analyzer.analysis()\n",
    "    print(f'{exp.model_name}')\n",
    "    print(df1.describe().to_latex())\n",
    "    analyzer.get_outlier_indices()\n",
    "    analyzer.plot_outcomes()\n",
    "    plt.figure()\n",
    "\n",
    "\n",
    "    \n",
    "    \n"
   ]
  },
  {
   "cell_type": "code",
   "execution_count": 3,
   "metadata": {},
   "outputs": [
    {
     "name": "stdout",
     "output_type": "stream",
     "text": [
      "['BobstrapEnsemble_toy_True_10.pkl', 'BootstrapEnsemble_toy_True_10.pkl', 'DropoutModel_toy_True_10.pkl', 'SaverModel_toy_True_10.pkl', 'ShuffleEnsemble_toy_True_10.pkl', 'VanillaEnsemble_toy_True_10.pkl']\n"
     ]
    }
   ],
   "source": [
    "non_linearity_name = 'Tanh'# 'old'#'LeakyReLU'#\"old\"#'ReLU'#'Tanh'\n",
    "toy = 'True' #'False'\n",
    "\n",
    "\n",
    "files = [x for x in os.listdir(f'pickles\\\\{non_linearity_name}') if x.endswith('pkl') if toy in x]\n",
    "\n",
    "print(files)"
   ]
  },
  {
   "cell_type": "code",
   "execution_count": null,
   "metadata": {},
   "outputs": [],
   "source": []
  },
  {
   "cell_type": "code",
   "execution_count": null,
   "metadata": {},
   "outputs": [],
   "source": []
  },
  {
   "cell_type": "code",
   "execution_count": 4,
   "metadata": {},
   "outputs": [
    {
     "name": "stdout",
     "output_type": "stream",
     "text": [
      "Successfully created the directory figures\\Tanh\\BobstrapEnsemble_toy_True_10\\ \n",
      "<class 'torch.nn.modules.activation.Tanh'>, True, BobstrapEnsemble\n",
      "0.41753038150171273 0.016940015664481358\n",
      "0.5919320728010475 0.3144061639837965\n",
      "0.06484879414976744 0.12812813461077674\n",
      "-0.15068833895021744 0.5431969163817667\n",
      "BobstrapEnsemble\n",
      "\\begin{tabular}{lrrrr}\n",
      "\\toprule\n",
      "{} &       nlpd &     errors &     cobeau &  cobeau\\_p\\_vals \\\\\n",
      "\\midrule\n",
      "count &  10.000000 &  10.000000 &  10.000000 &   1.000000e+01 \\\\\n",
      "mean  &  -0.150688 &   0.417530 &   0.591932 &   6.484879e-02 \\\\\n",
      "std   &   0.572580 &   0.017856 &   0.331413 &   1.350589e-01 \\\\\n",
      "min   &  -0.939872 &   0.394079 &  -0.202592 &   4.090539e-07 \\\\\n",
      "25\\%   &  -0.508716 &   0.402922 &   0.487276 &   1.391379e-04 \\\\\n",
      "50\\%   &  -0.274468 &   0.413319 &   0.672637 &   5.367107e-03 \\\\\n",
      "75\\%   &   0.020918 &   0.433385 &   0.798812 &   4.735239e-02 \\\\\n",
      "max   &   1.045176 &   0.445676 &   0.909864 &   4.354946e-01 \\\\\n",
      "\\bottomrule\n",
      "\\end{tabular}\n",
      "\n"
     ]
    },
    {
     "name": "stderr",
     "output_type": "stream",
     "text": [
      "C:\\Users\\thoma\\Documents\\GitHub\\uncertainty_regression_pytorch\\models\\experimentation.py:238: MatplotlibDeprecationWarning: \n",
      "The frameon kwarg was deprecated in Matplotlib 3.1 and will be removed in 3.3. Use facecolor instead.\n",
      "  frameon=None, metadata=None)\n"
     ]
    },
    {
     "name": "stdout",
     "output_type": "stream",
     "text": [
      "0.41753038150171273 0.016940015664481358\n",
      "0.5919320728010475 0.3144061639837965\n",
      "0.06484879414976744 0.12812813461077674\n",
      "-0.15068833895021744 0.5431969163817667\n",
      "\\begin{tabular}{lrrrr}\n",
      "\\toprule\n",
      "{} &       nlpd &     errors &     cobeau &  cobeau\\_p\\_vals \\\\\n",
      "\\midrule\n",
      "count &  10.000000 &  10.000000 &  10.000000 &   1.000000e+01 \\\\\n",
      "mean  &  -0.150688 &   0.417530 &   0.591932 &   6.484879e-02 \\\\\n",
      "std   &   0.572580 &   0.017856 &   0.331413 &   1.350589e-01 \\\\\n",
      "min   &  -0.939872 &   0.394079 &  -0.202592 &   4.090539e-07 \\\\\n",
      "25\\%   &  -0.508716 &   0.402922 &   0.487276 &   1.391379e-04 \\\\\n",
      "50\\%   &  -0.274468 &   0.413319 &   0.672637 &   5.367107e-03 \\\\\n",
      "75\\%   &   0.020918 &   0.433385 &   0.798812 &   4.735239e-02 \\\\\n",
      "max   &   1.045176 &   0.445676 &   0.909864 &   4.354946e-01 \\\\\n",
      "\\bottomrule\n",
      "\\end{tabular}\n",
      "\n"
     ]
    },
    {
     "name": "stderr",
     "output_type": "stream",
     "text": [
      "C:\\Users\\thoma\\Miniconda3\\envs\\pytorch\\lib\\site-packages\\numpy\\core\\fromnumeric.py:3118: RuntimeWarning: Mean of empty slice.\n",
      "  out=out, **kwargs)\n",
      "C:\\Users\\thoma\\Miniconda3\\envs\\pytorch\\lib\\site-packages\\numpy\\core\\_methods.py:85: RuntimeWarning: invalid value encountered in double_scalars\n",
      "  ret = ret.dtype.type(ret / rcount)\n",
      "C:\\Users\\thoma\\Miniconda3\\envs\\pytorch\\lib\\site-packages\\numpy\\core\\_methods.py:140: RuntimeWarning: Degrees of freedom <= 0 for slice\n",
      "  keepdims=keepdims)\n",
      "C:\\Users\\thoma\\Miniconda3\\envs\\pytorch\\lib\\site-packages\\numpy\\core\\_methods.py:110: RuntimeWarning: invalid value encountered in true_divide\n",
      "  arrmean, rcount, out=arrmean, casting='unsafe', subok=False)\n",
      "C:\\Users\\thoma\\Miniconda3\\envs\\pytorch\\lib\\site-packages\\numpy\\core\\_methods.py:132: RuntimeWarning: invalid value encountered in double_scalars\n",
      "  ret = ret.dtype.type(ret / rcount)\n"
     ]
    },
    {
     "name": "stdout",
     "output_type": "stream",
     "text": [
      "0.41753038150171273 0.016940015664481358\n",
      "0.5919320728010475 0.3144061639837965\n",
      "0.06484879414976744 0.12812813461077674\n",
      "-0.15068833895021744 0.5431969163817667\n",
      "'ExperimentAnalyzer' object has no attribute 'prior_errors'\n"
     ]
    },
    {
     "name": "stderr",
     "output_type": "stream",
     "text": [
      "C:\\Users\\thoma\\Documents\\GitHub\\uncertainty_regression_pytorch\\models\\experimentation.py:375: MatplotlibDeprecationWarning: \n",
      "The frameon kwarg was deprecated in Matplotlib 3.1 and will be removed in 3.3. Use facecolor instead.\n",
      "  frameon=None, metadata=None)\n",
      "C:\\Users\\thoma\\Documents\\GitHub\\uncertainty_regression_pytorch\\models\\experimentation.py:419: MatplotlibDeprecationWarning: \n",
      "The frameon kwarg was deprecated in Matplotlib 3.1 and will be removed in 3.3. Use facecolor instead.\n",
      "  frameon=None, metadata=None)\n"
     ]
    },
    {
     "name": "stdout",
     "output_type": "stream",
     "text": [
      "'ExperimentAnalyzer' object has no attribute 'prior_cobeau'\n"
     ]
    },
    {
     "name": "stderr",
     "output_type": "stream",
     "text": [
      "C:\\Users\\thoma\\Documents\\GitHub\\uncertainty_regression_pytorch\\models\\experimentation.py:453: MatplotlibDeprecationWarning: \n",
      "The frameon kwarg was deprecated in Matplotlib 3.1 and will be removed in 3.3. Use facecolor instead.\n",
      "  frameon=None, metadata=None)\n",
      "C:\\Users\\thoma\\Documents\\GitHub\\uncertainty_regression_pytorch\\models\\experimentation.py:466: MatplotlibDeprecationWarning: \n",
      "The frameon kwarg was deprecated in Matplotlib 3.1 and will be removed in 3.3. Use facecolor instead.\n",
      "  frameon=None, metadata=None)\n"
     ]
    },
    {
     "name": "stdout",
     "output_type": "stream",
     "text": [
      "10\n",
      "0 2\n",
      " this many models: (100, 10)\n",
      " this many models: (100, 10)\n",
      "10\n",
      "1 5\n",
      " this many models: (100, 10)\n",
      " this many models: (100, 10)\n",
      "10\n",
      "4 1\n",
      " this many models: (100, 10)\n",
      " this many models: (100, 10)\n",
      "Successfully created the directory figures\\Tanh\\BootstrapEnsemble_toy_True_10\\ \n",
      "<class 'torch.nn.modules.activation.Tanh'>, True, BootstrapEnsemble\n",
      "0.3904185200876592 0.0069330233330055285\n",
      "0.8461344735955072 0.09484370605753284\n",
      "0.0009316109618149665 0.0026742886621875807\n",
      "-1.2977708675008586 0.08628537589410332\n",
      "BootstrapEnsemble\n",
      "\\begin{tabular}{lrrrr}\n",
      "\\toprule\n",
      "{} &       nlpd &     errors &     cobeau &  cobeau\\_p\\_vals \\\\\n",
      "\\midrule\n",
      "count &  10.000000 &  10.000000 &  10.000000 &   1.000000e+01 \\\\\n",
      "mean  &  -1.297771 &   0.390419 &   0.846134 &   9.316110e-04 \\\\\n",
      "std   &   0.090953 &   0.007308 &   0.099974 &   2.818948e-03 \\\\\n",
      "min   &  -1.421395 &   0.380899 &   0.612519 &   2.268567e-08 \\\\\n",
      "25\\%   &  -1.342982 &   0.384726 &   0.832913 &   7.816453e-08 \\\\\n",
      "50\\%   &  -1.316122 &   0.389232 &   0.837537 &   2.734160e-05 \\\\\n",
      "75\\%   &  -1.274083 &   0.394254 &   0.930671 &   3.321507e-05 \\\\\n",
      "max   &  -1.097970 &   0.403145 &   0.939415 &   8.951746e-03 \\\\\n",
      "\\bottomrule\n",
      "\\end{tabular}\n",
      "\n"
     ]
    },
    {
     "name": "stderr",
     "output_type": "stream",
     "text": [
      "C:\\Users\\thoma\\Documents\\GitHub\\uncertainty_regression_pytorch\\models\\experimentation.py:238: MatplotlibDeprecationWarning: \n",
      "The frameon kwarg was deprecated in Matplotlib 3.1 and will be removed in 3.3. Use facecolor instead.\n",
      "  frameon=None, metadata=None)\n"
     ]
    },
    {
     "name": "stdout",
     "output_type": "stream",
     "text": [
      "0.3904185200876592 0.0069330233330055285\n",
      "0.8461344735955072 0.09484370605753284\n",
      "0.0009316109618149665 0.0026742886621875807\n",
      "-1.2977708675008586 0.08628537589410332\n",
      "\\begin{tabular}{lrrrr}\n",
      "\\toprule\n",
      "{} &       nlpd &     errors &     cobeau &  cobeau\\_p\\_vals \\\\\n",
      "\\midrule\n",
      "count &  10.000000 &  10.000000 &  10.000000 &   1.000000e+01 \\\\\n",
      "mean  &  -1.297771 &   0.390419 &   0.846134 &   9.316110e-04 \\\\\n",
      "std   &   0.090953 &   0.007308 &   0.099974 &   2.818948e-03 \\\\\n",
      "min   &  -1.421395 &   0.380899 &   0.612519 &   2.268567e-08 \\\\\n",
      "25\\%   &  -1.342982 &   0.384726 &   0.832913 &   7.816453e-08 \\\\\n",
      "50\\%   &  -1.316122 &   0.389232 &   0.837537 &   2.734160e-05 \\\\\n",
      "75\\%   &  -1.274083 &   0.394254 &   0.930671 &   3.321507e-05 \\\\\n",
      "max   &  -1.097970 &   0.403145 &   0.939415 &   8.951746e-03 \\\\\n",
      "\\bottomrule\n",
      "\\end{tabular}\n",
      "\n",
      "0.3904185200876592 0.0069330233330055285\n",
      "0.8461344735955072 0.09484370605753284\n",
      "0.0009316109618149665 0.0026742886621875807\n",
      "-1.2977708675008586 0.08628537589410332\n"
     ]
    },
    {
     "name": "stderr",
     "output_type": "stream",
     "text": [
      "C:\\Users\\thoma\\Documents\\GitHub\\uncertainty_regression_pytorch\\models\\experimentation.py:375: MatplotlibDeprecationWarning: \n",
      "The frameon kwarg was deprecated in Matplotlib 3.1 and will be removed in 3.3. Use facecolor instead.\n",
      "  frameon=None, metadata=None)\n",
      "C:\\Users\\thoma\\Documents\\GitHub\\uncertainty_regression_pytorch\\models\\experimentation.py:419: MatplotlibDeprecationWarning: \n",
      "The frameon kwarg was deprecated in Matplotlib 3.1 and will be removed in 3.3. Use facecolor instead.\n",
      "  frameon=None, metadata=None)\n",
      "C:\\Users\\thoma\\Documents\\GitHub\\uncertainty_regression_pytorch\\models\\experimentation.py:453: MatplotlibDeprecationWarning: \n",
      "The frameon kwarg was deprecated in Matplotlib 3.1 and will be removed in 3.3. Use facecolor instead.\n",
      "  frameon=None, metadata=None)\n",
      "C:\\Users\\thoma\\Documents\\GitHub\\uncertainty_regression_pytorch\\models\\experimentation.py:466: MatplotlibDeprecationWarning: \n",
      "The frameon kwarg was deprecated in Matplotlib 3.1 and will be removed in 3.3. Use facecolor instead.\n",
      "  frameon=None, metadata=None)\n"
     ]
    },
    {
     "name": "stdout",
     "output_type": "stream",
     "text": [
      "10\n",
      "8 0\n",
      " this many models: (100, 10)\n",
      " this many models: (100, 10)\n",
      "10\n",
      "7 3\n",
      " this many models: (100, 10)\n",
      " this many models: (100, 10)\n",
      "10\n",
      "7 4\n",
      " this many models: (100, 10)\n",
      " this many models: (100, 10)\n",
      "Successfully created the directory figures\\Tanh\\DropoutModel_toy_True_10\\ \n",
      "<class 'torch.nn.modules.activation.Tanh'>, True, DropoutModel\n",
      "0.36946028981189905 0.022943877668528477\n",
      "0.6198667465990273 0.26886321538061597\n",
      "0.08643793040558988 0.09980022930793192\n",
      "-1.0122842509341177 0.2489754392569691\n",
      "DropoutModel\n",
      "\\begin{tabular}{lrrrr}\n",
      "\\toprule\n",
      "{} &       nlpd &     errors &     cobeau &  cobeau\\_p\\_vals \\\\\n",
      "\\midrule\n",
      "count &  10.000000 &  10.000000 &  10.000000 &   1.000000e+01 \\\\\n",
      "mean  &  -1.012284 &   0.369460 &   0.619867 &   8.643793e-02 \\\\\n",
      "std   &   0.262443 &   0.024185 &   0.283407 &   1.051987e-01 \\\\\n",
      "min   &  -1.444109 &   0.334597 &   0.283866 &   7.653119e-08 \\\\\n",
      "25\\%   &  -1.169375 &   0.351400 &   0.355194 &   4.288403e-06 \\\\\n",
      "50\\%   &  -1.063568 &   0.374816 &   0.641868 &   3.298167e-02 \\\\\n",
      "75\\%   &  -0.851474 &   0.391009 &   0.875070 &   1.624278e-01 \\\\\n",
      "max   &  -0.603249 &   0.398144 &   0.928443 &   2.695191e-01 \\\\\n",
      "\\bottomrule\n",
      "\\end{tabular}\n",
      "\n"
     ]
    },
    {
     "name": "stderr",
     "output_type": "stream",
     "text": [
      "C:\\Users\\thoma\\Documents\\GitHub\\uncertainty_regression_pytorch\\models\\experimentation.py:238: MatplotlibDeprecationWarning: \n",
      "The frameon kwarg was deprecated in Matplotlib 3.1 and will be removed in 3.3. Use facecolor instead.\n",
      "  frameon=None, metadata=None)\n"
     ]
    },
    {
     "name": "stdout",
     "output_type": "stream",
     "text": [
      "0.36946028981189905 0.022943877668528477\n",
      "0.6198667465990273 0.26886321538061597\n",
      "0.08643793040558988 0.09980022930793192\n",
      "-1.0122842509341177 0.2489754392569691\n",
      "\\begin{tabular}{lrrrr}\n",
      "\\toprule\n",
      "{} &       nlpd &     errors &     cobeau &  cobeau\\_p\\_vals \\\\\n",
      "\\midrule\n",
      "count &  10.000000 &  10.000000 &  10.000000 &   1.000000e+01 \\\\\n",
      "mean  &  -1.012284 &   0.369460 &   0.619867 &   8.643793e-02 \\\\\n",
      "std   &   0.262443 &   0.024185 &   0.283407 &   1.051987e-01 \\\\\n",
      "min   &  -1.444109 &   0.334597 &   0.283866 &   7.653119e-08 \\\\\n",
      "25\\%   &  -1.169375 &   0.351400 &   0.355194 &   4.288403e-06 \\\\\n",
      "50\\%   &  -1.063568 &   0.374816 &   0.641868 &   3.298167e-02 \\\\\n",
      "75\\%   &  -0.851474 &   0.391009 &   0.875070 &   1.624278e-01 \\\\\n",
      "max   &  -0.603249 &   0.398144 &   0.928443 &   2.695191e-01 \\\\\n",
      "\\bottomrule\n",
      "\\end{tabular}\n",
      "\n",
      "0.36946028981189905 0.022943877668528477\n",
      "0.6198667465990273 0.26886321538061597\n",
      "0.08643793040558988 0.09980022930793192\n",
      "-1.0122842509341177 0.2489754392569691\n"
     ]
    },
    {
     "name": "stderr",
     "output_type": "stream",
     "text": [
      "C:\\Users\\thoma\\Documents\\GitHub\\uncertainty_regression_pytorch\\models\\experimentation.py:375: MatplotlibDeprecationWarning: \n",
      "The frameon kwarg was deprecated in Matplotlib 3.1 and will be removed in 3.3. Use facecolor instead.\n",
      "  frameon=None, metadata=None)\n",
      "C:\\Users\\thoma\\Documents\\GitHub\\uncertainty_regression_pytorch\\models\\experimentation.py:419: MatplotlibDeprecationWarning: \n",
      "The frameon kwarg was deprecated in Matplotlib 3.1 and will be removed in 3.3. Use facecolor instead.\n",
      "  frameon=None, metadata=None)\n",
      "C:\\Users\\thoma\\Documents\\GitHub\\uncertainty_regression_pytorch\\models\\experimentation.py:453: MatplotlibDeprecationWarning: \n",
      "The frameon kwarg was deprecated in Matplotlib 3.1 and will be removed in 3.3. Use facecolor instead.\n",
      "  frameon=None, metadata=None)\n",
      "C:\\Users\\thoma\\Documents\\GitHub\\uncertainty_regression_pytorch\\models\\experimentation.py:466: MatplotlibDeprecationWarning: \n",
      "The frameon kwarg was deprecated in Matplotlib 3.1 and will be removed in 3.3. Use facecolor instead.\n",
      "  frameon=None, metadata=None)\n"
     ]
    },
    {
     "name": "stdout",
     "output_type": "stream",
     "text": [
      "10\n",
      "9 7\n"
     ]
    },
    {
     "name": "stderr",
     "output_type": "stream",
     "text": [
      "100%|██████████████████████████████████████████████████████████████████████████████| 100/100 [00:00<00:00, 3576.41it/s]\n",
      "100%|██████████████████████████████████████████████████████████████████████████████| 100/100 [00:00<00:00, 2940.73it/s]\n"
     ]
    },
    {
     "name": "stdout",
     "output_type": "stream",
     "text": [
      " this many models: (100, 100)\n"
     ]
    },
    {
     "name": "stderr",
     "output_type": "stream",
     "text": [
      "100%|██████████████████████████████████████████████████████████████████████████████| 100/100 [00:00<00:00, 3448.33it/s]\n",
      "100%|██████████████████████████████████████████████████████████████████████████████| 100/100 [00:00<00:00, 2778.29it/s]\n"
     ]
    },
    {
     "name": "stdout",
     "output_type": "stream",
     "text": [
      " this many models: (100, 100)\n",
      "10\n",
      "1 3\n"
     ]
    },
    {
     "name": "stderr",
     "output_type": "stream",
     "text": [
      "100%|██████████████████████████████████████████████████████████████████████████████| 100/100 [00:00<00:00, 2857.14it/s]\n",
      "100%|██████████████████████████████████████████████████████████████████████████████| 100/100 [00:00<00:00, 2564.99it/s]\n"
     ]
    },
    {
     "name": "stdout",
     "output_type": "stream",
     "text": [
      " this many models: (100, 100)\n"
     ]
    },
    {
     "name": "stderr",
     "output_type": "stream",
     "text": [
      "100%|██████████████████████████████████████████████████████████████████████████████| 100/100 [00:00<00:00, 3571.44it/s]\n",
      "100%|██████████████████████████████████████████████████████████████████████████████| 100/100 [00:00<00:00, 2941.29it/s]\n"
     ]
    },
    {
     "name": "stdout",
     "output_type": "stream",
     "text": [
      " this many models: (100, 100)\n",
      "10\n",
      "1 8\n"
     ]
    },
    {
     "name": "stderr",
     "output_type": "stream",
     "text": [
      "100%|██████████████████████████████████████████████████████████████████████████████| 100/100 [00:00<00:00, 2702.69it/s]\n",
      "100%|██████████████████████████████████████████████████████████████████████████████| 100/100 [00:00<00:00, 2562.55it/s]\n"
     ]
    },
    {
     "name": "stdout",
     "output_type": "stream",
     "text": [
      " this many models: (100, 100)\n"
     ]
    },
    {
     "name": "stderr",
     "output_type": "stream",
     "text": [
      "100%|██████████████████████████████████████████████████████████████████████████████| 100/100 [00:00<00:00, 3452.30it/s]\n",
      "100%|██████████████████████████████████████████████████████████████████████████████| 100/100 [00:00<00:00, 2629.41it/s]\n"
     ]
    },
    {
     "name": "stdout",
     "output_type": "stream",
     "text": [
      " this many models: (100, 100)\n",
      "Successfully created the directory figures\\Tanh\\SaverModel_toy_True_10\\ \n",
      "<class 'torch.nn.modules.activation.Tanh'>, True, SaverModel\n",
      "0.31478886793598987 0.01689572328985164\n",
      "0.41034945390106986 0.11624340520808289\n",
      "0.1376051874120161 0.1033020612169576\n",
      "-1.0678367724673254 0.041308798572237904\n",
      "SaverModel\n",
      "\\begin{tabular}{lrrrr}\n",
      "\\toprule\n",
      "{} &       nlpd &     errors &     cobeau &  cobeau\\_p\\_vals \\\\\n",
      "\\midrule\n",
      "count &  10.000000 &  10.000000 &  10.000000 &      10.000000 \\\\\n",
      "mean  &  -1.067837 &   0.314789 &   0.410349 &       0.137605 \\\\\n",
      "std   &   0.043543 &   0.017810 &   0.122531 &       0.108890 \\\\\n",
      "min   &  -1.117416 &   0.280758 &   0.250191 &       0.005574 \\\\\n",
      "25\\%   &  -1.096534 &   0.303961 &   0.346673 &       0.076573 \\\\\n",
      "50\\%   &  -1.082959 &   0.316246 &   0.397551 &       0.114336 \\\\\n",
      "75\\%   &  -1.050362 &   0.325599 &   0.441853 &       0.173734 \\\\\n",
      "max   &  -0.982243 &   0.345344 &   0.640827 &       0.332788 \\\\\n",
      "\\bottomrule\n",
      "\\end{tabular}\n",
      "\n"
     ]
    },
    {
     "name": "stderr",
     "output_type": "stream",
     "text": [
      "C:\\Users\\thoma\\Documents\\GitHub\\uncertainty_regression_pytorch\\models\\experimentation.py:238: MatplotlibDeprecationWarning: \n",
      "The frameon kwarg was deprecated in Matplotlib 3.1 and will be removed in 3.3. Use facecolor instead.\n",
      "  frameon=None, metadata=None)\n"
     ]
    },
    {
     "name": "stdout",
     "output_type": "stream",
     "text": [
      "0.31478886793598987 0.01689572328985164\n",
      "0.41034945390106986 0.11624340520808289\n",
      "0.1376051874120161 0.1033020612169576\n",
      "-1.0678367724673254 0.041308798572237904\n",
      "\\begin{tabular}{lrrrr}\n",
      "\\toprule\n",
      "{} &       nlpd &     errors &     cobeau &  cobeau\\_p\\_vals \\\\\n",
      "\\midrule\n",
      "count &  10.000000 &  10.000000 &  10.000000 &      10.000000 \\\\\n",
      "mean  &  -1.067837 &   0.314789 &   0.410349 &       0.137605 \\\\\n",
      "std   &   0.043543 &   0.017810 &   0.122531 &       0.108890 \\\\\n",
      "min   &  -1.117416 &   0.280758 &   0.250191 &       0.005574 \\\\\n",
      "25\\%   &  -1.096534 &   0.303961 &   0.346673 &       0.076573 \\\\\n",
      "50\\%   &  -1.082959 &   0.316246 &   0.397551 &       0.114336 \\\\\n",
      "75\\%   &  -1.050362 &   0.325599 &   0.441853 &       0.173734 \\\\\n",
      "max   &  -0.982243 &   0.345344 &   0.640827 &       0.332788 \\\\\n",
      "\\bottomrule\n",
      "\\end{tabular}\n",
      "\n"
     ]
    },
    {
     "name": "stderr",
     "output_type": "stream",
     "text": [
      "C:\\Users\\thoma\\Miniconda3\\envs\\pytorch\\lib\\site-packages\\numpy\\core\\fromnumeric.py:3118: RuntimeWarning: Mean of empty slice.\n",
      "  out=out, **kwargs)\n",
      "C:\\Users\\thoma\\Miniconda3\\envs\\pytorch\\lib\\site-packages\\numpy\\core\\_methods.py:85: RuntimeWarning: invalid value encountered in double_scalars\n",
      "  ret = ret.dtype.type(ret / rcount)\n",
      "C:\\Users\\thoma\\Miniconda3\\envs\\pytorch\\lib\\site-packages\\numpy\\core\\_methods.py:140: RuntimeWarning: Degrees of freedom <= 0 for slice\n",
      "  keepdims=keepdims)\n",
      "C:\\Users\\thoma\\Miniconda3\\envs\\pytorch\\lib\\site-packages\\numpy\\core\\_methods.py:110: RuntimeWarning: invalid value encountered in true_divide\n",
      "  arrmean, rcount, out=arrmean, casting='unsafe', subok=False)\n",
      "C:\\Users\\thoma\\Miniconda3\\envs\\pytorch\\lib\\site-packages\\numpy\\core\\_methods.py:132: RuntimeWarning: invalid value encountered in double_scalars\n",
      "  ret = ret.dtype.type(ret / rcount)\n"
     ]
    },
    {
     "name": "stdout",
     "output_type": "stream",
     "text": [
      "0.31478886793598987 0.01689572328985164\n",
      "0.41034945390106986 0.11624340520808289\n",
      "0.1376051874120161 0.1033020612169576\n",
      "-1.0678367724673254 0.041308798572237904\n",
      "'ExperimentAnalyzer' object has no attribute 'prior_errors'\n"
     ]
    },
    {
     "name": "stderr",
     "output_type": "stream",
     "text": [
      "C:\\Users\\thoma\\Documents\\GitHub\\uncertainty_regression_pytorch\\models\\experimentation.py:375: MatplotlibDeprecationWarning: \n",
      "The frameon kwarg was deprecated in Matplotlib 3.1 and will be removed in 3.3. Use facecolor instead.\n",
      "  frameon=None, metadata=None)\n",
      "C:\\Users\\thoma\\Documents\\GitHub\\uncertainty_regression_pytorch\\models\\experimentation.py:419: MatplotlibDeprecationWarning: \n",
      "The frameon kwarg was deprecated in Matplotlib 3.1 and will be removed in 3.3. Use facecolor instead.\n",
      "  frameon=None, metadata=None)\n"
     ]
    },
    {
     "name": "stdout",
     "output_type": "stream",
     "text": [
      "'ExperimentAnalyzer' object has no attribute 'prior_cobeau'\n"
     ]
    },
    {
     "name": "stderr",
     "output_type": "stream",
     "text": [
      "C:\\Users\\thoma\\Documents\\GitHub\\uncertainty_regression_pytorch\\models\\experimentation.py:453: MatplotlibDeprecationWarning: \n",
      "The frameon kwarg was deprecated in Matplotlib 3.1 and will be removed in 3.3. Use facecolor instead.\n",
      "  frameon=None, metadata=None)\n",
      "C:\\Users\\thoma\\Documents\\GitHub\\uncertainty_regression_pytorch\\models\\experimentation.py:466: MatplotlibDeprecationWarning: \n",
      "The frameon kwarg was deprecated in Matplotlib 3.1 and will be removed in 3.3. Use facecolor instead.\n",
      "  frameon=None, metadata=None)\n"
     ]
    },
    {
     "name": "stdout",
     "output_type": "stream",
     "text": [
      "10\n",
      "4 6\n",
      " this many models: (100, 20)\n",
      " this many models: (100, 20)\n",
      "10\n",
      "9 6\n",
      " this many models: (100, 20)\n",
      " this many models: (100, 20)\n",
      "10\n",
      "0 1\n",
      " this many models: (100, 20)\n",
      " this many models: (100, 20)\n",
      "Successfully created the directory figures\\Tanh\\ShuffleEnsemble_toy_True_10\\ \n",
      "<class 'torch.nn.modules.activation.Tanh'>, True, ShuffleEnsemble\n",
      "0.3801995499151617 0.007153381483469031\n",
      "0.8334764575892294 0.1364172967399877\n",
      "0.003213549970326119 0.0075433644781786515\n",
      "-1.4905589731308544 0.1205460132597773\n",
      "ShuffleEnsemble\n",
      "\\begin{tabular}{lrrrr}\n",
      "\\toprule\n",
      "{} &       nlpd &     errors &     cobeau &  cobeau\\_p\\_vals \\\\\n",
      "\\midrule\n",
      "count &  10.000000 &  10.000000 &  10.000000 &   1.000000e+01 \\\\\n",
      "mean  &  -1.490559 &   0.380200 &   0.833476 &   3.213550e-03 \\\\\n",
      "std   &   0.127067 &   0.007540 &   0.143796 &   7.951404e-03 \\\\\n",
      "min   &  -1.713765 &   0.370273 &   0.540923 &   8.957230e-10 \\\\\n",
      "25\\%   &  -1.565101 &   0.374465 &   0.815895 &   9.401814e-09 \\\\\n",
      "50\\%   &  -1.488274 &   0.379191 &   0.859332 &   1.037717e-05 \\\\\n",
      "75\\%   &  -1.424318 &   0.383882 &   0.948202 &   6.797526e-05 \\\\\n",
      "max   &  -1.246314 &   0.393965 &   0.960954 &   2.495211e-02 \\\\\n",
      "\\bottomrule\n",
      "\\end{tabular}\n",
      "\n"
     ]
    },
    {
     "name": "stderr",
     "output_type": "stream",
     "text": [
      "C:\\Users\\thoma\\Documents\\GitHub\\uncertainty_regression_pytorch\\models\\experimentation.py:238: MatplotlibDeprecationWarning: \n",
      "The frameon kwarg was deprecated in Matplotlib 3.1 and will be removed in 3.3. Use facecolor instead.\n",
      "  frameon=None, metadata=None)\n"
     ]
    },
    {
     "name": "stdout",
     "output_type": "stream",
     "text": [
      "0.3801995499151617 0.007153381483469031\n",
      "0.8334764575892294 0.1364172967399877\n",
      "0.003213549970326119 0.0075433644781786515\n",
      "-1.4905589731308544 0.1205460132597773\n",
      "\\begin{tabular}{lrrrr}\n",
      "\\toprule\n",
      "{} &       nlpd &     errors &     cobeau &  cobeau\\_p\\_vals \\\\\n",
      "\\midrule\n",
      "count &  10.000000 &  10.000000 &  10.000000 &   1.000000e+01 \\\\\n",
      "mean  &  -1.490559 &   0.380200 &   0.833476 &   3.213550e-03 \\\\\n",
      "std   &   0.127067 &   0.007540 &   0.143796 &   7.951404e-03 \\\\\n",
      "min   &  -1.713765 &   0.370273 &   0.540923 &   8.957230e-10 \\\\\n",
      "25\\%   &  -1.565101 &   0.374465 &   0.815895 &   9.401814e-09 \\\\\n",
      "50\\%   &  -1.488274 &   0.379191 &   0.859332 &   1.037717e-05 \\\\\n",
      "75\\%   &  -1.424318 &   0.383882 &   0.948202 &   6.797526e-05 \\\\\n",
      "max   &  -1.246314 &   0.393965 &   0.960954 &   2.495211e-02 \\\\\n",
      "\\bottomrule\n",
      "\\end{tabular}\n",
      "\n",
      "0.3801995499151617 0.007153381483469031\n",
      "0.8334764575892294 0.1364172967399877\n",
      "0.003213549970326119 0.0075433644781786515\n",
      "-1.4905589731308544 0.1205460132597773\n"
     ]
    },
    {
     "name": "stderr",
     "output_type": "stream",
     "text": [
      "C:\\Users\\thoma\\Documents\\GitHub\\uncertainty_regression_pytorch\\models\\experimentation.py:375: MatplotlibDeprecationWarning: \n",
      "The frameon kwarg was deprecated in Matplotlib 3.1 and will be removed in 3.3. Use facecolor instead.\n",
      "  frameon=None, metadata=None)\n",
      "C:\\Users\\thoma\\Documents\\GitHub\\uncertainty_regression_pytorch\\models\\experimentation.py:419: MatplotlibDeprecationWarning: \n",
      "The frameon kwarg was deprecated in Matplotlib 3.1 and will be removed in 3.3. Use facecolor instead.\n",
      "  frameon=None, metadata=None)\n",
      "C:\\Users\\thoma\\Documents\\GitHub\\uncertainty_regression_pytorch\\models\\experimentation.py:453: MatplotlibDeprecationWarning: \n",
      "The frameon kwarg was deprecated in Matplotlib 3.1 and will be removed in 3.3. Use facecolor instead.\n",
      "  frameon=None, metadata=None)\n",
      "C:\\Users\\thoma\\Documents\\GitHub\\uncertainty_regression_pytorch\\models\\experimentation.py:466: MatplotlibDeprecationWarning: \n",
      "The frameon kwarg was deprecated in Matplotlib 3.1 and will be removed in 3.3. Use facecolor instead.\n",
      "  frameon=None, metadata=None)\n"
     ]
    },
    {
     "name": "stdout",
     "output_type": "stream",
     "text": [
      "10\n",
      "0 1\n",
      " this many models: (100, 10)\n",
      " this many models: (100, 10)\n",
      "10\n",
      "0 8\n",
      " this many models: (100, 10)\n",
      " this many models: (100, 10)\n",
      "10\n",
      "1 6\n",
      " this many models: (100, 10)\n",
      " this many models: (100, 10)\n",
      "Successfully created the directory figures\\Tanh\\VanillaEnsemble_toy_True_10\\ \n",
      "<class 'torch.nn.modules.activation.Tanh'>, True, VanillaEnsemble\n",
      "0.3786456140485225 0.008195042933041572\n",
      "0.8289286226288102 0.13579816018100707\n",
      "0.00331852926920572 0.008158473635711153\n",
      "-1.4582110802340722 0.18856223446270837\n",
      "VanillaEnsemble\n",
      "\\begin{tabular}{lrrrr}\n",
      "\\toprule\n",
      "{} &       nlpd &     errors &     cobeau &  cobeau\\_p\\_vals \\\\\n",
      "\\midrule\n",
      "count &  10.000000 &  10.000000 &  10.000000 &   1.000000e+01 \\\\\n",
      "mean  &  -1.458211 &   0.378646 &   0.828929 &   3.318529e-03 \\\\\n",
      "std   &   0.198762 &   0.008638 &   0.143144 &   8.599786e-03 \\\\\n",
      "min   &  -1.729911 &   0.367353 &   0.533812 &   1.325182e-09 \\\\\n",
      "25\\%   &  -1.589956 &   0.373468 &   0.781282 &   5.046325e-08 \\\\\n",
      "50\\%   &  -1.494589 &   0.376880 &   0.864400 &   7.826767e-06 \\\\\n",
      "75\\%   &  -1.339890 &   0.382935 &   0.940151 &   2.988646e-04 \\\\\n",
      "max   &  -1.041233 &   0.395909 &   0.958827 &   2.731179e-02 \\\\\n",
      "\\bottomrule\n",
      "\\end{tabular}\n",
      "\n"
     ]
    },
    {
     "name": "stderr",
     "output_type": "stream",
     "text": [
      "C:\\Users\\thoma\\Documents\\GitHub\\uncertainty_regression_pytorch\\models\\experimentation.py:238: MatplotlibDeprecationWarning: \n",
      "The frameon kwarg was deprecated in Matplotlib 3.1 and will be removed in 3.3. Use facecolor instead.\n",
      "  frameon=None, metadata=None)\n"
     ]
    },
    {
     "name": "stdout",
     "output_type": "stream",
     "text": [
      "0.3786456140485225 0.008195042933041572\n",
      "0.8289286226288102 0.13579816018100707\n",
      "0.00331852926920572 0.008158473635711153\n",
      "-1.4582110802340722 0.18856223446270837\n",
      "\\begin{tabular}{lrrrr}\n",
      "\\toprule\n",
      "{} &       nlpd &     errors &     cobeau &  cobeau\\_p\\_vals \\\\\n",
      "\\midrule\n",
      "count &  10.000000 &  10.000000 &  10.000000 &   1.000000e+01 \\\\\n",
      "mean  &  -1.458211 &   0.378646 &   0.828929 &   3.318529e-03 \\\\\n",
      "std   &   0.198762 &   0.008638 &   0.143144 &   8.599786e-03 \\\\\n",
      "min   &  -1.729911 &   0.367353 &   0.533812 &   1.325182e-09 \\\\\n",
      "25\\%   &  -1.589956 &   0.373468 &   0.781282 &   5.046325e-08 \\\\\n",
      "50\\%   &  -1.494589 &   0.376880 &   0.864400 &   7.826767e-06 \\\\\n",
      "75\\%   &  -1.339890 &   0.382935 &   0.940151 &   2.988646e-04 \\\\\n",
      "max   &  -1.041233 &   0.395909 &   0.958827 &   2.731179e-02 \\\\\n",
      "\\bottomrule\n",
      "\\end{tabular}\n",
      "\n",
      "0.3786456140485225 0.008195042933041572\n",
      "0.8289286226288102 0.13579816018100707\n",
      "0.00331852926920572 0.008158473635711153\n",
      "-1.4582110802340722 0.18856223446270837\n"
     ]
    },
    {
     "name": "stderr",
     "output_type": "stream",
     "text": [
      "C:\\Users\\thoma\\Documents\\GitHub\\uncertainty_regression_pytorch\\models\\experimentation.py:375: MatplotlibDeprecationWarning: \n",
      "The frameon kwarg was deprecated in Matplotlib 3.1 and will be removed in 3.3. Use facecolor instead.\n",
      "  frameon=None, metadata=None)\n",
      "C:\\Users\\thoma\\Documents\\GitHub\\uncertainty_regression_pytorch\\models\\experimentation.py:419: MatplotlibDeprecationWarning: \n",
      "The frameon kwarg was deprecated in Matplotlib 3.1 and will be removed in 3.3. Use facecolor instead.\n",
      "  frameon=None, metadata=None)\n",
      "C:\\Users\\thoma\\Documents\\GitHub\\uncertainty_regression_pytorch\\models\\experimentation.py:453: MatplotlibDeprecationWarning: \n",
      "The frameon kwarg was deprecated in Matplotlib 3.1 and will be removed in 3.3. Use facecolor instead.\n",
      "  frameon=None, metadata=None)\n",
      "C:\\Users\\thoma\\Documents\\GitHub\\uncertainty_regression_pytorch\\models\\experimentation.py:466: MatplotlibDeprecationWarning: \n",
      "The frameon kwarg was deprecated in Matplotlib 3.1 and will be removed in 3.3. Use facecolor instead.\n",
      "  frameon=None, metadata=None)\n"
     ]
    },
    {
     "name": "stdout",
     "output_type": "stream",
     "text": [
      "10\n",
      "0 7\n",
      " this many models: (100, 10)\n",
      " this many models: (100, 10)\n",
      "10\n",
      "0 8\n",
      " this many models: (100, 10)\n",
      " this many models: (100, 10)\n",
      "10\n",
      "3 6\n",
      " this many models: (100, 10)\n",
      " this many models: (100, 10)\n"
     ]
    },
    {
     "data": {
      "text/plain": [
       "<Figure size 432x288 with 0 Axes>"
      ]
     },
     "metadata": {},
     "output_type": "display_data"
    }
   ],
   "source": [
    "import numpy as np\n",
    "import torch\n",
    "\n",
    "seed = 42 #424\n",
    "np.random.seed(seed)\n",
    "torch.manual_seed(seed)\n",
    "#NOTE! This only works for non cudnn. gpu needs\n",
    "torch.backends.cudnn.deterministic = True\n",
    "torch.backends.cudnn.benchmark = False\n",
    "\n",
    "from helpers import showcase_code\n",
    "\n",
    "import matplotlib.pyplot as plt\n",
    "#%matplotlib inline\n",
    "import seaborn as sns\n",
    "import pickle\n",
    "\n",
    "from experimentation import ExperimentAnalyzer\n",
    "import os\n",
    "import time\n",
    "import pandas as pd\n",
    "import gc\n",
    "\n",
    "\n",
    "means_dict = {}\n",
    "stds_dict = {}\n",
    "count_dict = {}\n",
    "min_dict = {}\n",
    "max_dict = {}\n",
    "\n",
    "\n",
    "for file in files:\n",
    "    plt.close()\n",
    "    plt.clf()\n",
    "    with  open(f'pickles\\\\{non_linearity_name}\\\\'+file, \"rb\") as f:\n",
    "        exp = pickle.load(f)\n",
    "\n",
    "\n",
    "\n",
    "    analyzer = ExperimentAnalyzer(exp)\n",
    "    df1 = analyzer.analysis()\n",
    "    print(f'{exp.model_name}')\n",
    "    print(df1.describe().to_latex())\n",
    "    analyzer.get_outlier_indices()\n",
    "    analyzer.plot_outcomes()\n",
    "    plt.figure()\n",
    "    df2 = analyzer.analysis()\n",
    "\n",
    "\n",
    "    print(df2.describe().to_latex())\n",
    "    means_dict[analyzer.model_name] = df2.describe().loc['mean']\n",
    "    \n",
    "    try:\n",
    "        means_dict[analyzer.model_name+' prior'] = {'nlpd': np.mean(analyzer.stats_dict['analysis']['prior_nlpd']),\n",
    "                                                    'errors': np.mean(analyzer.stats_dict['analysis']['prior_test_errors']),\n",
    "                                                    'cobeau': np.mean(analyzer.stats_dict['analysis']['prior_cobeau']),\n",
    "                                                    'cobeau_p_vals': np.mean(analyzer.stats_dict['analysis']['prior_cobeau_p'])\n",
    "                                                   }\n",
    "    except Exception as e:\n",
    "        print(analyzer.model_name)\n",
    "        print(e)\n",
    "    \n",
    "    \n",
    "    \n",
    "    \n",
    "    \n",
    "    \n",
    "    stds_dict[analyzer.model_name] = df2.describe().loc['std']\n",
    "    \n",
    "    try:\n",
    "        stds_dict[analyzer.model_name+' prior'] = {'nlpd': np.std(analyzer.stats_dict['analysis']['prior_nlpd']),\n",
    "                                                    'errors': np.std(analyzer.stats_dict['analysis']['prior_test_errors']),\n",
    "                                                    'cobeau': np.std(analyzer.stats_dict['analysis']['prior_cobeau']),\n",
    "                                                    'cobeau_p_vals': np.std(analyzer.stats_dict['analysis']['prior_cobeau_p'])\n",
    "                                                   }\n",
    "    except Exception as e:\n",
    "        print(analyzer.model_name)\n",
    "        print(e)\n",
    "    \n",
    "    \n",
    "    \n",
    "    \n",
    "    count_dict[analyzer.model_name] = df2.describe().loc['count']\n",
    "    min_dict[analyzer.model_name] = df2.describe().loc['min']\n",
    "    max_dict[analyzer.model_name] = df2.describe().loc['max']\n",
    "    \n",
    "    \n",
    "    \n",
    "    \n",
    "    analyzer.plot_distribution_of_metrics()\n",
    "\n",
    "    analyzer.plot_models()\n",
    "\n",
    "    analyzer.plot_models('cobeau')\n",
    "\n",
    "    analyzer.plot_models('nlpd')\n",
    "    \n",
    "    gc.collect()\n",
    "\n",
    "\n",
    "#     try:\n",
    "#         analyzer.plot_outlier_models()\n",
    "\n",
    "\n",
    "\n",
    "#     except Exception as e:\n",
    "#         print(e)\n",
    "\n",
    "\n",
    "    \n",
    "    \n"
   ]
  },
  {
   "cell_type": "code",
   "execution_count": 5,
   "metadata": {},
   "outputs": [],
   "source": [
    "pd_means = pd.DataFrame.from_dict(means_dict)\n",
    "pd_stds = pd.DataFrame.from_dict(stds_dict)\n",
    "pd_means = pd.DataFrame.from_dict(means_dict)"
   ]
  },
  {
   "cell_type": "code",
   "execution_count": null,
   "metadata": {},
   "outputs": [],
   "source": []
  },
  {
   "cell_type": "code",
   "execution_count": null,
   "metadata": {},
   "outputs": [],
   "source": []
  },
  {
   "cell_type": "code",
   "execution_count": 6,
   "metadata": {},
   "outputs": [],
   "source": [
    "# pd_means['prior'] = [np.mean(analyzer.stats_dict['analysis']['prior_nlpd']),\n",
    "#                      np.mean(analyzer.stats_dict['analysis']['prior_test_errors']),\n",
    "#                      np.mean(analyzer.stats_dict['analysis']['prior_cobeau']),\n",
    "#                      np.mean(analyzer.stats_dict['analysis']['prior_cobeau_p'])]"
   ]
  },
  {
   "cell_type": "code",
   "execution_count": 7,
   "metadata": {},
   "outputs": [],
   "source": [
    "\n",
    "pd_means = pd_means.dropna(1)\n",
    "pd_means['train set mean/std'] = [analyzer.stupid_function_nlpd,analyzer.stupid_function_error, None, None][::-1]\n",
    "if toy == 'True':\n",
    "    pd_means['generating function'] = [analyzer.original_function_nlpd,analyzer.original_function_error , None, None][::-1]\n",
    "pd_means = pd_means.round(2)"
   ]
  },
  {
   "cell_type": "code",
   "execution_count": 8,
   "metadata": {},
   "outputs": [
    {
     "data": {
      "text/html": [
       "<div>\n",
       "<style scoped>\n",
       "    .dataframe tbody tr th:only-of-type {\n",
       "        vertical-align: middle;\n",
       "    }\n",
       "\n",
       "    .dataframe tbody tr th {\n",
       "        vertical-align: top;\n",
       "    }\n",
       "\n",
       "    .dataframe thead th {\n",
       "        text-align: right;\n",
       "    }\n",
       "</style>\n",
       "<table border=\"1\" class=\"dataframe\">\n",
       "  <thead>\n",
       "    <tr style=\"text-align: right;\">\n",
       "      <th></th>\n",
       "      <th>BobstrapEnsemble</th>\n",
       "      <th>BootstrapEnsemble</th>\n",
       "      <th>BootstrapEnsemble prior</th>\n",
       "      <th>DropoutModel</th>\n",
       "      <th>DropoutModel prior</th>\n",
       "      <th>SaverModel</th>\n",
       "      <th>ShuffleEnsemble</th>\n",
       "      <th>ShuffleEnsemble prior</th>\n",
       "      <th>VanillaEnsemble</th>\n",
       "      <th>VanillaEnsemble prior</th>\n",
       "      <th>train set mean/std</th>\n",
       "      <th>generating function</th>\n",
       "    </tr>\n",
       "  </thead>\n",
       "  <tbody>\n",
       "    <tr>\n",
       "      <td>cobeau</td>\n",
       "      <td>0.59</td>\n",
       "      <td>0.85</td>\n",
       "      <td>0.06</td>\n",
       "      <td>0.62</td>\n",
       "      <td>0.00</td>\n",
       "      <td>0.41</td>\n",
       "      <td>0.83</td>\n",
       "      <td>0.06</td>\n",
       "      <td>0.83</td>\n",
       "      <td>0.06</td>\n",
       "      <td>NaN</td>\n",
       "      <td>NaN</td>\n",
       "    </tr>\n",
       "    <tr>\n",
       "      <td>cobeau_p_vals</td>\n",
       "      <td>0.06</td>\n",
       "      <td>0.00</td>\n",
       "      <td>0.73</td>\n",
       "      <td>0.09</td>\n",
       "      <td>0.52</td>\n",
       "      <td>0.14</td>\n",
       "      <td>0.00</td>\n",
       "      <td>0.73</td>\n",
       "      <td>0.00</td>\n",
       "      <td>0.73</td>\n",
       "      <td>NaN</td>\n",
       "      <td>NaN</td>\n",
       "    </tr>\n",
       "    <tr>\n",
       "      <td>errors</td>\n",
       "      <td>0.42</td>\n",
       "      <td>0.39</td>\n",
       "      <td>0.81</td>\n",
       "      <td>0.37</td>\n",
       "      <td>0.83</td>\n",
       "      <td>0.31</td>\n",
       "      <td>0.38</td>\n",
       "      <td>0.81</td>\n",
       "      <td>0.38</td>\n",
       "      <td>0.81</td>\n",
       "      <td>0.80</td>\n",
       "      <td>0.21</td>\n",
       "    </tr>\n",
       "    <tr>\n",
       "      <td>nlpd</td>\n",
       "      <td>-0.15</td>\n",
       "      <td>-1.30</td>\n",
       "      <td>1.13</td>\n",
       "      <td>-1.01</td>\n",
       "      <td>59.61</td>\n",
       "      <td>-1.07</td>\n",
       "      <td>-1.49</td>\n",
       "      <td>1.13</td>\n",
       "      <td>-1.46</td>\n",
       "      <td>1.13</td>\n",
       "      <td>0.53</td>\n",
       "      <td>-1.09</td>\n",
       "    </tr>\n",
       "  </tbody>\n",
       "</table>\n",
       "</div>"
      ],
      "text/plain": [
       "               BobstrapEnsemble  BootstrapEnsemble  BootstrapEnsemble prior  \\\n",
       "cobeau                     0.59               0.85                     0.06   \n",
       "cobeau_p_vals              0.06               0.00                     0.73   \n",
       "errors                     0.42               0.39                     0.81   \n",
       "nlpd                      -0.15              -1.30                     1.13   \n",
       "\n",
       "               DropoutModel  DropoutModel prior  SaverModel  ShuffleEnsemble  \\\n",
       "cobeau                 0.62                0.00        0.41             0.83   \n",
       "cobeau_p_vals          0.09                0.52        0.14             0.00   \n",
       "errors                 0.37                0.83        0.31             0.38   \n",
       "nlpd                  -1.01               59.61       -1.07            -1.49   \n",
       "\n",
       "               ShuffleEnsemble prior  VanillaEnsemble  VanillaEnsemble prior  \\\n",
       "cobeau                          0.06             0.83                   0.06   \n",
       "cobeau_p_vals                   0.73             0.00                   0.73   \n",
       "errors                          0.81             0.38                   0.81   \n",
       "nlpd                            1.13            -1.46                   1.13   \n",
       "\n",
       "               train set mean/std  generating function  \n",
       "cobeau                        NaN                  NaN  \n",
       "cobeau_p_vals                 NaN                  NaN  \n",
       "errors                       0.80                 0.21  \n",
       "nlpd                         0.53                -1.09  "
      ]
     },
     "execution_count": 8,
     "metadata": {},
     "output_type": "execute_result"
    }
   ],
   "source": [
    "pd_means.head()"
   ]
  },
  {
   "cell_type": "code",
   "execution_count": 9,
   "metadata": {},
   "outputs": [
    {
     "data": {
      "text/html": [
       "<div>\n",
       "<style scoped>\n",
       "    .dataframe tbody tr th:only-of-type {\n",
       "        vertical-align: middle;\n",
       "    }\n",
       "\n",
       "    .dataframe tbody tr th {\n",
       "        vertical-align: top;\n",
       "    }\n",
       "\n",
       "    .dataframe thead th {\n",
       "        text-align: right;\n",
       "    }\n",
       "</style>\n",
       "<table border=\"1\" class=\"dataframe\">\n",
       "  <thead>\n",
       "    <tr style=\"text-align: right;\">\n",
       "      <th></th>\n",
       "      <th>cobeau</th>\n",
       "      <th>cobeau_p_vals</th>\n",
       "      <th>errors</th>\n",
       "      <th>nlpd</th>\n",
       "    </tr>\n",
       "  </thead>\n",
       "  <tbody>\n",
       "    <tr>\n",
       "      <td>BobstrapEnsemble</td>\n",
       "      <td>0.59</td>\n",
       "      <td>0.06</td>\n",
       "      <td>0.42</td>\n",
       "      <td>-0.15</td>\n",
       "    </tr>\n",
       "    <tr>\n",
       "      <td>BootstrapEnsemble</td>\n",
       "      <td>0.85</td>\n",
       "      <td>0.00</td>\n",
       "      <td>0.39</td>\n",
       "      <td>-1.30</td>\n",
       "    </tr>\n",
       "    <tr>\n",
       "      <td>BootstrapEnsemble prior</td>\n",
       "      <td>0.06</td>\n",
       "      <td>0.73</td>\n",
       "      <td>0.81</td>\n",
       "      <td>1.13</td>\n",
       "    </tr>\n",
       "    <tr>\n",
       "      <td>DropoutModel</td>\n",
       "      <td>0.62</td>\n",
       "      <td>0.09</td>\n",
       "      <td>0.37</td>\n",
       "      <td>-1.01</td>\n",
       "    </tr>\n",
       "    <tr>\n",
       "      <td>DropoutModel prior</td>\n",
       "      <td>0.00</td>\n",
       "      <td>0.52</td>\n",
       "      <td>0.83</td>\n",
       "      <td>59.61</td>\n",
       "    </tr>\n",
       "    <tr>\n",
       "      <td>SaverModel</td>\n",
       "      <td>0.41</td>\n",
       "      <td>0.14</td>\n",
       "      <td>0.31</td>\n",
       "      <td>-1.07</td>\n",
       "    </tr>\n",
       "    <tr>\n",
       "      <td>ShuffleEnsemble</td>\n",
       "      <td>0.83</td>\n",
       "      <td>0.00</td>\n",
       "      <td>0.38</td>\n",
       "      <td>-1.49</td>\n",
       "    </tr>\n",
       "    <tr>\n",
       "      <td>ShuffleEnsemble prior</td>\n",
       "      <td>0.06</td>\n",
       "      <td>0.73</td>\n",
       "      <td>0.81</td>\n",
       "      <td>1.13</td>\n",
       "    </tr>\n",
       "    <tr>\n",
       "      <td>VanillaEnsemble</td>\n",
       "      <td>0.83</td>\n",
       "      <td>0.00</td>\n",
       "      <td>0.38</td>\n",
       "      <td>-1.46</td>\n",
       "    </tr>\n",
       "    <tr>\n",
       "      <td>VanillaEnsemble prior</td>\n",
       "      <td>0.06</td>\n",
       "      <td>0.73</td>\n",
       "      <td>0.81</td>\n",
       "      <td>1.13</td>\n",
       "    </tr>\n",
       "    <tr>\n",
       "      <td>train set mean/std</td>\n",
       "      <td>NaN</td>\n",
       "      <td>NaN</td>\n",
       "      <td>0.80</td>\n",
       "      <td>0.53</td>\n",
       "    </tr>\n",
       "    <tr>\n",
       "      <td>generating function</td>\n",
       "      <td>NaN</td>\n",
       "      <td>NaN</td>\n",
       "      <td>0.21</td>\n",
       "      <td>-1.09</td>\n",
       "    </tr>\n",
       "  </tbody>\n",
       "</table>\n",
       "</div>"
      ],
      "text/plain": [
       "                         cobeau  cobeau_p_vals  errors   nlpd\n",
       "BobstrapEnsemble           0.59           0.06    0.42  -0.15\n",
       "BootstrapEnsemble          0.85           0.00    0.39  -1.30\n",
       "BootstrapEnsemble prior    0.06           0.73    0.81   1.13\n",
       "DropoutModel               0.62           0.09    0.37  -1.01\n",
       "DropoutModel prior         0.00           0.52    0.83  59.61\n",
       "SaverModel                 0.41           0.14    0.31  -1.07\n",
       "ShuffleEnsemble            0.83           0.00    0.38  -1.49\n",
       "ShuffleEnsemble prior      0.06           0.73    0.81   1.13\n",
       "VanillaEnsemble            0.83           0.00    0.38  -1.46\n",
       "VanillaEnsemble prior      0.06           0.73    0.81   1.13\n",
       "train set mean/std          NaN            NaN    0.80   0.53\n",
       "generating function         NaN            NaN    0.21  -1.09"
      ]
     },
     "execution_count": 9,
     "metadata": {},
     "output_type": "execute_result"
    }
   ],
   "source": [
    "pd_means.T"
   ]
  },
  {
   "cell_type": "code",
   "execution_count": null,
   "metadata": {},
   "outputs": [],
   "source": []
  },
  {
   "cell_type": "code",
   "execution_count": 10,
   "metadata": {},
   "outputs": [
    {
     "data": {
      "text/html": [
       "<div>\n",
       "<style scoped>\n",
       "    .dataframe tbody tr th:only-of-type {\n",
       "        vertical-align: middle;\n",
       "    }\n",
       "\n",
       "    .dataframe tbody tr th {\n",
       "        vertical-align: top;\n",
       "    }\n",
       "\n",
       "    .dataframe thead th {\n",
       "        text-align: right;\n",
       "    }\n",
       "</style>\n",
       "<table border=\"1\" class=\"dataframe\">\n",
       "  <thead>\n",
       "    <tr style=\"text-align: right;\">\n",
       "      <th></th>\n",
       "      <th>cobeau</th>\n",
       "      <th>cobeau_p_vals</th>\n",
       "      <th>errors</th>\n",
       "      <th>nlpd</th>\n",
       "    </tr>\n",
       "  </thead>\n",
       "  <tbody>\n",
       "    <tr>\n",
       "      <td>BobstrapEnsemble</td>\n",
       "      <td>0.33</td>\n",
       "      <td>0.14</td>\n",
       "      <td>0.02</td>\n",
       "      <td>0.57</td>\n",
       "    </tr>\n",
       "    <tr>\n",
       "      <td>BootstrapEnsemble</td>\n",
       "      <td>0.10</td>\n",
       "      <td>0.00</td>\n",
       "      <td>0.01</td>\n",
       "      <td>0.09</td>\n",
       "    </tr>\n",
       "    <tr>\n",
       "      <td>BootstrapEnsemble prior</td>\n",
       "      <td>0.13</td>\n",
       "      <td>0.23</td>\n",
       "      <td>0.02</td>\n",
       "      <td>0.22</td>\n",
       "    </tr>\n",
       "    <tr>\n",
       "      <td>DropoutModel</td>\n",
       "      <td>0.28</td>\n",
       "      <td>0.11</td>\n",
       "      <td>0.02</td>\n",
       "      <td>0.26</td>\n",
       "    </tr>\n",
       "    <tr>\n",
       "      <td>DropoutModel prior</td>\n",
       "      <td>0.25</td>\n",
       "      <td>0.31</td>\n",
       "      <td>0.04</td>\n",
       "      <td>26.08</td>\n",
       "    </tr>\n",
       "    <tr>\n",
       "      <td>SaverModel</td>\n",
       "      <td>0.12</td>\n",
       "      <td>0.11</td>\n",
       "      <td>0.02</td>\n",
       "      <td>0.04</td>\n",
       "    </tr>\n",
       "    <tr>\n",
       "      <td>ShuffleEnsemble</td>\n",
       "      <td>0.14</td>\n",
       "      <td>0.01</td>\n",
       "      <td>0.01</td>\n",
       "      <td>0.13</td>\n",
       "    </tr>\n",
       "    <tr>\n",
       "      <td>ShuffleEnsemble prior</td>\n",
       "      <td>0.13</td>\n",
       "      <td>0.23</td>\n",
       "      <td>0.02</td>\n",
       "      <td>0.22</td>\n",
       "    </tr>\n",
       "    <tr>\n",
       "      <td>VanillaEnsemble</td>\n",
       "      <td>0.14</td>\n",
       "      <td>0.01</td>\n",
       "      <td>0.01</td>\n",
       "      <td>0.20</td>\n",
       "    </tr>\n",
       "    <tr>\n",
       "      <td>VanillaEnsemble prior</td>\n",
       "      <td>0.13</td>\n",
       "      <td>0.23</td>\n",
       "      <td>0.02</td>\n",
       "      <td>0.22</td>\n",
       "    </tr>\n",
       "  </tbody>\n",
       "</table>\n",
       "</div>"
      ],
      "text/plain": [
       "                         cobeau  cobeau_p_vals  errors   nlpd\n",
       "BobstrapEnsemble           0.33           0.14    0.02   0.57\n",
       "BootstrapEnsemble          0.10           0.00    0.01   0.09\n",
       "BootstrapEnsemble prior    0.13           0.23    0.02   0.22\n",
       "DropoutModel               0.28           0.11    0.02   0.26\n",
       "DropoutModel prior         0.25           0.31    0.04  26.08\n",
       "SaverModel                 0.12           0.11    0.02   0.04\n",
       "ShuffleEnsemble            0.14           0.01    0.01   0.13\n",
       "ShuffleEnsemble prior      0.13           0.23    0.02   0.22\n",
       "VanillaEnsemble            0.14           0.01    0.01   0.20\n",
       "VanillaEnsemble prior      0.13           0.23    0.02   0.22"
      ]
     },
     "execution_count": 10,
     "metadata": {},
     "output_type": "execute_result"
    }
   ],
   "source": [
    "pd_stds = pd_stds.dropna(1).round(2)\n",
    "pd_stds.round(3).T"
   ]
  },
  {
   "cell_type": "code",
   "execution_count": 11,
   "metadata": {},
   "outputs": [],
   "source": [
    "import collections"
   ]
  },
  {
   "cell_type": "code",
   "execution_count": 12,
   "metadata": {},
   "outputs": [],
   "source": [
    "stats_dict = collections.defaultdict(dict)\n",
    "for row in pd_means.index:\n",
    "    \n",
    "    for col in pd_means.columns:\n",
    "\n",
    "        \n",
    "        \n",
    "        \n",
    "        \n",
    "        \n",
    "        try:\n",
    "            stats_dict[row][col] = str(pd_means.loc[row][col]) + ' \\\\footnotesize$\\pm$' + str(pd_stds.loc[row][col]) + '\\normalsize'\n",
    "        except:\n",
    "            stats_dict[row][col] = pd_means.loc[row][col]"
   ]
  },
  {
   "cell_type": "code",
   "execution_count": 13,
   "metadata": {},
   "outputs": [
    {
     "data": {
      "text/plain": [
       "['BobstrapEnsemble',\n",
       " 'BootstrapEnsemble',\n",
       " 'BootstrapEnsemble prior',\n",
       " 'DropoutModel',\n",
       " 'DropoutModel prior',\n",
       " 'SaverModel',\n",
       " 'ShuffleEnsemble',\n",
       " 'ShuffleEnsemble prior',\n",
       " 'VanillaEnsemble',\n",
       " 'VanillaEnsemble prior',\n",
       " 'train set mean/std',\n",
       " 'generating function']"
      ]
     },
     "execution_count": 13,
     "metadata": {},
     "output_type": "execute_result"
    }
   ],
   "source": [
    "list(pd.DataFrame.from_dict(stats_dict).index)"
   ]
  },
  {
   "cell_type": "code",
   "execution_count": null,
   "metadata": {},
   "outputs": [],
   "source": []
  },
  {
   "cell_type": "code",
   "execution_count": 14,
   "metadata": {},
   "outputs": [],
   "source": [
    "model_names_list = ['VanillaEnsemble', 'ShuffleEnsemble', 'BootstrapEnsemble', 'SaverModel', 'BobstrapEnsemble', 'DropoutModel']\n",
    "model_names_list_bf = ['\\textbf{{{}}}'.format(x) for x in model_names_list]\n",
    "\n",
    "prior_names_list = [                                             'VanillaEnsemble prior',\n",
    "                                           'ShuffleEnsemble prior',\n",
    "                                             'BootstrapEnsemble prior',\n",
    "                                             'DropoutModel prior',]\n",
    "benchmark_names_list = [                                             'train set mean/std',\n",
    "]\n",
    "if toy == 'True':\n",
    "    benchmark_names_list += [ 'generating function']\n",
    "\n",
    "pd_stats = pd.DataFrame.from_dict(stats_dict).reindex(model_names_list+prior_names_list+benchmark_names_list)\n"
   ]
  },
  {
   "cell_type": "code",
   "execution_count": 15,
   "metadata": {},
   "outputs": [
    {
     "data": {
      "text/plain": [
       "['\\textbf{VanillaEnsemble}',\n",
       " '\\textbf{ShuffleEnsemble}',\n",
       " '\\textbf{BootstrapEnsemble}',\n",
       " '\\textbf{SaverModel}',\n",
       " '\\textbf{BobstrapEnsemble}',\n",
       " '\\textbf{DropoutModel}']"
      ]
     },
     "execution_count": 15,
     "metadata": {},
     "output_type": "execute_result"
    }
   ],
   "source": [
    "model_names_list_bf"
   ]
  },
  {
   "cell_type": "code",
   "execution_count": 16,
   "metadata": {},
   "outputs": [
    {
     "data": {
      "text/plain": [
       "['\\textbf{VanillaEnsemble}',\n",
       " '\\textbf{ShuffleEnsemble}',\n",
       " '\\textbf{BootstrapEnsemble}',\n",
       " '\\textbf{SaverModel}',\n",
       " '\\textbf{BobstrapEnsemble}',\n",
       " '\\textbf{DropoutModel}',\n",
       " 'VanillaEnsemble prior',\n",
       " 'ShuffleEnsemble prior',\n",
       " 'BootstrapEnsemble prior',\n",
       " 'DropoutModel prior',\n",
       " 'train set mean/std',\n",
       " 'generating function']"
      ]
     },
     "execution_count": 16,
     "metadata": {},
     "output_type": "execute_result"
    }
   ],
   "source": [
    "model_names_list_bf+prior_names_list+benchmark_names_list"
   ]
  },
  {
   "cell_type": "code",
   "execution_count": 17,
   "metadata": {},
   "outputs": [],
   "source": [
    "rename_dict = {prev:after for prev,after in zip(model_names_list+prior_names_list+benchmark_names_list, model_names_list_bf+prior_names_list+benchmark_names_list)}"
   ]
  },
  {
   "cell_type": "code",
   "execution_count": 18,
   "metadata": {},
   "outputs": [
    {
     "data": {
      "text/plain": [
       "{'VanillaEnsemble': '\\textbf{VanillaEnsemble}',\n",
       " 'ShuffleEnsemble': '\\textbf{ShuffleEnsemble}',\n",
       " 'BootstrapEnsemble': '\\textbf{BootstrapEnsemble}',\n",
       " 'SaverModel': '\\textbf{SaverModel}',\n",
       " 'BobstrapEnsemble': '\\textbf{BobstrapEnsemble}',\n",
       " 'DropoutModel': '\\textbf{DropoutModel}',\n",
       " 'VanillaEnsemble prior': 'VanillaEnsemble prior',\n",
       " 'ShuffleEnsemble prior': 'ShuffleEnsemble prior',\n",
       " 'BootstrapEnsemble prior': 'BootstrapEnsemble prior',\n",
       " 'DropoutModel prior': 'DropoutModel prior',\n",
       " 'train set mean/std': 'train set mean/std',\n",
       " 'generating function': 'generating function'}"
      ]
     },
     "execution_count": 18,
     "metadata": {},
     "output_type": "execute_result"
    }
   ],
   "source": [
    "rename_dict"
   ]
  },
  {
   "cell_type": "code",
   "execution_count": 19,
   "metadata": {},
   "outputs": [],
   "source": [
    "pd_stats.rename(rename_dict, axis='index',inplace=True)"
   ]
  },
  {
   "cell_type": "code",
   "execution_count": null,
   "metadata": {},
   "outputs": [],
   "source": []
  },
  {
   "cell_type": "code",
   "execution_count": 20,
   "metadata": {},
   "outputs": [],
   "source": [
    "col_rename_dict = {x:f'\\textbf{{{x}}}' for x in pd_stats.columns}\n",
    "col_rename_dict['cobeau_p_vals'] = '\\textbf{cobeau p-vals}'"
   ]
  },
  {
   "cell_type": "code",
   "execution_count": 21,
   "metadata": {},
   "outputs": [],
   "source": [
    "pd_stats.rename(col_rename_dict,axis = 'columns',inplace=True)"
   ]
  },
  {
   "cell_type": "code",
   "execution_count": 22,
   "metadata": {},
   "outputs": [
    {
     "data": {
      "text/html": [
       "<div>\n",
       "<style scoped>\n",
       "    .dataframe tbody tr th:only-of-type {\n",
       "        vertical-align: middle;\n",
       "    }\n",
       "\n",
       "    .dataframe tbody tr th {\n",
       "        vertical-align: top;\n",
       "    }\n",
       "\n",
       "    .dataframe thead th {\n",
       "        text-align: right;\n",
       "    }\n",
       "</style>\n",
       "<table border=\"1\" class=\"dataframe\">\n",
       "  <thead>\n",
       "    <tr style=\"text-align: right;\">\n",
       "      <th></th>\n",
       "      <th>\\textbf{cobeau}</th>\n",
       "      <th>\\textbf{cobeau p-vals}</th>\n",
       "      <th>\\textbf{errors}</th>\n",
       "      <th>\\textbf{nlpd}</th>\n",
       "    </tr>\n",
       "  </thead>\n",
       "  <tbody>\n",
       "    <tr>\n",
       "      <td>\\textbf{VanillaEnsemble}</td>\n",
       "      <td>0.83 \\footnotesize$\\pm$0.14\\normalsize</td>\n",
       "      <td>0.0 \\footnotesize$\\pm$0.01\\normalsize</td>\n",
       "      <td>0.38 \\footnotesize$\\pm$0.01\\normalsize</td>\n",
       "      <td>-1.46 \\footnotesize$\\pm$0.2\\normalsize</td>\n",
       "    </tr>\n",
       "    <tr>\n",
       "      <td>\\textbf{ShuffleEnsemble}</td>\n",
       "      <td>0.83 \\footnotesize$\\pm$0.14\\normalsize</td>\n",
       "      <td>0.0 \\footnotesize$\\pm$0.01\\normalsize</td>\n",
       "      <td>0.38 \\footnotesize$\\pm$0.01\\normalsize</td>\n",
       "      <td>-1.49 \\footnotesize$\\pm$0.13\\normalsize</td>\n",
       "    </tr>\n",
       "    <tr>\n",
       "      <td>\\textbf{BootstrapEnsemble}</td>\n",
       "      <td>0.85 \\footnotesize$\\pm$0.1\\normalsize</td>\n",
       "      <td>0.0 \\footnotesize$\\pm$0.0\\normalsize</td>\n",
       "      <td>0.39 \\footnotesize$\\pm$0.01\\normalsize</td>\n",
       "      <td>-1.3 \\footnotesize$\\pm$0.09\\normalsize</td>\n",
       "    </tr>\n",
       "    <tr>\n",
       "      <td>\\textbf{SaverModel}</td>\n",
       "      <td>0.41 \\footnotesize$\\pm$0.12\\normalsize</td>\n",
       "      <td>0.14 \\footnotesize$\\pm$0.11\\normalsize</td>\n",
       "      <td>0.31 \\footnotesize$\\pm$0.02\\normalsize</td>\n",
       "      <td>-1.07 \\footnotesize$\\pm$0.04\\normalsize</td>\n",
       "    </tr>\n",
       "    <tr>\n",
       "      <td>\\textbf{BobstrapEnsemble}</td>\n",
       "      <td>0.59 \\footnotesize$\\pm$0.33\\normalsize</td>\n",
       "      <td>0.06 \\footnotesize$\\pm$0.14\\normalsize</td>\n",
       "      <td>0.42 \\footnotesize$\\pm$0.02\\normalsize</td>\n",
       "      <td>-0.15 \\footnotesize$\\pm$0.57\\normalsize</td>\n",
       "    </tr>\n",
       "    <tr>\n",
       "      <td>\\textbf{DropoutModel}</td>\n",
       "      <td>0.62 \\footnotesize$\\pm$0.28\\normalsize</td>\n",
       "      <td>0.09 \\footnotesize$\\pm$0.11\\normalsize</td>\n",
       "      <td>0.37 \\footnotesize$\\pm$0.02\\normalsize</td>\n",
       "      <td>-1.01 \\footnotesize$\\pm$0.26\\normalsize</td>\n",
       "    </tr>\n",
       "    <tr>\n",
       "      <td>VanillaEnsemble prior</td>\n",
       "      <td>0.06 \\footnotesize$\\pm$0.13\\normalsize</td>\n",
       "      <td>0.73 \\footnotesize$\\pm$0.23\\normalsize</td>\n",
       "      <td>0.81 \\footnotesize$\\pm$0.02\\normalsize</td>\n",
       "      <td>1.13 \\footnotesize$\\pm$0.22\\normalsize</td>\n",
       "    </tr>\n",
       "    <tr>\n",
       "      <td>ShuffleEnsemble prior</td>\n",
       "      <td>0.06 \\footnotesize$\\pm$0.13\\normalsize</td>\n",
       "      <td>0.73 \\footnotesize$\\pm$0.23\\normalsize</td>\n",
       "      <td>0.81 \\footnotesize$\\pm$0.02\\normalsize</td>\n",
       "      <td>1.13 \\footnotesize$\\pm$0.22\\normalsize</td>\n",
       "    </tr>\n",
       "    <tr>\n",
       "      <td>BootstrapEnsemble prior</td>\n",
       "      <td>0.06 \\footnotesize$\\pm$0.13\\normalsize</td>\n",
       "      <td>0.73 \\footnotesize$\\pm$0.23\\normalsize</td>\n",
       "      <td>0.81 \\footnotesize$\\pm$0.02\\normalsize</td>\n",
       "      <td>1.13 \\footnotesize$\\pm$0.22\\normalsize</td>\n",
       "    </tr>\n",
       "    <tr>\n",
       "      <td>DropoutModel prior</td>\n",
       "      <td>0.0 \\footnotesize$\\pm$0.25\\normalsize</td>\n",
       "      <td>0.52 \\footnotesize$\\pm$0.31\\normalsize</td>\n",
       "      <td>0.83 \\footnotesize$\\pm$0.04\\normalsize</td>\n",
       "      <td>59.61 \\footnotesize$\\pm$26.08\\normalsize</td>\n",
       "    </tr>\n",
       "    <tr>\n",
       "      <td>train set mean/std</td>\n",
       "      <td>NaN</td>\n",
       "      <td>NaN</td>\n",
       "      <td>0.8</td>\n",
       "      <td>0.53</td>\n",
       "    </tr>\n",
       "    <tr>\n",
       "      <td>generating function</td>\n",
       "      <td>NaN</td>\n",
       "      <td>NaN</td>\n",
       "      <td>0.21</td>\n",
       "      <td>-1.09</td>\n",
       "    </tr>\n",
       "  </tbody>\n",
       "</table>\n",
       "</div>"
      ],
      "text/plain": [
       "                                                   \\textbf{cobeau}  \\\n",
       "\\textbf{VanillaEnsemble}    0.83 \\footnotesize$\\pm$0.14\\normalsize   \n",
       "\\textbf{ShuffleEnsemble}    0.83 \\footnotesize$\\pm$0.14\\normalsize   \n",
       "\\textbf{BootstrapEnsemble}   0.85 \\footnotesize$\\pm$0.1\\normalsize   \n",
       "\\textbf{SaverModel}         0.41 \\footnotesize$\\pm$0.12\\normalsize   \n",
       "\\textbf{BobstrapEnsemble}   0.59 \\footnotesize$\\pm$0.33\\normalsize   \n",
       "\\textbf{DropoutModel}       0.62 \\footnotesize$\\pm$0.28\\normalsize   \n",
       "VanillaEnsemble prior       0.06 \\footnotesize$\\pm$0.13\\normalsize   \n",
       "ShuffleEnsemble prior       0.06 \\footnotesize$\\pm$0.13\\normalsize   \n",
       "BootstrapEnsemble prior     0.06 \\footnotesize$\\pm$0.13\\normalsize   \n",
       "DropoutModel prior           0.0 \\footnotesize$\\pm$0.25\\normalsize   \n",
       "train set mean/std                                             NaN   \n",
       "generating function                                            NaN   \n",
       "\n",
       "                                            \\textbf{cobeau p-vals}  \\\n",
       "\\textbf{VanillaEnsemble}     0.0 \\footnotesize$\\pm$0.01\\normalsize   \n",
       "\\textbf{ShuffleEnsemble}     0.0 \\footnotesize$\\pm$0.01\\normalsize   \n",
       "\\textbf{BootstrapEnsemble}    0.0 \\footnotesize$\\pm$0.0\\normalsize   \n",
       "\\textbf{SaverModel}         0.14 \\footnotesize$\\pm$0.11\\normalsize   \n",
       "\\textbf{BobstrapEnsemble}   0.06 \\footnotesize$\\pm$0.14\\normalsize   \n",
       "\\textbf{DropoutModel}       0.09 \\footnotesize$\\pm$0.11\\normalsize   \n",
       "VanillaEnsemble prior       0.73 \\footnotesize$\\pm$0.23\\normalsize   \n",
       "ShuffleEnsemble prior       0.73 \\footnotesize$\\pm$0.23\\normalsize   \n",
       "BootstrapEnsemble prior     0.73 \\footnotesize$\\pm$0.23\\normalsize   \n",
       "DropoutModel prior          0.52 \\footnotesize$\\pm$0.31\\normalsize   \n",
       "train set mean/std                                             NaN   \n",
       "generating function                                            NaN   \n",
       "\n",
       "                                                   \\textbf{errors}  \\\n",
       "\\textbf{VanillaEnsemble}    0.38 \\footnotesize$\\pm$0.01\\normalsize   \n",
       "\\textbf{ShuffleEnsemble}    0.38 \\footnotesize$\\pm$0.01\\normalsize   \n",
       "\\textbf{BootstrapEnsemble}  0.39 \\footnotesize$\\pm$0.01\\normalsize   \n",
       "\\textbf{SaverModel}         0.31 \\footnotesize$\\pm$0.02\\normalsize   \n",
       "\\textbf{BobstrapEnsemble}   0.42 \\footnotesize$\\pm$0.02\\normalsize   \n",
       "\\textbf{DropoutModel}       0.37 \\footnotesize$\\pm$0.02\\normalsize   \n",
       "VanillaEnsemble prior       0.81 \\footnotesize$\\pm$0.02\\normalsize   \n",
       "ShuffleEnsemble prior       0.81 \\footnotesize$\\pm$0.02\\normalsize   \n",
       "BootstrapEnsemble prior     0.81 \\footnotesize$\\pm$0.02\\normalsize   \n",
       "DropoutModel prior          0.83 \\footnotesize$\\pm$0.04\\normalsize   \n",
       "train set mean/std                                             0.8   \n",
       "generating function                                           0.21   \n",
       "\n",
       "                                                       \\textbf{nlpd}  \n",
       "\\textbf{VanillaEnsemble}      -1.46 \\footnotesize$\\pm$0.2\\normalsize  \n",
       "\\textbf{ShuffleEnsemble}     -1.49 \\footnotesize$\\pm$0.13\\normalsize  \n",
       "\\textbf{BootstrapEnsemble}    -1.3 \\footnotesize$\\pm$0.09\\normalsize  \n",
       "\\textbf{SaverModel}          -1.07 \\footnotesize$\\pm$0.04\\normalsize  \n",
       "\\textbf{BobstrapEnsemble}    -0.15 \\footnotesize$\\pm$0.57\\normalsize  \n",
       "\\textbf{DropoutModel}        -1.01 \\footnotesize$\\pm$0.26\\normalsize  \n",
       "VanillaEnsemble prior         1.13 \\footnotesize$\\pm$0.22\\normalsize  \n",
       "ShuffleEnsemble prior         1.13 \\footnotesize$\\pm$0.22\\normalsize  \n",
       "BootstrapEnsemble prior       1.13 \\footnotesize$\\pm$0.22\\normalsize  \n",
       "DropoutModel prior          59.61 \\footnotesize$\\pm$26.08\\normalsize  \n",
       "train set mean/std                                              0.53  \n",
       "generating function                                            -1.09  "
      ]
     },
     "execution_count": 22,
     "metadata": {},
     "output_type": "execute_result"
    }
   ],
   "source": [
    "pd_stats"
   ]
  },
  {
   "cell_type": "code",
   "execution_count": 23,
   "metadata": {},
   "outputs": [
    {
     "data": {
      "text/plain": [
       "['\\textbf{cobeau}',\n",
       " '\\textbf{cobeau p-vals}',\n",
       " '\\textbf{errors}',\n",
       " '\\textbf{nlpd}']"
      ]
     },
     "execution_count": 23,
     "metadata": {},
     "output_type": "execute_result"
    }
   ],
   "source": [
    "list(pd_stats.columns)"
   ]
  },
  {
   "cell_type": "code",
   "execution_count": 24,
   "metadata": {},
   "outputs": [],
   "source": [
    "cols = ['\\textbf{errors}',\n",
    " '\\textbf{nlpd}',\n",
    "         '\\textbf{cobeau}',\n",
    " '\\textbf{cobeau p-vals}',\n",
    "]\n",
    "pd_stats = pd_stats[cols]"
   ]
  },
  {
   "cell_type": "code",
   "execution_count": 25,
   "metadata": {},
   "outputs": [
    {
     "name": "stdout",
     "output_type": "stream",
     "text": [
      "\\begin{tabular}{lllll}\n",
      "\\toprule\n",
      "{} &                         \\textbf{errors} &                             \\textbf{nlpd} &                         \\textbf{cobeau} &                  \\textbf{cobeau p-vals} \\\\\n",
      "\\midrule\n",
      "\\textbf{VanillaEnsemble}   &  0.38 \\footnotesize$\\pm$0.01\\normalsize &    -1.46 \\footnotesize$\\pm$0.2\\normalsize &  0.83 \\footnotesize$\\pm$0.14\\normalsize &   0.0 \\footnotesize$\\pm$0.01\\normalsize \\\\\n",
      "\\textbf{ShuffleEnsemble}   &  0.38 \\footnotesize$\\pm$0.01\\normalsize &   -1.49 \\footnotesize$\\pm$0.13\\normalsize &  0.83 \\footnotesize$\\pm$0.14\\normalsize &   0.0 \\footnotesize$\\pm$0.01\\normalsize \\\\\n",
      "\\textbf{BootstrapEnsemble} &  0.39 \\footnotesize$\\pm$0.01\\normalsize &    -1.3 \\footnotesize$\\pm$0.09\\normalsize &   0.85 \\footnotesize$\\pm$0.1\\normalsize &    0.0 \\footnotesize$\\pm$0.0\\normalsize \\\\\n",
      "\\textbf{SaverModel}        &  0.31 \\footnotesize$\\pm$0.02\\normalsize &   -1.07 \\footnotesize$\\pm$0.04\\normalsize &  0.41 \\footnotesize$\\pm$0.12\\normalsize &  0.14 \\footnotesize$\\pm$0.11\\normalsize \\\\\n",
      "\\textbf{BobstrapEnsemble}  &  0.42 \\footnotesize$\\pm$0.02\\normalsize &   -0.15 \\footnotesize$\\pm$0.57\\normalsize &  0.59 \\footnotesize$\\pm$0.33\\normalsize &  0.06 \\footnotesize$\\pm$0.14\\normalsize \\\\\n",
      "\\textbf{DropoutModel}      &  0.37 \\footnotesize$\\pm$0.02\\normalsize &   -1.01 \\footnotesize$\\pm$0.26\\normalsize &  0.62 \\footnotesize$\\pm$0.28\\normalsize &  0.09 \\footnotesize$\\pm$0.11\\normalsize \\\\\n",
      "VanillaEnsemble prior      &  0.81 \\footnotesize$\\pm$0.02\\normalsize &    1.13 \\footnotesize$\\pm$0.22\\normalsize &  0.06 \\footnotesize$\\pm$0.13\\normalsize &  0.73 \\footnotesize$\\pm$0.23\\normalsize \\\\\n",
      "ShuffleEnsemble prior      &  0.81 \\footnotesize$\\pm$0.02\\normalsize &    1.13 \\footnotesize$\\pm$0.22\\normalsize &  0.06 \\footnotesize$\\pm$0.13\\normalsize &  0.73 \\footnotesize$\\pm$0.23\\normalsize \\\\\n",
      "BootstrapEnsemble prior    &  0.81 \\footnotesize$\\pm$0.02\\normalsize &    1.13 \\footnotesize$\\pm$0.22\\normalsize &  0.06 \\footnotesize$\\pm$0.13\\normalsize &  0.73 \\footnotesize$\\pm$0.23\\normalsize \\\\\n",
      "DropoutModel prior         &  0.83 \\footnotesize$\\pm$0.04\\normalsize &  59.61 \\footnotesize$\\pm$26.08\\normalsize &   0.0 \\footnotesize$\\pm$0.25\\normalsize &  0.52 \\footnotesize$\\pm$0.31\\normalsize \\\\\n",
      "train set mean/std         &                                     0.8 &                                      0.53 &                                       - &                                       - \\\\\n",
      "generating function        &                                    0.21 &                                     -1.09 &                                       - &                                       - \\\\\n",
      "\\bottomrule\n",
      "\\end{tabular}\n",
      "\n"
     ]
    }
   ],
   "source": [
    "print(pd_stats.to_latex(na_rep ='-',bold_rows =False, escape=False))"
   ]
  },
  {
   "cell_type": "code",
   "execution_count": null,
   "metadata": {},
   "outputs": [],
   "source": []
  },
  {
   "cell_type": "markdown",
   "metadata": {},
   "source": [
    "# model table"
   ]
  },
  {
   "cell_type": "code",
   "execution_count": null,
   "metadata": {},
   "outputs": [],
   "source": []
  },
  {
   "cell_type": "code",
   "execution_count": null,
   "metadata": {},
   "outputs": [],
   "source": []
  },
  {
   "cell_type": "code",
   "execution_count": 26,
   "metadata": {},
   "outputs": [
    {
     "name": "stdout",
     "output_type": "stream",
     "text": [
      "----------------------------------------------------------------\n",
      "        Layer (type)               Output Shape         Param #\n",
      "================================================================\n",
      "            Linear-1               [-1, 0, 100]             200\n",
      "         LeakyReLU-2               [-1, 0, 100]               0\n",
      "           Dropout-3               [-1, 0, 100]               0\n",
      "            Linear-4               [-1, 0, 100]          10,100\n",
      "         LeakyReLU-5               [-1, 0, 100]               0\n",
      "            Linear-6                [-1, 0, 10]           1,010\n",
      "         LeakyReLU-7                [-1, 0, 10]               0\n",
      "            Linear-8                 [-1, 0, 1]              11\n",
      "================================================================\n",
      "Total params: 11,321\n",
      "Trainable params: 11,321\n",
      "Non-trainable params: 0\n",
      "----------------------------------------------------------------\n",
      "Input size (MB): 0.00\n",
      "Forward/backward pass size (MB): 0.00\n",
      "Params size (MB): 0.04\n",
      "Estimated Total Size (MB): 0.04\n",
      "----------------------------------------------------------------\n",
      "Sequential(\n",
      "  (0): Linear(in_features=1, out_features=100, bias=True)\n",
      "  (1): LeakyReLU(negative_slope=0.01)\n",
      "  (2): Dropout(p=0, inplace=False)\n",
      "  (3): Linear(in_features=100, out_features=100, bias=True)\n",
      "  (4): LeakyReLU(negative_slope=0.01)\n",
      "  (5): Linear(in_features=100, out_features=10, bias=True)\n",
      "  (6): LeakyReLU(negative_slope=0.01)\n",
      "  (7): Linear(in_features=10, out_features=1, bias=True)\n",
      ")\n",
      "Sequential(\n",
      "  (0): Linear(in_features=1, out_features=500, bias=True)\n",
      "  (1): LeakyReLU(negative_slope=0.01)\n",
      "  (2): Linear(in_features=500, out_features=500, bias=True)\n",
      "  (3): LeakyReLU(negative_slope=0.01)\n",
      "  (4): Linear(in_features=500, out_features=15, bias=True)\n",
      "  (5): LeakyReLU(negative_slope=0.01)\n",
      "  (6): Dropout(p=0, inplace=False)\n",
      "  (7): Linear(in_features=15, out_features=1, bias=True)\n",
      ")\n"
     ]
    },
    {
     "data": {
      "text/html": [
       "<div>\n",
       "<style scoped>\n",
       "    .dataframe tbody tr th:only-of-type {\n",
       "        vertical-align: middle;\n",
       "    }\n",
       "\n",
       "    .dataframe tbody tr th {\n",
       "        vertical-align: top;\n",
       "    }\n",
       "\n",
       "    .dataframe thead th {\n",
       "        text-align: right;\n",
       "    }\n",
       "</style>\n",
       "<table border=\"1\" class=\"dataframe\">\n",
       "  <thead>\n",
       "    <tr style=\"text-align: right;\">\n",
       "      <th></th>\n",
       "      <th>toy</th>\n",
       "      <th>housing</th>\n",
       "    </tr>\n",
       "  </thead>\n",
       "  <tbody>\n",
       "    <tr>\n",
       "      <td>layer sizes</td>\n",
       "      <td>[100, 100, 10, 1]</td>\n",
       "      <td>[500, 500, 15, 1]</td>\n",
       "    </tr>\n",
       "    <tr>\n",
       "      <td>non-linearity</td>\n",
       "      <td>Tanh</td>\n",
       "      <td>Tanh</td>\n",
       "    </tr>\n",
       "  </tbody>\n",
       "</table>\n",
       "</div>"
      ],
      "text/plain": [
       "                             toy            housing\n",
       "layer sizes    [100, 100, 10, 1]  [500, 500, 15, 1]\n",
       "non-linearity               Tanh               Tanh"
      ]
     },
     "execution_count": 26,
     "metadata": {},
     "output_type": "execute_result"
    }
   ],
   "source": [
    "from nn_models.base_model import get_toy_model,get_kaggle_model\n",
    "import torch\n",
    "from torchsummary import summary\n",
    "import collections\n",
    "import pandas as pd\n",
    "device = torch.device(\"cuda\" if torch.cuda.is_available() else \"cpu\")\n",
    "model = get_toy_model(1,torch.nn.LeakyReLU,0).to(device)\n",
    "summary(model, (0,1))\n",
    "model_dict = collections.defaultdict(dict)\n",
    "for name, get_func in zip(['toy','housing'],[get_toy_model, get_kaggle_model]):\n",
    "    model = get_func(1,torch.nn.LeakyReLU,0)\n",
    "    model_params = [x.out_features for x in list(model) if hasattr(x,'out_features')]\n",
    "    model_dict[name]['layer sizes'] = model_params\n",
    "    model_dict[name]['non-linearity'] = 'Tanh'\n",
    "    print(model)\n",
    "a = pd.DataFrame.from_dict(model_dict)\n",
    "a"
   ]
  },
  {
   "cell_type": "code",
   "execution_count": null,
   "metadata": {},
   "outputs": [],
   "source": []
  },
  {
   "cell_type": "code",
   "execution_count": null,
   "metadata": {},
   "outputs": [],
   "source": []
  },
  {
   "cell_type": "code",
   "execution_count": null,
   "metadata": {},
   "outputs": [],
   "source": []
  },
  {
   "cell_type": "code",
   "execution_count": 27,
   "metadata": {},
   "outputs": [
    {
     "name": "stdout",
     "output_type": "stream",
     "text": [
      "\\begin{tabular}{lll}\n",
      "\\toprule\n",
      "{} &                toy &            housing \\\\\n",
      "\\midrule\n",
      "layer sizes   &  [100, 100, 10, 1] &  [500, 500, 15, 1] \\\\\n",
      "non-linearity &               Tanh &               Tanh \\\\\n",
      "\\bottomrule\n",
      "\\end{tabular}\n",
      "\n"
     ]
    }
   ],
   "source": [
    "print(a.to_latex())"
   ]
  },
  {
   "cell_type": "code",
   "execution_count": 28,
   "metadata": {},
   "outputs": [
    {
     "data": {
      "text/plain": [
       "torch.nn.modules.activation.ReLU"
      ]
     },
     "execution_count": 28,
     "metadata": {},
     "output_type": "execute_result"
    }
   ],
   "source": [
    "torch.nn.ReLU"
   ]
  },
  {
   "cell_type": "code",
   "execution_count": null,
   "metadata": {},
   "outputs": [],
   "source": []
  },
  {
   "cell_type": "code",
   "execution_count": null,
   "metadata": {},
   "outputs": [],
   "source": []
  }
 ],
 "metadata": {
  "kernelspec": {
   "display_name": "Python 3",
   "language": "python",
   "name": "python3"
  },
  "language_info": {
   "codemirror_mode": {
    "name": "ipython",
    "version": 3
   },
   "file_extension": ".py",
   "mimetype": "text/x-python",
   "name": "python",
   "nbconvert_exporter": "python",
   "pygments_lexer": "ipython3",
   "version": "3.7.4"
  }
 },
 "nbformat": 4,
 "nbformat_minor": 4
}
