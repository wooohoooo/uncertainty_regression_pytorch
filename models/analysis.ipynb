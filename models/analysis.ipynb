{
 "cells": [
  {
   "cell_type": "code",
   "execution_count": 1,
   "metadata": {},
   "outputs": [],
   "source": [
    "import numpy as np\n",
    "import torch\n",
    "\n",
    "seed = 42 #424\n",
    "np.random.seed(seed)\n",
    "torch.manual_seed(seed)\n",
    "#NOTE! This only works for non cudnn. gpu needs\n",
    "torch.backends.cudnn.deterministic = True\n",
    "torch.backends.cudnn.benchmark = False\n",
    "\n",
    "from helpers import showcase_code\n",
    "\n",
    "import matplotlib.pyplot as plt\n",
    "#%matplotlib inline\n",
    "import seaborn as sns\n",
    "import pickle\n",
    "\n",
    "from experimentation import ExperimentAnalyzer\n",
    "import os\n",
    "import time\n",
    "import pandas as pd"
   ]
  },
  {
   "cell_type": "code",
   "execution_count": 2,
   "metadata": {},
   "outputs": [],
   "source": [
    "# for working with external files, otherwise kernels needs to be restarted each time\n",
    "%load_ext autoreload\n",
    "%autoreload 2"
   ]
  },
  {
   "cell_type": "code",
   "execution_count": null,
   "metadata": {},
   "outputs": [],
   "source": []
  },
  {
   "cell_type": "markdown",
   "metadata": {},
   "source": [
    "import numpy as np\n",
    "import torch\n",
    "\n",
    "seed = 42 #424\n",
    "np.random.seed(seed)\n",
    "torch.manual_seed(seed)\n",
    "#NOTE! This only works for non cudnn. gpu needs\n",
    "torch.backends.cudnn.deterministic = True\n",
    "torch.backends.cudnn.benchmark = False\n",
    "\n",
    "from helpers import showcase_code\n",
    "\n",
    "import matplotlib.pyplot as plt\n",
    "#%matplotlib inline\n",
    "import seaborn as sns\n",
    "import pickle\n",
    "\n",
    "from experimentation import ExperimentAnalyzer\n",
    "import os\n",
    "import time\n",
    "import pandas as pd\n",
    "files = [x for x in os.listdir('pickles') if x.endswith('pkl')]\n",
    "\n",
    "\n",
    "for file in files:\n",
    "    with  open('pickles\\\\'+file, \"rb\") as f:\n",
    "        exp = pickle.load(f)\n",
    "\n",
    "\n",
    "\n",
    "    analyzer = ExperimentAnalyzer(exp)\n",
    "    df1 = analyzer.analysis()\n",
    "    print(f'{exp.model_name}')\n",
    "    print(df1.describe().to_latex())\n",
    "    analyzer.get_outlier_indices()\n",
    "    analyzer.plot_outcomes()\n",
    "    plt.figure()\n",
    "\n",
    "\n",
    "    \n",
    "    \n"
   ]
  },
  {
   "cell_type": "code",
   "execution_count": 3,
   "metadata": {},
   "outputs": [
    {
     "name": "stdout",
     "output_type": "stream",
     "text": [
      "['BobstrapEnsemble_toy_False_10.pkl', 'BootstrapEnsemble_toy_False_10.pkl', 'DropoutModel_toy_False_10.pkl', 'SaverModel_toy_False_10.pkl', 'VanillaEnsemble_toy_False_10.pkl']\n"
     ]
    }
   ],
   "source": [
    "non_linearity_name = 'Tanh'# 'old'#'LeakyReLU'#\"old\"#'ReLU'#'Tanh'\n",
    "toy = 'False' #'False'\n",
    "pre_set_data = 'False'\n",
    "\n",
    "file_path = f'pickles\\\\{pre_set_data}\\\\{non_linearity_name}\\\\'\n",
    "files = [x for x in os.listdir(file_path) if x.endswith('pkl') if toy in x]\n",
    "\n",
    "print(files)"
   ]
  },
  {
   "cell_type": "code",
   "execution_count": null,
   "metadata": {},
   "outputs": [],
   "source": []
  },
  {
   "cell_type": "code",
   "execution_count": null,
   "metadata": {},
   "outputs": [],
   "source": []
  },
  {
   "cell_type": "code",
   "execution_count": 4,
   "metadata": {},
   "outputs": [
    {
     "name": "stdout",
     "output_type": "stream",
     "text": [
      "Creation of the directory figures\\Tanh\\BobstrapEnsemble_toy_False_10\\ failed\n",
      "<class 'torch.nn.modules.activation.Tanh'>, False, BobstrapEnsemble\n",
      "\n",
      "\n",
      "\n",
      "\n",
      " /n/n/nBobstrapEnsemble\n"
     ]
    },
    {
     "name": "stderr",
     "output_type": "stream",
     "text": [
      "C:\\Users\\thoma\\Documents\\GitHub\\uncertainty_regression_pytorch\\models\\experimentation.py:244: MatplotlibDeprecationWarning: \n",
      "The frameon kwarg was deprecated in Matplotlib 3.1 and will be removed in 3.3. Use facecolor instead.\n",
      "  frameon=None, metadata=None)\n"
     ]
    },
    {
     "name": "stdout",
     "output_type": "stream",
     "text": [
      "10\n"
     ]
    },
    {
     "name": "stderr",
     "output_type": "stream",
     "text": [
      "C:\\Users\\thoma\\Miniconda3\\envs\\pytorch\\lib\\site-packages\\numpy\\core\\fromnumeric.py:3118: RuntimeWarning: Mean of empty slice.\n",
      "  out=out, **kwargs)\n",
      "C:\\Users\\thoma\\Miniconda3\\envs\\pytorch\\lib\\site-packages\\numpy\\core\\_methods.py:85: RuntimeWarning: invalid value encountered in double_scalars\n",
      "  ret = ret.dtype.type(ret / rcount)\n",
      "C:\\Users\\thoma\\Miniconda3\\envs\\pytorch\\lib\\site-packages\\numpy\\core\\_methods.py:140: RuntimeWarning: Degrees of freedom <= 0 for slice\n",
      "  keepdims=keepdims)\n",
      "C:\\Users\\thoma\\Miniconda3\\envs\\pytorch\\lib\\site-packages\\numpy\\core\\_methods.py:110: RuntimeWarning: invalid value encountered in true_divide\n",
      "  arrmean, rcount, out=arrmean, casting='unsafe', subok=False)\n",
      "C:\\Users\\thoma\\Miniconda3\\envs\\pytorch\\lib\\site-packages\\numpy\\core\\_methods.py:132: RuntimeWarning: invalid value encountered in double_scalars\n",
      "  ret = ret.dtype.type(ret / rcount)\n"
     ]
    },
    {
     "name": "stdout",
     "output_type": "stream",
     "text": [
      "'ExperimentAnalyzer' object has no attribute 'prior_errors'\n"
     ]
    },
    {
     "name": "stderr",
     "output_type": "stream",
     "text": [
      "C:\\Users\\thoma\\Documents\\GitHub\\uncertainty_regression_pytorch\\models\\experimentation.py:385: MatplotlibDeprecationWarning: \n",
      "The frameon kwarg was deprecated in Matplotlib 3.1 and will be removed in 3.3. Use facecolor instead.\n",
      "  frameon=None, metadata=None)\n",
      "C:\\Users\\thoma\\Documents\\GitHub\\uncertainty_regression_pytorch\\models\\experimentation.py:429: MatplotlibDeprecationWarning: \n",
      "The frameon kwarg was deprecated in Matplotlib 3.1 and will be removed in 3.3. Use facecolor instead.\n",
      "  frameon=None, metadata=None)\n"
     ]
    },
    {
     "name": "stdout",
     "output_type": "stream",
     "text": [
      "'ExperimentAnalyzer' object has no attribute 'prior_cobeau'\n"
     ]
    },
    {
     "name": "stderr",
     "output_type": "stream",
     "text": [
      "C:\\Users\\thoma\\Documents\\GitHub\\uncertainty_regression_pytorch\\models\\experimentation.py:463: MatplotlibDeprecationWarning: \n",
      "The frameon kwarg was deprecated in Matplotlib 3.1 and will be removed in 3.3. Use facecolor instead.\n",
      "  frameon=None, metadata=None)\n",
      "C:\\Users\\thoma\\Documents\\GitHub\\uncertainty_regression_pytorch\\models\\experimentation.py:476: MatplotlibDeprecationWarning: \n",
      "The frameon kwarg was deprecated in Matplotlib 3.1 and will be removed in 3.3. Use facecolor instead.\n",
      "  frameon=None, metadata=None)\n"
     ]
    },
    {
     "name": "stdout",
     "output_type": "stream",
     "text": [
      "Successfully created the directory figures\\Tanh\\BootstrapEnsemble_toy_False_10\\ \n",
      "<class 'torch.nn.modules.activation.Tanh'>, False, BootstrapEnsemble\n",
      "\n",
      "\n",
      "\n",
      "\n",
      " /n/n/nBootstrapEnsemble\n"
     ]
    },
    {
     "name": "stderr",
     "output_type": "stream",
     "text": [
      "C:\\Users\\thoma\\Documents\\GitHub\\uncertainty_regression_pytorch\\models\\experimentation.py:244: MatplotlibDeprecationWarning: \n",
      "The frameon kwarg was deprecated in Matplotlib 3.1 and will be removed in 3.3. Use facecolor instead.\n",
      "  frameon=None, metadata=None)\n"
     ]
    },
    {
     "name": "stdout",
     "output_type": "stream",
     "text": [
      "10\n"
     ]
    },
    {
     "name": "stderr",
     "output_type": "stream",
     "text": [
      "C:\\Users\\thoma\\Documents\\GitHub\\uncertainty_regression_pytorch\\models\\experimentation.py:385: MatplotlibDeprecationWarning: \n",
      "The frameon kwarg was deprecated in Matplotlib 3.1 and will be removed in 3.3. Use facecolor instead.\n",
      "  frameon=None, metadata=None)\n",
      "C:\\Users\\thoma\\Documents\\GitHub\\uncertainty_regression_pytorch\\models\\experimentation.py:429: MatplotlibDeprecationWarning: \n",
      "The frameon kwarg was deprecated in Matplotlib 3.1 and will be removed in 3.3. Use facecolor instead.\n",
      "  frameon=None, metadata=None)\n",
      "C:\\Users\\thoma\\Documents\\GitHub\\uncertainty_regression_pytorch\\models\\experimentation.py:463: MatplotlibDeprecationWarning: \n",
      "The frameon kwarg was deprecated in Matplotlib 3.1 and will be removed in 3.3. Use facecolor instead.\n",
      "  frameon=None, metadata=None)\n",
      "C:\\Users\\thoma\\Documents\\GitHub\\uncertainty_regression_pytorch\\models\\experimentation.py:476: MatplotlibDeprecationWarning: \n",
      "The frameon kwarg was deprecated in Matplotlib 3.1 and will be removed in 3.3. Use facecolor instead.\n",
      "  frameon=None, metadata=None)\n"
     ]
    },
    {
     "name": "stdout",
     "output_type": "stream",
     "text": [
      "Creation of the directory figures\\Tanh\\DropoutModel_toy_False_10\\ failed\n",
      "<class 'torch.nn.modules.activation.Tanh'>, False, DropoutModel\n",
      "\n",
      "\n",
      "\n",
      "\n",
      " /n/n/nDropoutModel\n"
     ]
    },
    {
     "name": "stderr",
     "output_type": "stream",
     "text": [
      "C:\\Users\\thoma\\Documents\\GitHub\\uncertainty_regression_pytorch\\models\\experimentation.py:244: MatplotlibDeprecationWarning: \n",
      "The frameon kwarg was deprecated in Matplotlib 3.1 and will be removed in 3.3. Use facecolor instead.\n",
      "  frameon=None, metadata=None)\n"
     ]
    },
    {
     "name": "stdout",
     "output_type": "stream",
     "text": [
      "10\n"
     ]
    },
    {
     "name": "stderr",
     "output_type": "stream",
     "text": [
      "100%|███████████████████████████████████████████████████████████████████████████████| 100/100 [00:00<00:00, 183.82it/s]\n",
      "100%|███████████████████████████████████████████████████████████████████████████████| 100/100 [00:00<00:00, 155.76it/s]\n",
      "100%|███████████████████████████████████████████████████████████████████████████████| 100/100 [00:00<00:00, 258.40it/s]\n",
      "100%|███████████████████████████████████████████████████████████████████████████████| 100/100 [00:00<00:00, 226.25it/s]\n",
      "100%|███████████████████████████████████████████████████████████████████████████████| 100/100 [00:00<00:00, 211.86it/s]\n",
      "100%|███████████████████████████████████████████████████████████████████████████████| 100/100 [00:00<00:00, 215.99it/s]\n",
      "C:\\Users\\thoma\\Documents\\GitHub\\uncertainty_regression_pytorch\\models\\experimentation.py:385: MatplotlibDeprecationWarning: \n",
      "The frameon kwarg was deprecated in Matplotlib 3.1 and will be removed in 3.3. Use facecolor instead.\n",
      "  frameon=None, metadata=None)\n",
      "C:\\Users\\thoma\\Documents\\GitHub\\uncertainty_regression_pytorch\\models\\experimentation.py:429: MatplotlibDeprecationWarning: \n",
      "The frameon kwarg was deprecated in Matplotlib 3.1 and will be removed in 3.3. Use facecolor instead.\n",
      "  frameon=None, metadata=None)\n",
      "C:\\Users\\thoma\\Documents\\GitHub\\uncertainty_regression_pytorch\\models\\experimentation.py:463: MatplotlibDeprecationWarning: \n",
      "The frameon kwarg was deprecated in Matplotlib 3.1 and will be removed in 3.3. Use facecolor instead.\n",
      "  frameon=None, metadata=None)\n",
      "C:\\Users\\thoma\\Documents\\GitHub\\uncertainty_regression_pytorch\\models\\experimentation.py:476: MatplotlibDeprecationWarning: \n",
      "The frameon kwarg was deprecated in Matplotlib 3.1 and will be removed in 3.3. Use facecolor instead.\n",
      "  frameon=None, metadata=None)\n"
     ]
    },
    {
     "name": "stdout",
     "output_type": "stream",
     "text": [
      "Creation of the directory figures\\Tanh\\SaverModel_toy_False_10\\ failed\n",
      "<class 'torch.nn.modules.activation.Tanh'>, False, SaverModel\n",
      "\n",
      "\n",
      "\n",
      "\n",
      " /n/n/nSaverModel\n"
     ]
    },
    {
     "name": "stderr",
     "output_type": "stream",
     "text": [
      "C:\\Users\\thoma\\Documents\\GitHub\\uncertainty_regression_pytorch\\models\\experimentation.py:244: MatplotlibDeprecationWarning: \n",
      "The frameon kwarg was deprecated in Matplotlib 3.1 and will be removed in 3.3. Use facecolor instead.\n",
      "  frameon=None, metadata=None)\n"
     ]
    },
    {
     "name": "stdout",
     "output_type": "stream",
     "text": [
      "10\n"
     ]
    },
    {
     "name": "stderr",
     "output_type": "stream",
     "text": [
      "C:\\Users\\thoma\\Miniconda3\\envs\\pytorch\\lib\\site-packages\\numpy\\core\\fromnumeric.py:3118: RuntimeWarning: Mean of empty slice.\n",
      "  out=out, **kwargs)\n",
      "C:\\Users\\thoma\\Miniconda3\\envs\\pytorch\\lib\\site-packages\\numpy\\core\\_methods.py:85: RuntimeWarning: invalid value encountered in double_scalars\n",
      "  ret = ret.dtype.type(ret / rcount)\n",
      "C:\\Users\\thoma\\Miniconda3\\envs\\pytorch\\lib\\site-packages\\numpy\\core\\_methods.py:140: RuntimeWarning: Degrees of freedom <= 0 for slice\n",
      "  keepdims=keepdims)\n",
      "C:\\Users\\thoma\\Miniconda3\\envs\\pytorch\\lib\\site-packages\\numpy\\core\\_methods.py:110: RuntimeWarning: invalid value encountered in true_divide\n",
      "  arrmean, rcount, out=arrmean, casting='unsafe', subok=False)\n",
      "C:\\Users\\thoma\\Miniconda3\\envs\\pytorch\\lib\\site-packages\\numpy\\core\\_methods.py:132: RuntimeWarning: invalid value encountered in double_scalars\n",
      "  ret = ret.dtype.type(ret / rcount)\n"
     ]
    },
    {
     "name": "stdout",
     "output_type": "stream",
     "text": [
      "'ExperimentAnalyzer' object has no attribute 'prior_errors'\n"
     ]
    },
    {
     "name": "stderr",
     "output_type": "stream",
     "text": [
      "C:\\Users\\thoma\\Documents\\GitHub\\uncertainty_regression_pytorch\\models\\experimentation.py:385: MatplotlibDeprecationWarning: \n",
      "The frameon kwarg was deprecated in Matplotlib 3.1 and will be removed in 3.3. Use facecolor instead.\n",
      "  frameon=None, metadata=None)\n",
      "C:\\Users\\thoma\\Documents\\GitHub\\uncertainty_regression_pytorch\\models\\experimentation.py:429: MatplotlibDeprecationWarning: \n",
      "The frameon kwarg was deprecated in Matplotlib 3.1 and will be removed in 3.3. Use facecolor instead.\n",
      "  frameon=None, metadata=None)\n"
     ]
    },
    {
     "name": "stdout",
     "output_type": "stream",
     "text": [
      "'ExperimentAnalyzer' object has no attribute 'prior_cobeau'\n"
     ]
    },
    {
     "name": "stderr",
     "output_type": "stream",
     "text": [
      "C:\\Users\\thoma\\Documents\\GitHub\\uncertainty_regression_pytorch\\models\\experimentation.py:463: MatplotlibDeprecationWarning: \n",
      "The frameon kwarg was deprecated in Matplotlib 3.1 and will be removed in 3.3. Use facecolor instead.\n",
      "  frameon=None, metadata=None)\n",
      "C:\\Users\\thoma\\Documents\\GitHub\\uncertainty_regression_pytorch\\models\\experimentation.py:476: MatplotlibDeprecationWarning: \n",
      "The frameon kwarg was deprecated in Matplotlib 3.1 and will be removed in 3.3. Use facecolor instead.\n",
      "  frameon=None, metadata=None)\n"
     ]
    },
    {
     "name": "stdout",
     "output_type": "stream",
     "text": [
      "Creation of the directory figures\\Tanh\\VanillaEnsemble_toy_False_10\\ failed\n",
      "<class 'torch.nn.modules.activation.Tanh'>, False, VanillaEnsemble\n",
      "\n",
      "\n",
      "\n",
      "\n",
      " /n/n/nVanillaEnsemble\n"
     ]
    },
    {
     "name": "stderr",
     "output_type": "stream",
     "text": [
      "C:\\Users\\thoma\\Documents\\GitHub\\uncertainty_regression_pytorch\\models\\experimentation.py:244: MatplotlibDeprecationWarning: \n",
      "The frameon kwarg was deprecated in Matplotlib 3.1 and will be removed in 3.3. Use facecolor instead.\n",
      "  frameon=None, metadata=None)\n"
     ]
    },
    {
     "name": "stdout",
     "output_type": "stream",
     "text": [
      "10\n"
     ]
    },
    {
     "name": "stderr",
     "output_type": "stream",
     "text": [
      "C:\\Users\\thoma\\Documents\\GitHub\\uncertainty_regression_pytorch\\models\\experimentation.py:385: MatplotlibDeprecationWarning: \n",
      "The frameon kwarg was deprecated in Matplotlib 3.1 and will be removed in 3.3. Use facecolor instead.\n",
      "  frameon=None, metadata=None)\n",
      "C:\\Users\\thoma\\Documents\\GitHub\\uncertainty_regression_pytorch\\models\\experimentation.py:429: MatplotlibDeprecationWarning: \n",
      "The frameon kwarg was deprecated in Matplotlib 3.1 and will be removed in 3.3. Use facecolor instead.\n",
      "  frameon=None, metadata=None)\n",
      "C:\\Users\\thoma\\Documents\\GitHub\\uncertainty_regression_pytorch\\models\\experimentation.py:463: MatplotlibDeprecationWarning: \n",
      "The frameon kwarg was deprecated in Matplotlib 3.1 and will be removed in 3.3. Use facecolor instead.\n",
      "  frameon=None, metadata=None)\n",
      "C:\\Users\\thoma\\Documents\\GitHub\\uncertainty_regression_pytorch\\models\\experimentation.py:476: MatplotlibDeprecationWarning: \n",
      "The frameon kwarg was deprecated in Matplotlib 3.1 and will be removed in 3.3. Use facecolor instead.\n",
      "  frameon=None, metadata=None)\n"
     ]
    },
    {
     "data": {
      "image/png": "[encoded data removed]",
      "text/plain": [
       "<Figure size 432x288 with 1 Axes>"
      ]
     },
     "metadata": {
      "needs_background": "light"
     },
     "output_type": "display_data"
    }
   ],
   "source": [
    "import numpy as np\n",
    "import torch\n",
    "\n",
    "seed = 42 #424\n",
    "np.random.seed(seed)\n",
    "torch.manual_seed(seed)\n",
    "#NOTE! This only works for non cudnn. gpu needs\n",
    "torch.backends.cudnn.deterministic = True\n",
    "torch.backends.cudnn.benchmark = False\n",
    "\n",
    "from helpers import showcase_code\n",
    "\n",
    "import matplotlib.pyplot as plt\n",
    "#%matplotlib inline\n",
    "import seaborn as sns\n",
    "import pickle\n",
    "\n",
    "from experimentation import ExperimentAnalyzer\n",
    "import os\n",
    "import time\n",
    "import pandas as pd\n",
    "import gc\n",
    "\n",
    "\n",
    "means_dict = {}\n",
    "stds_dict = {}\n",
    "count_dict = {}\n",
    "min_dict = {}\n",
    "max_dict = {}\n",
    "\n",
    "\n",
    "for file in files:\n",
    "    plt.close()\n",
    "    plt.clf()\n",
    "    with  open(file_path+file, \"rb\") as f:\n",
    "        exp = pickle.load(f)\n",
    "\n",
    "\n",
    "\n",
    "    analyzer = ExperimentAnalyzer(exp)\n",
    "    exp = None\n",
    "    gc.collect()\n",
    "    df1 = analyzer.analysis()\n",
    "    print(f'\\n\\n\\n\\n /n/n/n{analyzer.experiment.model_name}')\n",
    "    #print(df1.describe().to_latex())\n",
    "    analyzer.get_outlier_indices()\n",
    "    analyzer.plot_outcomes()\n",
    "    plt.figure()\n",
    "    df2 = analyzer.analysis()\n",
    "    df2 = df2.replace([np.inf, -np.inf], np.nan)\n",
    "    df2 = df2.dropna(1)\n",
    "    print(len(df2))\n",
    "\n",
    "\n",
    "    #print(df2.describe().to_latex())\n",
    "    means_dict[analyzer.model_name] = df2.describe().loc['mean']\n",
    "    \n",
    "    try:\n",
    "        means_dict[analyzer.model_name+' prior'] = {'nlpd': np.mean(analyzer.stats_dict['analysis']['prior_nlpd']),\n",
    "                                                    'errors': np.mean(analyzer.stats_dict['analysis']['prior_test_errors']),\n",
    "                                                    'cobeau': np.mean(analyzer.stats_dict['analysis']['prior_cobeau']),\n",
    "                                                    'cobeau_p_vals': np.mean(analyzer.stats_dict['analysis']['prior_cobeau_p'])\n",
    "                                                   }\n",
    "    except Exception as e:\n",
    "        print(analyzer.model_name)\n",
    "        print(e)\n",
    "    \n",
    "    \n",
    "    \n",
    "    \n",
    "    \n",
    "    \n",
    "    stds_dict[analyzer.model_name] = df2.describe().loc['std']\n",
    "    \n",
    "    try:\n",
    "        stds_dict[analyzer.model_name+' prior'] = {'nlpd': np.std(analyzer.stats_dict['analysis']['prior_nlpd']),\n",
    "                                                    'errors': np.std(analyzer.stats_dict['analysis']['prior_test_errors']),\n",
    "                                                    'cobeau': np.std(analyzer.stats_dict['analysis']['prior_cobeau']),\n",
    "                                                    'cobeau_p_vals': np.std(analyzer.stats_dict['analysis']['prior_cobeau_p'])\n",
    "                                                   }\n",
    "    except Exception as e:\n",
    "        print(analyzer.model_name)\n",
    "        print(e)\n",
    "    \n",
    "    \n",
    "    \n",
    "    \n",
    "    count_dict[analyzer.model_name] = df2.describe().loc['count']\n",
    "    min_dict[analyzer.model_name] = df2.describe().loc['min']\n",
    "    max_dict[analyzer.model_name] = df2.describe().loc['max']\n",
    "    \n",
    "    \n",
    "    \n",
    "    \n",
    "\n",
    "    analyzer.plot_models()\n",
    "\n",
    "    analyzer.plot_models('cobeau')\n",
    "\n",
    "    analyzer.plot_models('nlpd')\n",
    "    analyzer.plot_distribution_of_metrics()\n",
    "\n",
    "    gc.collect()\n",
    "\n",
    "\n",
    "#     try:\n",
    "#         analyzer.plot_outlier_models()\n",
    "\n",
    "\n",
    "\n",
    "#     except Exception as e:\n",
    "#         print(e)\n",
    "\n",
    "\n",
    "    \n",
    "    \n"
   ]
  },
  {
   "cell_type": "code",
   "execution_count": 5,
   "metadata": {},
   "outputs": [
    {
     "name": "stdout",
     "output_type": "stream",
     "text": [
      "       nlpd    errors    cobeau  cobeau_p_vals\n",
      "0 -2.137328  0.200634  0.313304   1.914733e-06\n",
      "1 -1.714414  0.225647  0.379655   5.062067e-09\n",
      "2 -2.260373  0.192279  0.229395   5.717711e-04\n",
      "3 -1.771807  0.227506  0.320453   1.077600e-06\n",
      "4 -1.949033  0.229337  0.521269   7.257585e-17\n",
      "5 -1.905716  0.221441  0.495886   3.516088e-15\n",
      "6 -2.358298  0.200658  0.517807   1.255959e-16\n",
      "7 -2.372778  0.195693  0.207472   1.885554e-03\n",
      "8 -1.985280  0.226193  0.350329   8.268047e-08\n",
      "9 -1.525862  0.226807  0.298658   5.938430e-06\n"
     ]
    }
   ],
   "source": [
    "print(df2)"
   ]
  },
  {
   "cell_type": "code",
   "execution_count": 6,
   "metadata": {},
   "outputs": [
    {
     "data": {
      "text/html": [
       "<div>\n",
       "<style scoped>\n",
       "    .dataframe tbody tr th:only-of-type {\n",
       "        vertical-align: middle;\n",
       "    }\n",
       "\n",
       "    .dataframe tbody tr th {\n",
       "        vertical-align: top;\n",
       "    }\n",
       "\n",
       "    .dataframe thead th {\n",
       "        text-align: right;\n",
       "    }\n",
       "</style>\n",
       "<table border=\"1\" class=\"dataframe\">\n",
       "  <thead>\n",
       "    <tr style=\"text-align: right;\">\n",
       "      <th></th>\n",
       "      <th>nlpd</th>\n",
       "      <th>errors</th>\n",
       "      <th>cobeau</th>\n",
       "      <th>cobeau_p_vals</th>\n",
       "    </tr>\n",
       "  </thead>\n",
       "  <tbody>\n",
       "    <tr>\n",
       "      <td>0</td>\n",
       "      <td>-2.137328</td>\n",
       "      <td>0.200634</td>\n",
       "      <td>0.313304</td>\n",
       "      <td>1.914733e-06</td>\n",
       "    </tr>\n",
       "    <tr>\n",
       "      <td>1</td>\n",
       "      <td>-1.714414</td>\n",
       "      <td>0.225647</td>\n",
       "      <td>0.379655</td>\n",
       "      <td>5.062067e-09</td>\n",
       "    </tr>\n",
       "    <tr>\n",
       "      <td>2</td>\n",
       "      <td>-2.260373</td>\n",
       "      <td>0.192279</td>\n",
       "      <td>0.229395</td>\n",
       "      <td>5.717711e-04</td>\n",
       "    </tr>\n",
       "    <tr>\n",
       "      <td>3</td>\n",
       "      <td>-1.771807</td>\n",
       "      <td>0.227506</td>\n",
       "      <td>0.320453</td>\n",
       "      <td>1.077600e-06</td>\n",
       "    </tr>\n",
       "    <tr>\n",
       "      <td>4</td>\n",
       "      <td>-1.949033</td>\n",
       "      <td>0.229337</td>\n",
       "      <td>0.521269</td>\n",
       "      <td>7.257585e-17</td>\n",
       "    </tr>\n",
       "    <tr>\n",
       "      <td>5</td>\n",
       "      <td>-1.905716</td>\n",
       "      <td>0.221441</td>\n",
       "      <td>0.495886</td>\n",
       "      <td>3.516088e-15</td>\n",
       "    </tr>\n",
       "    <tr>\n",
       "      <td>6</td>\n",
       "      <td>-2.358298</td>\n",
       "      <td>0.200658</td>\n",
       "      <td>0.517807</td>\n",
       "      <td>1.255959e-16</td>\n",
       "    </tr>\n",
       "    <tr>\n",
       "      <td>7</td>\n",
       "      <td>-2.372778</td>\n",
       "      <td>0.195693</td>\n",
       "      <td>0.207472</td>\n",
       "      <td>1.885554e-03</td>\n",
       "    </tr>\n",
       "    <tr>\n",
       "      <td>8</td>\n",
       "      <td>-1.985280</td>\n",
       "      <td>0.226193</td>\n",
       "      <td>0.350329</td>\n",
       "      <td>8.268047e-08</td>\n",
       "    </tr>\n",
       "    <tr>\n",
       "      <td>9</td>\n",
       "      <td>-1.525862</td>\n",
       "      <td>0.226807</td>\n",
       "      <td>0.298658</td>\n",
       "      <td>5.938430e-06</td>\n",
       "    </tr>\n",
       "  </tbody>\n",
       "</table>\n",
       "</div>"
      ],
      "text/plain": [
       "       nlpd    errors    cobeau  cobeau_p_vals\n",
       "0 -2.137328  0.200634  0.313304   1.914733e-06\n",
       "1 -1.714414  0.225647  0.379655   5.062067e-09\n",
       "2 -2.260373  0.192279  0.229395   5.717711e-04\n",
       "3 -1.771807  0.227506  0.320453   1.077600e-06\n",
       "4 -1.949033  0.229337  0.521269   7.257585e-17\n",
       "5 -1.905716  0.221441  0.495886   3.516088e-15\n",
       "6 -2.358298  0.200658  0.517807   1.255959e-16\n",
       "7 -2.372778  0.195693  0.207472   1.885554e-03\n",
       "8 -1.985280  0.226193  0.350329   8.268047e-08\n",
       "9 -1.525862  0.226807  0.298658   5.938430e-06"
      ]
     },
     "execution_count": 6,
     "metadata": {},
     "output_type": "execute_result"
    }
   ],
   "source": [
    "df2.dropna(0)"
   ]
  },
  {
   "cell_type": "code",
   "execution_count": 7,
   "metadata": {},
   "outputs": [],
   "source": [
    "pd_means = pd.DataFrame.from_dict(means_dict)\n",
    "pd_stds = pd.DataFrame.from_dict(stds_dict)\n",
    "pd_means = pd.DataFrame.from_dict(means_dict)"
   ]
  },
  {
   "cell_type": "code",
   "execution_count": null,
   "metadata": {},
   "outputs": [],
   "source": []
  },
  {
   "cell_type": "code",
   "execution_count": null,
   "metadata": {},
   "outputs": [],
   "source": []
  },
  {
   "cell_type": "code",
   "execution_count": 8,
   "metadata": {},
   "outputs": [],
   "source": [
    "# pd_means['prior'] = [np.mean(analyzer.stats_dict['analysis']['prior_nlpd']),\n",
    "#                      np.mean(analyzer.stats_dict['analysis']['prior_test_errors']),\n",
    "#                      np.mean(analyzer.stats_dict['analysis']['prior_cobeau']),\n",
    "#                      np.mean(analyzer.stats_dict['analysis']['prior_cobeau_p'])]"
   ]
  },
  {
   "cell_type": "code",
   "execution_count": 9,
   "metadata": {},
   "outputs": [],
   "source": [
    "\n",
    "pd_means = pd_means.dropna(1)\n",
    "pd_means['train set mean/std'] = [analyzer.stupid_function_nlpd,analyzer.stupid_function_error, None, None][::-1]\n",
    "if toy == 'True':\n",
    "    pd_means['generating function'] = [analyzer.original_function_nlpd,analyzer.original_function_error , None, None][::-1]\n",
    "pd_means = pd_means.round(2)"
   ]
  },
  {
   "cell_type": "code",
   "execution_count": 10,
   "metadata": {},
   "outputs": [
    {
     "data": {
      "text/html": [
       "<div>\n",
       "<style scoped>\n",
       "    .dataframe tbody tr th:only-of-type {\n",
       "        vertical-align: middle;\n",
       "    }\n",
       "\n",
       "    .dataframe tbody tr th {\n",
       "        vertical-align: top;\n",
       "    }\n",
       "\n",
       "    .dataframe thead th {\n",
       "        text-align: right;\n",
       "    }\n",
       "</style>\n",
       "<table border=\"1\" class=\"dataframe\">\n",
       "  <thead>\n",
       "    <tr style=\"text-align: right;\">\n",
       "      <th></th>\n",
       "      <th>BobstrapEnsemble</th>\n",
       "      <th>BootstrapEnsemble</th>\n",
       "      <th>BootstrapEnsemble prior</th>\n",
       "      <th>DropoutModel</th>\n",
       "      <th>DropoutModel prior</th>\n",
       "      <th>SaverModel</th>\n",
       "      <th>VanillaEnsemble</th>\n",
       "      <th>VanillaEnsemble prior</th>\n",
       "      <th>train set mean/std</th>\n",
       "    </tr>\n",
       "  </thead>\n",
       "  <tbody>\n",
       "    <tr>\n",
       "      <td>cobeau</td>\n",
       "      <td>0.42</td>\n",
       "      <td>0.33</td>\n",
       "      <td>-0.02</td>\n",
       "      <td>0.02</td>\n",
       "      <td>-0.02</td>\n",
       "      <td>0.40</td>\n",
       "      <td>0.36</td>\n",
       "      <td>-0.04</td>\n",
       "      <td>NaN</td>\n",
       "    </tr>\n",
       "    <tr>\n",
       "      <td>cobeau_p_vals</td>\n",
       "      <td>0.00</td>\n",
       "      <td>0.00</td>\n",
       "      <td>0.31</td>\n",
       "      <td>0.51</td>\n",
       "      <td>0.37</td>\n",
       "      <td>0.00</td>\n",
       "      <td>0.00</td>\n",
       "      <td>0.52</td>\n",
       "      <td>NaN</td>\n",
       "    </tr>\n",
       "    <tr>\n",
       "      <td>errors</td>\n",
       "      <td>0.22</td>\n",
       "      <td>0.22</td>\n",
       "      <td>0.83</td>\n",
       "      <td>0.22</td>\n",
       "      <td>0.83</td>\n",
       "      <td>0.21</td>\n",
       "      <td>0.21</td>\n",
       "      <td>0.82</td>\n",
       "      <td>0.82</td>\n",
       "    </tr>\n",
       "    <tr>\n",
       "      <td>nlpd</td>\n",
       "      <td>-1.73</td>\n",
       "      <td>-2.01</td>\n",
       "      <td>4.10</td>\n",
       "      <td>-1.73</td>\n",
       "      <td>52.87</td>\n",
       "      <td>-1.79</td>\n",
       "      <td>-2.00</td>\n",
       "      <td>1.72</td>\n",
       "      <td>0.55</td>\n",
       "    </tr>\n",
       "  </tbody>\n",
       "</table>\n",
       "</div>"
      ],
      "text/plain": [
       "               BobstrapEnsemble  BootstrapEnsemble  BootstrapEnsemble prior  \\\n",
       "cobeau                     0.42               0.33                    -0.02   \n",
       "cobeau_p_vals              0.00               0.00                     0.31   \n",
       "errors                     0.22               0.22                     0.83   \n",
       "nlpd                      -1.73              -2.01                     4.10   \n",
       "\n",
       "               DropoutModel  DropoutModel prior  SaverModel  VanillaEnsemble  \\\n",
       "cobeau                 0.02               -0.02        0.40             0.36   \n",
       "cobeau_p_vals          0.51                0.37        0.00             0.00   \n",
       "errors                 0.22                0.83        0.21             0.21   \n",
       "nlpd                  -1.73               52.87       -1.79            -2.00   \n",
       "\n",
       "               VanillaEnsemble prior  train set mean/std  \n",
       "cobeau                         -0.04                 NaN  \n",
       "cobeau_p_vals                   0.52                 NaN  \n",
       "errors                          0.82                0.82  \n",
       "nlpd                            1.72                0.55  "
      ]
     },
     "execution_count": 10,
     "metadata": {},
     "output_type": "execute_result"
    }
   ],
   "source": [
    "pd_means.head()"
   ]
  },
  {
   "cell_type": "code",
   "execution_count": 11,
   "metadata": {},
   "outputs": [
    {
     "data": {
      "text/html": [
       "<div>\n",
       "<style scoped>\n",
       "    .dataframe tbody tr th:only-of-type {\n",
       "        vertical-align: middle;\n",
       "    }\n",
       "\n",
       "    .dataframe tbody tr th {\n",
       "        vertical-align: top;\n",
       "    }\n",
       "\n",
       "    .dataframe thead th {\n",
       "        text-align: right;\n",
       "    }\n",
       "</style>\n",
       "<table border=\"1\" class=\"dataframe\">\n",
       "  <thead>\n",
       "    <tr style=\"text-align: right;\">\n",
       "      <th></th>\n",
       "      <th>cobeau</th>\n",
       "      <th>cobeau_p_vals</th>\n",
       "      <th>errors</th>\n",
       "      <th>nlpd</th>\n",
       "    </tr>\n",
       "  </thead>\n",
       "  <tbody>\n",
       "    <tr>\n",
       "      <td>BobstrapEnsemble</td>\n",
       "      <td>0.42</td>\n",
       "      <td>0.00</td>\n",
       "      <td>0.22</td>\n",
       "      <td>-1.73</td>\n",
       "    </tr>\n",
       "    <tr>\n",
       "      <td>BootstrapEnsemble</td>\n",
       "      <td>0.33</td>\n",
       "      <td>0.00</td>\n",
       "      <td>0.22</td>\n",
       "      <td>-2.01</td>\n",
       "    </tr>\n",
       "    <tr>\n",
       "      <td>BootstrapEnsemble prior</td>\n",
       "      <td>-0.02</td>\n",
       "      <td>0.31</td>\n",
       "      <td>0.83</td>\n",
       "      <td>4.10</td>\n",
       "    </tr>\n",
       "    <tr>\n",
       "      <td>DropoutModel</td>\n",
       "      <td>0.02</td>\n",
       "      <td>0.51</td>\n",
       "      <td>0.22</td>\n",
       "      <td>-1.73</td>\n",
       "    </tr>\n",
       "    <tr>\n",
       "      <td>DropoutModel prior</td>\n",
       "      <td>-0.02</td>\n",
       "      <td>0.37</td>\n",
       "      <td>0.83</td>\n",
       "      <td>52.87</td>\n",
       "    </tr>\n",
       "    <tr>\n",
       "      <td>SaverModel</td>\n",
       "      <td>0.40</td>\n",
       "      <td>0.00</td>\n",
       "      <td>0.21</td>\n",
       "      <td>-1.79</td>\n",
       "    </tr>\n",
       "    <tr>\n",
       "      <td>VanillaEnsemble</td>\n",
       "      <td>0.36</td>\n",
       "      <td>0.00</td>\n",
       "      <td>0.21</td>\n",
       "      <td>-2.00</td>\n",
       "    </tr>\n",
       "    <tr>\n",
       "      <td>VanillaEnsemble prior</td>\n",
       "      <td>-0.04</td>\n",
       "      <td>0.52</td>\n",
       "      <td>0.82</td>\n",
       "      <td>1.72</td>\n",
       "    </tr>\n",
       "    <tr>\n",
       "      <td>train set mean/std</td>\n",
       "      <td>NaN</td>\n",
       "      <td>NaN</td>\n",
       "      <td>0.82</td>\n",
       "      <td>0.55</td>\n",
       "    </tr>\n",
       "  </tbody>\n",
       "</table>\n",
       "</div>"
      ],
      "text/plain": [
       "                         cobeau  cobeau_p_vals  errors   nlpd\n",
       "BobstrapEnsemble           0.42           0.00    0.22  -1.73\n",
       "BootstrapEnsemble          0.33           0.00    0.22  -2.01\n",
       "BootstrapEnsemble prior   -0.02           0.31    0.83   4.10\n",
       "DropoutModel               0.02           0.51    0.22  -1.73\n",
       "DropoutModel prior        -0.02           0.37    0.83  52.87\n",
       "SaverModel                 0.40           0.00    0.21  -1.79\n",
       "VanillaEnsemble            0.36           0.00    0.21  -2.00\n",
       "VanillaEnsemble prior     -0.04           0.52    0.82   1.72\n",
       "train set mean/std          NaN            NaN    0.82   0.55"
      ]
     },
     "execution_count": 11,
     "metadata": {},
     "output_type": "execute_result"
    }
   ],
   "source": [
    "pd_means.T"
   ]
  },
  {
   "cell_type": "code",
   "execution_count": null,
   "metadata": {},
   "outputs": [],
   "source": []
  },
  {
   "cell_type": "code",
   "execution_count": 12,
   "metadata": {},
   "outputs": [
    {
     "data": {
      "text/html": [
       "<div>\n",
       "<style scoped>\n",
       "    .dataframe tbody tr th:only-of-type {\n",
       "        vertical-align: middle;\n",
       "    }\n",
       "\n",
       "    .dataframe tbody tr th {\n",
       "        vertical-align: top;\n",
       "    }\n",
       "\n",
       "    .dataframe thead th {\n",
       "        text-align: right;\n",
       "    }\n",
       "</style>\n",
       "<table border=\"1\" class=\"dataframe\">\n",
       "  <thead>\n",
       "    <tr style=\"text-align: right;\">\n",
       "      <th></th>\n",
       "      <th>cobeau</th>\n",
       "      <th>cobeau_p_vals</th>\n",
       "      <th>errors</th>\n",
       "      <th>nlpd</th>\n",
       "    </tr>\n",
       "  </thead>\n",
       "  <tbody>\n",
       "    <tr>\n",
       "      <td>BobstrapEnsemble</td>\n",
       "      <td>0.08</td>\n",
       "      <td>0.00</td>\n",
       "      <td>0.01</td>\n",
       "      <td>0.11</td>\n",
       "    </tr>\n",
       "    <tr>\n",
       "      <td>BootstrapEnsemble</td>\n",
       "      <td>0.14</td>\n",
       "      <td>0.00</td>\n",
       "      <td>0.02</td>\n",
       "      <td>0.22</td>\n",
       "    </tr>\n",
       "    <tr>\n",
       "      <td>BootstrapEnsemble prior</td>\n",
       "      <td>0.08</td>\n",
       "      <td>0.22</td>\n",
       "      <td>0.01</td>\n",
       "      <td>2.81</td>\n",
       "    </tr>\n",
       "    <tr>\n",
       "      <td>DropoutModel</td>\n",
       "      <td>0.07</td>\n",
       "      <td>0.33</td>\n",
       "      <td>0.01</td>\n",
       "      <td>0.10</td>\n",
       "    </tr>\n",
       "    <tr>\n",
       "      <td>DropoutModel prior</td>\n",
       "      <td>0.09</td>\n",
       "      <td>0.28</td>\n",
       "      <td>0.01</td>\n",
       "      <td>12.42</td>\n",
       "    </tr>\n",
       "    <tr>\n",
       "      <td>SaverModel</td>\n",
       "      <td>0.07</td>\n",
       "      <td>0.00</td>\n",
       "      <td>0.02</td>\n",
       "      <td>0.17</td>\n",
       "    </tr>\n",
       "    <tr>\n",
       "      <td>VanillaEnsemble</td>\n",
       "      <td>0.11</td>\n",
       "      <td>0.00</td>\n",
       "      <td>0.02</td>\n",
       "      <td>0.28</td>\n",
       "    </tr>\n",
       "    <tr>\n",
       "      <td>VanillaEnsemble prior</td>\n",
       "      <td>0.05</td>\n",
       "      <td>0.25</td>\n",
       "      <td>0.01</td>\n",
       "      <td>0.30</td>\n",
       "    </tr>\n",
       "  </tbody>\n",
       "</table>\n",
       "</div>"
      ],
      "text/plain": [
       "                         cobeau  cobeau_p_vals  errors   nlpd\n",
       "BobstrapEnsemble           0.08           0.00    0.01   0.11\n",
       "BootstrapEnsemble          0.14           0.00    0.02   0.22\n",
       "BootstrapEnsemble prior    0.08           0.22    0.01   2.81\n",
       "DropoutModel               0.07           0.33    0.01   0.10\n",
       "DropoutModel prior         0.09           0.28    0.01  12.42\n",
       "SaverModel                 0.07           0.00    0.02   0.17\n",
       "VanillaEnsemble            0.11           0.00    0.02   0.28\n",
       "VanillaEnsemble prior      0.05           0.25    0.01   0.30"
      ]
     },
     "execution_count": 12,
     "metadata": {},
     "output_type": "execute_result"
    }
   ],
   "source": [
    "pd_stds = pd_stds.dropna(1).round(2)\n",
    "pd_stds.round(3).T"
   ]
  },
  {
   "cell_type": "code",
   "execution_count": 13,
   "metadata": {},
   "outputs": [],
   "source": [
    "import collections"
   ]
  },
  {
   "cell_type": "code",
   "execution_count": 14,
   "metadata": {},
   "outputs": [],
   "source": [
    "stats_dict = collections.defaultdict(dict)\n",
    "for row in pd_means.index:\n",
    "    \n",
    "    for col in pd_means.columns:\n",
    "\n",
    "        \n",
    "        \n",
    "        \n",
    "        \n",
    "        \n",
    "        try:\n",
    "            stats_dict[row][col] = str(pd_means.loc[row][col]) + ' \\\\footnotesize$\\pm$' + str(pd_stds.loc[row][col]) + '\\normalsize'\n",
    "        except:\n",
    "            stats_dict[row][col] = pd_means.loc[row][col]"
   ]
  },
  {
   "cell_type": "code",
   "execution_count": 15,
   "metadata": {},
   "outputs": [
    {
     "data": {
      "text/plain": [
       "['BobstrapEnsemble',\n",
       " 'BootstrapEnsemble',\n",
       " 'BootstrapEnsemble prior',\n",
       " 'DropoutModel',\n",
       " 'DropoutModel prior',\n",
       " 'SaverModel',\n",
       " 'VanillaEnsemble',\n",
       " 'VanillaEnsemble prior',\n",
       " 'train set mean/std']"
      ]
     },
     "execution_count": 15,
     "metadata": {},
     "output_type": "execute_result"
    }
   ],
   "source": [
    "list(pd.DataFrame.from_dict(stats_dict).index)"
   ]
  },
  {
   "cell_type": "code",
   "execution_count": null,
   "metadata": {},
   "outputs": [],
   "source": []
  },
  {
   "cell_type": "code",
   "execution_count": 16,
   "metadata": {},
   "outputs": [],
   "source": [
    "model_names_list = ['VanillaEnsemble', 'ShuffleEnsemble', 'BootstrapEnsemble', 'SaverModel', 'BobstrapEnsemble', 'DropoutModel']\n",
    "model_names_list_bf = ['\\textbf{{{}}}'.format(x) for x in model_names_list]\n",
    "\n",
    "prior_names_list = [                                             'VanillaEnsemble prior',\n",
    "                                           'ShuffleEnsemble prior',\n",
    "                                             'BootstrapEnsemble prior',\n",
    "                                             'DropoutModel prior',]\n",
    "benchmark_names_list = [                                             'train set mean/std',\n",
    "]\n",
    "if toy == 'True':\n",
    "    benchmark_names_list += [ 'generating function']\n",
    "\n",
    "pd_stats = pd.DataFrame.from_dict(stats_dict).reindex(model_names_list+prior_names_list+benchmark_names_list)\n"
   ]
  },
  {
   "cell_type": "code",
   "execution_count": 17,
   "metadata": {},
   "outputs": [
    {
     "data": {
      "text/plain": [
       "['\\textbf{VanillaEnsemble}',\n",
       " '\\textbf{ShuffleEnsemble}',\n",
       " '\\textbf{BootstrapEnsemble}',\n",
       " '\\textbf{SaverModel}',\n",
       " '\\textbf{BobstrapEnsemble}',\n",
       " '\\textbf{DropoutModel}']"
      ]
     },
     "execution_count": 17,
     "metadata": {},
     "output_type": "execute_result"
    }
   ],
   "source": [
    "model_names_list_bf"
   ]
  },
  {
   "cell_type": "code",
   "execution_count": 18,
   "metadata": {},
   "outputs": [
    {
     "data": {
      "text/plain": [
       "['\\textbf{VanillaEnsemble}',\n",
       " '\\textbf{ShuffleEnsemble}',\n",
       " '\\textbf{BootstrapEnsemble}',\n",
       " '\\textbf{SaverModel}',\n",
       " '\\textbf{BobstrapEnsemble}',\n",
       " '\\textbf{DropoutModel}',\n",
       " 'VanillaEnsemble prior',\n",
       " 'ShuffleEnsemble prior',\n",
       " 'BootstrapEnsemble prior',\n",
       " 'DropoutModel prior',\n",
       " 'train set mean/std']"
      ]
     },
     "execution_count": 18,
     "metadata": {},
     "output_type": "execute_result"
    }
   ],
   "source": [
    "model_names_list_bf+prior_names_list+benchmark_names_list"
   ]
  },
  {
   "cell_type": "code",
   "execution_count": 19,
   "metadata": {},
   "outputs": [],
   "source": [
    "rename_dict = {prev:after for prev,after in zip(model_names_list+prior_names_list+benchmark_names_list, model_names_list_bf+prior_names_list+benchmark_names_list)}"
   ]
  },
  {
   "cell_type": "code",
   "execution_count": 20,
   "metadata": {},
   "outputs": [
    {
     "data": {
      "text/plain": [
       "{'VanillaEnsemble': '\\textbf{VanillaEnsemble}',\n",
       " 'ShuffleEnsemble': '\\textbf{ShuffleEnsemble}',\n",
       " 'BootstrapEnsemble': '\\textbf{BootstrapEnsemble}',\n",
       " 'SaverModel': '\\textbf{SaverModel}',\n",
       " 'BobstrapEnsemble': '\\textbf{BobstrapEnsemble}',\n",
       " 'DropoutModel': '\\textbf{DropoutModel}',\n",
       " 'VanillaEnsemble prior': 'VanillaEnsemble prior',\n",
       " 'ShuffleEnsemble prior': 'ShuffleEnsemble prior',\n",
       " 'BootstrapEnsemble prior': 'BootstrapEnsemble prior',\n",
       " 'DropoutModel prior': 'DropoutModel prior',\n",
       " 'train set mean/std': 'train set mean/std'}"
      ]
     },
     "execution_count": 20,
     "metadata": {},
     "output_type": "execute_result"
    }
   ],
   "source": [
    "rename_dict"
   ]
  },
  {
   "cell_type": "code",
   "execution_count": 21,
   "metadata": {},
   "outputs": [],
   "source": [
    "pd_stats.rename(rename_dict, axis='index',inplace=True)"
   ]
  },
  {
   "cell_type": "code",
   "execution_count": null,
   "metadata": {},
   "outputs": [],
   "source": []
  },
  {
   "cell_type": "code",
   "execution_count": 22,
   "metadata": {},
   "outputs": [],
   "source": [
    "col_rename_dict = {x:f'\\textbf{{{x}}}' for x in pd_stats.columns}\n",
    "col_rename_dict['cobeau_p_vals'] = '\\textbf{cobeau p-vals}'"
   ]
  },
  {
   "cell_type": "code",
   "execution_count": 23,
   "metadata": {},
   "outputs": [],
   "source": [
    "pd_stats.rename(col_rename_dict,axis = 'columns',inplace=True)"
   ]
  },
  {
   "cell_type": "code",
   "execution_count": 24,
   "metadata": {},
   "outputs": [
    {
     "data": {
      "text/html": [
       "<div>\n",
       "<style scoped>\n",
       "    .dataframe tbody tr th:only-of-type {\n",
       "        vertical-align: middle;\n",
       "    }\n",
       "\n",
       "    .dataframe tbody tr th {\n",
       "        vertical-align: top;\n",
       "    }\n",
       "\n",
       "    .dataframe thead th {\n",
       "        text-align: right;\n",
       "    }\n",
       "</style>\n",
       "<table border=\"1\" class=\"dataframe\">\n",
       "  <thead>\n",
       "    <tr style=\"text-align: right;\">\n",
       "      <th></th>\n",
       "      <th>\\textbf{cobeau}</th>\n",
       "      <th>\\textbf{cobeau p-vals}</th>\n",
       "      <th>\\textbf{errors}</th>\n",
       "      <th>\\textbf{nlpd}</th>\n",
       "    </tr>\n",
       "  </thead>\n",
       "  <tbody>\n",
       "    <tr>\n",
       "      <td>\\textbf{VanillaEnsemble}</td>\n",
       "      <td>0.36 \\footnotesize$\\pm$0.11\\normalsize</td>\n",
       "      <td>0.0 \\footnotesize$\\pm$0.0\\normalsize</td>\n",
       "      <td>0.21 \\footnotesize$\\pm$0.02\\normalsize</td>\n",
       "      <td>-2.0 \\footnotesize$\\pm$0.28\\normalsize</td>\n",
       "    </tr>\n",
       "    <tr>\n",
       "      <td>\\textbf{ShuffleEnsemble}</td>\n",
       "      <td>NaN</td>\n",
       "      <td>NaN</td>\n",
       "      <td>NaN</td>\n",
       "      <td>NaN</td>\n",
       "    </tr>\n",
       "    <tr>\n",
       "      <td>\\textbf{BootstrapEnsemble}</td>\n",
       "      <td>0.33 \\footnotesize$\\pm$0.14\\normalsize</td>\n",
       "      <td>0.0 \\footnotesize$\\pm$0.0\\normalsize</td>\n",
       "      <td>0.22 \\footnotesize$\\pm$0.02\\normalsize</td>\n",
       "      <td>-2.01 \\footnotesize$\\pm$0.22\\normalsize</td>\n",
       "    </tr>\n",
       "    <tr>\n",
       "      <td>\\textbf{SaverModel}</td>\n",
       "      <td>0.4 \\footnotesize$\\pm$0.07\\normalsize</td>\n",
       "      <td>0.0 \\footnotesize$\\pm$0.0\\normalsize</td>\n",
       "      <td>0.21 \\footnotesize$\\pm$0.02\\normalsize</td>\n",
       "      <td>-1.79 \\footnotesize$\\pm$0.17\\normalsize</td>\n",
       "    </tr>\n",
       "    <tr>\n",
       "      <td>\\textbf{BobstrapEnsemble}</td>\n",
       "      <td>0.42 \\footnotesize$\\pm$0.08\\normalsize</td>\n",
       "      <td>0.0 \\footnotesize$\\pm$0.0\\normalsize</td>\n",
       "      <td>0.22 \\footnotesize$\\pm$0.01\\normalsize</td>\n",
       "      <td>-1.73 \\footnotesize$\\pm$0.11\\normalsize</td>\n",
       "    </tr>\n",
       "    <tr>\n",
       "      <td>\\textbf{DropoutModel}</td>\n",
       "      <td>0.02 \\footnotesize$\\pm$0.07\\normalsize</td>\n",
       "      <td>0.51 \\footnotesize$\\pm$0.33\\normalsize</td>\n",
       "      <td>0.22 \\footnotesize$\\pm$0.01\\normalsize</td>\n",
       "      <td>-1.73 \\footnotesize$\\pm$0.1\\normalsize</td>\n",
       "    </tr>\n",
       "    <tr>\n",
       "      <td>VanillaEnsemble prior</td>\n",
       "      <td>-0.04 \\footnotesize$\\pm$0.05\\normalsize</td>\n",
       "      <td>0.52 \\footnotesize$\\pm$0.25\\normalsize</td>\n",
       "      <td>0.82 \\footnotesize$\\pm$0.01\\normalsize</td>\n",
       "      <td>1.72 \\footnotesize$\\pm$0.3\\normalsize</td>\n",
       "    </tr>\n",
       "    <tr>\n",
       "      <td>ShuffleEnsemble prior</td>\n",
       "      <td>NaN</td>\n",
       "      <td>NaN</td>\n",
       "      <td>NaN</td>\n",
       "      <td>NaN</td>\n",
       "    </tr>\n",
       "    <tr>\n",
       "      <td>BootstrapEnsemble prior</td>\n",
       "      <td>-0.02 \\footnotesize$\\pm$0.08\\normalsize</td>\n",
       "      <td>0.31 \\footnotesize$\\pm$0.22\\normalsize</td>\n",
       "      <td>0.83 \\footnotesize$\\pm$0.01\\normalsize</td>\n",
       "      <td>4.1 \\footnotesize$\\pm$2.81\\normalsize</td>\n",
       "    </tr>\n",
       "    <tr>\n",
       "      <td>DropoutModel prior</td>\n",
       "      <td>-0.02 \\footnotesize$\\pm$0.09\\normalsize</td>\n",
       "      <td>0.37 \\footnotesize$\\pm$0.28\\normalsize</td>\n",
       "      <td>0.83 \\footnotesize$\\pm$0.01\\normalsize</td>\n",
       "      <td>52.87 \\footnotesize$\\pm$12.42\\normalsize</td>\n",
       "    </tr>\n",
       "    <tr>\n",
       "      <td>train set mean/std</td>\n",
       "      <td>NaN</td>\n",
       "      <td>NaN</td>\n",
       "      <td>0.82</td>\n",
       "      <td>0.55</td>\n",
       "    </tr>\n",
       "  </tbody>\n",
       "</table>\n",
       "</div>"
      ],
      "text/plain": [
       "                                                    \\textbf{cobeau}  \\\n",
       "\\textbf{VanillaEnsemble}     0.36 \\footnotesize$\\pm$0.11\\normalsize   \n",
       "\\textbf{ShuffleEnsemble}                                        NaN   \n",
       "\\textbf{BootstrapEnsemble}   0.33 \\footnotesize$\\pm$0.14\\normalsize   \n",
       "\\textbf{SaverModel}           0.4 \\footnotesize$\\pm$0.07\\normalsize   \n",
       "\\textbf{BobstrapEnsemble}    0.42 \\footnotesize$\\pm$0.08\\normalsize   \n",
       "\\textbf{DropoutModel}        0.02 \\footnotesize$\\pm$0.07\\normalsize   \n",
       "VanillaEnsemble prior       -0.04 \\footnotesize$\\pm$0.05\\normalsize   \n",
       "ShuffleEnsemble prior                                           NaN   \n",
       "BootstrapEnsemble prior     -0.02 \\footnotesize$\\pm$0.08\\normalsize   \n",
       "DropoutModel prior          -0.02 \\footnotesize$\\pm$0.09\\normalsize   \n",
       "train set mean/std                                              NaN   \n",
       "\n",
       "                                            \\textbf{cobeau p-vals}  \\\n",
       "\\textbf{VanillaEnsemble}      0.0 \\footnotesize$\\pm$0.0\\normalsize   \n",
       "\\textbf{ShuffleEnsemble}                                       NaN   \n",
       "\\textbf{BootstrapEnsemble}    0.0 \\footnotesize$\\pm$0.0\\normalsize   \n",
       "\\textbf{SaverModel}           0.0 \\footnotesize$\\pm$0.0\\normalsize   \n",
       "\\textbf{BobstrapEnsemble}     0.0 \\footnotesize$\\pm$0.0\\normalsize   \n",
       "\\textbf{DropoutModel}       0.51 \\footnotesize$\\pm$0.33\\normalsize   \n",
       "VanillaEnsemble prior       0.52 \\footnotesize$\\pm$0.25\\normalsize   \n",
       "ShuffleEnsemble prior                                          NaN   \n",
       "BootstrapEnsemble prior     0.31 \\footnotesize$\\pm$0.22\\normalsize   \n",
       "DropoutModel prior          0.37 \\footnotesize$\\pm$0.28\\normalsize   \n",
       "train set mean/std                                             NaN   \n",
       "\n",
       "                                                   \\textbf{errors}  \\\n",
       "\\textbf{VanillaEnsemble}    0.21 \\footnotesize$\\pm$0.02\\normalsize   \n",
       "\\textbf{ShuffleEnsemble}                                       NaN   \n",
       "\\textbf{BootstrapEnsemble}  0.22 \\footnotesize$\\pm$0.02\\normalsize   \n",
       "\\textbf{SaverModel}         0.21 \\footnotesize$\\pm$0.02\\normalsize   \n",
       "\\textbf{BobstrapEnsemble}   0.22 \\footnotesize$\\pm$0.01\\normalsize   \n",
       "\\textbf{DropoutModel}       0.22 \\footnotesize$\\pm$0.01\\normalsize   \n",
       "VanillaEnsemble prior       0.82 \\footnotesize$\\pm$0.01\\normalsize   \n",
       "ShuffleEnsemble prior                                          NaN   \n",
       "BootstrapEnsemble prior     0.83 \\footnotesize$\\pm$0.01\\normalsize   \n",
       "DropoutModel prior          0.83 \\footnotesize$\\pm$0.01\\normalsize   \n",
       "train set mean/std                                            0.82   \n",
       "\n",
       "                                                       \\textbf{nlpd}  \n",
       "\\textbf{VanillaEnsemble}      -2.0 \\footnotesize$\\pm$0.28\\normalsize  \n",
       "\\textbf{ShuffleEnsemble}                                         NaN  \n",
       "\\textbf{BootstrapEnsemble}   -2.01 \\footnotesize$\\pm$0.22\\normalsize  \n",
       "\\textbf{SaverModel}          -1.79 \\footnotesize$\\pm$0.17\\normalsize  \n",
       "\\textbf{BobstrapEnsemble}    -1.73 \\footnotesize$\\pm$0.11\\normalsize  \n",
       "\\textbf{DropoutModel}         -1.73 \\footnotesize$\\pm$0.1\\normalsize  \n",
       "VanillaEnsemble prior          1.72 \\footnotesize$\\pm$0.3\\normalsize  \n",
       "ShuffleEnsemble prior                                            NaN  \n",
       "BootstrapEnsemble prior        4.1 \\footnotesize$\\pm$2.81\\normalsize  \n",
       "DropoutModel prior          52.87 \\footnotesize$\\pm$12.42\\normalsize  \n",
       "train set mean/std                                              0.55  "
      ]
     },
     "execution_count": 24,
     "metadata": {},
     "output_type": "execute_result"
    }
   ],
   "source": [
    "pd_stats"
   ]
  },
  {
   "cell_type": "code",
   "execution_count": 25,
   "metadata": {},
   "outputs": [
    {
     "data": {
      "text/plain": [
       "['\\textbf{cobeau}',\n",
       " '\\textbf{cobeau p-vals}',\n",
       " '\\textbf{errors}',\n",
       " '\\textbf{nlpd}']"
      ]
     },
     "execution_count": 25,
     "metadata": {},
     "output_type": "execute_result"
    }
   ],
   "source": [
    "list(pd_stats.columns)"
   ]
  },
  {
   "cell_type": "code",
   "execution_count": 26,
   "metadata": {},
   "outputs": [],
   "source": [
    "cols = ['\\textbf{errors}',\n",
    " '\\textbf{nlpd}',\n",
    "         '\\textbf{cobeau}',\n",
    " '\\textbf{cobeau p-vals}',\n",
    "]\n",
    "pd_stats = pd_stats[cols]"
   ]
  },
  {
   "cell_type": "code",
   "execution_count": 27,
   "metadata": {},
   "outputs": [
    {
     "name": "stdout",
     "output_type": "stream",
     "text": [
      "\\begin{tabular}{lllll}\n",
      "\\toprule\n",
      "{} &                         \\textbf{errors} &                             \\textbf{nlpd} &                          \\textbf{cobeau} &                  \\textbf{cobeau p-vals} \\\\\n",
      "\\midrule\n",
      "\\textbf{VanillaEnsemble}   &  0.21 \\footnotesize$\\pm$0.02\\normalsize &    -2.0 \\footnotesize$\\pm$0.28\\normalsize &   0.36 \\footnotesize$\\pm$0.11\\normalsize &    0.0 \\footnotesize$\\pm$0.0\\normalsize \\\\\n",
      "\\textbf{ShuffleEnsemble}   &                                       - &                                         - &                                        - &                                       - \\\\\n",
      "\\textbf{BootstrapEnsemble} &  0.22 \\footnotesize$\\pm$0.02\\normalsize &   -2.01 \\footnotesize$\\pm$0.22\\normalsize &   0.33 \\footnotesize$\\pm$0.14\\normalsize &    0.0 \\footnotesize$\\pm$0.0\\normalsize \\\\\n",
      "\\textbf{SaverModel}        &  0.21 \\footnotesize$\\pm$0.02\\normalsize &   -1.79 \\footnotesize$\\pm$0.17\\normalsize &    0.4 \\footnotesize$\\pm$0.07\\normalsize &    0.0 \\footnotesize$\\pm$0.0\\normalsize \\\\\n",
      "\\textbf{BobstrapEnsemble}  &  0.22 \\footnotesize$\\pm$0.01\\normalsize &   -1.73 \\footnotesize$\\pm$0.11\\normalsize &   0.42 \\footnotesize$\\pm$0.08\\normalsize &    0.0 \\footnotesize$\\pm$0.0\\normalsize \\\\\n",
      "\\textbf{DropoutModel}      &  0.22 \\footnotesize$\\pm$0.01\\normalsize &    -1.73 \\footnotesize$\\pm$0.1\\normalsize &   0.02 \\footnotesize$\\pm$0.07\\normalsize &  0.51 \\footnotesize$\\pm$0.33\\normalsize \\\\\n",
      "VanillaEnsemble prior      &  0.82 \\footnotesize$\\pm$0.01\\normalsize &     1.72 \\footnotesize$\\pm$0.3\\normalsize &  -0.04 \\footnotesize$\\pm$0.05\\normalsize &  0.52 \\footnotesize$\\pm$0.25\\normalsize \\\\\n",
      "ShuffleEnsemble prior      &                                       - &                                         - &                                        - &                                       - \\\\\n",
      "BootstrapEnsemble prior    &  0.83 \\footnotesize$\\pm$0.01\\normalsize &     4.1 \\footnotesize$\\pm$2.81\\normalsize &  -0.02 \\footnotesize$\\pm$0.08\\normalsize &  0.31 \\footnotesize$\\pm$0.22\\normalsize \\\\\n",
      "DropoutModel prior         &  0.83 \\footnotesize$\\pm$0.01\\normalsize &  52.87 \\footnotesize$\\pm$12.42\\normalsize &  -0.02 \\footnotesize$\\pm$0.09\\normalsize &  0.37 \\footnotesize$\\pm$0.28\\normalsize \\\\\n",
      "train set mean/std         &                                    0.82 &                                      0.55 &                                        - &                                       - \\\\\n",
      "\\bottomrule\n",
      "\\end{tabular}\n",
      "\n"
     ]
    }
   ],
   "source": [
    "print(pd_stats.to_latex(na_rep ='-',bold_rows =False, escape=False))"
   ]
  },
  {
   "cell_type": "code",
   "execution_count": null,
   "metadata": {},
   "outputs": [],
   "source": []
  },
  {
   "cell_type": "markdown",
   "metadata": {},
   "source": [
    "# model table"
   ]
  },
  {
   "cell_type": "code",
   "execution_count": null,
   "metadata": {},
   "outputs": [],
   "source": []
  },
  {
   "cell_type": "code",
   "execution_count": null,
   "metadata": {},
   "outputs": [],
   "source": []
  },
  {
   "cell_type": "code",
   "execution_count": 28,
   "metadata": {},
   "outputs": [
    {
     "name": "stdout",
     "output_type": "stream",
     "text": [
      "----------------------------------------------------------------\n",
      "        Layer (type)               Output Shape         Param #\n",
      "================================================================\n",
      "            Linear-1               [-1, 0, 100]             200\n",
      "         LeakyReLU-2               [-1, 0, 100]               0\n",
      "            Linear-3               [-1, 0, 100]          10,100\n",
      "         LeakyReLU-4               [-1, 0, 100]               0\n",
      "           Dropout-5               [-1, 0, 100]               0\n",
      "            Linear-6                [-1, 0, 10]           1,010\n",
      "         LeakyReLU-7                [-1, 0, 10]               0\n",
      "            Linear-8                 [-1, 0, 1]              11\n",
      "================================================================\n",
      "Total params: 11,321\n",
      "Trainable params: 11,321\n",
      "Non-trainable params: 0\n",
      "----------------------------------------------------------------\n",
      "Input size (MB): 0.00\n",
      "Forward/backward pass size (MB): 0.00\n",
      "Params size (MB): 0.04\n",
      "Estimated Total Size (MB): 0.04\n",
      "----------------------------------------------------------------\n",
      "Sequential(\n",
      "  (0): Linear(in_features=1, out_features=100, bias=True)\n",
      "  (1): LeakyReLU(negative_slope=0.01)\n",
      "  (2): Linear(in_features=100, out_features=100, bias=True)\n",
      "  (3): LeakyReLU(negative_slope=0.01)\n",
      "  (4): Dropout(p=0, inplace=False)\n",
      "  (5): Linear(in_features=100, out_features=10, bias=True)\n",
      "  (6): LeakyReLU(negative_slope=0.01)\n",
      "  (7): Linear(in_features=10, out_features=1, bias=True)\n",
      ")\n",
      "Sequential(\n",
      "  (0): Linear(in_features=1, out_features=500, bias=True)\n",
      "  (1): LeakyReLU(negative_slope=0.01)\n",
      "  (2): Linear(in_features=500, out_features=500, bias=True)\n",
      "  (3): LeakyReLU(negative_slope=0.01)\n",
      "  (4): Linear(in_features=500, out_features=15, bias=True)\n",
      "  (5): LeakyReLU(negative_slope=0.01)\n",
      "  (6): Dropout(p=0, inplace=False)\n",
      "  (7): Linear(in_features=15, out_features=1, bias=True)\n",
      ")\n"
     ]
    },
    {
     "data": {
      "text/html": [
       "<div>\n",
       "<style scoped>\n",
       "    .dataframe tbody tr th:only-of-type {\n",
       "        vertical-align: middle;\n",
       "    }\n",
       "\n",
       "    .dataframe tbody tr th {\n",
       "        vertical-align: top;\n",
       "    }\n",
       "\n",
       "    .dataframe thead th {\n",
       "        text-align: right;\n",
       "    }\n",
       "</style>\n",
       "<table border=\"1\" class=\"dataframe\">\n",
       "  <thead>\n",
       "    <tr style=\"text-align: right;\">\n",
       "      <th></th>\n",
       "      <th>toy</th>\n",
       "      <th>housing</th>\n",
       "    </tr>\n",
       "  </thead>\n",
       "  <tbody>\n",
       "    <tr>\n",
       "      <td>layer sizes</td>\n",
       "      <td>[100, 100, 10, 1]</td>\n",
       "      <td>[500, 500, 15, 1]</td>\n",
       "    </tr>\n",
       "    <tr>\n",
       "      <td>non-linearity</td>\n",
       "      <td>Tanh</td>\n",
       "      <td>Tanh</td>\n",
       "    </tr>\n",
       "  </tbody>\n",
       "</table>\n",
       "</div>"
      ],
      "text/plain": [
       "                             toy            housing\n",
       "layer sizes    [100, 100, 10, 1]  [500, 500, 15, 1]\n",
       "non-linearity               Tanh               Tanh"
      ]
     },
     "execution_count": 28,
     "metadata": {},
     "output_type": "execute_result"
    }
   ],
   "source": [
    "from nn_models.base_model import get_toy_model,get_kaggle_model\n",
    "import torch\n",
    "from torchsummary import summary\n",
    "import collections\n",
    "import pandas as pd\n",
    "device = torch.device(\"cuda\" if torch.cuda.is_available() else \"cpu\")\n",
    "model = get_toy_model(1,torch.nn.LeakyReLU,0).to(device)\n",
    "summary(model, (0,1))\n",
    "model_dict = collections.defaultdict(dict)\n",
    "for name, get_func in zip(['toy','housing'],[get_toy_model, get_kaggle_model]):\n",
    "    model = get_func(1,torch.nn.LeakyReLU,0)\n",
    "    model_params = [x.out_features for x in list(model) if hasattr(x,'out_features')]\n",
    "    model_dict[name]['layer sizes'] = model_params\n",
    "    model_dict[name]['non-linearity'] = 'Tanh'\n",
    "    print(model)\n",
    "a = pd.DataFrame.from_dict(model_dict)\n",
    "a"
   ]
  },
  {
   "cell_type": "code",
   "execution_count": null,
   "metadata": {},
   "outputs": [],
   "source": []
  },
  {
   "cell_type": "code",
   "execution_count": null,
   "metadata": {},
   "outputs": [],
   "source": []
  },
  {
   "cell_type": "code",
   "execution_count": null,
   "metadata": {},
   "outputs": [],
   "source": []
  },
  {
   "cell_type": "code",
   "execution_count": 29,
   "metadata": {},
   "outputs": [
    {
     "name": "stdout",
     "output_type": "stream",
     "text": [
      "\\begin{tabular}{lll}\n",
      "\\toprule\n",
      "{} &                toy &            housing \\\\\n",
      "\\midrule\n",
      "layer sizes   &  [100, 100, 10, 1] &  [500, 500, 15, 1] \\\\\n",
      "non-linearity &               Tanh &               Tanh \\\\\n",
      "\\bottomrule\n",
      "\\end{tabular}\n",
      "\n"
     ]
    }
   ],
   "source": [
    "print(a.to_latex())"
   ]
  },
  {
   "cell_type": "code",
   "execution_count": 30,
   "metadata": {},
   "outputs": [
    {
     "data": {
      "text/plain": [
       "torch.nn.modules.activation.ReLU"
      ]
     },
     "execution_count": 30,
     "metadata": {},
     "output_type": "execute_result"
    }
   ],
   "source": [
    "torch.nn.ReLU"
   ]
  },
  {
   "cell_type": "code",
   "execution_count": null,
   "metadata": {},
   "outputs": [],
   "source": []
  },
  {
   "cell_type": "code",
   "execution_count": null,
   "metadata": {},
   "outputs": [],
   "source": []
  }
 ],
 "metadata": {
  "kernelspec": {
   "display_name": "Python 3",
   "language": "python",
   "name": "python3"
  },
  "language_info": {
   "codemirror_mode": {
    "name": "ipython",
    "version": 3
   },
   "file_extension": ".py",
   "mimetype": "text/x-python",
   "name": "python",
   "nbconvert_exporter": "python",
   "pygments_lexer": "ipython3",
   "version": "3.7.4"
  }
 },
 "nbformat": 4,
 "nbformat_minor": 4
}
