{
 "cells": [
  {
   "cell_type": "code",
   "execution_count": 1,
   "metadata": {},
   "outputs": [],
   "source": [
    "import numpy as np\n",
    "import torch\n",
    "\n",
    "seed = 42 #424\n",
    "np.random.seed(seed)\n",
    "torch.manual_seed(seed)\n",
    "#NOTE! This only works for non cudnn. gpu needs\n",
    "torch.backends.cudnn.deterministic = True\n",
    "torch.backends.cudnn.benchmark = False\n",
    "\n",
    "from helpers import showcase_code\n",
    "\n",
    "import matplotlib.pyplot as plt\n",
    "#%matplotlib inline\n",
    "import seaborn as sns\n",
    "import pickle\n",
    "\n",
    "from experimentation import ExperimentAnalyzer\n",
    "import os\n",
    "import time\n",
    "import pandas as pd"
   ]
  },
  {
   "cell_type": "code",
   "execution_count": 2,
   "metadata": {},
   "outputs": [],
   "source": [
    "# for working with external files, otherwise kernels needs to be restarted each time\n",
    "%load_ext autoreload\n",
    "%autoreload 2"
   ]
  },
  {
   "cell_type": "code",
   "execution_count": null,
   "metadata": {},
   "outputs": [],
   "source": []
  },
  {
   "cell_type": "markdown",
   "metadata": {},
   "source": [
    "import numpy as np\n",
    "import torch\n",
    "\n",
    "seed = 42 #424\n",
    "np.random.seed(seed)\n",
    "torch.manual_seed(seed)\n",
    "#NOTE! This only works for non cudnn. gpu needs\n",
    "torch.backends.cudnn.deterministic = True\n",
    "torch.backends.cudnn.benchmark = False\n",
    "\n",
    "from helpers import showcase_code\n",
    "\n",
    "import matplotlib.pyplot as plt\n",
    "#%matplotlib inline\n",
    "import seaborn as sns\n",
    "import pickle\n",
    "\n",
    "from experimentation import ExperimentAnalyzer\n",
    "import os\n",
    "import time\n",
    "import pandas as pd\n",
    "files = [x for x in os.listdir('pickles') if x.endswith('pkl')]\n",
    "\n",
    "\n",
    "for file in files:\n",
    "    with  open('pickles\\\\'+file, \"rb\") as f:\n",
    "        exp = pickle.load(f)\n",
    "\n",
    "\n",
    "\n",
    "    analyzer = ExperimentAnalyzer(exp)\n",
    "    df1 = analyzer.analysis()\n",
    "    print(f'{exp.model_name}')\n",
    "    print(df1.describe().to_latex())\n",
    "    analyzer.get_outlier_indices()\n",
    "    analyzer.plot_outcomes()\n",
    "    plt.figure()\n",
    "\n",
    "\n",
    "    \n",
    "    \n"
   ]
  },
  {
   "cell_type": "code",
   "execution_count": 3,
   "metadata": {},
   "outputs": [
    {
     "name": "stdout",
     "output_type": "stream",
     "text": [
      "['BobstrapEnsemble_toy_True_3.pkl', 'BootstrapEnsemble_toy_True_3.pkl', 'DropoutModel_toy_True_3.pkl', 'SaverModel_toy_True_3.pkl', 'ShuffleEnsemble_toy_True_3.pkl', 'VanillaEnsemble_toy_True_3.pkl']\n"
     ]
    }
   ],
   "source": [
    "non_linearity_name = 'Tanh'# 'old'#'LeakyReLU'#\"old\"#'ReLU'#'Tanh'\n",
    "toy = 'True' #'False'\n",
    "\n",
    "\n",
    "files = [x for x in os.listdir(f'pickles\\\\{non_linearity_name}') if x.endswith('pkl') if toy in x]\n",
    "\n",
    "print(files)"
   ]
  },
  {
   "cell_type": "code",
   "execution_count": null,
   "metadata": {},
   "outputs": [],
   "source": []
  },
  {
   "cell_type": "code",
   "execution_count": null,
   "metadata": {},
   "outputs": [],
   "source": []
  },
  {
   "cell_type": "code",
   "execution_count": 4,
   "metadata": {},
   "outputs": [
    {
     "name": "stdout",
     "output_type": "stream",
     "text": [
      "Creation of the directory figures\\Tanh\\BobstrapEnsemble_toy_True_3\\ failed\n",
      "<class 'torch.nn.modules.activation.Tanh'>, True, BobstrapEnsemble\n",
      "\n",
      "\n",
      "\n",
      "\n",
      " /n/n/nBobstrapEnsemble\n"
     ]
    },
    {
     "name": "stderr",
     "output_type": "stream",
     "text": [
      "C:\\Users\\thoma\\Documents\\GitHub\\uncertainty_regression_pytorch\\models\\experimentation.py:239: MatplotlibDeprecationWarning: \n",
      "The frameon kwarg was deprecated in Matplotlib 3.1 and will be removed in 3.3. Use facecolor instead.\n",
      "  frameon=None, metadata=None)\n",
      "C:\\Users\\thoma\\Miniconda3\\envs\\pytorch\\lib\\site-packages\\numpy\\core\\fromnumeric.py:3118: RuntimeWarning: Mean of empty slice.\n",
      "  out=out, **kwargs)\n",
      "C:\\Users\\thoma\\Miniconda3\\envs\\pytorch\\lib\\site-packages\\numpy\\core\\_methods.py:85: RuntimeWarning: invalid value encountered in double_scalars\n",
      "  ret = ret.dtype.type(ret / rcount)\n",
      "C:\\Users\\thoma\\Miniconda3\\envs\\pytorch\\lib\\site-packages\\numpy\\core\\_methods.py:140: RuntimeWarning: Degrees of freedom <= 0 for slice\n",
      "  keepdims=keepdims)\n",
      "C:\\Users\\thoma\\Miniconda3\\envs\\pytorch\\lib\\site-packages\\numpy\\core\\_methods.py:110: RuntimeWarning: invalid value encountered in true_divide\n",
      "  arrmean, rcount, out=arrmean, casting='unsafe', subok=False)\n",
      "C:\\Users\\thoma\\Miniconda3\\envs\\pytorch\\lib\\site-packages\\numpy\\core\\_methods.py:132: RuntimeWarning: invalid value encountered in double_scalars\n",
      "  ret = ret.dtype.type(ret / rcount)\n"
     ]
    },
    {
     "name": "stdout",
     "output_type": "stream",
     "text": [
      "'ExperimentAnalyzer' object has no attribute 'prior_errors'\n"
     ]
    },
    {
     "name": "stderr",
     "output_type": "stream",
     "text": [
      "C:\\Users\\thoma\\Documents\\GitHub\\uncertainty_regression_pytorch\\models\\experimentation.py:376: MatplotlibDeprecationWarning: \n",
      "The frameon kwarg was deprecated in Matplotlib 3.1 and will be removed in 3.3. Use facecolor instead.\n",
      "  frameon=None, metadata=None)\n",
      "C:\\Users\\thoma\\Documents\\GitHub\\uncertainty_regression_pytorch\\models\\experimentation.py:420: MatplotlibDeprecationWarning: \n",
      "The frameon kwarg was deprecated in Matplotlib 3.1 and will be removed in 3.3. Use facecolor instead.\n",
      "  frameon=None, metadata=None)\n"
     ]
    },
    {
     "name": "stdout",
     "output_type": "stream",
     "text": [
      "'ExperimentAnalyzer' object has no attribute 'prior_cobeau'\n"
     ]
    },
    {
     "name": "stderr",
     "output_type": "stream",
     "text": [
      "C:\\Users\\thoma\\Documents\\GitHub\\uncertainty_regression_pytorch\\models\\experimentation.py:454: MatplotlibDeprecationWarning: \n",
      "The frameon kwarg was deprecated in Matplotlib 3.1 and will be removed in 3.3. Use facecolor instead.\n",
      "  frameon=None, metadata=None)\n",
      "C:\\Users\\thoma\\Documents\\GitHub\\uncertainty_regression_pytorch\\models\\experimentation.py:467: MatplotlibDeprecationWarning: \n",
      "The frameon kwarg was deprecated in Matplotlib 3.1 and will be removed in 3.3. Use facecolor instead.\n",
      "  frameon=None, metadata=None)\n"
     ]
    },
    {
     "name": "stdout",
     "output_type": "stream",
     "text": [
      "Creation of the directory figures\\Tanh\\BootstrapEnsemble_toy_True_3\\ failed\n",
      "<class 'torch.nn.modules.activation.Tanh'>, True, BootstrapEnsemble\n",
      "\n",
      "\n",
      "\n",
      "\n",
      " /n/n/nBootstrapEnsemble\n"
     ]
    },
    {
     "name": "stderr",
     "output_type": "stream",
     "text": [
      "C:\\Users\\thoma\\Documents\\GitHub\\uncertainty_regression_pytorch\\models\\experimentation.py:239: MatplotlibDeprecationWarning: \n",
      "The frameon kwarg was deprecated in Matplotlib 3.1 and will be removed in 3.3. Use facecolor instead.\n",
      "  frameon=None, metadata=None)\n",
      "C:\\Users\\thoma\\Documents\\GitHub\\uncertainty_regression_pytorch\\models\\experimentation.py:376: MatplotlibDeprecationWarning: \n",
      "The frameon kwarg was deprecated in Matplotlib 3.1 and will be removed in 3.3. Use facecolor instead.\n",
      "  frameon=None, metadata=None)\n",
      "C:\\Users\\thoma\\Documents\\GitHub\\uncertainty_regression_pytorch\\models\\experimentation.py:420: MatplotlibDeprecationWarning: \n",
      "The frameon kwarg was deprecated in Matplotlib 3.1 and will be removed in 3.3. Use facecolor instead.\n",
      "  frameon=None, metadata=None)\n",
      "C:\\Users\\thoma\\Documents\\GitHub\\uncertainty_regression_pytorch\\models\\experimentation.py:454: MatplotlibDeprecationWarning: \n",
      "The frameon kwarg was deprecated in Matplotlib 3.1 and will be removed in 3.3. Use facecolor instead.\n",
      "  frameon=None, metadata=None)\n",
      "C:\\Users\\thoma\\Documents\\GitHub\\uncertainty_regression_pytorch\\models\\experimentation.py:467: MatplotlibDeprecationWarning: \n",
      "The frameon kwarg was deprecated in Matplotlib 3.1 and will be removed in 3.3. Use facecolor instead.\n",
      "  frameon=None, metadata=None)\n"
     ]
    },
    {
     "name": "stdout",
     "output_type": "stream",
     "text": [
      "Creation of the directory figures\\Tanh\\DropoutModel_toy_True_3\\ failed\n",
      "<class 'torch.nn.modules.activation.Tanh'>, True, DropoutModel\n",
      "\n",
      "\n",
      "\n",
      "\n",
      " /n/n/nDropoutModel\n"
     ]
    },
    {
     "name": "stderr",
     "output_type": "stream",
     "text": [
      "C:\\Users\\thoma\\Documents\\GitHub\\uncertainty_regression_pytorch\\models\\experimentation.py:239: MatplotlibDeprecationWarning: \n",
      "The frameon kwarg was deprecated in Matplotlib 3.1 and will be removed in 3.3. Use facecolor instead.\n",
      "  frameon=None, metadata=None)\n",
      "100%|██████████████████████████████████████████████████████████████████████████████| 100/100 [00:00<00:00, 4166.43it/s]\n"
     ]
    },
    {
     "name": "stdout",
     "output_type": "stream",
     "text": [
      "[ 1.0848477   1.7876412   0.72356886  0.97897375  0.16305624  1.1792723\n",
      "  0.33930632 -0.7921943   1.4719545   0.06028412 -1.4785564   0.6686309\n",
      " -0.10837493  0.23669101 -0.10520609 -1.6691678  -0.09468975] [0.04727754 0.01687191 0.10011087 0.0613345  0.07952018 0.03300979\n",
      " 0.13244358 0.12548372 0.13088207 0.05752771 0.07168307 0.06808363\n",
      " 0.00541134 0.09887386 0.00469961 0.02607554 0.00482789]\n"
     ]
    },
    {
     "name": "stderr",
     "output_type": "stream",
     "text": [
      "100%|██████████████████████████████████████████████████████████████████████████████| 100/100 [00:00<00:00, 3226.02it/s]\n"
     ]
    },
    {
     "name": "stdout",
     "output_type": "stream",
     "text": [
      "[ 1.78961277e+00  1.79707670e+00  1.80838788e+00  1.81433201e+00\n",
      "  1.81715977e+00  1.81608105e+00  1.81419265e+00  1.80418456e+00\n",
      "  1.78770387e+00  1.74618816e+00  1.70858979e+00  1.65141416e+00\n",
      "  1.57040083e+00  1.43343282e+00  1.26851749e+00  1.07930648e+00\n",
      "  9.34825540e-01  6.95985079e-01  5.04385710e-01  3.38149518e-01\n",
      "  1.76512197e-01  5.72857969e-02 -5.63840941e-03 -3.66875604e-02\n",
      " -2.74931304e-02  1.49369594e-02  7.28735626e-02  1.68387815e-01\n",
      "  3.01691771e-01  3.94332081e-01  5.77913225e-01  7.21024990e-01\n",
      "  8.54382634e-01  9.81351793e-01  1.07406163e+00  1.14796388e+00\n",
      "  1.17484343e+00  1.18030894e+00  1.14838278e+00  1.07556033e+00\n",
      "  9.78725433e-01  8.44159722e-01  6.86331570e-01  4.67757583e-01\n",
      "  2.41341293e-01 -7.01008423e-04 -2.37643033e-01 -5.02191603e-01\n",
      " -7.58916259e-01 -9.99601066e-01 -1.19548869e+00 -1.35989308e+00\n",
      " -1.50844812e+00 -1.60428691e+00 -1.66611326e+00 -1.69025564e+00\n",
      " -1.66631913e+00 -1.60514796e+00 -1.47601867e+00 -1.31967103e+00\n",
      " -1.16068518e+00 -9.86502290e-01 -8.02021742e-01 -6.45860732e-01\n",
      " -5.14516890e-01 -3.88746530e-01 -3.20244431e-01 -2.61383444e-01\n",
      " -2.17028096e-01 -1.83796063e-01 -1.58785015e-01 -1.48360789e-01\n",
      " -1.34432614e-01 -1.25625983e-01 -1.20441876e-01 -1.14817522e-01\n",
      " -1.11459926e-01 -1.09052055e-01 -1.04304552e-01 -1.02852337e-01\n",
      " -1.00866593e-01 -1.00276604e-01 -9.64467898e-02 -9.67935920e-02\n",
      " -9.44912732e-02 -9.28026736e-02 -9.20037329e-02 -9.04077590e-02\n",
      " -8.99152458e-02 -8.88143182e-02 -8.76880661e-02 -8.72461051e-02\n",
      " -8.58252347e-02 -8.48030671e-02 -8.35185498e-02 -8.35156888e-02\n",
      " -8.20984617e-02 -8.15185085e-02 -8.09459984e-02 -7.99783692e-02] [0.01557572 0.01663322 0.01486725 0.01361659 0.01702135 0.03377838\n",
      " 0.02018769 0.03728884 0.03665448 0.06547719 0.07789654 0.08212286\n",
      " 0.10688093 0.1627296  0.19807763 0.19650652 0.19511028 0.17957541\n",
      " 0.15548751 0.13457666 0.10323487 0.07000769 0.03851794 0.01510529\n",
      " 0.03175772 0.06129861 0.07103673 0.08472533 0.08907989 0.08903497\n",
      " 0.10549218 0.10364593 0.09083793 0.06920899 0.05539914 0.03770817\n",
      " 0.02950385 0.02808332 0.03887624 0.04910684 0.05274487 0.06645585\n",
      " 0.07339695 0.09209099 0.11283531 0.08546978 0.10267232 0.10552759\n",
      " 0.08546175 0.07505756 0.06460577 0.05821671 0.04717196 0.04102441\n",
      " 0.02968714 0.0127228  0.02365773 0.04999626 0.07445527 0.09689461\n",
      " 0.11757428 0.14092478 0.102854   0.10610545 0.09700546 0.07277737\n",
      " 0.0650697  0.04312291 0.03804775 0.02248332 0.01733696 0.0161418\n",
      " 0.01102264 0.00912391 0.00953852 0.00678204 0.00582278 0.00500253\n",
      " 0.00467566 0.00471502 0.00465043 0.00431286 0.00410052 0.0041901\n",
      " 0.00416986 0.00377144 0.00416035 0.00363001 0.00426373 0.00404758\n",
      " 0.00383011 0.00416136 0.00456709 0.00382358 0.00346226 0.00397267\n",
      " 0.00401759 0.00367907 0.00333131 0.00354963]\n"
     ]
    },
    {
     "name": "stderr",
     "output_type": "stream",
     "text": [
      "100%|██████████████████████████████████████████████████████████████████████████████| 100/100 [00:00<00:00, 3999.72it/s]\n"
     ]
    },
    {
     "name": "stdout",
     "output_type": "stream",
     "text": [
      "[ 1.0764937   2.0320654   0.70128626  1.0008353   0.09095006  1.1403823\n",
      "  0.49823424 -0.82163817  1.5292467   0.17596895 -1.4519317   0.72498536\n",
      " -0.06069184  0.3403917  -0.11847697 -1.6666734  -0.3200336 ] [0.03588979 0.00700824 0.09230007 0.05907821 0.09677184 0.02201624\n",
      " 0.13967106 0.11828583 0.13379523 0.10200152 0.06084267 0.08862901\n",
      " 0.08510029 0.11663251 0.07686654 0.02402605 0.03218174]\n"
     ]
    },
    {
     "name": "stderr",
     "output_type": "stream",
     "text": [
      "100%|██████████████████████████████████████████████████████████████████████████████| 100/100 [00:00<00:00, 3333.50it/s]\n"
     ]
    },
    {
     "name": "stdout",
     "output_type": "stream",
     "text": [
      "[ 2.0321708   2.0292041   2.0259414   2.0194156   2.0050879   1.9965245\n",
      "  1.9694175   1.9393431   1.9083238   1.876066    1.8100437   1.7121074\n",
      "  1.647426    1.5403228   1.3768494   1.2653167   1.0535555   0.9114341\n",
      "  0.71516806  0.51084685  0.32063735  0.17875135  0.06343536 -0.01640308\n",
      " -0.05059404 -0.04629007  0.0086628   0.08436283  0.21413505  0.3593353\n",
      "  0.51437736  0.66451424  0.8217262   0.92215186  1.0218616   1.094078\n",
      "  1.1299183   1.142467    1.1241132   1.080649    0.9995014   0.87210464\n",
      "  0.73644394  0.53304344  0.3180663   0.0559874  -0.20578405 -0.49187332\n",
      " -0.75190973 -1.0115474  -1.22237    -1.4035078  -1.5472836  -1.6216533\n",
      " -1.663741   -1.669135   -1.6300517  -1.5497926  -1.44269    -1.3307135\n",
      " -1.1746647  -0.99473786 -0.8114269  -0.63797235 -0.46619788 -0.3101482\n",
      " -0.16012105 -0.03592281  0.06518858  0.1219238   0.15743193  0.17759448\n",
      "  0.16924733  0.14439934  0.10584512  0.04967754 -0.01065523 -0.07529612\n",
      " -0.12927207 -0.17050633 -0.21442609 -0.24804199 -0.2852755  -0.30378452\n",
      " -0.32409093 -0.33197048 -0.33988327 -0.3434993  -0.34594905 -0.3457061\n",
      " -0.34502804 -0.34172687 -0.33892807 -0.33485156 -0.33079788 -0.32706943\n",
      " -0.32049614 -0.31607383 -0.31350037 -0.30760387] [0.0063524  0.01208325 0.00905332 0.00950259 0.01966478 0.02096661\n",
      " 0.03557159 0.03913376 0.0470053  0.05023187 0.06366152 0.10440742\n",
      " 0.117872   0.11620497 0.16333477 0.14118934 0.16909578 0.1479869\n",
      " 0.1546346  0.15460461 0.12126665 0.09668065 0.07711055 0.05817886\n",
      " 0.0253266  0.0480128  0.06884754 0.0833658  0.10301716 0.11746069\n",
      " 0.12616675 0.09835366 0.09056228 0.07064085 0.05318745 0.03763864\n",
      " 0.02370126 0.02002148 0.0272617  0.03556871 0.0501716  0.07425296\n",
      " 0.08567085 0.11859957 0.13162203 0.1278705  0.12799788 0.12801532\n",
      " 0.1306503  0.10916748 0.09683328 0.0763368  0.05896341 0.04215625\n",
      " 0.03181991 0.01823789 0.02700564 0.04367195 0.0538668  0.06760301\n",
      " 0.08514297 0.1002191  0.11887006 0.10169038 0.10316557 0.10399333\n",
      " 0.09108227 0.0864085  0.05743107 0.05076278 0.04043036 0.02368103\n",
      " 0.0325405  0.04625561 0.05434348 0.06708855 0.07361192 0.07660519\n",
      " 0.06856039 0.0753594  0.05795208 0.07457851 0.05092978 0.03278297\n",
      " 0.03446218 0.02271774 0.01421814 0.01515698 0.01249532 0.01051881\n",
      " 0.00861679 0.00963774 0.00910816 0.00891435 0.00937199 0.00933994\n",
      " 0.00835824 0.00927083 0.01081315 0.01074628]\n"
     ]
    },
    {
     "name": "stderr",
     "output_type": "stream",
     "text": [
      "100%|██████████████████████████████████████████████████████████████████████████████| 100/100 [00:00<00:00, 4000.21it/s]\n"
     ]
    },
    {
     "name": "stdout",
     "output_type": "stream",
     "text": [
      "[ 1.0853695   1.788197    0.72994184  0.9825816   0.16751397  1.1753435\n",
      "  0.31165114 -0.7960537   1.4324423   0.08057186 -1.4884647   0.66300654\n",
      " -0.10788457  0.23448262 -0.10499617 -1.6673098  -0.09461764] [0.04752283 0.01557674 0.09776279 0.05940628 0.08950459 0.0353099\n",
      " 0.13407448 0.12477902 0.14054011 0.07345037 0.0686484  0.08449501\n",
      " 0.00568362 0.09413729 0.00507703 0.02921922 0.00415017]\n"
     ]
    },
    {
     "name": "stderr",
     "output_type": "stream",
     "text": [
      "100%|██████████████████████████████████████████████████████████████████████████████| 100/100 [00:00<00:00, 2854.22it/s]\n"
     ]
    },
    {
     "name": "stdout",
     "output_type": "stream",
     "text": [
      "[ 1.7856183   1.7980354   1.8079476   1.812354    1.821537    1.8189336\n",
      "  1.8163639   1.8078179   1.7870574   1.7377098   1.7088385   1.6515989\n",
      "  1.5638096   1.4454213   1.2761754   1.0972179   0.9082515   0.74876267\n",
      "  0.48664653  0.29951027  0.18251877  0.06669318 -0.00633614 -0.03354035\n",
      " -0.03687724  0.00584315  0.08300333  0.15768608  0.2776621   0.43280235\n",
      "  0.57029986  0.72114855  0.85670745  0.9705175   1.0768776   1.1429715\n",
      "  1.1783679   1.1836151   1.1452426   1.0752039   0.97986186  0.84859\n",
      "  0.6855071   0.49164757  0.23881097  0.00839748 -0.25056598 -0.5138662\n",
      " -0.7530138  -0.9899516  -1.2017074  -1.3561784  -1.4978535  -1.6097833\n",
      " -1.6694818  -1.6904241  -1.6678714  -1.5970254  -1.4800649  -1.3269639\n",
      " -1.174254   -0.95576876 -0.77362216 -0.6386812  -0.5127674  -0.4165272\n",
      " -0.33286273 -0.25351208 -0.22063299 -0.1863132  -0.16562918 -0.14786424\n",
      " -0.13722987 -0.12751015 -0.12026764 -0.11423853 -0.1113093  -0.10817116\n",
      " -0.10494515 -0.10330817 -0.1007073  -0.09867606 -0.09763844 -0.09698337\n",
      " -0.09504032 -0.09305303 -0.09213713 -0.09121241 -0.0902475  -0.08954678\n",
      " -0.08752724 -0.08715684 -0.08576128 -0.08481834 -0.08407379 -0.08339156\n",
      " -0.08248425 -0.08181562 -0.08081808 -0.0797554 ] [0.01752914 0.01604707 0.01533982 0.0168063  0.01181782 0.0168733\n",
      " 0.0209043  0.02299616 0.03172176 0.07066478 0.07890384 0.10307841\n",
      " 0.12258422 0.14276108 0.16002902 0.20154004 0.1848083  0.16471907\n",
      " 0.15745723 0.13369459 0.09481338 0.07067096 0.03719945 0.01931501\n",
      " 0.01784466 0.05455433 0.07601231 0.06976376 0.09130378 0.09881999\n",
      " 0.10560873 0.09356093 0.06872357 0.08137926 0.04758434 0.03854176\n",
      " 0.03285675 0.02616195 0.04174287 0.04893515 0.051446   0.05979092\n",
      " 0.06687681 0.07911079 0.09873097 0.09149739 0.08118765 0.10390746\n",
      " 0.07516689 0.09062815 0.05887463 0.06343614 0.06659056 0.03970715\n",
      " 0.02260248 0.01397841 0.02375141 0.05456883 0.07138464 0.09490994\n",
      " 0.12488582 0.11834743 0.11007975 0.10407101 0.10707369 0.08823889\n",
      " 0.06949823 0.04622087 0.03825877 0.03139122 0.02232169 0.01591077\n",
      " 0.01471964 0.01315409 0.00737842 0.00695998 0.00639874 0.00583776\n",
      " 0.00477671 0.00519881 0.00480248 0.00449927 0.00475682 0.00438248\n",
      " 0.00422623 0.00366876 0.0044252  0.00432563 0.00408042 0.00434777\n",
      " 0.00385956 0.00442068 0.00407606 0.00358417 0.00359127 0.00351906\n",
      " 0.00372391 0.00374532 0.00351187 0.00322703]\n"
     ]
    },
    {
     "name": "stderr",
     "output_type": "stream",
     "text": [
      "100%|██████████████████████████████████████████████████████████████████████████████| 100/100 [00:00<00:00, 3999.95it/s]\n"
     ]
    },
    {
     "name": "stdout",
     "output_type": "stream",
     "text": [
      "[ 1.0931959   1.8020216   0.64391536  1.0024946   0.08749474  1.1551327\n",
      "  0.49717948 -0.9017697   1.5102254   0.1772677  -1.5282805   0.7491605\n",
      " -0.11487585  0.33718786 -0.16065721 -1.6856263  -0.31604812] [0.0360829  0.00595763 0.10829959 0.05727885 0.08451978 0.02535247\n",
      " 0.17805515 0.11845943 0.11942272 0.11485715 0.06084962 0.07787755\n",
      " 0.07032291 0.10979959 0.06415182 0.03745204 0.01598032]\n"
     ]
    },
    {
     "name": "stderr",
     "output_type": "stream",
     "text": [
      "100%|██████████████████████████████████████████████████████████████████████████████| 100/100 [00:00<00:00, 2702.76it/s]\n"
     ]
    },
    {
     "name": "stdout",
     "output_type": "stream",
     "text": [
      "[ 1.8026448e+00  1.8055215e+00  1.8071216e+00  1.8085331e+00\n",
      "  1.8062776e+00  1.8021585e+00  1.7980403e+00  1.7897410e+00\n",
      "  1.7733346e+00  1.7460701e+00  1.7176672e+00  1.6703655e+00\n",
      "  1.5982492e+00  1.5251888e+00  1.4251386e+00  1.2648453e+00\n",
      "  1.0980809e+00  9.1873395e-01  7.1462220e-01  5.2679658e-01\n",
      "  3.2129142e-01  1.8072154e-01  6.1840963e-02 -2.0565663e-02\n",
      " -4.7214232e-02 -4.6329819e-02  7.0728408e-03  9.2854500e-02\n",
      "  1.9972360e-01  3.4274521e-01  4.7863445e-01  6.2240291e-01\n",
      "  7.6192445e-01  8.9196265e-01  1.0165101e+00  1.0924035e+00\n",
      "  1.1457895e+00  1.1620641e+00  1.1428537e+00  1.0982019e+00\n",
      "  1.0133475e+00  8.9499056e-01  7.2701454e-01  5.5066264e-01\n",
      "  3.4531373e-01  8.0592133e-02 -1.7868367e-01 -4.4492444e-01\n",
      " -7.3275024e-01 -9.6041727e-01 -1.1889315e+00 -1.3674661e+00\n",
      " -1.5216413e+00 -1.6205864e+00 -1.6830041e+00 -1.7023109e+00\n",
      " -1.6829584e+00 -1.6253924e+00 -1.5191633e+00 -1.4184581e+00\n",
      " -1.2392399e+00 -1.0544339e+00 -8.8455397e-01 -6.8806326e-01\n",
      " -5.2538991e-01 -3.5649064e-01 -1.9363014e-01 -8.3752088e-02\n",
      "  4.6012521e-04  6.4399078e-02  9.9306747e-02  1.1661973e-01\n",
      "  1.1008004e-01  8.0982096e-02  4.4764213e-02 -1.2282636e-02\n",
      " -7.3327430e-02 -1.2109197e-01 -1.5951826e-01 -2.1021672e-01\n",
      " -2.3041087e-01 -2.6922891e-01 -2.9073808e-01 -3.0827966e-01\n",
      " -3.1854364e-01 -3.2435429e-01 -3.2372123e-01 -3.2313472e-01\n",
      " -3.1965977e-01 -3.1338400e-01 -3.0713841e-01 -2.9902649e-01\n",
      " -2.9398963e-01 -2.8455853e-01 -2.7365062e-01 -2.6622713e-01\n",
      " -2.5995180e-01 -2.5104424e-01 -2.4248336e-01 -2.3739980e-01] [0.00528627 0.00462855 0.00526724 0.00550893 0.0104899  0.01263595\n",
      " 0.01505835 0.01962491 0.03295922 0.05840624 0.0600875  0.0709957\n",
      " 0.10837253 0.11818792 0.13205832 0.17458078 0.20128773 0.16762167\n",
      " 0.19343871 0.18543856 0.15501085 0.11552247 0.08149771 0.04099338\n",
      " 0.03077831 0.03758178 0.06242627 0.08593437 0.09382558 0.12012798\n",
      " 0.09765072 0.0997244  0.07379798 0.08718984 0.06024079 0.04300771\n",
      " 0.02553895 0.02245886 0.02629346 0.04249374 0.06186329 0.06826245\n",
      " 0.08197919 0.08718781 0.11697851 0.11634438 0.13386385 0.11760893\n",
      " 0.12213221 0.10074195 0.0707903  0.0743992  0.06748609 0.04640645\n",
      " 0.03348749 0.0294759  0.03282721 0.04110884 0.05744974 0.06547701\n",
      " 0.09511945 0.11537044 0.12486858 0.11388511 0.11403932 0.13022183\n",
      " 0.08408125 0.09422502 0.08404211 0.05348315 0.03206794 0.01675326\n",
      " 0.02791304 0.03947967 0.04725876 0.06057343 0.0528983  0.0591027\n",
      " 0.07080219 0.05620844 0.05527744 0.04438289 0.03546441 0.02947522\n",
      " 0.01547995 0.00549574 0.0066954  0.00828921 0.00777189 0.00969912\n",
      " 0.01221486 0.01396476 0.01677275 0.01780389 0.01523577 0.01922623\n",
      " 0.01910212 0.01637259 0.01857437 0.01919576]\n"
     ]
    },
    {
     "name": "stderr",
     "output_type": "stream",
     "text": [
      "100%|██████████████████████████████████████████████████████████████████████████████| 100/100 [00:00<00:00, 3226.02it/s]\n"
     ]
    },
    {
     "name": "stdout",
     "output_type": "stream",
     "text": [
      "[ 1.0792565   1.7876053   0.72402686  0.985132    0.1695936   1.1844089\n",
      "  0.31646076 -0.7806351   1.4177492   0.05667625 -1.4855839   0.6709684\n",
      " -0.10810313  0.24242762 -0.10558102 -1.6717647  -0.09445843] [0.05618902 0.01791276 0.10523145 0.05698584 0.08388917 0.0268533\n",
      " 0.13635775 0.09652756 0.15525888 0.06440967 0.07405974 0.08260594\n",
      " 0.0054263  0.08648334 0.00430614 0.02149407 0.0043377 ]\n"
     ]
    },
    {
     "name": "stderr",
     "output_type": "stream",
     "text": [
      "100%|██████████████████████████████████████████████████████████████████████████████| 100/100 [00:00<00:00, 2631.64it/s]\n"
     ]
    },
    {
     "name": "stdout",
     "output_type": "stream",
     "text": [
      "[ 1.78898227e+00  1.79742062e+00  1.80670428e+00  1.81322420e+00\n",
      "  1.81773281e+00  1.81917369e+00  1.81523132e+00  1.80087459e+00\n",
      "  1.79211318e+00  1.75852799e+00  1.69807994e+00  1.61610186e+00\n",
      "  1.56651521e+00  1.44942713e+00  1.28749478e+00  1.08535588e+00\n",
      "  8.97644222e-01  6.89844668e-01  4.89511847e-01  3.23623210e-01\n",
      "  1.71822891e-01  7.24913478e-02 -8.49978940e-04 -3.72853056e-02\n",
      " -3.49732600e-02  9.65000596e-03  7.29430690e-02  1.74910560e-01\n",
      "  2.97876328e-01  4.17016894e-01  5.69056451e-01  7.18742967e-01\n",
      "  8.45485628e-01  9.78376746e-01  1.06598854e+00  1.14038670e+00\n",
      "  1.18000746e+00  1.17460132e+00  1.15312016e+00  1.08285213e+00\n",
      "  9.91099834e-01  8.49503994e-01  6.92171991e-01  4.68498737e-01\n",
      "  2.57914782e-01  7.71774910e-03 -2.54818410e-01 -5.14167011e-01\n",
      " -7.57759392e-01 -9.88601208e-01 -1.19815826e+00 -1.36566997e+00\n",
      " -1.50026095e+00 -1.61010742e+00 -1.66547930e+00 -1.68662226e+00\n",
      " -1.66377079e+00 -1.59097135e+00 -1.47313452e+00 -1.33372450e+00\n",
      " -1.15593016e+00 -9.79794919e-01 -7.87929773e-01 -6.43389761e-01\n",
      " -5.02341688e-01 -3.92892718e-01 -3.16303670e-01 -2.69903839e-01\n",
      " -2.18184680e-01 -1.87516257e-01 -1.60412088e-01 -1.50371730e-01\n",
      " -1.34782657e-01 -1.27889410e-01 -1.21989258e-01 -1.15876906e-01\n",
      " -1.11481577e-01 -1.07208580e-01 -1.05777435e-01 -1.02828115e-01\n",
      " -1.01228066e-01 -9.94451046e-02 -9.82189924e-02 -9.57286805e-02\n",
      " -9.45468545e-02 -9.37630534e-02 -9.24514607e-02 -9.03191566e-02\n",
      " -8.92402083e-02 -8.85300338e-02 -8.83507803e-02 -8.74343887e-02\n",
      " -8.52882490e-02 -8.48195180e-02 -8.41844976e-02 -8.34679827e-02\n",
      " -8.22310895e-02 -8.16503987e-02 -8.09964016e-02 -7.93314129e-02] [0.01695745 0.0190518  0.01526302 0.01560368 0.01681991 0.01709128\n",
      " 0.01911212 0.02939327 0.03994006 0.05534516 0.07766426 0.11566862\n",
      " 0.09405688 0.14515848 0.17726567 0.19406301 0.20099445 0.18457004\n",
      " 0.17266946 0.13274857 0.09332865 0.07259797 0.04363274 0.01636623\n",
      " 0.02595898 0.04325796 0.06959673 0.07453087 0.1022703  0.09398365\n",
      " 0.10594636 0.09386402 0.08914426 0.06449601 0.05526879 0.04697548\n",
      " 0.03072042 0.03676321 0.03304535 0.04186397 0.04789854 0.06839332\n",
      " 0.08083189 0.08271436 0.0994706  0.09526486 0.10246066 0.10687333\n",
      " 0.07967308 0.07981118 0.07188811 0.06142274 0.05567538 0.03802709\n",
      " 0.02821121 0.01788277 0.02425805 0.04309136 0.07208518 0.10443604\n",
      " 0.11093755 0.13782056 0.09826437 0.11385041 0.08518314 0.07306539\n",
      " 0.06179704 0.05459011 0.03739906 0.0292823  0.01824424 0.01853324\n",
      " 0.01150748 0.01245393 0.00936097 0.00801984 0.0064419  0.00433396\n",
      " 0.00530431 0.00510603 0.00499107 0.00450529 0.00441354 0.00445697\n",
      " 0.00395851 0.0050318  0.00430363 0.00363434 0.00355301 0.00350977\n",
      " 0.00448094 0.00452559 0.00360779 0.00414354 0.00439609 0.00415125\n",
      " 0.00410766 0.00379343 0.00346064 0.00369105]\n"
     ]
    },
    {
     "name": "stderr",
     "output_type": "stream",
     "text": [
      "100%|██████████████████████████████████████████████████████████████████████████████| 100/100 [00:00<00:00, 4347.69it/s]\n"
     ]
    },
    {
     "name": "stdout",
     "output_type": "stream",
     "text": [
      "[ 1.0945667   1.8028789   0.62023807  1.0106212   0.09746404  1.1609894\n",
      "  0.5492989  -0.8786876   1.534111    0.18281084 -1.5321968   0.7217127\n",
      " -0.09445915  0.33262026 -0.16333811 -1.6891742  -0.31454736] [0.04721523 0.00549436 0.1061871  0.05047035 0.09142056 0.02020465\n",
      " 0.17975348 0.13008364 0.11176887 0.11035123 0.06295317 0.10824266\n",
      " 0.07363573 0.09777419 0.0637078  0.03465732 0.02681516]\n"
     ]
    },
    {
     "name": "stderr",
     "output_type": "stream",
     "text": [
      "100%|██████████████████████████████████████████████████████████████████████████████| 100/100 [00:00<00:00, 3030.37it/s]\n"
     ]
    },
    {
     "name": "stdout",
     "output_type": "stream",
     "text": [
      "[ 1.80276215e+00  1.80582058e+00  1.80673552e+00  1.80682111e+00\n",
      "  1.80786288e+00  1.80459762e+00  1.80019915e+00  1.79159272e+00\n",
      "  1.77590573e+00  1.75046980e+00  1.71924901e+00  1.66483760e+00\n",
      "  1.59940410e+00  1.53238630e+00  1.37837076e+00  1.26899874e+00\n",
      "  1.12553203e+00  9.07141328e-01  7.36529946e-01  5.51135182e-01\n",
      "  3.26409072e-01  1.98274761e-01  6.05524667e-02 -2.03635618e-02\n",
      " -5.10045402e-02 -3.93789560e-02  9.75614879e-03  1.01351976e-01\n",
      "  1.77869618e-01  3.34308475e-01  4.63879138e-01  6.34768963e-01\n",
      "  7.76302338e-01  8.99833739e-01  1.01068211e+00  1.09102869e+00\n",
      "  1.14222896e+00  1.15846300e+00  1.14636123e+00  1.09998202e+00\n",
      "  1.01860309e+00  8.99650574e-01  7.35200822e-01  5.54002285e-01\n",
      "  3.32968563e-01  7.58454502e-02 -1.78858981e-01 -4.39293265e-01\n",
      " -7.09174931e-01 -9.65997100e-01 -1.18990374e+00 -1.36392164e+00\n",
      " -1.51248896e+00 -1.62736297e+00 -1.67942631e+00 -1.70436645e+00\n",
      " -1.68964124e+00 -1.62141490e+00 -1.52808118e+00 -1.41967189e+00\n",
      " -1.24830711e+00 -1.07322335e+00 -9.03189600e-01 -7.04021633e-01\n",
      " -5.07639825e-01 -3.31142038e-01 -1.97487071e-01 -8.03177059e-02\n",
      "  1.19450400e-02  6.91862628e-02  1.01107977e-01  1.16701543e-01\n",
      "  1.07634045e-01  8.46541300e-02  3.28308903e-02  1.17179519e-03\n",
      " -5.79149574e-02 -1.12289868e-01 -1.55826792e-01 -2.04736277e-01\n",
      " -2.34611854e-01 -2.70621538e-01 -2.85707623e-01 -3.06844145e-01\n",
      " -3.12564254e-01 -3.20706874e-01 -3.20987344e-01 -3.22804868e-01\n",
      " -3.19321871e-01 -3.13990235e-01 -3.11576426e-01 -3.02434325e-01\n",
      " -2.92027950e-01 -2.86401242e-01 -2.75618285e-01 -2.69507676e-01\n",
      " -2.60834724e-01 -2.50368536e-01 -2.43246540e-01 -2.31929258e-01] [0.00518265 0.00528165 0.0049217  0.00578344 0.00726554 0.00964448\n",
      " 0.01075406 0.01564392 0.02524121 0.04267372 0.06034183 0.07146282\n",
      " 0.10614267 0.10612636 0.16466393 0.16265109 0.1689042  0.18593459\n",
      " 0.19379336 0.15599777 0.15174149 0.11555658 0.08372723 0.04793845\n",
      " 0.02581963 0.04806142 0.06184239 0.08835607 0.09273643 0.10126495\n",
      " 0.10548057 0.0995727  0.09409637 0.0795773  0.06068381 0.04169389\n",
      " 0.02992043 0.02096041 0.0265712  0.03863108 0.0542265  0.07474221\n",
      " 0.09100585 0.09367    0.0994115  0.12019594 0.11554796 0.12885135\n",
      " 0.10419357 0.10815828 0.07615831 0.08658966 0.05574689 0.03822016\n",
      " 0.0339507  0.02812962 0.02753207 0.04195626 0.0587681  0.0827139\n",
      " 0.10120864 0.11629601 0.13211344 0.12087862 0.1409673  0.10547389\n",
      " 0.09970205 0.08732006 0.06433035 0.05036762 0.04029798 0.01854545\n",
      " 0.02723699 0.03867934 0.04681545 0.05932649 0.06307127 0.0628162\n",
      " 0.06946614 0.06346324 0.05213951 0.04385154 0.04024876 0.02674343\n",
      " 0.02982042 0.01142131 0.01461697 0.00581471 0.00718823 0.00924668\n",
      " 0.01276876 0.0138817  0.01470859 0.01750722 0.01703061 0.01908248\n",
      " 0.0196607  0.02075968 0.01939879 0.01699508]\n"
     ]
    },
    {
     "name": "stderr",
     "output_type": "stream",
     "text": [
      "C:\\Users\\thoma\\Documents\\GitHub\\uncertainty_regression_pytorch\\models\\experimentation.py:376: MatplotlibDeprecationWarning: \n",
      "The frameon kwarg was deprecated in Matplotlib 3.1 and will be removed in 3.3. Use facecolor instead.\n",
      "  frameon=None, metadata=None)\n",
      "C:\\Users\\thoma\\Documents\\GitHub\\uncertainty_regression_pytorch\\models\\experimentation.py:420: MatplotlibDeprecationWarning: \n",
      "The frameon kwarg was deprecated in Matplotlib 3.1 and will be removed in 3.3. Use facecolor instead.\n",
      "  frameon=None, metadata=None)\n",
      "C:\\Users\\thoma\\Documents\\GitHub\\uncertainty_regression_pytorch\\models\\experimentation.py:454: MatplotlibDeprecationWarning: \n",
      "The frameon kwarg was deprecated in Matplotlib 3.1 and will be removed in 3.3. Use facecolor instead.\n",
      "  frameon=None, metadata=None)\n",
      "C:\\Users\\thoma\\Documents\\GitHub\\uncertainty_regression_pytorch\\models\\experimentation.py:467: MatplotlibDeprecationWarning: \n",
      "The frameon kwarg was deprecated in Matplotlib 3.1 and will be removed in 3.3. Use facecolor instead.\n",
      "  frameon=None, metadata=None)\n"
     ]
    },
    {
     "name": "stdout",
     "output_type": "stream",
     "text": [
      "Successfully created the directory figures\\Tanh\\SaverModel_toy_True_3\\ \n",
      "<class 'torch.nn.modules.activation.Tanh'>, True, SaverModel\n",
      "\n",
      "\n",
      "\n",
      "\n",
      " /n/n/nSaverModel\n"
     ]
    },
    {
     "name": "stderr",
     "output_type": "stream",
     "text": [
      "C:\\Users\\thoma\\Documents\\GitHub\\uncertainty_regression_pytorch\\models\\experimentation.py:239: MatplotlibDeprecationWarning: \n",
      "The frameon kwarg was deprecated in Matplotlib 3.1 and will be removed in 3.3. Use facecolor instead.\n",
      "  frameon=None, metadata=None)\n",
      "C:\\Users\\thoma\\Miniconda3\\envs\\pytorch\\lib\\site-packages\\numpy\\core\\fromnumeric.py:3118: RuntimeWarning: Mean of empty slice.\n",
      "  out=out, **kwargs)\n",
      "C:\\Users\\thoma\\Miniconda3\\envs\\pytorch\\lib\\site-packages\\numpy\\core\\_methods.py:85: RuntimeWarning: invalid value encountered in double_scalars\n",
      "  ret = ret.dtype.type(ret / rcount)\n",
      "C:\\Users\\thoma\\Miniconda3\\envs\\pytorch\\lib\\site-packages\\numpy\\core\\_methods.py:140: RuntimeWarning: Degrees of freedom <= 0 for slice\n",
      "  keepdims=keepdims)\n",
      "C:\\Users\\thoma\\Miniconda3\\envs\\pytorch\\lib\\site-packages\\numpy\\core\\_methods.py:110: RuntimeWarning: invalid value encountered in true_divide\n",
      "  arrmean, rcount, out=arrmean, casting='unsafe', subok=False)\n",
      "C:\\Users\\thoma\\Miniconda3\\envs\\pytorch\\lib\\site-packages\\numpy\\core\\_methods.py:132: RuntimeWarning: invalid value encountered in double_scalars\n",
      "  ret = ret.dtype.type(ret / rcount)\n"
     ]
    },
    {
     "name": "stdout",
     "output_type": "stream",
     "text": [
      "'ExperimentAnalyzer' object has no attribute 'prior_errors'\n"
     ]
    },
    {
     "name": "stderr",
     "output_type": "stream",
     "text": [
      "C:\\Users\\thoma\\Documents\\GitHub\\uncertainty_regression_pytorch\\models\\experimentation.py:376: MatplotlibDeprecationWarning: \n",
      "The frameon kwarg was deprecated in Matplotlib 3.1 and will be removed in 3.3. Use facecolor instead.\n",
      "  frameon=None, metadata=None)\n",
      "C:\\Users\\thoma\\Documents\\GitHub\\uncertainty_regression_pytorch\\models\\experimentation.py:420: MatplotlibDeprecationWarning: \n",
      "The frameon kwarg was deprecated in Matplotlib 3.1 and will be removed in 3.3. Use facecolor instead.\n",
      "  frameon=None, metadata=None)\n"
     ]
    },
    {
     "name": "stdout",
     "output_type": "stream",
     "text": [
      "'ExperimentAnalyzer' object has no attribute 'prior_cobeau'\n"
     ]
    },
    {
     "name": "stderr",
     "output_type": "stream",
     "text": [
      "C:\\Users\\thoma\\Documents\\GitHub\\uncertainty_regression_pytorch\\models\\experimentation.py:454: MatplotlibDeprecationWarning: \n",
      "The frameon kwarg was deprecated in Matplotlib 3.1 and will be removed in 3.3. Use facecolor instead.\n",
      "  frameon=None, metadata=None)\n",
      "C:\\Users\\thoma\\Documents\\GitHub\\uncertainty_regression_pytorch\\models\\experimentation.py:467: MatplotlibDeprecationWarning: \n",
      "The frameon kwarg was deprecated in Matplotlib 3.1 and will be removed in 3.3. Use facecolor instead.\n",
      "  frameon=None, metadata=None)\n"
     ]
    },
    {
     "name": "stdout",
     "output_type": "stream",
     "text": [
      "Successfully created the directory figures\\Tanh\\ShuffleEnsemble_toy_True_3\\ \n",
      "<class 'torch.nn.modules.activation.Tanh'>, True, ShuffleEnsemble\n",
      "\n",
      "\n",
      "\n",
      "\n",
      " /n/n/nShuffleEnsemble\n"
     ]
    },
    {
     "name": "stderr",
     "output_type": "stream",
     "text": [
      "C:\\Users\\thoma\\Documents\\GitHub\\uncertainty_regression_pytorch\\models\\experimentation.py:239: MatplotlibDeprecationWarning: \n",
      "The frameon kwarg was deprecated in Matplotlib 3.1 and will be removed in 3.3. Use facecolor instead.\n",
      "  frameon=None, metadata=None)\n",
      "C:\\Users\\thoma\\Documents\\GitHub\\uncertainty_regression_pytorch\\models\\experimentation.py:376: MatplotlibDeprecationWarning: \n",
      "The frameon kwarg was deprecated in Matplotlib 3.1 and will be removed in 3.3. Use facecolor instead.\n",
      "  frameon=None, metadata=None)\n",
      "C:\\Users\\thoma\\Documents\\GitHub\\uncertainty_regression_pytorch\\models\\experimentation.py:420: MatplotlibDeprecationWarning: \n",
      "The frameon kwarg was deprecated in Matplotlib 3.1 and will be removed in 3.3. Use facecolor instead.\n",
      "  frameon=None, metadata=None)\n",
      "C:\\Users\\thoma\\Documents\\GitHub\\uncertainty_regression_pytorch\\models\\experimentation.py:454: MatplotlibDeprecationWarning: \n",
      "The frameon kwarg was deprecated in Matplotlib 3.1 and will be removed in 3.3. Use facecolor instead.\n",
      "  frameon=None, metadata=None)\n",
      "C:\\Users\\thoma\\Documents\\GitHub\\uncertainty_regression_pytorch\\models\\experimentation.py:467: MatplotlibDeprecationWarning: \n",
      "The frameon kwarg was deprecated in Matplotlib 3.1 and will be removed in 3.3. Use facecolor instead.\n",
      "  frameon=None, metadata=None)\n"
     ]
    },
    {
     "name": "stdout",
     "output_type": "stream",
     "text": [
      "Successfully created the directory figures\\Tanh\\VanillaEnsemble_toy_True_3\\ \n",
      "<class 'torch.nn.modules.activation.Tanh'>, True, VanillaEnsemble\n",
      "\n",
      "\n",
      "\n",
      "\n",
      " /n/n/nVanillaEnsemble\n"
     ]
    },
    {
     "name": "stderr",
     "output_type": "stream",
     "text": [
      "C:\\Users\\thoma\\Documents\\GitHub\\uncertainty_regression_pytorch\\models\\experimentation.py:239: MatplotlibDeprecationWarning: \n",
      "The frameon kwarg was deprecated in Matplotlib 3.1 and will be removed in 3.3. Use facecolor instead.\n",
      "  frameon=None, metadata=None)\n",
      "C:\\Users\\thoma\\Documents\\GitHub\\uncertainty_regression_pytorch\\models\\experimentation.py:376: MatplotlibDeprecationWarning: \n",
      "The frameon kwarg was deprecated in Matplotlib 3.1 and will be removed in 3.3. Use facecolor instead.\n",
      "  frameon=None, metadata=None)\n",
      "C:\\Users\\thoma\\Documents\\GitHub\\uncertainty_regression_pytorch\\models\\experimentation.py:420: MatplotlibDeprecationWarning: \n",
      "The frameon kwarg was deprecated in Matplotlib 3.1 and will be removed in 3.3. Use facecolor instead.\n",
      "  frameon=None, metadata=None)\n",
      "C:\\Users\\thoma\\Documents\\GitHub\\uncertainty_regression_pytorch\\models\\experimentation.py:454: MatplotlibDeprecationWarning: \n",
      "The frameon kwarg was deprecated in Matplotlib 3.1 and will be removed in 3.3. Use facecolor instead.\n",
      "  frameon=None, metadata=None)\n",
      "C:\\Users\\thoma\\Documents\\GitHub\\uncertainty_regression_pytorch\\models\\experimentation.py:467: MatplotlibDeprecationWarning: \n",
      "The frameon kwarg was deprecated in Matplotlib 3.1 and will be removed in 3.3. Use facecolor instead.\n",
      "  frameon=None, metadata=None)\n"
     ]
    },
    {
     "data": {
      "image/png": "[encoded data removed]",
      "text/plain": [
       "<Figure size 432x288 with 1 Axes>"
      ]
     },
     "metadata": {
      "needs_background": "light"
     },
     "output_type": "display_data"
    }
   ],
   "source": [
    "import numpy as np\n",
    "import torch\n",
    "\n",
    "seed = 42 #424\n",
    "np.random.seed(seed)\n",
    "torch.manual_seed(seed)\n",
    "#NOTE! This only works for non cudnn. gpu needs\n",
    "torch.backends.cudnn.deterministic = True\n",
    "torch.backends.cudnn.benchmark = False\n",
    "\n",
    "from helpers import showcase_code\n",
    "\n",
    "import matplotlib.pyplot as plt\n",
    "#%matplotlib inline\n",
    "import seaborn as sns\n",
    "import pickle\n",
    "\n",
    "from experimentation import ExperimentAnalyzer\n",
    "import os\n",
    "import time\n",
    "import pandas as pd\n",
    "import gc\n",
    "\n",
    "\n",
    "means_dict = {}\n",
    "stds_dict = {}\n",
    "count_dict = {}\n",
    "min_dict = {}\n",
    "max_dict = {}\n",
    "\n",
    "\n",
    "for file in files:\n",
    "    plt.close()\n",
    "    plt.clf()\n",
    "    with  open(f'pickles\\\\{non_linearity_name}\\\\'+file, \"rb\") as f:\n",
    "        exp = pickle.load(f)\n",
    "\n",
    "\n",
    "\n",
    "    analyzer = ExperimentAnalyzer(exp)\n",
    "    exp = None\n",
    "    gc.collect()\n",
    "    df1 = analyzer.analysis()\n",
    "    print(f'\\n\\n\\n\\n /n/n/n{analyzer.experiment.model_name}')\n",
    "    #print(df1.describe().to_latex())\n",
    "    analyzer.get_outlier_indices()\n",
    "    analyzer.plot_outcomes()\n",
    "    plt.figure()\n",
    "    df2 = analyzer.analysis()\n",
    "\n",
    "\n",
    "    #print(df2.describe().to_latex())\n",
    "    means_dict[analyzer.model_name] = df2.describe().loc['mean']\n",
    "    \n",
    "    try:\n",
    "        means_dict[analyzer.model_name+' prior'] = {'nlpd': np.mean(analyzer.stats_dict['analysis']['prior_nlpd']),\n",
    "                                                    'errors': np.mean(analyzer.stats_dict['analysis']['prior_test_errors']),\n",
    "                                                    'cobeau': np.mean(analyzer.stats_dict['analysis']['prior_cobeau']),\n",
    "                                                    'cobeau_p_vals': np.mean(analyzer.stats_dict['analysis']['prior_cobeau_p'])\n",
    "                                                   }\n",
    "    except Exception as e:\n",
    "        print(analyzer.model_name)\n",
    "        print(e)\n",
    "    \n",
    "    \n",
    "    \n",
    "    \n",
    "    \n",
    "    \n",
    "    stds_dict[analyzer.model_name] = df2.describe().loc['std']\n",
    "    \n",
    "    try:\n",
    "        stds_dict[analyzer.model_name+' prior'] = {'nlpd': np.std(analyzer.stats_dict['analysis']['prior_nlpd']),\n",
    "                                                    'errors': np.std(analyzer.stats_dict['analysis']['prior_test_errors']),\n",
    "                                                    'cobeau': np.std(analyzer.stats_dict['analysis']['prior_cobeau']),\n",
    "                                                    'cobeau_p_vals': np.std(analyzer.stats_dict['analysis']['prior_cobeau_p'])\n",
    "                                                   }\n",
    "    except Exception as e:\n",
    "        print(analyzer.model_name)\n",
    "        print(e)\n",
    "    \n",
    "    \n",
    "    \n",
    "    \n",
    "    count_dict[analyzer.model_name] = df2.describe().loc['count']\n",
    "    min_dict[analyzer.model_name] = df2.describe().loc['min']\n",
    "    max_dict[analyzer.model_name] = df2.describe().loc['max']\n",
    "    \n",
    "    \n",
    "    \n",
    "    \n",
    "\n",
    "    analyzer.plot_models()\n",
    "\n",
    "    analyzer.plot_models('cobeau')\n",
    "\n",
    "    analyzer.plot_models('nlpd')\n",
    "    analyzer.plot_distribution_of_metrics()\n",
    "\n",
    "    gc.collect()\n",
    "\n",
    "\n",
    "#     try:\n",
    "#         analyzer.plot_outlier_models()\n",
    "\n",
    "\n",
    "\n",
    "#     except Exception as e:\n",
    "#         print(e)\n",
    "\n",
    "\n",
    "    \n",
    "    \n"
   ]
  },
  {
   "cell_type": "code",
   "execution_count": null,
   "metadata": {},
   "outputs": [],
   "source": []
  },
  {
   "cell_type": "code",
   "execution_count": 5,
   "metadata": {},
   "outputs": [],
   "source": [
    "pd_means = pd.DataFrame.from_dict(means_dict)\n",
    "pd_stds = pd.DataFrame.from_dict(stds_dict)\n",
    "pd_means = pd.DataFrame.from_dict(means_dict)"
   ]
  },
  {
   "cell_type": "code",
   "execution_count": null,
   "metadata": {},
   "outputs": [],
   "source": []
  },
  {
   "cell_type": "code",
   "execution_count": null,
   "metadata": {},
   "outputs": [],
   "source": []
  },
  {
   "cell_type": "code",
   "execution_count": 6,
   "metadata": {},
   "outputs": [],
   "source": [
    "# pd_means['prior'] = [np.mean(analyzer.stats_dict['analysis']['prior_nlpd']),\n",
    "#                      np.mean(analyzer.stats_dict['analysis']['prior_test_errors']),\n",
    "#                      np.mean(analyzer.stats_dict['analysis']['prior_cobeau']),\n",
    "#                      np.mean(analyzer.stats_dict['analysis']['prior_cobeau_p'])]"
   ]
  },
  {
   "cell_type": "code",
   "execution_count": 7,
   "metadata": {},
   "outputs": [],
   "source": [
    "\n",
    "pd_means = pd_means.dropna(1)\n",
    "pd_means['train set mean/std'] = [analyzer.stupid_function_nlpd,analyzer.stupid_function_error, None, None][::-1]\n",
    "if toy == 'True':\n",
    "    pd_means['generating function'] = [analyzer.original_function_nlpd,analyzer.original_function_error , None, None][::-1]\n",
    "pd_means = pd_means.round(2)"
   ]
  },
  {
   "cell_type": "code",
   "execution_count": 8,
   "metadata": {},
   "outputs": [
    {
     "data": {
      "text/html": [
       "<div>\n",
       "<style scoped>\n",
       "    .dataframe tbody tr th:only-of-type {\n",
       "        vertical-align: middle;\n",
       "    }\n",
       "\n",
       "    .dataframe tbody tr th {\n",
       "        vertical-align: top;\n",
       "    }\n",
       "\n",
       "    .dataframe thead th {\n",
       "        text-align: right;\n",
       "    }\n",
       "</style>\n",
       "<table border=\"1\" class=\"dataframe\">\n",
       "  <thead>\n",
       "    <tr style=\"text-align: right;\">\n",
       "      <th></th>\n",
       "      <th>BobstrapEnsemble</th>\n",
       "      <th>BootstrapEnsemble</th>\n",
       "      <th>BootstrapEnsemble prior</th>\n",
       "      <th>DropoutModel</th>\n",
       "      <th>DropoutModel prior</th>\n",
       "      <th>SaverModel</th>\n",
       "      <th>ShuffleEnsemble</th>\n",
       "      <th>ShuffleEnsemble prior</th>\n",
       "      <th>VanillaEnsemble</th>\n",
       "      <th>VanillaEnsemble prior</th>\n",
       "      <th>train set mean/std</th>\n",
       "      <th>generating function</th>\n",
       "    </tr>\n",
       "  </thead>\n",
       "  <tbody>\n",
       "    <tr>\n",
       "      <td>cobeau</td>\n",
       "      <td>0.42</td>\n",
       "      <td>0.66</td>\n",
       "      <td>0.11</td>\n",
       "      <td>-0.39</td>\n",
       "      <td>-0.26</td>\n",
       "      <td>0.52</td>\n",
       "      <td>0.78</td>\n",
       "      <td>0.02</td>\n",
       "      <td>0.77</td>\n",
       "      <td>0.02</td>\n",
       "      <td>NaN</td>\n",
       "      <td>NaN</td>\n",
       "    </tr>\n",
       "    <tr>\n",
       "      <td>cobeau_p_vals</td>\n",
       "      <td>0.17</td>\n",
       "      <td>0.01</td>\n",
       "      <td>0.66</td>\n",
       "      <td>0.12</td>\n",
       "      <td>0.34</td>\n",
       "      <td>0.04</td>\n",
       "      <td>0.00</td>\n",
       "      <td>0.95</td>\n",
       "      <td>0.00</td>\n",
       "      <td>0.95</td>\n",
       "      <td>NaN</td>\n",
       "      <td>NaN</td>\n",
       "    </tr>\n",
       "    <tr>\n",
       "      <td>errors</td>\n",
       "      <td>0.34</td>\n",
       "      <td>0.32</td>\n",
       "      <td>0.83</td>\n",
       "      <td>0.30</td>\n",
       "      <td>0.91</td>\n",
       "      <td>0.31</td>\n",
       "      <td>0.30</td>\n",
       "      <td>0.82</td>\n",
       "      <td>0.30</td>\n",
       "      <td>0.82</td>\n",
       "      <td>0.80</td>\n",
       "      <td>0.21</td>\n",
       "    </tr>\n",
       "    <tr>\n",
       "      <td>nlpd</td>\n",
       "      <td>-1.28</td>\n",
       "      <td>-1.41</td>\n",
       "      <td>1.33</td>\n",
       "      <td>9.10</td>\n",
       "      <td>30.24</td>\n",
       "      <td>-1.07</td>\n",
       "      <td>-1.28</td>\n",
       "      <td>0.93</td>\n",
       "      <td>-1.36</td>\n",
       "      <td>0.93</td>\n",
       "      <td>0.53</td>\n",
       "      <td>-1.09</td>\n",
       "    </tr>\n",
       "  </tbody>\n",
       "</table>\n",
       "</div>"
      ],
      "text/plain": [
       "               BobstrapEnsemble  BootstrapEnsemble  BootstrapEnsemble prior  \\\n",
       "cobeau                     0.42               0.66                     0.11   \n",
       "cobeau_p_vals              0.17               0.01                     0.66   \n",
       "errors                     0.34               0.32                     0.83   \n",
       "nlpd                      -1.28              -1.41                     1.33   \n",
       "\n",
       "               DropoutModel  DropoutModel prior  SaverModel  ShuffleEnsemble  \\\n",
       "cobeau                -0.39               -0.26        0.52             0.78   \n",
       "cobeau_p_vals          0.12                0.34        0.04             0.00   \n",
       "errors                 0.30                0.91        0.31             0.30   \n",
       "nlpd                   9.10               30.24       -1.07            -1.28   \n",
       "\n",
       "               ShuffleEnsemble prior  VanillaEnsemble  VanillaEnsemble prior  \\\n",
       "cobeau                          0.02             0.77                   0.02   \n",
       "cobeau_p_vals                   0.95             0.00                   0.95   \n",
       "errors                          0.82             0.30                   0.82   \n",
       "nlpd                            0.93            -1.36                   0.93   \n",
       "\n",
       "               train set mean/std  generating function  \n",
       "cobeau                        NaN                  NaN  \n",
       "cobeau_p_vals                 NaN                  NaN  \n",
       "errors                       0.80                 0.21  \n",
       "nlpd                         0.53                -1.09  "
      ]
     },
     "execution_count": 8,
     "metadata": {},
     "output_type": "execute_result"
    }
   ],
   "source": [
    "pd_means.head()"
   ]
  },
  {
   "cell_type": "code",
   "execution_count": 9,
   "metadata": {},
   "outputs": [
    {
     "data": {
      "text/html": [
       "<div>\n",
       "<style scoped>\n",
       "    .dataframe tbody tr th:only-of-type {\n",
       "        vertical-align: middle;\n",
       "    }\n",
       "\n",
       "    .dataframe tbody tr th {\n",
       "        vertical-align: top;\n",
       "    }\n",
       "\n",
       "    .dataframe thead th {\n",
       "        text-align: right;\n",
       "    }\n",
       "</style>\n",
       "<table border=\"1\" class=\"dataframe\">\n",
       "  <thead>\n",
       "    <tr style=\"text-align: right;\">\n",
       "      <th></th>\n",
       "      <th>cobeau</th>\n",
       "      <th>cobeau_p_vals</th>\n",
       "      <th>errors</th>\n",
       "      <th>nlpd</th>\n",
       "    </tr>\n",
       "  </thead>\n",
       "  <tbody>\n",
       "    <tr>\n",
       "      <td>BobstrapEnsemble</td>\n",
       "      <td>0.42</td>\n",
       "      <td>0.17</td>\n",
       "      <td>0.34</td>\n",
       "      <td>-1.28</td>\n",
       "    </tr>\n",
       "    <tr>\n",
       "      <td>BootstrapEnsemble</td>\n",
       "      <td>0.66</td>\n",
       "      <td>0.01</td>\n",
       "      <td>0.32</td>\n",
       "      <td>-1.41</td>\n",
       "    </tr>\n",
       "    <tr>\n",
       "      <td>BootstrapEnsemble prior</td>\n",
       "      <td>0.11</td>\n",
       "      <td>0.66</td>\n",
       "      <td>0.83</td>\n",
       "      <td>1.33</td>\n",
       "    </tr>\n",
       "    <tr>\n",
       "      <td>DropoutModel</td>\n",
       "      <td>-0.39</td>\n",
       "      <td>0.12</td>\n",
       "      <td>0.30</td>\n",
       "      <td>9.10</td>\n",
       "    </tr>\n",
       "    <tr>\n",
       "      <td>DropoutModel prior</td>\n",
       "      <td>-0.26</td>\n",
       "      <td>0.34</td>\n",
       "      <td>0.91</td>\n",
       "      <td>30.24</td>\n",
       "    </tr>\n",
       "    <tr>\n",
       "      <td>SaverModel</td>\n",
       "      <td>0.52</td>\n",
       "      <td>0.04</td>\n",
       "      <td>0.31</td>\n",
       "      <td>-1.07</td>\n",
       "    </tr>\n",
       "    <tr>\n",
       "      <td>ShuffleEnsemble</td>\n",
       "      <td>0.78</td>\n",
       "      <td>0.00</td>\n",
       "      <td>0.30</td>\n",
       "      <td>-1.28</td>\n",
       "    </tr>\n",
       "    <tr>\n",
       "      <td>ShuffleEnsemble prior</td>\n",
       "      <td>0.02</td>\n",
       "      <td>0.95</td>\n",
       "      <td>0.82</td>\n",
       "      <td>0.93</td>\n",
       "    </tr>\n",
       "    <tr>\n",
       "      <td>VanillaEnsemble</td>\n",
       "      <td>0.77</td>\n",
       "      <td>0.00</td>\n",
       "      <td>0.30</td>\n",
       "      <td>-1.36</td>\n",
       "    </tr>\n",
       "    <tr>\n",
       "      <td>VanillaEnsemble prior</td>\n",
       "      <td>0.02</td>\n",
       "      <td>0.95</td>\n",
       "      <td>0.82</td>\n",
       "      <td>0.93</td>\n",
       "    </tr>\n",
       "    <tr>\n",
       "      <td>train set mean/std</td>\n",
       "      <td>NaN</td>\n",
       "      <td>NaN</td>\n",
       "      <td>0.80</td>\n",
       "      <td>0.53</td>\n",
       "    </tr>\n",
       "    <tr>\n",
       "      <td>generating function</td>\n",
       "      <td>NaN</td>\n",
       "      <td>NaN</td>\n",
       "      <td>0.21</td>\n",
       "      <td>-1.09</td>\n",
       "    </tr>\n",
       "  </tbody>\n",
       "</table>\n",
       "</div>"
      ],
      "text/plain": [
       "                         cobeau  cobeau_p_vals  errors   nlpd\n",
       "BobstrapEnsemble           0.42           0.17    0.34  -1.28\n",
       "BootstrapEnsemble          0.66           0.01    0.32  -1.41\n",
       "BootstrapEnsemble prior    0.11           0.66    0.83   1.33\n",
       "DropoutModel              -0.39           0.12    0.30   9.10\n",
       "DropoutModel prior        -0.26           0.34    0.91  30.24\n",
       "SaverModel                 0.52           0.04    0.31  -1.07\n",
       "ShuffleEnsemble            0.78           0.00    0.30  -1.28\n",
       "ShuffleEnsemble prior      0.02           0.95    0.82   0.93\n",
       "VanillaEnsemble            0.77           0.00    0.30  -1.36\n",
       "VanillaEnsemble prior      0.02           0.95    0.82   0.93\n",
       "train set mean/std          NaN            NaN    0.80   0.53\n",
       "generating function         NaN            NaN    0.21  -1.09"
      ]
     },
     "execution_count": 9,
     "metadata": {},
     "output_type": "execute_result"
    }
   ],
   "source": [
    "pd_means.T"
   ]
  },
  {
   "cell_type": "code",
   "execution_count": null,
   "metadata": {},
   "outputs": [],
   "source": []
  },
  {
   "cell_type": "code",
   "execution_count": 10,
   "metadata": {},
   "outputs": [
    {
     "data": {
      "text/html": [
       "<div>\n",
       "<style scoped>\n",
       "    .dataframe tbody tr th:only-of-type {\n",
       "        vertical-align: middle;\n",
       "    }\n",
       "\n",
       "    .dataframe tbody tr th {\n",
       "        vertical-align: top;\n",
       "    }\n",
       "\n",
       "    .dataframe thead th {\n",
       "        text-align: right;\n",
       "    }\n",
       "</style>\n",
       "<table border=\"1\" class=\"dataframe\">\n",
       "  <thead>\n",
       "    <tr style=\"text-align: right;\">\n",
       "      <th></th>\n",
       "      <th>cobeau</th>\n",
       "      <th>cobeau_p_vals</th>\n",
       "      <th>errors</th>\n",
       "      <th>nlpd</th>\n",
       "    </tr>\n",
       "  </thead>\n",
       "  <tbody>\n",
       "    <tr>\n",
       "      <td>BobstrapEnsemble</td>\n",
       "      <td>0.22</td>\n",
       "      <td>0.15</td>\n",
       "      <td>0.06</td>\n",
       "      <td>0.33</td>\n",
       "    </tr>\n",
       "    <tr>\n",
       "      <td>BootstrapEnsemble</td>\n",
       "      <td>0.18</td>\n",
       "      <td>0.01</td>\n",
       "      <td>0.02</td>\n",
       "      <td>0.45</td>\n",
       "    </tr>\n",
       "    <tr>\n",
       "      <td>BootstrapEnsemble prior</td>\n",
       "      <td>0.02</td>\n",
       "      <td>0.06</td>\n",
       "      <td>0.02</td>\n",
       "      <td>0.74</td>\n",
       "    </tr>\n",
       "    <tr>\n",
       "      <td>DropoutModel</td>\n",
       "      <td>0.02</td>\n",
       "      <td>0.02</td>\n",
       "      <td>0.01</td>\n",
       "      <td>5.17</td>\n",
       "    </tr>\n",
       "    <tr>\n",
       "      <td>DropoutModel prior</td>\n",
       "      <td>0.07</td>\n",
       "      <td>0.13</td>\n",
       "      <td>0.05</td>\n",
       "      <td>1.39</td>\n",
       "    </tr>\n",
       "    <tr>\n",
       "      <td>SaverModel</td>\n",
       "      <td>0.07</td>\n",
       "      <td>0.03</td>\n",
       "      <td>0.02</td>\n",
       "      <td>0.08</td>\n",
       "    </tr>\n",
       "    <tr>\n",
       "      <td>ShuffleEnsemble</td>\n",
       "      <td>0.08</td>\n",
       "      <td>0.00</td>\n",
       "      <td>0.01</td>\n",
       "      <td>0.09</td>\n",
       "    </tr>\n",
       "    <tr>\n",
       "      <td>ShuffleEnsemble prior</td>\n",
       "      <td>0.01</td>\n",
       "      <td>0.04</td>\n",
       "      <td>0.00</td>\n",
       "      <td>0.07</td>\n",
       "    </tr>\n",
       "    <tr>\n",
       "      <td>VanillaEnsemble</td>\n",
       "      <td>0.08</td>\n",
       "      <td>0.00</td>\n",
       "      <td>0.00</td>\n",
       "      <td>0.24</td>\n",
       "    </tr>\n",
       "    <tr>\n",
       "      <td>VanillaEnsemble prior</td>\n",
       "      <td>0.01</td>\n",
       "      <td>0.04</td>\n",
       "      <td>0.00</td>\n",
       "      <td>0.07</td>\n",
       "    </tr>\n",
       "  </tbody>\n",
       "</table>\n",
       "</div>"
      ],
      "text/plain": [
       "                         cobeau  cobeau_p_vals  errors  nlpd\n",
       "BobstrapEnsemble           0.22           0.15    0.06  0.33\n",
       "BootstrapEnsemble          0.18           0.01    0.02  0.45\n",
       "BootstrapEnsemble prior    0.02           0.06    0.02  0.74\n",
       "DropoutModel               0.02           0.02    0.01  5.17\n",
       "DropoutModel prior         0.07           0.13    0.05  1.39\n",
       "SaverModel                 0.07           0.03    0.02  0.08\n",
       "ShuffleEnsemble            0.08           0.00    0.01  0.09\n",
       "ShuffleEnsemble prior      0.01           0.04    0.00  0.07\n",
       "VanillaEnsemble            0.08           0.00    0.00  0.24\n",
       "VanillaEnsemble prior      0.01           0.04    0.00  0.07"
      ]
     },
     "execution_count": 10,
     "metadata": {},
     "output_type": "execute_result"
    }
   ],
   "source": [
    "pd_stds = pd_stds.dropna(1).round(2)\n",
    "pd_stds.round(3).T"
   ]
  },
  {
   "cell_type": "code",
   "execution_count": 11,
   "metadata": {},
   "outputs": [],
   "source": [
    "import collections"
   ]
  },
  {
   "cell_type": "code",
   "execution_count": 12,
   "metadata": {},
   "outputs": [],
   "source": [
    "stats_dict = collections.defaultdict(dict)\n",
    "for row in pd_means.index:\n",
    "    \n",
    "    for col in pd_means.columns:\n",
    "\n",
    "        \n",
    "        \n",
    "        \n",
    "        \n",
    "        \n",
    "        try:\n",
    "            stats_dict[row][col] = str(pd_means.loc[row][col]) + ' \\\\footnotesize$\\pm$' + str(pd_stds.loc[row][col]) + '\\normalsize'\n",
    "        except:\n",
    "            stats_dict[row][col] = pd_means.loc[row][col]"
   ]
  },
  {
   "cell_type": "code",
   "execution_count": 13,
   "metadata": {},
   "outputs": [
    {
     "data": {
      "text/plain": [
       "['BobstrapEnsemble',\n",
       " 'BootstrapEnsemble',\n",
       " 'BootstrapEnsemble prior',\n",
       " 'DropoutModel',\n",
       " 'DropoutModel prior',\n",
       " 'SaverModel',\n",
       " 'ShuffleEnsemble',\n",
       " 'ShuffleEnsemble prior',\n",
       " 'VanillaEnsemble',\n",
       " 'VanillaEnsemble prior',\n",
       " 'train set mean/std',\n",
       " 'generating function']"
      ]
     },
     "execution_count": 13,
     "metadata": {},
     "output_type": "execute_result"
    }
   ],
   "source": [
    "list(pd.DataFrame.from_dict(stats_dict).index)"
   ]
  },
  {
   "cell_type": "code",
   "execution_count": null,
   "metadata": {},
   "outputs": [],
   "source": []
  },
  {
   "cell_type": "code",
   "execution_count": 14,
   "metadata": {},
   "outputs": [],
   "source": [
    "model_names_list = ['VanillaEnsemble', 'ShuffleEnsemble', 'BootstrapEnsemble', 'SaverModel', 'BobstrapEnsemble', 'DropoutModel']\n",
    "model_names_list_bf = ['\\textbf{{{}}}'.format(x) for x in model_names_list]\n",
    "\n",
    "prior_names_list = [                                             'VanillaEnsemble prior',\n",
    "                                           'ShuffleEnsemble prior',\n",
    "                                             'BootstrapEnsemble prior',\n",
    "                                             'DropoutModel prior',]\n",
    "benchmark_names_list = [                                             'train set mean/std',\n",
    "]\n",
    "if toy == 'True':\n",
    "    benchmark_names_list += [ 'generating function']\n",
    "\n",
    "pd_stats = pd.DataFrame.from_dict(stats_dict).reindex(model_names_list+prior_names_list+benchmark_names_list)\n"
   ]
  },
  {
   "cell_type": "code",
   "execution_count": 15,
   "metadata": {},
   "outputs": [
    {
     "data": {
      "text/plain": [
       "['\\textbf{VanillaEnsemble}',\n",
       " '\\textbf{ShuffleEnsemble}',\n",
       " '\\textbf{BootstrapEnsemble}',\n",
       " '\\textbf{SaverModel}',\n",
       " '\\textbf{BobstrapEnsemble}',\n",
       " '\\textbf{DropoutModel}']"
      ]
     },
     "execution_count": 15,
     "metadata": {},
     "output_type": "execute_result"
    }
   ],
   "source": [
    "model_names_list_bf"
   ]
  },
  {
   "cell_type": "code",
   "execution_count": 16,
   "metadata": {},
   "outputs": [
    {
     "data": {
      "text/plain": [
       "['\\textbf{VanillaEnsemble}',\n",
       " '\\textbf{ShuffleEnsemble}',\n",
       " '\\textbf{BootstrapEnsemble}',\n",
       " '\\textbf{SaverModel}',\n",
       " '\\textbf{BobstrapEnsemble}',\n",
       " '\\textbf{DropoutModel}',\n",
       " 'VanillaEnsemble prior',\n",
       " 'ShuffleEnsemble prior',\n",
       " 'BootstrapEnsemble prior',\n",
       " 'DropoutModel prior',\n",
       " 'train set mean/std',\n",
       " 'generating function']"
      ]
     },
     "execution_count": 16,
     "metadata": {},
     "output_type": "execute_result"
    }
   ],
   "source": [
    "model_names_list_bf+prior_names_list+benchmark_names_list"
   ]
  },
  {
   "cell_type": "code",
   "execution_count": 17,
   "metadata": {},
   "outputs": [],
   "source": [
    "rename_dict = {prev:after for prev,after in zip(model_names_list+prior_names_list+benchmark_names_list, model_names_list_bf+prior_names_list+benchmark_names_list)}"
   ]
  },
  {
   "cell_type": "code",
   "execution_count": 18,
   "metadata": {},
   "outputs": [
    {
     "data": {
      "text/plain": [
       "{'VanillaEnsemble': '\\textbf{VanillaEnsemble}',\n",
       " 'ShuffleEnsemble': '\\textbf{ShuffleEnsemble}',\n",
       " 'BootstrapEnsemble': '\\textbf{BootstrapEnsemble}',\n",
       " 'SaverModel': '\\textbf{SaverModel}',\n",
       " 'BobstrapEnsemble': '\\textbf{BobstrapEnsemble}',\n",
       " 'DropoutModel': '\\textbf{DropoutModel}',\n",
       " 'VanillaEnsemble prior': 'VanillaEnsemble prior',\n",
       " 'ShuffleEnsemble prior': 'ShuffleEnsemble prior',\n",
       " 'BootstrapEnsemble prior': 'BootstrapEnsemble prior',\n",
       " 'DropoutModel prior': 'DropoutModel prior',\n",
       " 'train set mean/std': 'train set mean/std',\n",
       " 'generating function': 'generating function'}"
      ]
     },
     "execution_count": 18,
     "metadata": {},
     "output_type": "execute_result"
    }
   ],
   "source": [
    "rename_dict"
   ]
  },
  {
   "cell_type": "code",
   "execution_count": 19,
   "metadata": {},
   "outputs": [],
   "source": [
    "pd_stats.rename(rename_dict, axis='index',inplace=True)"
   ]
  },
  {
   "cell_type": "code",
   "execution_count": null,
   "metadata": {},
   "outputs": [],
   "source": []
  },
  {
   "cell_type": "code",
   "execution_count": 20,
   "metadata": {},
   "outputs": [],
   "source": [
    "col_rename_dict = {x:f'\\textbf{{{x}}}' for x in pd_stats.columns}\n",
    "col_rename_dict['cobeau_p_vals'] = '\\textbf{cobeau p-vals}'"
   ]
  },
  {
   "cell_type": "code",
   "execution_count": 21,
   "metadata": {},
   "outputs": [],
   "source": [
    "pd_stats.rename(col_rename_dict,axis = 'columns',inplace=True)"
   ]
  },
  {
   "cell_type": "code",
   "execution_count": 22,
   "metadata": {},
   "outputs": [
    {
     "data": {
      "text/html": [
       "<div>\n",
       "<style scoped>\n",
       "    .dataframe tbody tr th:only-of-type {\n",
       "        vertical-align: middle;\n",
       "    }\n",
       "\n",
       "    .dataframe tbody tr th {\n",
       "        vertical-align: top;\n",
       "    }\n",
       "\n",
       "    .dataframe thead th {\n",
       "        text-align: right;\n",
       "    }\n",
       "</style>\n",
       "<table border=\"1\" class=\"dataframe\">\n",
       "  <thead>\n",
       "    <tr style=\"text-align: right;\">\n",
       "      <th></th>\n",
       "      <th>\\textbf{cobeau}</th>\n",
       "      <th>\\textbf{cobeau p-vals}</th>\n",
       "      <th>\\textbf{errors}</th>\n",
       "      <th>\\textbf{nlpd}</th>\n",
       "    </tr>\n",
       "  </thead>\n",
       "  <tbody>\n",
       "    <tr>\n",
       "      <td>\\textbf{VanillaEnsemble}</td>\n",
       "      <td>0.77 \\footnotesize$\\pm$0.08\\normalsize</td>\n",
       "      <td>0.0 \\footnotesize$\\pm$0.0\\normalsize</td>\n",
       "      <td>0.3 \\footnotesize$\\pm$0.0\\normalsize</td>\n",
       "      <td>-1.36 \\footnotesize$\\pm$0.24\\normalsize</td>\n",
       "    </tr>\n",
       "    <tr>\n",
       "      <td>\\textbf{ShuffleEnsemble}</td>\n",
       "      <td>0.78 \\footnotesize$\\pm$0.08\\normalsize</td>\n",
       "      <td>0.0 \\footnotesize$\\pm$0.0\\normalsize</td>\n",
       "      <td>0.3 \\footnotesize$\\pm$0.01\\normalsize</td>\n",
       "      <td>-1.28 \\footnotesize$\\pm$0.09\\normalsize</td>\n",
       "    </tr>\n",
       "    <tr>\n",
       "      <td>\\textbf{BootstrapEnsemble}</td>\n",
       "      <td>0.66 \\footnotesize$\\pm$0.18\\normalsize</td>\n",
       "      <td>0.01 \\footnotesize$\\pm$0.01\\normalsize</td>\n",
       "      <td>0.32 \\footnotesize$\\pm$0.02\\normalsize</td>\n",
       "      <td>-1.41 \\footnotesize$\\pm$0.45\\normalsize</td>\n",
       "    </tr>\n",
       "    <tr>\n",
       "      <td>\\textbf{SaverModel}</td>\n",
       "      <td>0.52 \\footnotesize$\\pm$0.07\\normalsize</td>\n",
       "      <td>0.04 \\footnotesize$\\pm$0.03\\normalsize</td>\n",
       "      <td>0.31 \\footnotesize$\\pm$0.02\\normalsize</td>\n",
       "      <td>-1.07 \\footnotesize$\\pm$0.08\\normalsize</td>\n",
       "    </tr>\n",
       "    <tr>\n",
       "      <td>\\textbf{BobstrapEnsemble}</td>\n",
       "      <td>0.42 \\footnotesize$\\pm$0.22\\normalsize</td>\n",
       "      <td>0.17 \\footnotesize$\\pm$0.15\\normalsize</td>\n",
       "      <td>0.34 \\footnotesize$\\pm$0.06\\normalsize</td>\n",
       "      <td>-1.28 \\footnotesize$\\pm$0.33\\normalsize</td>\n",
       "    </tr>\n",
       "    <tr>\n",
       "      <td>\\textbf{DropoutModel}</td>\n",
       "      <td>-0.39 \\footnotesize$\\pm$0.02\\normalsize</td>\n",
       "      <td>0.12 \\footnotesize$\\pm$0.02\\normalsize</td>\n",
       "      <td>0.3 \\footnotesize$\\pm$0.01\\normalsize</td>\n",
       "      <td>9.1 \\footnotesize$\\pm$5.17\\normalsize</td>\n",
       "    </tr>\n",
       "    <tr>\n",
       "      <td>VanillaEnsemble prior</td>\n",
       "      <td>0.02 \\footnotesize$\\pm$0.01\\normalsize</td>\n",
       "      <td>0.95 \\footnotesize$\\pm$0.04\\normalsize</td>\n",
       "      <td>0.82 \\footnotesize$\\pm$0.0\\normalsize</td>\n",
       "      <td>0.93 \\footnotesize$\\pm$0.07\\normalsize</td>\n",
       "    </tr>\n",
       "    <tr>\n",
       "      <td>ShuffleEnsemble prior</td>\n",
       "      <td>0.02 \\footnotesize$\\pm$0.01\\normalsize</td>\n",
       "      <td>0.95 \\footnotesize$\\pm$0.04\\normalsize</td>\n",
       "      <td>0.82 \\footnotesize$\\pm$0.0\\normalsize</td>\n",
       "      <td>0.93 \\footnotesize$\\pm$0.07\\normalsize</td>\n",
       "    </tr>\n",
       "    <tr>\n",
       "      <td>BootstrapEnsemble prior</td>\n",
       "      <td>0.11 \\footnotesize$\\pm$0.02\\normalsize</td>\n",
       "      <td>0.66 \\footnotesize$\\pm$0.06\\normalsize</td>\n",
       "      <td>0.83 \\footnotesize$\\pm$0.02\\normalsize</td>\n",
       "      <td>1.33 \\footnotesize$\\pm$0.74\\normalsize</td>\n",
       "    </tr>\n",
       "    <tr>\n",
       "      <td>DropoutModel prior</td>\n",
       "      <td>-0.26 \\footnotesize$\\pm$0.07\\normalsize</td>\n",
       "      <td>0.34 \\footnotesize$\\pm$0.13\\normalsize</td>\n",
       "      <td>0.91 \\footnotesize$\\pm$0.05\\normalsize</td>\n",
       "      <td>30.24 \\footnotesize$\\pm$1.39\\normalsize</td>\n",
       "    </tr>\n",
       "    <tr>\n",
       "      <td>train set mean/std</td>\n",
       "      <td>NaN</td>\n",
       "      <td>NaN</td>\n",
       "      <td>0.8</td>\n",
       "      <td>0.53</td>\n",
       "    </tr>\n",
       "    <tr>\n",
       "      <td>generating function</td>\n",
       "      <td>NaN</td>\n",
       "      <td>NaN</td>\n",
       "      <td>0.21</td>\n",
       "      <td>-1.09</td>\n",
       "    </tr>\n",
       "  </tbody>\n",
       "</table>\n",
       "</div>"
      ],
      "text/plain": [
       "                                                    \\textbf{cobeau}  \\\n",
       "\\textbf{VanillaEnsemble}     0.77 \\footnotesize$\\pm$0.08\\normalsize   \n",
       "\\textbf{ShuffleEnsemble}     0.78 \\footnotesize$\\pm$0.08\\normalsize   \n",
       "\\textbf{BootstrapEnsemble}   0.66 \\footnotesize$\\pm$0.18\\normalsize   \n",
       "\\textbf{SaverModel}          0.52 \\footnotesize$\\pm$0.07\\normalsize   \n",
       "\\textbf{BobstrapEnsemble}    0.42 \\footnotesize$\\pm$0.22\\normalsize   \n",
       "\\textbf{DropoutModel}       -0.39 \\footnotesize$\\pm$0.02\\normalsize   \n",
       "VanillaEnsemble prior        0.02 \\footnotesize$\\pm$0.01\\normalsize   \n",
       "ShuffleEnsemble prior        0.02 \\footnotesize$\\pm$0.01\\normalsize   \n",
       "BootstrapEnsemble prior      0.11 \\footnotesize$\\pm$0.02\\normalsize   \n",
       "DropoutModel prior          -0.26 \\footnotesize$\\pm$0.07\\normalsize   \n",
       "train set mean/std                                              NaN   \n",
       "generating function                                             NaN   \n",
       "\n",
       "                                            \\textbf{cobeau p-vals}  \\\n",
       "\\textbf{VanillaEnsemble}      0.0 \\footnotesize$\\pm$0.0\\normalsize   \n",
       "\\textbf{ShuffleEnsemble}      0.0 \\footnotesize$\\pm$0.0\\normalsize   \n",
       "\\textbf{BootstrapEnsemble}  0.01 \\footnotesize$\\pm$0.01\\normalsize   \n",
       "\\textbf{SaverModel}         0.04 \\footnotesize$\\pm$0.03\\normalsize   \n",
       "\\textbf{BobstrapEnsemble}   0.17 \\footnotesize$\\pm$0.15\\normalsize   \n",
       "\\textbf{DropoutModel}       0.12 \\footnotesize$\\pm$0.02\\normalsize   \n",
       "VanillaEnsemble prior       0.95 \\footnotesize$\\pm$0.04\\normalsize   \n",
       "ShuffleEnsemble prior       0.95 \\footnotesize$\\pm$0.04\\normalsize   \n",
       "BootstrapEnsemble prior     0.66 \\footnotesize$\\pm$0.06\\normalsize   \n",
       "DropoutModel prior          0.34 \\footnotesize$\\pm$0.13\\normalsize   \n",
       "train set mean/std                                             NaN   \n",
       "generating function                                            NaN   \n",
       "\n",
       "                                                   \\textbf{errors}  \\\n",
       "\\textbf{VanillaEnsemble}      0.3 \\footnotesize$\\pm$0.0\\normalsize   \n",
       "\\textbf{ShuffleEnsemble}     0.3 \\footnotesize$\\pm$0.01\\normalsize   \n",
       "\\textbf{BootstrapEnsemble}  0.32 \\footnotesize$\\pm$0.02\\normalsize   \n",
       "\\textbf{SaverModel}         0.31 \\footnotesize$\\pm$0.02\\normalsize   \n",
       "\\textbf{BobstrapEnsemble}   0.34 \\footnotesize$\\pm$0.06\\normalsize   \n",
       "\\textbf{DropoutModel}        0.3 \\footnotesize$\\pm$0.01\\normalsize   \n",
       "VanillaEnsemble prior        0.82 \\footnotesize$\\pm$0.0\\normalsize   \n",
       "ShuffleEnsemble prior        0.82 \\footnotesize$\\pm$0.0\\normalsize   \n",
       "BootstrapEnsemble prior     0.83 \\footnotesize$\\pm$0.02\\normalsize   \n",
       "DropoutModel prior          0.91 \\footnotesize$\\pm$0.05\\normalsize   \n",
       "train set mean/std                                             0.8   \n",
       "generating function                                           0.21   \n",
       "\n",
       "                                                      \\textbf{nlpd}  \n",
       "\\textbf{VanillaEnsemble}    -1.36 \\footnotesize$\\pm$0.24\\normalsize  \n",
       "\\textbf{ShuffleEnsemble}    -1.28 \\footnotesize$\\pm$0.09\\normalsize  \n",
       "\\textbf{BootstrapEnsemble}  -1.41 \\footnotesize$\\pm$0.45\\normalsize  \n",
       "\\textbf{SaverModel}         -1.07 \\footnotesize$\\pm$0.08\\normalsize  \n",
       "\\textbf{BobstrapEnsemble}   -1.28 \\footnotesize$\\pm$0.33\\normalsize  \n",
       "\\textbf{DropoutModel}         9.1 \\footnotesize$\\pm$5.17\\normalsize  \n",
       "VanillaEnsemble prior        0.93 \\footnotesize$\\pm$0.07\\normalsize  \n",
       "ShuffleEnsemble prior        0.93 \\footnotesize$\\pm$0.07\\normalsize  \n",
       "BootstrapEnsemble prior      1.33 \\footnotesize$\\pm$0.74\\normalsize  \n",
       "DropoutModel prior          30.24 \\footnotesize$\\pm$1.39\\normalsize  \n",
       "train set mean/std                                             0.53  \n",
       "generating function                                           -1.09  "
      ]
     },
     "execution_count": 22,
     "metadata": {},
     "output_type": "execute_result"
    }
   ],
   "source": [
    "pd_stats"
   ]
  },
  {
   "cell_type": "code",
   "execution_count": 23,
   "metadata": {},
   "outputs": [
    {
     "data": {
      "text/plain": [
       "['\\textbf{cobeau}',\n",
       " '\\textbf{cobeau p-vals}',\n",
       " '\\textbf{errors}',\n",
       " '\\textbf{nlpd}']"
      ]
     },
     "execution_count": 23,
     "metadata": {},
     "output_type": "execute_result"
    }
   ],
   "source": [
    "list(pd_stats.columns)"
   ]
  },
  {
   "cell_type": "code",
   "execution_count": 24,
   "metadata": {},
   "outputs": [],
   "source": [
    "cols = ['\\textbf{errors}',\n",
    " '\\textbf{nlpd}',\n",
    "         '\\textbf{cobeau}',\n",
    " '\\textbf{cobeau p-vals}',\n",
    "]\n",
    "pd_stats = pd_stats[cols]"
   ]
  },
  {
   "cell_type": "code",
   "execution_count": 25,
   "metadata": {},
   "outputs": [
    {
     "name": "stdout",
     "output_type": "stream",
     "text": [
      "\\begin{tabular}{lllll}\n",
      "\\toprule\n",
      "{} &                         \\textbf{errors} &                            \\textbf{nlpd} &                          \\textbf{cobeau} &                  \\textbf{cobeau p-vals} \\\\\n",
      "\\midrule\n",
      "\\textbf{VanillaEnsemble}   &    0.3 \\footnotesize$\\pm$0.0\\normalsize &  -1.36 \\footnotesize$\\pm$0.24\\normalsize &   0.77 \\footnotesize$\\pm$0.08\\normalsize &    0.0 \\footnotesize$\\pm$0.0\\normalsize \\\\\n",
      "\\textbf{ShuffleEnsemble}   &   0.3 \\footnotesize$\\pm$0.01\\normalsize &  -1.28 \\footnotesize$\\pm$0.09\\normalsize &   0.78 \\footnotesize$\\pm$0.08\\normalsize &    0.0 \\footnotesize$\\pm$0.0\\normalsize \\\\\n",
      "\\textbf{BootstrapEnsemble} &  0.32 \\footnotesize$\\pm$0.02\\normalsize &  -1.41 \\footnotesize$\\pm$0.45\\normalsize &   0.66 \\footnotesize$\\pm$0.18\\normalsize &  0.01 \\footnotesize$\\pm$0.01\\normalsize \\\\\n",
      "\\textbf{SaverModel}        &  0.31 \\footnotesize$\\pm$0.02\\normalsize &  -1.07 \\footnotesize$\\pm$0.08\\normalsize &   0.52 \\footnotesize$\\pm$0.07\\normalsize &  0.04 \\footnotesize$\\pm$0.03\\normalsize \\\\\n",
      "\\textbf{BobstrapEnsemble}  &  0.34 \\footnotesize$\\pm$0.06\\normalsize &  -1.28 \\footnotesize$\\pm$0.33\\normalsize &   0.42 \\footnotesize$\\pm$0.22\\normalsize &  0.17 \\footnotesize$\\pm$0.15\\normalsize \\\\\n",
      "\\textbf{DropoutModel}      &   0.3 \\footnotesize$\\pm$0.01\\normalsize &    9.1 \\footnotesize$\\pm$5.17\\normalsize &  -0.39 \\footnotesize$\\pm$0.02\\normalsize &  0.12 \\footnotesize$\\pm$0.02\\normalsize \\\\\n",
      "VanillaEnsemble prior      &   0.82 \\footnotesize$\\pm$0.0\\normalsize &   0.93 \\footnotesize$\\pm$0.07\\normalsize &   0.02 \\footnotesize$\\pm$0.01\\normalsize &  0.95 \\footnotesize$\\pm$0.04\\normalsize \\\\\n",
      "ShuffleEnsemble prior      &   0.82 \\footnotesize$\\pm$0.0\\normalsize &   0.93 \\footnotesize$\\pm$0.07\\normalsize &   0.02 \\footnotesize$\\pm$0.01\\normalsize &  0.95 \\footnotesize$\\pm$0.04\\normalsize \\\\\n",
      "BootstrapEnsemble prior    &  0.83 \\footnotesize$\\pm$0.02\\normalsize &   1.33 \\footnotesize$\\pm$0.74\\normalsize &   0.11 \\footnotesize$\\pm$0.02\\normalsize &  0.66 \\footnotesize$\\pm$0.06\\normalsize \\\\\n",
      "DropoutModel prior         &  0.91 \\footnotesize$\\pm$0.05\\normalsize &  30.24 \\footnotesize$\\pm$1.39\\normalsize &  -0.26 \\footnotesize$\\pm$0.07\\normalsize &  0.34 \\footnotesize$\\pm$0.13\\normalsize \\\\\n",
      "train set mean/std         &                                     0.8 &                                     0.53 &                                        - &                                       - \\\\\n",
      "generating function        &                                    0.21 &                                    -1.09 &                                        - &                                       - \\\\\n",
      "\\bottomrule\n",
      "\\end{tabular}\n",
      "\n"
     ]
    }
   ],
   "source": [
    "print(pd_stats.to_latex(na_rep ='-',bold_rows =False, escape=False))"
   ]
  },
  {
   "cell_type": "code",
   "execution_count": null,
   "metadata": {},
   "outputs": [],
   "source": []
  },
  {
   "cell_type": "markdown",
   "metadata": {},
   "source": [
    "# model table"
   ]
  },
  {
   "cell_type": "code",
   "execution_count": null,
   "metadata": {},
   "outputs": [],
   "source": []
  },
  {
   "cell_type": "code",
   "execution_count": null,
   "metadata": {},
   "outputs": [],
   "source": []
  },
  {
   "cell_type": "code",
   "execution_count": 26,
   "metadata": {},
   "outputs": [
    {
     "name": "stdout",
     "output_type": "stream",
     "text": [
      "----------------------------------------------------------------\n",
      "        Layer (type)               Output Shape         Param #\n",
      "================================================================\n",
      "            Linear-1               [-1, 0, 100]             200\n",
      "         LeakyReLU-2               [-1, 0, 100]               0\n",
      "           Dropout-3               [-1, 0, 100]               0\n",
      "            Linear-4               [-1, 0, 100]          10,100\n",
      "         LeakyReLU-5               [-1, 0, 100]               0\n",
      "            Linear-6                [-1, 0, 10]           1,010\n",
      "         LeakyReLU-7                [-1, 0, 10]               0\n",
      "            Linear-8                 [-1, 0, 1]              11\n",
      "================================================================\n",
      "Total params: 11,321\n",
      "Trainable params: 11,321\n",
      "Non-trainable params: 0\n",
      "----------------------------------------------------------------\n",
      "Input size (MB): 0.00\n",
      "Forward/backward pass size (MB): 0.00\n",
      "Params size (MB): 0.04\n",
      "Estimated Total Size (MB): 0.04\n",
      "----------------------------------------------------------------\n",
      "Sequential(\n",
      "  (0): Linear(in_features=1, out_features=100, bias=True)\n",
      "  (1): LeakyReLU(negative_slope=0.01)\n",
      "  (2): Dropout(p=0, inplace=False)\n",
      "  (3): Linear(in_features=100, out_features=100, bias=True)\n",
      "  (4): LeakyReLU(negative_slope=0.01)\n",
      "  (5): Linear(in_features=100, out_features=10, bias=True)\n",
      "  (6): LeakyReLU(negative_slope=0.01)\n",
      "  (7): Linear(in_features=10, out_features=1, bias=True)\n",
      ")\n",
      "Sequential(\n",
      "  (0): Linear(in_features=1, out_features=500, bias=True)\n",
      "  (1): LeakyReLU(negative_slope=0.01)\n",
      "  (2): Linear(in_features=500, out_features=500, bias=True)\n",
      "  (3): LeakyReLU(negative_slope=0.01)\n",
      "  (4): Linear(in_features=500, out_features=15, bias=True)\n",
      "  (5): LeakyReLU(negative_slope=0.01)\n",
      "  (6): Dropout(p=0, inplace=False)\n",
      "  (7): Linear(in_features=15, out_features=1, bias=True)\n",
      ")\n"
     ]
    },
    {
     "data": {
      "text/html": [
       "<div>\n",
       "<style scoped>\n",
       "    .dataframe tbody tr th:only-of-type {\n",
       "        vertical-align: middle;\n",
       "    }\n",
       "\n",
       "    .dataframe tbody tr th {\n",
       "        vertical-align: top;\n",
       "    }\n",
       "\n",
       "    .dataframe thead th {\n",
       "        text-align: right;\n",
       "    }\n",
       "</style>\n",
       "<table border=\"1\" class=\"dataframe\">\n",
       "  <thead>\n",
       "    <tr style=\"text-align: right;\">\n",
       "      <th></th>\n",
       "      <th>toy</th>\n",
       "      <th>housing</th>\n",
       "    </tr>\n",
       "  </thead>\n",
       "  <tbody>\n",
       "    <tr>\n",
       "      <td>layer sizes</td>\n",
       "      <td>[100, 100, 10, 1]</td>\n",
       "      <td>[500, 500, 15, 1]</td>\n",
       "    </tr>\n",
       "    <tr>\n",
       "      <td>non-linearity</td>\n",
       "      <td>Tanh</td>\n",
       "      <td>Tanh</td>\n",
       "    </tr>\n",
       "  </tbody>\n",
       "</table>\n",
       "</div>"
      ],
      "text/plain": [
       "                             toy            housing\n",
       "layer sizes    [100, 100, 10, 1]  [500, 500, 15, 1]\n",
       "non-linearity               Tanh               Tanh"
      ]
     },
     "execution_count": 26,
     "metadata": {},
     "output_type": "execute_result"
    }
   ],
   "source": [
    "from nn_models.base_model import get_toy_model,get_kaggle_model\n",
    "import torch\n",
    "from torchsummary import summary\n",
    "import collections\n",
    "import pandas as pd\n",
    "device = torch.device(\"cuda\" if torch.cuda.is_available() else \"cpu\")\n",
    "model = get_toy_model(1,torch.nn.LeakyReLU,0).to(device)\n",
    "summary(model, (0,1))\n",
    "model_dict = collections.defaultdict(dict)\n",
    "for name, get_func in zip(['toy','housing'],[get_toy_model, get_kaggle_model]):\n",
    "    model = get_func(1,torch.nn.LeakyReLU,0)\n",
    "    model_params = [x.out_features for x in list(model) if hasattr(x,'out_features')]\n",
    "    model_dict[name]['layer sizes'] = model_params\n",
    "    model_dict[name]['non-linearity'] = 'Tanh'\n",
    "    print(model)\n",
    "a = pd.DataFrame.from_dict(model_dict)\n",
    "a"
   ]
  },
  {
   "cell_type": "code",
   "execution_count": null,
   "metadata": {},
   "outputs": [],
   "source": []
  },
  {
   "cell_type": "code",
   "execution_count": null,
   "metadata": {},
   "outputs": [],
   "source": []
  },
  {
   "cell_type": "code",
   "execution_count": null,
   "metadata": {},
   "outputs": [],
   "source": []
  },
  {
   "cell_type": "code",
   "execution_count": 27,
   "metadata": {},
   "outputs": [
    {
     "name": "stdout",
     "output_type": "stream",
     "text": [
      "\\begin{tabular}{lll}\n",
      "\\toprule\n",
      "{} &                toy &            housing \\\\\n",
      "\\midrule\n",
      "layer sizes   &  [100, 100, 10, 1] &  [500, 500, 15, 1] \\\\\n",
      "non-linearity &               Tanh &               Tanh \\\\\n",
      "\\bottomrule\n",
      "\\end{tabular}\n",
      "\n"
     ]
    }
   ],
   "source": [
    "print(a.to_latex())"
   ]
  },
  {
   "cell_type": "code",
   "execution_count": 28,
   "metadata": {},
   "outputs": [
    {
     "data": {
      "text/plain": [
       "torch.nn.modules.activation.ReLU"
      ]
     },
     "execution_count": 28,
     "metadata": {},
     "output_type": "execute_result"
    }
   ],
   "source": [
    "torch.nn.ReLU"
   ]
  },
  {
   "cell_type": "code",
   "execution_count": null,
   "metadata": {},
   "outputs": [],
   "source": []
  },
  {
   "cell_type": "code",
   "execution_count": null,
   "metadata": {},
   "outputs": [],
   "source": []
  }
 ],
 "metadata": {
  "kernelspec": {
   "display_name": "Python 3",
   "language": "python",
   "name": "python3"
  },
  "language_info": {
   "codemirror_mode": {
    "name": "ipython",
    "version": 3
   },
   "file_extension": ".py",
   "mimetype": "text/x-python",
   "name": "python",
   "nbconvert_exporter": "python",
   "pygments_lexer": "ipython3",
   "version": "3.7.4"
  }
 },
 "nbformat": 4,
 "nbformat_minor": 4
}
