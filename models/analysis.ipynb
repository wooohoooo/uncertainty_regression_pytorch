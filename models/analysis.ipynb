{
 "cells": [
  {
   "cell_type": "code",
   "execution_count": 1,
   "metadata": {},
   "outputs": [],
   "source": [
    "import numpy as np\n",
    "import torch\n",
    "\n",
    "seed = 42 #424\n",
    "np.random.seed(seed)\n",
    "torch.manual_seed(seed)\n",
    "#NOTE! This only works for non cudnn. gpu needs\n",
    "torch.backends.cudnn.deterministic = True\n",
    "torch.backends.cudnn.benchmark = False\n",
    "\n",
    "from helpers import showcase_code\n",
    "\n",
    "import matplotlib.pyplot as plt\n",
    "#%matplotlib inline\n",
    "import seaborn as sns\n",
    "import pickle\n",
    "\n",
    "from experimentation import ExperimentAnalyzer\n",
    "import os\n",
    "import time\n",
    "import pandas as pd"
   ]
  },
  {
   "cell_type": "code",
   "execution_count": 2,
   "metadata": {},
   "outputs": [],
   "source": [
    "# for working with external files, otherwise kernels needs to be restarted each time\n",
    "%load_ext autoreload\n",
    "%autoreload 2"
   ]
  },
  {
   "cell_type": "code",
   "execution_count": 3,
   "metadata": {},
   "outputs": [
    {
     "name": "stdout",
     "output_type": "stream",
     "text": [
      "['BobstrapEnsemble_toy_False_100.pkl', 'BobstrapEnsemble_toy_True_100.pkl', 'BootstrapEnsemble_toy_False_100.pkl', 'BootstrapEnsemble_toy_True_100.pkl', 'DropoutModel_toy_False_100.pkl', 'DropoutModel_toy_True_100.pkl', 'SaverModel_toy_False_100.pkl', 'SaverModel_toy_True_100.pkl', 'ShuffleEnsemble_toy_False_100.pkl', 'ShuffleEnsemble_toy_True_100.pkl', 'VanillaEnsemble_toy_False_100.pkl', 'VanillaEnsemble_toy_True_100.pkl']\n"
     ]
    }
   ],
   "source": [
    "files = [x for x in os.listdir('pickles') if x.endswith('pkl')]\n",
    "\n",
    "\n",
    "print(files)"
   ]
  },
  {
   "cell_type": "markdown",
   "metadata": {},
   "source": [
    "import numpy as np\n",
    "import torch\n",
    "\n",
    "seed = 42 #424\n",
    "np.random.seed(seed)\n",
    "torch.manual_seed(seed)\n",
    "#NOTE! This only works for non cudnn. gpu needs\n",
    "torch.backends.cudnn.deterministic = True\n",
    "torch.backends.cudnn.benchmark = False\n",
    "\n",
    "from helpers import showcase_code\n",
    "\n",
    "import matplotlib.pyplot as plt\n",
    "#%matplotlib inline\n",
    "import seaborn as sns\n",
    "import pickle\n",
    "\n",
    "from experimentation import ExperimentAnalyzer\n",
    "import os\n",
    "import time\n",
    "import pandas as pd\n",
    "files = [x for x in os.listdir('pickles') if x.endswith('pkl')]\n",
    "\n",
    "\n",
    "for file in files:\n",
    "    with  open('pickles\\\\'+file, \"rb\") as f:\n",
    "        exp = pickle.load(f)\n",
    "\n",
    "\n",
    "\n",
    "    analyzer = ExperimentAnalyzer(exp)\n",
    "    df1 = analyzer.analysis()\n",
    "    print(f'{exp.model_name}')\n",
    "    print(df1.describe().to_latex())\n",
    "    analyzer.get_outlier_indices()\n",
    "    analyzer.plot_outcomes()\n",
    "    plt.figure()\n",
    "\n",
    "\n",
    "    \n",
    "    \n"
   ]
  },
  {
   "cell_type": "code",
   "execution_count": null,
   "metadata": {},
   "outputs": [],
   "source": []
  },
  {
   "cell_type": "code",
   "execution_count": 4,
   "metadata": {},
   "outputs": [
    {
     "name": "stdout",
     "output_type": "stream",
     "text": [
      "Creation of the directory figures\\BootstrapEnsemble_toy_False_100\\ failed\n",
      "0.21729060548802479 0.004031682518300142\n",
      "0.33317018153107986 0.0497090530659634\n",
      "4.5818131666830393e-05 0.00023035676855035723\n",
      "-1.7378212563568634 0.043315200006934444\n",
      "BootstrapEnsemble\n",
      "\\begin{tabular}{lrrrr}\n",
      "\\toprule\n",
      "{} &        nlpd &      errors &      cobeau &  cobeau\\_p\\_vals \\\\\n",
      "\\midrule\n",
      "count &  100.000000 &  100.000000 &  100.000000 &   1.000000e+02 \\\\\n",
      "mean  &   -1.737821 &    0.217291 &    0.333170 &   4.581813e-05 \\\\\n",
      "std   &    0.043533 &    0.004052 &    0.049959 &   2.315173e-04 \\\\\n",
      "min   &   -1.834792 &    0.208714 &    0.205491 &   1.070287e-13 \\\\\n",
      "25\\%   &   -1.768340 &    0.214417 &    0.307664 &   5.410978e-08 \\\\\n",
      "50\\%   &   -1.740687 &    0.217149 &    0.328455 &   5.562424e-07 \\\\\n",
      "75\\%   &   -1.711577 &    0.219786 &    0.355114 &   2.983729e-06 \\\\\n",
      "max   &   -1.599581 &    0.232331 &    0.471657 &   2.088366e-03 \\\\\n",
      "\\bottomrule\n",
      "\\end{tabular}\n",
      "\n"
     ]
    },
    {
     "name": "stderr",
     "output_type": "stream",
     "text": [
      "C:\\Users\\thoma\\Documents\\GitHub\\uncertainty_regression_pytorch\\models\\experimentation.py:224: MatplotlibDeprecationWarning: \n",
      "The frameon kwarg was deprecated in Matplotlib 3.1 and will be removed in 3.3. Use facecolor instead.\n",
      "  frameon=None, metadata=None)\n"
     ]
    },
    {
     "data": {
      "text/plain": [
       "<Figure size 432x288 with 0 Axes>"
      ]
     },
     "execution_count": 4,
     "metadata": {},
     "output_type": "execute_result"
    },
    {
     "data": {
      "text/plain": [
       "<Figure size 432x288 with 0 Axes>"
      ]
     },
     "metadata": {},
     "output_type": "display_data"
    }
   ],
   "source": [
    "file = files[2]\n",
    "with  open('pickles\\\\'+file, \"rb\") as f:\n",
    "    exp = pickle.load(f)\n",
    "\n",
    "\n",
    "\n",
    "analyzer = ExperimentAnalyzer(exp)\n",
    "df1 = analyzer.analysis()\n",
    "print(f'{exp.model_name}')\n",
    "print(df1.describe().to_latex())\n",
    "analyzer.get_outlier_indices()\n",
    "analyzer.plot_outcomes()\n",
    "plt.figure()\n"
   ]
  },
  {
   "cell_type": "code",
   "execution_count": 5,
   "metadata": {},
   "outputs": [
    {
     "name": "stdout",
     "output_type": "stream",
     "text": [
      "0.21713868245825083 0.003756406492263914\n",
      "0.33277247522550557 0.04980092790980586\n",
      "4.6280837773983166e-05 0.00023147102098383234\n",
      "-1.7383339014376709 0.04323051740475517\n",
      "\\begin{tabular}{lrrrr}\n",
      "\\toprule\n",
      "{} &       nlpd &     errors &     cobeau &  cobeau\\_p\\_vals \\\\\n",
      "\\midrule\n",
      "count &  99.000000 &  99.000000 &  99.000000 &   9.900000e+01 \\\\\n",
      "mean  &  -1.738334 &   0.217139 &   0.332772 &   4.628084e-05 \\\\\n",
      "std   &   0.043451 &   0.003776 &   0.050054 &   2.326490e-04 \\\\\n",
      "min   &  -1.834792 &   0.208714 &   0.205491 &   1.070287e-13 \\\\\n",
      "25\\%   &  -1.768484 &   0.214410 &   0.307425 &   6.340958e-08 \\\\\n",
      "50\\%   &  -1.741912 &   0.217131 &   0.328428 &   5.574940e-07 \\\\\n",
      "75\\%   &  -1.711988 &   0.219754 &   0.353272 &   3.040216e-06 \\\\\n",
      "max   &  -1.599581 &   0.227523 &   0.471657 &   2.088366e-03 \\\\\n",
      "\\bottomrule\n",
      "\\end{tabular}\n",
      "\n",
      "0.21713868245825083 0.003756406492263914\n",
      "0.33277247522550557 0.04980092790980586\n",
      "4.6280837773983166e-05 0.00023147102098383234\n",
      "-1.7383339014376709 0.04323051740475517\n"
     ]
    },
    {
     "name": "stderr",
     "output_type": "stream",
     "text": [
      "C:\\Users\\thoma\\Documents\\GitHub\\uncertainty_regression_pytorch\\models\\experimentation.py:360: MatplotlibDeprecationWarning: \n",
      "The frameon kwarg was deprecated in Matplotlib 3.1 and will be removed in 3.3. Use facecolor instead.\n",
      "  frameon=None, metadata=None)\n",
      "C:\\Users\\thoma\\Documents\\GitHub\\uncertainty_regression_pytorch\\models\\experimentation.py:403: MatplotlibDeprecationWarning: \n",
      "The frameon kwarg was deprecated in Matplotlib 3.1 and will be removed in 3.3. Use facecolor instead.\n",
      "  frameon=None, metadata=None)\n",
      "C:\\Users\\thoma\\Documents\\GitHub\\uncertainty_regression_pytorch\\models\\experimentation.py:436: MatplotlibDeprecationWarning: \n",
      "The frameon kwarg was deprecated in Matplotlib 3.1 and will be removed in 3.3. Use facecolor instead.\n",
      "  frameon=None, metadata=None)\n",
      "C:\\Users\\thoma\\Documents\\GitHub\\uncertainty_regression_pytorch\\models\\experimentation.py:449: MatplotlibDeprecationWarning: \n",
      "The frameon kwarg was deprecated in Matplotlib 3.1 and will be removed in 3.3. Use facecolor instead.\n",
      "  frameon=None, metadata=None)\n"
     ]
    }
   ],
   "source": [
    "df2 = analyzer.analysis()\n",
    "print(df2.describe().to_latex())\n",
    "\n",
    "analyzer.plot_distribution_of_metrics()\n",
    "\n",
    "\n",
    "    "
   ]
  },
  {
   "cell_type": "code",
   "execution_count": null,
   "metadata": {},
   "outputs": [],
   "source": [
    "analyzer.fig_path"
   ]
  },
  {
   "cell_type": "code",
   "execution_count": null,
   "metadata": {},
   "outputs": [],
   "source": [
    "df2.head()"
   ]
  },
  {
   "cell_type": "code",
   "execution_count": null,
   "metadata": {},
   "outputs": [],
   "source": [
    " df2.describe().loc['mean']"
   ]
  },
  {
   "cell_type": "code",
   "execution_count": null,
   "metadata": {},
   "outputs": [],
   "source": [
    "df_dict = {}"
   ]
  },
  {
   "cell_type": "code",
   "execution_count": null,
   "metadata": {},
   "outputs": [],
   "source": [
    "df_dict['model1'] = df2.describe().iloc[1]\n",
    "df_dict['model2'] = df2.describe().iloc[1]\n",
    "df_dict['model3'] = df2.describe().iloc[1]"
   ]
  },
  {
   "cell_type": "code",
   "execution_count": null,
   "metadata": {},
   "outputs": [],
   "source": [
    "pd.DataFrame.from_dict(df_dict)"
   ]
  },
  {
   "cell_type": "code",
   "execution_count": null,
   "metadata": {},
   "outputs": [],
   "source": [
    "analyzer.plot_models()\n"
   ]
  },
  {
   "cell_type": "code",
   "execution_count": null,
   "metadata": {},
   "outputs": [],
   "source": [
    "analyzer.plot_models('cobeau')\n"
   ]
  },
  {
   "cell_type": "code",
   "execution_count": null,
   "metadata": {},
   "outputs": [],
   "source": [
    "analyzer.plot_models('nlpd')\n",
    "\n"
   ]
  },
  {
   "cell_type": "code",
   "execution_count": null,
   "metadata": {},
   "outputs": [],
   "source": [
    "try:\n",
    "    analyzer.plot_outlier_models()\n",
    "\n",
    "\n",
    "\n",
    "except Exception as e:\n",
    "    print(e)"
   ]
  },
  {
   "cell_type": "code",
   "execution_count": null,
   "metadata": {},
   "outputs": [],
   "source": []
  },
  {
   "cell_type": "code",
   "execution_count": null,
   "metadata": {},
   "outputs": [],
   "source": []
  },
  {
   "cell_type": "code",
   "execution_count": null,
   "metadata": {},
   "outputs": [],
   "source": [
    "import numpy as np\n",
    "import torch\n",
    "\n",
    "seed = 42 #424\n",
    "np.random.seed(seed)\n",
    "torch.manual_seed(seed)\n",
    "#NOTE! This only works for non cudnn. gpu needs\n",
    "torch.backends.cudnn.deterministic = True\n",
    "torch.backends.cudnn.benchmark = False\n",
    "\n",
    "from helpers import showcase_code\n",
    "\n",
    "import matplotlib.pyplot as plt\n",
    "#%matplotlib inline\n",
    "import seaborn as sns\n",
    "import pickle\n",
    "\n",
    "from experimentation import ExperimentAnalyzer\n",
    "import os\n",
    "import time\n",
    "import pandas as pd\n",
    "import gc\n",
    "\n",
    "toy = 'False' #'False'\n",
    "\n",
    "files = [x for x in os.listdir('pickles') if x.endswith('pkl') if toy in x] # if 'Shuffle' in x]\n",
    "\n",
    "means_dict = {}\n",
    "stds_dict = {}\n",
    "count_dict = {}\n",
    "min_dict = {}\n",
    "max_dict = {}\n",
    "\n",
    "\n",
    "for file in files:\n",
    "    plt.close()\n",
    "    plt.clf()\n",
    "    with  open('pickles\\\\'+file, \"rb\") as f:\n",
    "        exp = pickle.load(f)\n",
    "\n",
    "\n",
    "\n",
    "    analyzer = ExperimentAnalyzer(exp)\n",
    "    df1 = analyzer.analysis()\n",
    "    print(f'{exp.model_name}')\n",
    "    print(df1.describe().to_latex())\n",
    "    analyzer.get_outlier_indices()\n",
    "    analyzer.plot_outcomes()\n",
    "    plt.figure()\n",
    "    df2 = analyzer.analysis()\n",
    "\n",
    "\n",
    "    print(df2.describe().to_latex())\n",
    "    means_dict[analyzer.model_name, analyzer.toy] = df2.describe().loc['mean']\n",
    "    stds_dict[analyzer.model_name, analyzer.toy] = df2.describe().loc['std']\n",
    "    count_dict[analyzer.model_name, analyzer.toy] = df2.describe().loc['count']\n",
    "    min_dict[analyzer.model_name, analyzer.toy] = df2.describe().loc['min']\n",
    "    max_dict[analyzer.model_name, analyzer.toy] = df2.describe().loc['max']\n",
    "    \n",
    "    \n",
    "    \n",
    "    \n",
    "    analyzer.plot_distribution_of_metrics()\n",
    "\n",
    "    analyzer.plot_models()\n",
    "\n",
    "    analyzer.plot_models('cobeau')\n",
    "\n",
    "    analyzer.plot_models('nlpd')\n",
    "    \n",
    "    gc.collect()\n",
    "\n",
    "\n",
    "#     try:\n",
    "#         analyzer.plot_outlier_models()\n",
    "\n",
    "\n",
    "\n",
    "#     except Exception as e:\n",
    "#         print(e)\n",
    "\n",
    "\n",
    "    \n",
    "    \n"
   ]
  },
  {
   "cell_type": "code",
   "execution_count": null,
   "metadata": {},
   "outputs": [],
   "source": [
    "pd_means = pd.DataFrame.from_dict(means_dict)\n",
    "pd_stds = pd.DataFrame.from_dict(stds_dict)\n",
    "pd_means = pd.DataFrame.from_dict(means_dict)"
   ]
  },
  {
   "cell_type": "code",
   "execution_count": null,
   "metadata": {},
   "outputs": [],
   "source": [
    "print(pd_means.T.to_latex())"
   ]
  },
  {
   "cell_type": "code",
   "execution_count": null,
   "metadata": {},
   "outputs": [],
   "source": []
  },
  {
   "cell_type": "code",
   "execution_count": null,
   "metadata": {},
   "outputs": [],
   "source": [
    "pd_means.T"
   ]
  },
  {
   "cell_type": "code",
   "execution_count": null,
   "metadata": {},
   "outputs": [],
   "source": []
  },
  {
   "cell_type": "code",
   "execution_count": null,
   "metadata": {},
   "outputs": [],
   "source": [
    "print(pd_stds.T.to_latex())"
   ]
  },
  {
   "cell_type": "code",
   "execution_count": null,
   "metadata": {},
   "outputs": [],
   "source": [
    "pd_stds.T"
   ]
  },
  {
   "cell_type": "code",
   "execution_count": null,
   "metadata": {},
   "outputs": [],
   "source": []
  },
  {
   "cell_type": "code",
   "execution_count": null,
   "metadata": {},
   "outputs": [],
   "source": []
  },
  {
   "cell_type": "code",
   "execution_count": null,
   "metadata": {},
   "outputs": [],
   "source": [
    "pd.DataFrame.from_dict(analyzer.stats_dict['analysis']['prior_nlpd']).describe().T"
   ]
  },
  {
   "cell_type": "code",
   "execution_count": null,
   "metadata": {},
   "outputs": [],
   "source": [
    "pd.DataFrame.from_dict(analyzer.stats_dict['analysis']['prior_test_errors']).describe().T"
   ]
  },
  {
   "cell_type": "code",
   "execution_count": null,
   "metadata": {},
   "outputs": [],
   "source": [
    "pd.DataFrame.from_dict(analyzer.stats_dict['analysis']['prior_cobeau']).describe().T"
   ]
  },
  {
   "cell_type": "code",
   "execution_count": null,
   "metadata": {},
   "outputs": [],
   "source": [
    "analyzer.stupid_function_error"
   ]
  },
  {
   "cell_type": "code",
   "execution_count": null,
   "metadata": {},
   "outputs": [],
   "source": [
    "analyzer.original_function_error"
   ]
  },
  {
   "cell_type": "code",
   "execution_count": null,
   "metadata": {},
   "outputs": [],
   "source": [
    "analyzer.original_function_nlpd"
   ]
  },
  {
   "cell_type": "code",
   "execution_count": null,
   "metadata": {},
   "outputs": [],
   "source": []
  }
 ],
 "metadata": {
  "kernelspec": {
   "display_name": "Python 3",
   "language": "python",
   "name": "python3"
  },
  "language_info": {
   "codemirror_mode": {
    "name": "ipython",
    "version": 3
   },
   "file_extension": ".py",
   "mimetype": "text/x-python",
   "name": "python",
   "nbconvert_exporter": "python",
   "pygments_lexer": "ipython3",
   "version": "3.7.4"
  }
 },
 "nbformat": 4,
 "nbformat_minor": 4
}
