{
 "cells": [
  {
   "cell_type": "code",
   "execution_count": 1,
   "metadata": {},
   "outputs": [],
   "source": [
    "import numpy as np\n",
    "import torch\n",
    "\n",
    "seed = 42 #424\n",
    "np.random.seed(seed)\n",
    "torch.manual_seed(seed)\n",
    "#NOTE! This only works for non cudnn. gpu needs\n",
    "torch.backends.cudnn.deterministic = True\n",
    "torch.backends.cudnn.benchmark = False\n",
    "\n",
    "from helpers import showcase_code\n",
    "\n",
    "import matplotlib.pyplot as plt\n",
    "#%matplotlib inline\n",
    "import seaborn as sns\n",
    "import pickle\n",
    "\n",
    "from experimentation import ExperimentAnalyzer\n",
    "import os\n",
    "import time\n",
    "import pandas as pd"
   ]
  },
  {
   "cell_type": "code",
   "execution_count": 2,
   "metadata": {},
   "outputs": [],
   "source": [
    "# for working with external files, otherwise kernels needs to be restarted each time\n",
    "%load_ext autoreload\n",
    "%autoreload 2"
   ]
  },
  {
   "cell_type": "code",
   "execution_count": 3,
   "metadata": {},
   "outputs": [
    {
     "name": "stdout",
     "output_type": "stream",
     "text": [
      "['BobstrapEnsemble_toy_False_100.pkl', 'BobstrapEnsemble_toy_True_100.pkl', 'BootstrapEnsemble_toy_False_100.pkl', 'BootstrapEnsemble_toy_True_100.pkl', 'DropoutModel_toy_False_100.pkl', 'DropoutModel_toy_True_100.pkl', 'SaverModel_toy_False_100.pkl', 'SaverModel_toy_True_100.pkl', 'ShuffleEnsemble_toy_False_100.pkl', 'ShuffleEnsemble_toy_True_100.pkl', 'VanillaEnsemble_toy_False_100.pkl', 'VanillaEnsemble_toy_True_100.pkl']\n"
     ]
    }
   ],
   "source": [
    "files = [x for x in os.listdir('pickles') if x.endswith('pkl')]\n",
    "\n",
    "\n",
    "print(files)"
   ]
  },
  {
   "cell_type": "markdown",
   "metadata": {},
   "source": [
    "import numpy as np\n",
    "import torch\n",
    "\n",
    "seed = 42 #424\n",
    "np.random.seed(seed)\n",
    "torch.manual_seed(seed)\n",
    "#NOTE! This only works for non cudnn. gpu needs\n",
    "torch.backends.cudnn.deterministic = True\n",
    "torch.backends.cudnn.benchmark = False\n",
    "\n",
    "from helpers import showcase_code\n",
    "\n",
    "import matplotlib.pyplot as plt\n",
    "#%matplotlib inline\n",
    "import seaborn as sns\n",
    "import pickle\n",
    "\n",
    "from experimentation import ExperimentAnalyzer\n",
    "import os\n",
    "import time\n",
    "import pandas as pd\n",
    "files = [x for x in os.listdir('pickles') if x.endswith('pkl')]\n",
    "\n",
    "\n",
    "for file in files:\n",
    "    with  open('pickles\\\\'+file, \"rb\") as f:\n",
    "        exp = pickle.load(f)\n",
    "\n",
    "\n",
    "\n",
    "    analyzer = ExperimentAnalyzer(exp)\n",
    "    df1 = analyzer.analysis()\n",
    "    print(f'{exp.model_name}')\n",
    "    print(df1.describe().to_latex())\n",
    "    analyzer.get_outlier_indices()\n",
    "    analyzer.plot_outcomes()\n",
    "    plt.figure()\n",
    "\n",
    "\n",
    "    \n",
    "    \n"
   ]
  },
  {
   "cell_type": "code",
   "execution_count": null,
   "metadata": {},
   "outputs": [],
   "source": []
  },
  {
   "cell_type": "code",
   "execution_count": 4,
   "metadata": {},
   "outputs": [
    {
     "name": "stdout",
     "output_type": "stream",
     "text": [
      "Creation of the directory figures\\BootstrapEnsemble_toy_False_100\\ failed\n",
      "0.21729060548802479 0.004031682518300142\n",
      "0.33317018153107986 0.0497090530659634\n",
      "4.5818131666830393e-05 0.00023035676855035723\n",
      "-1.7378212563568634 0.043315200006934444\n",
      "BootstrapEnsemble\n",
      "\\begin{tabular}{lrrrr}\n",
      "\\toprule\n",
      "{} &        nlpd &      errors &      cobeau &  cobeau\\_p\\_vals \\\\\n",
      "\\midrule\n",
      "count &  100.000000 &  100.000000 &  100.000000 &   1.000000e+02 \\\\\n",
      "mean  &   -1.737821 &    0.217291 &    0.333170 &   4.581813e-05 \\\\\n",
      "std   &    0.043533 &    0.004052 &    0.049959 &   2.315173e-04 \\\\\n",
      "min   &   -1.834792 &    0.208714 &    0.205491 &   1.070287e-13 \\\\\n",
      "25\\%   &   -1.768340 &    0.214417 &    0.307664 &   5.410978e-08 \\\\\n",
      "50\\%   &   -1.740687 &    0.217149 &    0.328455 &   5.562424e-07 \\\\\n",
      "75\\%   &   -1.711577 &    0.219786 &    0.355114 &   2.983729e-06 \\\\\n",
      "max   &   -1.599581 &    0.232331 &    0.471657 &   2.088366e-03 \\\\\n",
      "\\bottomrule\n",
      "\\end{tabular}\n",
      "\n"
     ]
    },
    {
     "name": "stderr",
     "output_type": "stream",
     "text": [
      "C:\\Users\\thoma\\Documents\\GitHub\\uncertainty_regression_pytorch\\models\\experimentation.py:224: MatplotlibDeprecationWarning: \n",
      "The frameon kwarg was deprecated in Matplotlib 3.1 and will be removed in 3.3. Use facecolor instead.\n",
      "  frameon=None, metadata=None)\n"
     ]
    },
    {
     "data": {
      "text/plain": [
       "<Figure size 432x288 with 0 Axes>"
      ]
     },
     "execution_count": 4,
     "metadata": {},
     "output_type": "execute_result"
    },
    {
     "data": {
      "text/plain": [
       "<Figure size 432x288 with 0 Axes>"
      ]
     },
     "metadata": {},
     "output_type": "display_data"
    }
   ],
   "source": [
    "file = files[2]\n",
    "with  open('pickles\\\\'+file, \"rb\") as f:\n",
    "    exp = pickle.load(f)\n",
    "\n",
    "\n",
    "\n",
    "analyzer = ExperimentAnalyzer(exp)\n",
    "df1 = analyzer.analysis()\n",
    "print(f'{exp.model_name}')\n",
    "print(df1.describe().to_latex())\n",
    "analyzer.get_outlier_indices()\n",
    "analyzer.plot_outcomes()\n",
    "plt.figure()\n"
   ]
  },
  {
   "cell_type": "code",
   "execution_count": 5,
   "metadata": {},
   "outputs": [
    {
     "name": "stdout",
     "output_type": "stream",
     "text": [
      "0.21713868245825083 0.003756406492263914\n",
      "0.33277247522550557 0.04980092790980586\n",
      "4.6280837773983166e-05 0.00023147102098383234\n",
      "-1.7383339014376709 0.04323051740475517\n",
      "\\begin{tabular}{lrrrr}\n",
      "\\toprule\n",
      "{} &       nlpd &     errors &     cobeau &  cobeau\\_p\\_vals \\\\\n",
      "\\midrule\n",
      "count &  99.000000 &  99.000000 &  99.000000 &   9.900000e+01 \\\\\n",
      "mean  &  -1.738334 &   0.217139 &   0.332772 &   4.628084e-05 \\\\\n",
      "std   &   0.043451 &   0.003776 &   0.050054 &   2.326490e-04 \\\\\n",
      "min   &  -1.834792 &   0.208714 &   0.205491 &   1.070287e-13 \\\\\n",
      "25\\%   &  -1.768484 &   0.214410 &   0.307425 &   6.340958e-08 \\\\\n",
      "50\\%   &  -1.741912 &   0.217131 &   0.328428 &   5.574940e-07 \\\\\n",
      "75\\%   &  -1.711988 &   0.219754 &   0.353272 &   3.040216e-06 \\\\\n",
      "max   &  -1.599581 &   0.227523 &   0.471657 &   2.088366e-03 \\\\\n",
      "\\bottomrule\n",
      "\\end{tabular}\n",
      "\n",
      "0.21713868245825083 0.003756406492263914\n",
      "0.33277247522550557 0.04980092790980586\n",
      "4.6280837773983166e-05 0.00023147102098383234\n",
      "-1.7383339014376709 0.04323051740475517\n"
     ]
    },
    {
     "name": "stderr",
     "output_type": "stream",
     "text": [
      "C:\\Users\\thoma\\Documents\\GitHub\\uncertainty_regression_pytorch\\models\\experimentation.py:361: MatplotlibDeprecationWarning: \n",
      "The frameon kwarg was deprecated in Matplotlib 3.1 and will be removed in 3.3. Use facecolor instead.\n",
      "  frameon=None, metadata=None)\n",
      "C:\\Users\\thoma\\Documents\\GitHub\\uncertainty_regression_pytorch\\models\\experimentation.py:405: MatplotlibDeprecationWarning: \n",
      "The frameon kwarg was deprecated in Matplotlib 3.1 and will be removed in 3.3. Use facecolor instead.\n",
      "  frameon=None, metadata=None)\n",
      "C:\\Users\\thoma\\Documents\\GitHub\\uncertainty_regression_pytorch\\models\\experimentation.py:439: MatplotlibDeprecationWarning: \n",
      "The frameon kwarg was deprecated in Matplotlib 3.1 and will be removed in 3.3. Use facecolor instead.\n",
      "  frameon=None, metadata=None)\n",
      "C:\\Users\\thoma\\Documents\\GitHub\\uncertainty_regression_pytorch\\models\\experimentation.py:452: MatplotlibDeprecationWarning: \n",
      "The frameon kwarg was deprecated in Matplotlib 3.1 and will be removed in 3.3. Use facecolor instead.\n",
      "  frameon=None, metadata=None)\n"
     ]
    },
    {
     "data": {
      "image/png": "[encoded data removed]",
      "text/plain": [
       "<Figure size 432x288 with 1 Axes>"
      ]
     },
     "metadata": {
      "needs_background": "light"
     },
     "output_type": "display_data"
    }
   ],
   "source": [
    "df2 = analyzer.analysis()\n",
    "print(df2.describe().to_latex())\n",
    "\n",
    "analyzer.plot_distribution_of_metrics()\n",
    "\n",
    "\n",
    "    "
   ]
  },
  {
   "cell_type": "code",
   "execution_count": 6,
   "metadata": {},
   "outputs": [
    {
     "data": {
      "text/plain": [
       "'figures\\\\BootstrapEnsemble_toy_False_100\\\\'"
      ]
     },
     "execution_count": 6,
     "metadata": {},
     "output_type": "execute_result"
    }
   ],
   "source": [
    "analyzer.fig_path"
   ]
  },
  {
   "cell_type": "code",
   "execution_count": 7,
   "metadata": {},
   "outputs": [
    {
     "data": {
      "text/html": [
       "<div>\n",
       "<style scoped>\n",
       "    .dataframe tbody tr th:only-of-type {\n",
       "        vertical-align: middle;\n",
       "    }\n",
       "\n",
       "    .dataframe tbody tr th {\n",
       "        vertical-align: top;\n",
       "    }\n",
       "\n",
       "    .dataframe thead th {\n",
       "        text-align: right;\n",
       "    }\n",
       "</style>\n",
       "<table border=\"1\" class=\"dataframe\">\n",
       "  <thead>\n",
       "    <tr style=\"text-align: right;\">\n",
       "      <th></th>\n",
       "      <th>nlpd</th>\n",
       "      <th>errors</th>\n",
       "      <th>cobeau</th>\n",
       "      <th>cobeau_p_vals</th>\n",
       "    </tr>\n",
       "  </thead>\n",
       "  <tbody>\n",
       "    <tr>\n",
       "      <td>0</td>\n",
       "      <td>-1.755604</td>\n",
       "      <td>0.217433</td>\n",
       "      <td>0.319862</td>\n",
       "      <td>1.130706e-06</td>\n",
       "    </tr>\n",
       "    <tr>\n",
       "      <td>1</td>\n",
       "      <td>-1.747903</td>\n",
       "      <td>0.212646</td>\n",
       "      <td>0.345081</td>\n",
       "      <td>1.323860e-07</td>\n",
       "    </tr>\n",
       "    <tr>\n",
       "      <td>2</td>\n",
       "      <td>-1.717561</td>\n",
       "      <td>0.217166</td>\n",
       "      <td>0.467725</td>\n",
       "      <td>1.817186e-13</td>\n",
       "    </tr>\n",
       "    <tr>\n",
       "      <td>3</td>\n",
       "      <td>-1.795925</td>\n",
       "      <td>0.218923</td>\n",
       "      <td>0.347080</td>\n",
       "      <td>1.107653e-07</td>\n",
       "    </tr>\n",
       "    <tr>\n",
       "      <td>4</td>\n",
       "      <td>-1.785674</td>\n",
       "      <td>0.218032</td>\n",
       "      <td>0.383115</td>\n",
       "      <td>3.573135e-09</td>\n",
       "    </tr>\n",
       "  </tbody>\n",
       "</table>\n",
       "</div>"
      ],
      "text/plain": [
       "       nlpd    errors    cobeau  cobeau_p_vals\n",
       "0 -1.755604  0.217433  0.319862   1.130706e-06\n",
       "1 -1.747903  0.212646  0.345081   1.323860e-07\n",
       "2 -1.717561  0.217166  0.467725   1.817186e-13\n",
       "3 -1.795925  0.218923  0.347080   1.107653e-07\n",
       "4 -1.785674  0.218032  0.383115   3.573135e-09"
      ]
     },
     "execution_count": 7,
     "metadata": {},
     "output_type": "execute_result"
    }
   ],
   "source": [
    "df2.head()"
   ]
  },
  {
   "cell_type": "code",
   "execution_count": 8,
   "metadata": {},
   "outputs": [
    {
     "data": {
      "text/plain": [
       "nlpd            -1.738334\n",
       "errors           0.217139\n",
       "cobeau           0.332772\n",
       "cobeau_p_vals    0.000046\n",
       "Name: mean, dtype: float64"
      ]
     },
     "execution_count": 8,
     "metadata": {},
     "output_type": "execute_result"
    }
   ],
   "source": [
    " df2.describe().loc['mean']"
   ]
  },
  {
   "cell_type": "code",
   "execution_count": 9,
   "metadata": {},
   "outputs": [],
   "source": [
    "df_dict = {}"
   ]
  },
  {
   "cell_type": "code",
   "execution_count": 10,
   "metadata": {},
   "outputs": [],
   "source": [
    "df_dict['model1'] = df2.describe().iloc[1]\n",
    "df_dict['model2'] = df2.describe().iloc[1]\n",
    "df_dict['model3'] = df2.describe().iloc[1]"
   ]
  },
  {
   "cell_type": "code",
   "execution_count": 11,
   "metadata": {},
   "outputs": [
    {
     "data": {
      "text/html": [
       "<div>\n",
       "<style scoped>\n",
       "    .dataframe tbody tr th:only-of-type {\n",
       "        vertical-align: middle;\n",
       "    }\n",
       "\n",
       "    .dataframe tbody tr th {\n",
       "        vertical-align: top;\n",
       "    }\n",
       "\n",
       "    .dataframe thead th {\n",
       "        text-align: right;\n",
       "    }\n",
       "</style>\n",
       "<table border=\"1\" class=\"dataframe\">\n",
       "  <thead>\n",
       "    <tr style=\"text-align: right;\">\n",
       "      <th></th>\n",
       "      <th>model1</th>\n",
       "      <th>model2</th>\n",
       "      <th>model3</th>\n",
       "    </tr>\n",
       "  </thead>\n",
       "  <tbody>\n",
       "    <tr>\n",
       "      <td>nlpd</td>\n",
       "      <td>-1.738334</td>\n",
       "      <td>-1.738334</td>\n",
       "      <td>-1.738334</td>\n",
       "    </tr>\n",
       "    <tr>\n",
       "      <td>errors</td>\n",
       "      <td>0.217139</td>\n",
       "      <td>0.217139</td>\n",
       "      <td>0.217139</td>\n",
       "    </tr>\n",
       "    <tr>\n",
       "      <td>cobeau</td>\n",
       "      <td>0.332772</td>\n",
       "      <td>0.332772</td>\n",
       "      <td>0.332772</td>\n",
       "    </tr>\n",
       "    <tr>\n",
       "      <td>cobeau_p_vals</td>\n",
       "      <td>0.000046</td>\n",
       "      <td>0.000046</td>\n",
       "      <td>0.000046</td>\n",
       "    </tr>\n",
       "  </tbody>\n",
       "</table>\n",
       "</div>"
      ],
      "text/plain": [
       "                 model1    model2    model3\n",
       "nlpd          -1.738334 -1.738334 -1.738334\n",
       "errors         0.217139  0.217139  0.217139\n",
       "cobeau         0.332772  0.332772  0.332772\n",
       "cobeau_p_vals  0.000046  0.000046  0.000046"
      ]
     },
     "execution_count": 11,
     "metadata": {},
     "output_type": "execute_result"
    }
   ],
   "source": [
    "pd.DataFrame.from_dict(df_dict)"
   ]
  },
  {
   "cell_type": "code",
   "execution_count": 12,
   "metadata": {},
   "outputs": [
    {
     "name": "stdout",
     "output_type": "stream",
     "text": [
      "99\n",
      "68 56\n"
     ]
    },
    {
     "data": {
      "text/plain": [
       "<Figure size 432x288 with 0 Axes>"
      ]
     },
     "metadata": {},
     "output_type": "display_data"
    }
   ],
   "source": [
    "analyzer.plot_models()\n"
   ]
  },
  {
   "cell_type": "code",
   "execution_count": 13,
   "metadata": {},
   "outputs": [
    {
     "name": "stdout",
     "output_type": "stream",
     "text": [
      "99\n",
      "62 50\n"
     ]
    },
    {
     "data": {
      "text/plain": [
       "<Figure size 432x288 with 0 Axes>"
      ]
     },
     "metadata": {},
     "output_type": "display_data"
    }
   ],
   "source": [
    "analyzer.plot_models('cobeau')\n"
   ]
  },
  {
   "cell_type": "code",
   "execution_count": 14,
   "metadata": {},
   "outputs": [
    {
     "name": "stdout",
     "output_type": "stream",
     "text": [
      "99\n",
      "62 93\n"
     ]
    },
    {
     "data": {
      "text/plain": [
       "<Figure size 432x288 with 0 Axes>"
      ]
     },
     "metadata": {},
     "output_type": "display_data"
    }
   ],
   "source": [
    "analyzer.plot_models('nlpd')\n",
    "\n"
   ]
  },
  {
   "cell_type": "code",
   "execution_count": 15,
   "metadata": {},
   "outputs": [
    {
     "name": "stdout",
     "output_type": "stream",
     "text": [
      "number of outliers: 1\n"
     ]
    },
    {
     "data": {
      "image/png": "[encoded data removed]",
      "text/plain": [
       "<Figure size 1332x360 with 2 Axes>"
      ]
     },
     "metadata": {
      "needs_background": "light"
     },
     "output_type": "display_data"
    }
   ],
   "source": [
    "try:\n",
    "    analyzer.plot_outlier_models()\n",
    "\n",
    "\n",
    "\n",
    "except Exception as e:\n",
    "    print(e)"
   ]
  },
  {
   "cell_type": "code",
   "execution_count": null,
   "metadata": {},
   "outputs": [],
   "source": []
  },
  {
   "cell_type": "code",
   "execution_count": null,
   "metadata": {},
   "outputs": [],
   "source": []
  },
  {
   "cell_type": "code",
   "execution_count": 16,
   "metadata": {},
   "outputs": [
    {
     "name": "stdout",
     "output_type": "stream",
     "text": [
      "Creation of the directory figures\\BobstrapEnsemble_toy_False_100\\ failed\n",
      "0.21876047559790024 0.007312458545929225\n",
      "0.3385127883108821 0.0865461642293995\n",
      "0.0010187113344293506 0.003131937080389746\n",
      "-1.6141778402268216 0.1753553419215457\n",
      "BobstrapEnsemble\n",
      "\\begin{tabular}{lrrrr}\n",
      "\\toprule\n",
      "{} &        nlpd &      errors &      cobeau &  cobeau\\_p\\_vals \\\\\n",
      "\\midrule\n",
      "count &  100.000000 &  100.000000 &  100.000000 &   1.000000e+02 \\\\\n",
      "mean  &   -1.614178 &    0.218760 &    0.338513 &   1.018711e-03 \\\\\n",
      "std   &    0.176239 &    0.007349 &    0.086982 &   3.147715e-03 \\\\\n",
      "min   &   -1.864052 &    0.204255 &    0.161124 &   7.881106e-14 \\\\\n",
      "25\\%   &   -1.739823 &    0.213759 &    0.267737 &   2.119004e-10 \\\\\n",
      "50\\%   &   -1.666871 &    0.218014 &    0.361656 &   2.905726e-08 \\\\\n",
      "75\\%   &   -1.493049 &    0.223676 &    0.409826 &   5.337730e-05 \\\\\n",
      "max   &   -1.227006 &    0.237562 &    0.473907 &   1.626741e-02 \\\\\n",
      "\\bottomrule\n",
      "\\end{tabular}\n",
      "\n",
      "0.21876047559790024 0.007312458545929225\n",
      "0.3385127883108821 0.0865461642293995\n",
      "0.0010187113344293506 0.003131937080389746\n",
      "-1.6141778402268216 0.1753553419215457\n",
      "\\begin{tabular}{lrrrr}\n",
      "\\toprule\n",
      "{} &        nlpd &      errors &      cobeau &  cobeau\\_p\\_vals \\\\\n",
      "\\midrule\n",
      "count &  100.000000 &  100.000000 &  100.000000 &   1.000000e+02 \\\\\n",
      "mean  &   -1.614178 &    0.218760 &    0.338513 &   1.018711e-03 \\\\\n",
      "std   &    0.176239 &    0.007349 &    0.086982 &   3.147715e-03 \\\\\n",
      "min   &   -1.864052 &    0.204255 &    0.161124 &   7.881106e-14 \\\\\n",
      "25\\%   &   -1.739823 &    0.213759 &    0.267737 &   2.119004e-10 \\\\\n",
      "50\\%   &   -1.666871 &    0.218014 &    0.361656 &   2.905726e-08 \\\\\n",
      "75\\%   &   -1.493049 &    0.223676 &    0.409826 &   5.337730e-05 \\\\\n",
      "max   &   -1.227006 &    0.237562 &    0.473907 &   1.626741e-02 \\\\\n",
      "\\bottomrule\n",
      "\\end{tabular}\n",
      "\n"
     ]
    },
    {
     "name": "stderr",
     "output_type": "stream",
     "text": [
      "C:\\Users\\thoma\\Miniconda3\\envs\\pytorch\\lib\\site-packages\\numpy\\core\\fromnumeric.py:3118: RuntimeWarning: Mean of empty slice.\n",
      "  out=out, **kwargs)\n",
      "C:\\Users\\thoma\\Miniconda3\\envs\\pytorch\\lib\\site-packages\\numpy\\core\\_methods.py:85: RuntimeWarning: invalid value encountered in double_scalars\n",
      "  ret = ret.dtype.type(ret / rcount)\n",
      "C:\\Users\\thoma\\Miniconda3\\envs\\pytorch\\lib\\site-packages\\numpy\\core\\_methods.py:140: RuntimeWarning: Degrees of freedom <= 0 for slice\n",
      "  keepdims=keepdims)\n",
      "C:\\Users\\thoma\\Miniconda3\\envs\\pytorch\\lib\\site-packages\\numpy\\core\\_methods.py:110: RuntimeWarning: invalid value encountered in true_divide\n",
      "  arrmean, rcount, out=arrmean, casting='unsafe', subok=False)\n",
      "C:\\Users\\thoma\\Miniconda3\\envs\\pytorch\\lib\\site-packages\\numpy\\core\\_methods.py:132: RuntimeWarning: invalid value encountered in double_scalars\n",
      "  ret = ret.dtype.type(ret / rcount)\n"
     ]
    },
    {
     "name": "stdout",
     "output_type": "stream",
     "text": [
      "0.21876047559790024 0.007312458545929225\n",
      "0.3385127883108821 0.0865461642293995\n",
      "0.0010187113344293506 0.003131937080389746\n",
      "-1.6141778402268216 0.1753553419215457\n",
      "'ExperimentAnalyzer' object has no attribute 'prior_errors'\n",
      "'ExperimentAnalyzer' object has no attribute 'prior_cobeau'\n",
      "100\n",
      "60 44\n",
      "100\n",
      "87 36\n",
      "100\n",
      "86 13\n",
      "Creation of the directory figures\\BootstrapEnsemble_toy_False_100\\ failed\n",
      "0.21729060548802479 0.004031682518300142\n",
      "0.33317018153107986 0.0497090530659634\n",
      "4.5818131666830393e-05 0.00023035676855035723\n",
      "-1.7378212563568634 0.043315200006934444\n",
      "BootstrapEnsemble\n",
      "\\begin{tabular}{lrrrr}\n",
      "\\toprule\n",
      "{} &        nlpd &      errors &      cobeau &  cobeau\\_p\\_vals \\\\\n",
      "\\midrule\n",
      "count &  100.000000 &  100.000000 &  100.000000 &   1.000000e+02 \\\\\n",
      "mean  &   -1.737821 &    0.217291 &    0.333170 &   4.581813e-05 \\\\\n",
      "std   &    0.043533 &    0.004052 &    0.049959 &   2.315173e-04 \\\\\n",
      "min   &   -1.834792 &    0.208714 &    0.205491 &   1.070287e-13 \\\\\n",
      "25\\%   &   -1.768340 &    0.214417 &    0.307664 &   5.410978e-08 \\\\\n",
      "50\\%   &   -1.740687 &    0.217149 &    0.328455 &   5.562424e-07 \\\\\n",
      "75\\%   &   -1.711577 &    0.219786 &    0.355114 &   2.983729e-06 \\\\\n",
      "max   &   -1.599581 &    0.232331 &    0.471657 &   2.088366e-03 \\\\\n",
      "\\bottomrule\n",
      "\\end{tabular}\n",
      "\n",
      "0.21713868245825083 0.003756406492263914\n",
      "0.33277247522550557 0.04980092790980586\n",
      "4.6280837773983166e-05 0.00023147102098383234\n",
      "-1.7383339014376709 0.04323051740475517\n",
      "\\begin{tabular}{lrrrr}\n",
      "\\toprule\n",
      "{} &       nlpd &     errors &     cobeau &  cobeau\\_p\\_vals \\\\\n",
      "\\midrule\n",
      "count &  99.000000 &  99.000000 &  99.000000 &   9.900000e+01 \\\\\n",
      "mean  &  -1.738334 &   0.217139 &   0.332772 &   4.628084e-05 \\\\\n",
      "std   &   0.043451 &   0.003776 &   0.050054 &   2.326490e-04 \\\\\n",
      "min   &  -1.834792 &   0.208714 &   0.205491 &   1.070287e-13 \\\\\n",
      "25\\%   &  -1.768484 &   0.214410 &   0.307425 &   6.340958e-08 \\\\\n",
      "50\\%   &  -1.741912 &   0.217131 &   0.328428 &   5.574940e-07 \\\\\n",
      "75\\%   &  -1.711988 &   0.219754 &   0.353272 &   3.040216e-06 \\\\\n",
      "max   &  -1.599581 &   0.227523 &   0.471657 &   2.088366e-03 \\\\\n",
      "\\bottomrule\n",
      "\\end{tabular}\n",
      "\n",
      "0.21713868245825083 0.003756406492263914\n",
      "0.33277247522550557 0.04980092790980586\n",
      "4.6280837773983166e-05 0.00023147102098383234\n",
      "-1.7383339014376709 0.04323051740475517\n",
      "99\n",
      "68 56\n",
      "99\n",
      "62 50\n",
      "99\n",
      "62 93\n",
      "Creation of the directory figures\\DropoutModel_toy_False_100\\ failed\n",
      "0.2053341149622577 0.004007923719845719\n",
      "0.058925746397244315 0.05606906247673801\n",
      "0.4529550120725564 0.3040952943095779\n",
      "-1.6990397303218925 0.02670945473489147\n",
      "DropoutModel\n",
      "\\begin{tabular}{lrrrr}\n",
      "\\toprule\n",
      "{} &        nlpd &      errors &      cobeau &  cobeau\\_p\\_vals \\\\\n",
      "\\midrule\n",
      "count &  100.000000 &  100.000000 &  100.000000 &     100.000000 \\\\\n",
      "mean  &   -1.699040 &    0.205334 &    0.058926 &       0.452955 \\\\\n",
      "std   &    0.026844 &    0.004028 &    0.056352 &       0.305627 \\\\\n",
      "min   &   -1.760316 &    0.197220 &   -0.038683 &       0.000545 \\\\\n",
      "25\\%   &   -1.715250 &    0.202906 &    0.015393 &       0.186182 \\\\\n",
      "50\\%   &   -1.697597 &    0.204814 &    0.052897 &       0.432900 \\\\\n",
      "75\\%   &   -1.682528 &    0.207422 &    0.089051 &       0.727990 \\\\\n",
      "max   &   -1.595320 &    0.220397 &    0.230223 &       0.983296 \\\\\n",
      "\\bottomrule\n",
      "\\end{tabular}\n",
      "\n",
      "0.2050416996704152 0.003479214763600547\n",
      "0.05872480679143313 0.056572876249997614\n",
      "0.45563632544617333 0.3061596112875607\n",
      "-1.699176295489074 0.02640492227039669\n",
      "\\begin{tabular}{lrrrr}\n",
      "\\toprule\n",
      "{} &       nlpd &     errors &     cobeau &  cobeau\\_p\\_vals \\\\\n",
      "\\midrule\n",
      "count &  98.000000 &  98.000000 &  98.000000 &      98.000000 \\\\\n",
      "mean  &  -1.699176 &   0.205042 &   0.058725 &       0.455636 \\\\\n",
      "std   &   0.026541 &   0.003497 &   0.056864 &       0.307734 \\\\\n",
      "min   &  -1.760316 &   0.197220 &  -0.038683 &       0.000545 \\\\\n",
      "25\\%   &  -1.715039 &   0.202892 &   0.015275 &       0.185804 \\\\\n",
      "50\\%   &  -1.697597 &   0.204783 &   0.052231 &       0.438772 \\\\\n",
      "75\\%   &  -1.682698 &   0.207190 &   0.089127 &       0.744272 \\\\\n",
      "max   &  -1.595320 &   0.217184 &   0.230223 &       0.983296 \\\\\n",
      "\\bottomrule\n",
      "\\end{tabular}\n",
      "\n",
      "0.2050416996704152 0.003479214763600547\n",
      "0.05872480679143313 0.056572876249997614\n",
      "0.45563632544617333 0.3061596112875607\n",
      "-1.699176295489074 0.02640492227039669\n",
      "98\n",
      "25 76\n"
     ]
    },
    {
     "name": "stderr",
     "output_type": "stream",
     "text": [
      "100%|███████████████████████████████████████████████████████████████████████████████| 100/100 [00:00<00:00, 632.91it/s]\n",
      "100%|███████████████████████████████████████████████████████████████████████████████| 100/100 [00:00<00:00, 628.93it/s]\n"
     ]
    },
    {
     "name": "stdout",
     "output_type": "stream",
     "text": [
      "98\n",
      "79 83\n"
     ]
    },
    {
     "name": "stderr",
     "output_type": "stream",
     "text": [
      "100%|███████████████████████████████████████████████████████████████████████████████| 100/100 [00:00<00:00, 649.35it/s]\n",
      "100%|███████████████████████████████████████████████████████████████████████████████| 100/100 [00:00<00:00, 598.77it/s]\n"
     ]
    },
    {
     "name": "stdout",
     "output_type": "stream",
     "text": [
      "98\n",
      "76 61\n"
     ]
    },
    {
     "name": "stderr",
     "output_type": "stream",
     "text": [
      "100%|███████████████████████████████████████████████████████████████████████████████| 100/100 [00:00<00:00, 680.28it/s]\n",
      "100%|███████████████████████████████████████████████████████████████████████████████| 100/100 [00:00<00:00, 512.82it/s]\n"
     ]
    },
    {
     "name": "stdout",
     "output_type": "stream",
     "text": [
      "Creation of the directory figures\\SaverModel_toy_False_100\\ failed\n",
      "0.21392618666162355 0.00573244292663389\n",
      "0.324026228558719 0.08841953556627567\n",
      "0.003540907958441543 0.01549434588378677\n",
      "-1.6318141522408427 0.2269732674127863\n",
      "SaverModel\n",
      "\\begin{tabular}{lrrrr}\n",
      "\\toprule\n",
      "{} &        nlpd &      errors &      cobeau &  cobeau\\_p\\_vals \\\\\n",
      "\\midrule\n",
      "count &  100.000000 &  100.000000 &  100.000000 &   1.000000e+02 \\\\\n",
      "mean  &   -1.631814 &    0.213926 &    0.324026 &   3.540908e-03 \\\\\n",
      "std   &    0.228117 &    0.005761 &    0.088865 &   1.557240e-02 \\\\\n",
      "min   &   -1.947704 &    0.203828 &    0.098105 &   1.337441e-13 \\\\\n",
      "25\\%   &   -1.801326 &    0.210460 &    0.253856 &   1.026119e-09 \\\\\n",
      "50\\%   &   -1.688064 &    0.212727 &    0.351861 &   7.199680e-08 \\\\\n",
      "75\\%   &   -1.529831 &    0.216452 &    0.395248 &   1.315601e-04 \\\\\n",
      "max   &   -0.770256 &    0.235480 &    0.470008 &   1.451181e-01 \\\\\n",
      "\\bottomrule\n",
      "\\end{tabular}\n",
      "\n",
      "0.21370847073346952 0.0053341173282942505\n",
      "0.32374953666233963 0.08882189071570326\n",
      "0.003576673948967911 0.01556829570882566\n",
      "-1.6320014221702575 0.22810902981302333\n",
      "\\begin{tabular}{lrrrr}\n",
      "\\toprule\n",
      "{} &       nlpd &     errors &     cobeau &  cobeau\\_p\\_vals \\\\\n",
      "\\midrule\n",
      "count &  99.000000 &  99.000000 &  99.000000 &   9.900000e+01 \\\\\n",
      "mean  &  -1.632001 &   0.213708 &   0.323750 &   3.576674e-03 \\\\\n",
      "std   &   0.229270 &   0.005361 &   0.089274 &   1.564752e-02 \\\\\n",
      "min   &  -1.947704 &   0.203828 &   0.098105 &   1.337441e-13 \\\\\n",
      "25\\%   &  -1.801487 &   0.210405 &   0.253376 &   9.625566e-10 \\\\\n",
      "50\\%   &  -1.689214 &   0.212715 &   0.352304 &   6.909727e-08 \\\\\n",
      "75\\%   &  -1.529231 &   0.216362 &   0.395876 &   1.356611e-04 \\\\\n",
      "max   &  -0.770256 &   0.229822 &   0.470008 &   1.451181e-01 \\\\\n",
      "\\bottomrule\n",
      "\\end{tabular}\n",
      "\n",
      "0.21370847073346952 0.0053341173282942505\n",
      "0.32374953666233963 0.08882189071570326\n",
      "0.003576673948967911 0.01556829570882566\n",
      "-1.6320014221702575 0.22810902981302333\n",
      "'ExperimentAnalyzer' object has no attribute 'prior_errors'\n",
      "'ExperimentAnalyzer' object has no attribute 'prior_cobeau'\n",
      "99\n",
      "31 55\n",
      "99\n",
      "86 7\n",
      "99\n",
      "2 93\n",
      "Creation of the directory figures\\ShuffleEnsemble_toy_False_100\\ failed\n",
      "0.22496412997326765 0.0018621569480923397\n",
      "0.28010033071100304 0.04885073080390653\n",
      "0.0005397135232466054 0.0017296074364442399\n",
      "-1.837550427892979 0.0822021880425338\n",
      "ShuffleEnsemble\n",
      "\\begin{tabular}{lrrrr}\n",
      "\\toprule\n",
      "{} &        nlpd &      errors &      cobeau &  cobeau\\_p\\_vals \\\\\n",
      "\\midrule\n",
      "count &  100.000000 &  100.000000 &  100.000000 &   1.000000e+02 \\\\\n",
      "mean  &   -1.837550 &    0.224964 &    0.280100 &   5.397135e-04 \\\\\n",
      "std   &    0.082616 &    0.001872 &    0.049097 &   1.738321e-03 \\\\\n",
      "min   &   -2.007300 &    0.220960 &    0.171358 &   2.011703e-10 \\\\\n",
      "25\\%   &   -1.882577 &    0.223495 &    0.246014 &   2.552766e-06 \\\\\n",
      "50\\%   &   -1.848220 &    0.225079 &    0.281627 &   2.057715e-05 \\\\\n",
      "75\\%   &   -1.804462 &    0.226404 &    0.309660 &   2.147404e-04 \\\\\n",
      "max   &   -1.498913 &    0.231157 &    0.410260 &   1.053648e-02 \\\\\n",
      "\\bottomrule\n",
      "\\end{tabular}\n",
      "\n",
      "0.2249015798884168 0.0017639171574488433\n",
      "0.2811808545819822 0.04789306531628357\n",
      "0.0004466712835487321 0.0014683574640371106\n",
      "-1.840971010041333 0.07520250021264235\n",
      "\\begin{tabular}{lrrrr}\n",
      "\\toprule\n",
      "{} &       nlpd &     errors &     cobeau &  cobeau\\_p\\_vals \\\\\n",
      "\\midrule\n",
      "count &  99.000000 &  99.000000 &  99.000000 &   9.900000e+01 \\\\\n",
      "mean  &  -1.840971 &   0.224902 &   0.281181 &   4.466713e-04 \\\\\n",
      "std   &   0.075585 &   0.001773 &   0.048137 &   1.475830e-03 \\\\\n",
      "min   &  -2.007300 &   0.220960 &   0.171358 &   2.011703e-10 \\\\\n",
      "25\\%   &  -1.882878 &   0.223467 &   0.246927 &   2.519591e-06 \\\\\n",
      "50\\%   &  -1.848286 &   0.225059 &   0.282553 &   1.923517e-05 \\\\\n",
      "75\\%   &  -1.806948 &   0.226345 &   0.309828 &   2.023566e-04 \\\\\n",
      "max   &  -1.587672 &   0.228126 &   0.410260 &   1.053648e-02 \\\\\n",
      "\\bottomrule\n",
      "\\end{tabular}\n",
      "\n",
      "0.2249015798884168 0.0017639171574488433\n",
      "0.2811808545819822 0.04789306531628357\n",
      "0.0004466712835487321 0.0014683574640371106\n",
      "-1.840971010041333 0.07520250021264235\n",
      "99\n",
      "16 17\n",
      "99\n",
      "79 78\n",
      "99\n",
      "77 93\n",
      "Creation of the directory figures\\VanillaEnsemble_toy_False_100\\ failed\n",
      "0.22500739081870602 0.001907953118020611\n",
      "0.27878149900872773 0.04908911416918729\n",
      "0.0006552914430694851 0.0022213099135996632\n",
      "-1.834388062478417 0.08347512526853022\n",
      "VanillaEnsemble\n",
      "\\begin{tabular}{lrrrr}\n",
      "\\toprule\n",
      "{} &        nlpd &      errors &      cobeau &  cobeau\\_p\\_vals \\\\\n",
      "\\midrule\n",
      "count &  100.000000 &  100.000000 &  100.000000 &   1.000000e+02 \\\\\n",
      "mean  &   -1.834388 &    0.225007 &    0.278781 &   6.552914e-04 \\\\\n",
      "std   &    0.083896 &    0.001918 &    0.049336 &   2.232500e-03 \\\\\n",
      "min   &   -2.000144 &    0.220784 &    0.163727 &   6.064602e-10 \\\\\n",
      "25\\%   &   -1.884200 &    0.223672 &    0.246955 &   2.387844e-06 \\\\\n",
      "50\\%   &   -1.846373 &    0.225081 &    0.277875 &   2.670606e-05 \\\\\n",
      "75\\%   &   -1.795249 &    0.226569 &    0.310636 &   2.024406e-04 \\\\\n",
      "max   &   -1.486714 &    0.231210 &    0.400137 &   1.459764e-02 \\\\\n",
      "\\bottomrule\n",
      "\\end{tabular}\n",
      "\n",
      "0.2249447428586492 0.0018123407425780073\n",
      "0.2798641629724532 0.04813383242143313\n",
      "0.0005565888274072596 0.0020024579100579734\n",
      "-1.8378999225099915 0.07619163513130056\n",
      "\\begin{tabular}{lrrrr}\n",
      "\\toprule\n",
      "{} &       nlpd &     errors &     cobeau &  cobeau\\_p\\_vals \\\\\n",
      "\\midrule\n",
      "count &  99.000000 &  99.000000 &  99.000000 &   9.900000e+01 \\\\\n",
      "mean  &  -1.837900 &   0.224945 &   0.279864 &   5.565888e-04 \\\\\n",
      "std   &   0.076579 &   0.001822 &   0.048379 &   2.012649e-03 \\\\\n",
      "min   &  -2.000144 &   0.220784 &   0.163727 &   6.064602e-10 \\\\\n",
      "25\\%   &  -1.884556 &   0.223663 &   0.247752 &   2.199487e-06 \\\\\n",
      "50\\%   &  -1.848960 &   0.225040 &   0.277918 &   2.662495e-05 \\\\\n",
      "75\\%   &  -1.797490 &   0.226535 &   0.311732 &   1.923321e-04 \\\\\n",
      "max   &  -1.517417 &   0.228820 &   0.400137 &   1.459764e-02 \\\\\n",
      "\\bottomrule\n",
      "\\end{tabular}\n",
      "\n",
      "0.2249447428586492 0.0018123407425780073\n",
      "0.2798641629724532 0.04813383242143313\n",
      "0.0005565888274072596 0.0020024579100579734\n",
      "-1.8378999225099915 0.07619163513130056\n",
      "99\n",
      "13 17\n",
      "99\n",
      "25 93\n",
      "99\n",
      "77 0\n"
     ]
    },
    {
     "data": {
      "text/plain": [
       "<Figure size 432x288 with 0 Axes>"
      ]
     },
     "metadata": {},
     "output_type": "display_data"
    }
   ],
   "source": [
    "import numpy as np\n",
    "import torch\n",
    "\n",
    "seed = 42 #424\n",
    "np.random.seed(seed)\n",
    "torch.manual_seed(seed)\n",
    "#NOTE! This only works for non cudnn. gpu needs\n",
    "torch.backends.cudnn.deterministic = True\n",
    "torch.backends.cudnn.benchmark = False\n",
    "\n",
    "from helpers import showcase_code\n",
    "\n",
    "import matplotlib.pyplot as plt\n",
    "#%matplotlib inline\n",
    "import seaborn as sns\n",
    "import pickle\n",
    "\n",
    "from experimentation import ExperimentAnalyzer\n",
    "import os\n",
    "import time\n",
    "import pandas as pd\n",
    "import gc\n",
    "\n",
    "toy = 'False' #'False'\n",
    "\n",
    "files = [x for x in os.listdir('pickles') if x.endswith('pkl') if toy in x] # if 'Shuffle' in x]\n",
    "\n",
    "means_dict = {}\n",
    "stds_dict = {}\n",
    "count_dict = {}\n",
    "min_dict = {}\n",
    "max_dict = {}\n",
    "\n",
    "\n",
    "for file in files:\n",
    "    plt.close()\n",
    "    plt.clf()\n",
    "    with  open('pickles\\\\'+file, \"rb\") as f:\n",
    "        exp = pickle.load(f)\n",
    "\n",
    "\n",
    "\n",
    "    analyzer = ExperimentAnalyzer(exp)\n",
    "    df1 = analyzer.analysis()\n",
    "    print(f'{exp.model_name}')\n",
    "    print(df1.describe().to_latex())\n",
    "    analyzer.get_outlier_indices()\n",
    "    analyzer.plot_outcomes()\n",
    "    plt.figure()\n",
    "    df2 = analyzer.analysis()\n",
    "\n",
    "\n",
    "    print(df2.describe().to_latex())\n",
    "    means_dict[analyzer.model_name] = df2.describe().loc['mean']\n",
    "    \n",
    "    try:\n",
    "        means_dict[analyzer.model_name+' prior'] = {'nlpd': np.mean(analyzer.stats_dict['analysis']['prior_nlpd']),\n",
    "                                                    'errors': np.mean(analyzer.stats_dict['analysis']['prior_test_errors']),\n",
    "                                                    'cobeau': np.mean(analyzer.stats_dict['analysis']['prior_cobeau']),\n",
    "                                                    'cobeau_p_vals': np.mean(analyzer.stats_dict['analysis']['prior_cobeau_p'])\n",
    "                                                   }\n",
    "    except Exception as e:\n",
    "        print(analyzer.model_name)\n",
    "        print(e)\n",
    "    \n",
    "    \n",
    "    \n",
    "    \n",
    "    \n",
    "    \n",
    "    stds_dict[analyzer.model_name] = df2.describe().loc['std']\n",
    "    \n",
    "    try:\n",
    "        stds_dict[analyzer.model_name+' prior'] = {'nlpd': np.std(analyzer.stats_dict['analysis']['prior_nlpd']),\n",
    "                                                    'errors': np.std(analyzer.stats_dict['analysis']['prior_test_errors']),\n",
    "                                                    'cobeau': np.std(analyzer.stats_dict['analysis']['prior_cobeau']),\n",
    "                                                    'cobeau_p_vals': np.std(analyzer.stats_dict['analysis']['prior_cobeau_p'])\n",
    "                                                   }\n",
    "    except Exception as e:\n",
    "        print(analyzer.model_name)\n",
    "        print(e)\n",
    "    \n",
    "    \n",
    "    \n",
    "    \n",
    "    count_dict[analyzer.model_name] = df2.describe().loc['count']\n",
    "    min_dict[analyzer.model_name] = df2.describe().loc['min']\n",
    "    max_dict[analyzer.model_name] = df2.describe().loc['max']\n",
    "    \n",
    "    \n",
    "    \n",
    "    \n",
    "    analyzer.plot_distribution_of_metrics()\n",
    "\n",
    "    analyzer.plot_models()\n",
    "\n",
    "    analyzer.plot_models('cobeau')\n",
    "\n",
    "    analyzer.plot_models('nlpd')\n",
    "    \n",
    "    gc.collect()\n",
    "\n",
    "\n",
    "#     try:\n",
    "#         analyzer.plot_outlier_models()\n",
    "\n",
    "\n",
    "\n",
    "#     except Exception as e:\n",
    "#         print(e)\n",
    "\n",
    "\n",
    "    \n",
    "    \n"
   ]
  },
  {
   "cell_type": "code",
   "execution_count": 17,
   "metadata": {},
   "outputs": [],
   "source": [
    "pd_means = pd.DataFrame.from_dict(means_dict)\n",
    "pd_stds = pd.DataFrame.from_dict(stds_dict)\n",
    "pd_means = pd.DataFrame.from_dict(means_dict)"
   ]
  },
  {
   "cell_type": "code",
   "execution_count": null,
   "metadata": {},
   "outputs": [],
   "source": []
  },
  {
   "cell_type": "code",
   "execution_count": null,
   "metadata": {},
   "outputs": [],
   "source": []
  },
  {
   "cell_type": "code",
   "execution_count": 18,
   "metadata": {},
   "outputs": [],
   "source": [
    "# pd_means['prior'] = [np.mean(analyzer.stats_dict['analysis']['prior_nlpd']),\n",
    "#                      np.mean(analyzer.stats_dict['analysis']['prior_test_errors']),\n",
    "#                      np.mean(analyzer.stats_dict['analysis']['prior_cobeau']),\n",
    "#                      np.mean(analyzer.stats_dict['analysis']['prior_cobeau_p'])]"
   ]
  },
  {
   "cell_type": "code",
   "execution_count": 19,
   "metadata": {},
   "outputs": [],
   "source": [
    "\n",
    "pd_means = pd_means.dropna(1)\n",
    "pd_means['train set mean/std'] = [analyzer.stupid_function_nlpd,analyzer.stupid_function_error, None, None][::-1]\n",
    "if toy:\n",
    "    pd_means['generating function'] = [analyzer.original_function_nlpd,analyzer.original_function_error , None, None][::-1]\n",
    "pd_means = pd_means.round(2)"
   ]
  },
  {
   "cell_type": "code",
   "execution_count": 20,
   "metadata": {},
   "outputs": [
    {
     "data": {
      "text/html": [
       "<div>\n",
       "<style scoped>\n",
       "    .dataframe tbody tr th:only-of-type {\n",
       "        vertical-align: middle;\n",
       "    }\n",
       "\n",
       "    .dataframe tbody tr th {\n",
       "        vertical-align: top;\n",
       "    }\n",
       "\n",
       "    .dataframe thead th {\n",
       "        text-align: right;\n",
       "    }\n",
       "</style>\n",
       "<table border=\"1\" class=\"dataframe\">\n",
       "  <thead>\n",
       "    <tr style=\"text-align: right;\">\n",
       "      <th></th>\n",
       "      <th>BobstrapEnsemble</th>\n",
       "      <th>BootstrapEnsemble</th>\n",
       "      <th>BootstrapEnsemble prior</th>\n",
       "      <th>DropoutModel</th>\n",
       "      <th>DropoutModel prior</th>\n",
       "      <th>SaverModel</th>\n",
       "      <th>ShuffleEnsemble</th>\n",
       "      <th>ShuffleEnsemble prior</th>\n",
       "      <th>VanillaEnsemble</th>\n",
       "      <th>VanillaEnsemble prior</th>\n",
       "      <th>train set mean/std</th>\n",
       "      <th>generating function</th>\n",
       "    </tr>\n",
       "  </thead>\n",
       "  <tbody>\n",
       "    <tr>\n",
       "      <td>cobeau</td>\n",
       "      <td>0.34</td>\n",
       "      <td>0.33</td>\n",
       "      <td>0.04</td>\n",
       "      <td>0.06</td>\n",
       "      <td>0.12</td>\n",
       "      <td>0.32</td>\n",
       "      <td>0.28</td>\n",
       "      <td>0.04</td>\n",
       "      <td>0.28</td>\n",
       "      <td>0.04</td>\n",
       "      <td>NaN</td>\n",
       "      <td>NaN</td>\n",
       "    </tr>\n",
       "    <tr>\n",
       "      <td>cobeau_p_vals</td>\n",
       "      <td>0.00</td>\n",
       "      <td>0.00</td>\n",
       "      <td>0.30</td>\n",
       "      <td>0.46</td>\n",
       "      <td>0.24</td>\n",
       "      <td>0.00</td>\n",
       "      <td>0.00</td>\n",
       "      <td>0.30</td>\n",
       "      <td>0.00</td>\n",
       "      <td>0.30</td>\n",
       "      <td>NaN</td>\n",
       "      <td>NaN</td>\n",
       "    </tr>\n",
       "    <tr>\n",
       "      <td>errors</td>\n",
       "      <td>0.22</td>\n",
       "      <td>0.22</td>\n",
       "      <td>0.73</td>\n",
       "      <td>0.21</td>\n",
       "      <td>0.74</td>\n",
       "      <td>0.21</td>\n",
       "      <td>0.22</td>\n",
       "      <td>0.73</td>\n",
       "      <td>0.22</td>\n",
       "      <td>0.73</td>\n",
       "      <td>0.73</td>\n",
       "      <td>1.06</td>\n",
       "    </tr>\n",
       "    <tr>\n",
       "      <td>nlpd</td>\n",
       "      <td>-1.61</td>\n",
       "      <td>-1.74</td>\n",
       "      <td>1.07</td>\n",
       "      <td>-1.70</td>\n",
       "      <td>24.04</td>\n",
       "      <td>-1.63</td>\n",
       "      <td>-1.84</td>\n",
       "      <td>1.07</td>\n",
       "      <td>-1.84</td>\n",
       "      <td>1.07</td>\n",
       "      <td>0.45</td>\n",
       "      <td>1.79</td>\n",
       "    </tr>\n",
       "  </tbody>\n",
       "</table>\n",
       "</div>"
      ],
      "text/plain": [
       "               BobstrapEnsemble  BootstrapEnsemble  BootstrapEnsemble prior  \\\n",
       "cobeau                     0.34               0.33                     0.04   \n",
       "cobeau_p_vals              0.00               0.00                     0.30   \n",
       "errors                     0.22               0.22                     0.73   \n",
       "nlpd                      -1.61              -1.74                     1.07   \n",
       "\n",
       "               DropoutModel  DropoutModel prior  SaverModel  ShuffleEnsemble  \\\n",
       "cobeau                 0.06                0.12        0.32             0.28   \n",
       "cobeau_p_vals          0.46                0.24        0.00             0.00   \n",
       "errors                 0.21                0.74        0.21             0.22   \n",
       "nlpd                  -1.70               24.04       -1.63            -1.84   \n",
       "\n",
       "               ShuffleEnsemble prior  VanillaEnsemble  VanillaEnsemble prior  \\\n",
       "cobeau                          0.04             0.28                   0.04   \n",
       "cobeau_p_vals                   0.30             0.00                   0.30   \n",
       "errors                          0.73             0.22                   0.73   \n",
       "nlpd                            1.07            -1.84                   1.07   \n",
       "\n",
       "               train set mean/std  generating function  \n",
       "cobeau                        NaN                  NaN  \n",
       "cobeau_p_vals                 NaN                  NaN  \n",
       "errors                       0.73                 1.06  \n",
       "nlpd                         0.45                 1.79  "
      ]
     },
     "execution_count": 20,
     "metadata": {},
     "output_type": "execute_result"
    }
   ],
   "source": [
    "pd_means.head()"
   ]
  },
  {
   "cell_type": "code",
   "execution_count": 21,
   "metadata": {},
   "outputs": [
    {
     "data": {
      "text/html": [
       "<div>\n",
       "<style scoped>\n",
       "    .dataframe tbody tr th:only-of-type {\n",
       "        vertical-align: middle;\n",
       "    }\n",
       "\n",
       "    .dataframe tbody tr th {\n",
       "        vertical-align: top;\n",
       "    }\n",
       "\n",
       "    .dataframe thead th {\n",
       "        text-align: right;\n",
       "    }\n",
       "</style>\n",
       "<table border=\"1\" class=\"dataframe\">\n",
       "  <thead>\n",
       "    <tr style=\"text-align: right;\">\n",
       "      <th></th>\n",
       "      <th>cobeau</th>\n",
       "      <th>cobeau_p_vals</th>\n",
       "      <th>errors</th>\n",
       "      <th>nlpd</th>\n",
       "    </tr>\n",
       "  </thead>\n",
       "  <tbody>\n",
       "    <tr>\n",
       "      <td>BobstrapEnsemble</td>\n",
       "      <td>0.34</td>\n",
       "      <td>0.00</td>\n",
       "      <td>0.22</td>\n",
       "      <td>-1.61</td>\n",
       "    </tr>\n",
       "    <tr>\n",
       "      <td>BootstrapEnsemble</td>\n",
       "      <td>0.33</td>\n",
       "      <td>0.00</td>\n",
       "      <td>0.22</td>\n",
       "      <td>-1.74</td>\n",
       "    </tr>\n",
       "    <tr>\n",
       "      <td>BootstrapEnsemble prior</td>\n",
       "      <td>0.04</td>\n",
       "      <td>0.30</td>\n",
       "      <td>0.73</td>\n",
       "      <td>1.07</td>\n",
       "    </tr>\n",
       "    <tr>\n",
       "      <td>DropoutModel</td>\n",
       "      <td>0.06</td>\n",
       "      <td>0.46</td>\n",
       "      <td>0.21</td>\n",
       "      <td>-1.70</td>\n",
       "    </tr>\n",
       "    <tr>\n",
       "      <td>DropoutModel prior</td>\n",
       "      <td>0.12</td>\n",
       "      <td>0.24</td>\n",
       "      <td>0.74</td>\n",
       "      <td>24.04</td>\n",
       "    </tr>\n",
       "    <tr>\n",
       "      <td>SaverModel</td>\n",
       "      <td>0.32</td>\n",
       "      <td>0.00</td>\n",
       "      <td>0.21</td>\n",
       "      <td>-1.63</td>\n",
       "    </tr>\n",
       "    <tr>\n",
       "      <td>ShuffleEnsemble</td>\n",
       "      <td>0.28</td>\n",
       "      <td>0.00</td>\n",
       "      <td>0.22</td>\n",
       "      <td>-1.84</td>\n",
       "    </tr>\n",
       "    <tr>\n",
       "      <td>ShuffleEnsemble prior</td>\n",
       "      <td>0.04</td>\n",
       "      <td>0.30</td>\n",
       "      <td>0.73</td>\n",
       "      <td>1.07</td>\n",
       "    </tr>\n",
       "    <tr>\n",
       "      <td>VanillaEnsemble</td>\n",
       "      <td>0.28</td>\n",
       "      <td>0.00</td>\n",
       "      <td>0.22</td>\n",
       "      <td>-1.84</td>\n",
       "    </tr>\n",
       "    <tr>\n",
       "      <td>VanillaEnsemble prior</td>\n",
       "      <td>0.04</td>\n",
       "      <td>0.30</td>\n",
       "      <td>0.73</td>\n",
       "      <td>1.07</td>\n",
       "    </tr>\n",
       "    <tr>\n",
       "      <td>train set mean/std</td>\n",
       "      <td>NaN</td>\n",
       "      <td>NaN</td>\n",
       "      <td>0.73</td>\n",
       "      <td>0.45</td>\n",
       "    </tr>\n",
       "    <tr>\n",
       "      <td>generating function</td>\n",
       "      <td>NaN</td>\n",
       "      <td>NaN</td>\n",
       "      <td>1.06</td>\n",
       "      <td>1.79</td>\n",
       "    </tr>\n",
       "  </tbody>\n",
       "</table>\n",
       "</div>"
      ],
      "text/plain": [
       "                         cobeau  cobeau_p_vals  errors   nlpd\n",
       "BobstrapEnsemble           0.34           0.00    0.22  -1.61\n",
       "BootstrapEnsemble          0.33           0.00    0.22  -1.74\n",
       "BootstrapEnsemble prior    0.04           0.30    0.73   1.07\n",
       "DropoutModel               0.06           0.46    0.21  -1.70\n",
       "DropoutModel prior         0.12           0.24    0.74  24.04\n",
       "SaverModel                 0.32           0.00    0.21  -1.63\n",
       "ShuffleEnsemble            0.28           0.00    0.22  -1.84\n",
       "ShuffleEnsemble prior      0.04           0.30    0.73   1.07\n",
       "VanillaEnsemble            0.28           0.00    0.22  -1.84\n",
       "VanillaEnsemble prior      0.04           0.30    0.73   1.07\n",
       "train set mean/std          NaN            NaN    0.73   0.45\n",
       "generating function         NaN            NaN    1.06   1.79"
      ]
     },
     "execution_count": 21,
     "metadata": {},
     "output_type": "execute_result"
    }
   ],
   "source": [
    "pd_means.T"
   ]
  },
  {
   "cell_type": "code",
   "execution_count": null,
   "metadata": {},
   "outputs": [],
   "source": []
  },
  {
   "cell_type": "code",
   "execution_count": 22,
   "metadata": {},
   "outputs": [
    {
     "data": {
      "text/html": [
       "<div>\n",
       "<style scoped>\n",
       "    .dataframe tbody tr th:only-of-type {\n",
       "        vertical-align: middle;\n",
       "    }\n",
       "\n",
       "    .dataframe tbody tr th {\n",
       "        vertical-align: top;\n",
       "    }\n",
       "\n",
       "    .dataframe thead th {\n",
       "        text-align: right;\n",
       "    }\n",
       "</style>\n",
       "<table border=\"1\" class=\"dataframe\">\n",
       "  <thead>\n",
       "    <tr style=\"text-align: right;\">\n",
       "      <th></th>\n",
       "      <th>cobeau</th>\n",
       "      <th>cobeau_p_vals</th>\n",
       "      <th>errors</th>\n",
       "      <th>nlpd</th>\n",
       "    </tr>\n",
       "  </thead>\n",
       "  <tbody>\n",
       "    <tr>\n",
       "      <td>BobstrapEnsemble</td>\n",
       "      <td>0.09</td>\n",
       "      <td>0.00</td>\n",
       "      <td>0.01</td>\n",
       "      <td>0.18</td>\n",
       "    </tr>\n",
       "    <tr>\n",
       "      <td>BootstrapEnsemble</td>\n",
       "      <td>0.05</td>\n",
       "      <td>0.00</td>\n",
       "      <td>0.00</td>\n",
       "      <td>0.04</td>\n",
       "    </tr>\n",
       "    <tr>\n",
       "      <td>BootstrapEnsemble prior</td>\n",
       "      <td>0.12</td>\n",
       "      <td>0.29</td>\n",
       "      <td>0.01</td>\n",
       "      <td>0.35</td>\n",
       "    </tr>\n",
       "    <tr>\n",
       "      <td>DropoutModel</td>\n",
       "      <td>0.06</td>\n",
       "      <td>0.31</td>\n",
       "      <td>0.00</td>\n",
       "      <td>0.03</td>\n",
       "    </tr>\n",
       "    <tr>\n",
       "      <td>DropoutModel prior</td>\n",
       "      <td>0.14</td>\n",
       "      <td>0.29</td>\n",
       "      <td>0.04</td>\n",
       "      <td>4.42</td>\n",
       "    </tr>\n",
       "    <tr>\n",
       "      <td>SaverModel</td>\n",
       "      <td>0.09</td>\n",
       "      <td>0.02</td>\n",
       "      <td>0.01</td>\n",
       "      <td>0.23</td>\n",
       "    </tr>\n",
       "    <tr>\n",
       "      <td>ShuffleEnsemble</td>\n",
       "      <td>0.05</td>\n",
       "      <td>0.00</td>\n",
       "      <td>0.00</td>\n",
       "      <td>0.08</td>\n",
       "    </tr>\n",
       "    <tr>\n",
       "      <td>ShuffleEnsemble prior</td>\n",
       "      <td>0.12</td>\n",
       "      <td>0.29</td>\n",
       "      <td>0.01</td>\n",
       "      <td>0.35</td>\n",
       "    </tr>\n",
       "    <tr>\n",
       "      <td>VanillaEnsemble</td>\n",
       "      <td>0.05</td>\n",
       "      <td>0.00</td>\n",
       "      <td>0.00</td>\n",
       "      <td>0.08</td>\n",
       "    </tr>\n",
       "    <tr>\n",
       "      <td>VanillaEnsemble prior</td>\n",
       "      <td>0.12</td>\n",
       "      <td>0.29</td>\n",
       "      <td>0.01</td>\n",
       "      <td>0.35</td>\n",
       "    </tr>\n",
       "  </tbody>\n",
       "</table>\n",
       "</div>"
      ],
      "text/plain": [
       "                         cobeau  cobeau_p_vals  errors  nlpd\n",
       "BobstrapEnsemble           0.09           0.00    0.01  0.18\n",
       "BootstrapEnsemble          0.05           0.00    0.00  0.04\n",
       "BootstrapEnsemble prior    0.12           0.29    0.01  0.35\n",
       "DropoutModel               0.06           0.31    0.00  0.03\n",
       "DropoutModel prior         0.14           0.29    0.04  4.42\n",
       "SaverModel                 0.09           0.02    0.01  0.23\n",
       "ShuffleEnsemble            0.05           0.00    0.00  0.08\n",
       "ShuffleEnsemble prior      0.12           0.29    0.01  0.35\n",
       "VanillaEnsemble            0.05           0.00    0.00  0.08\n",
       "VanillaEnsemble prior      0.12           0.29    0.01  0.35"
      ]
     },
     "execution_count": 22,
     "metadata": {},
     "output_type": "execute_result"
    }
   ],
   "source": [
    "pd_stds = pd_stds.dropna(1).round(2)\n",
    "pd_stds.round(3).T"
   ]
  },
  {
   "cell_type": "code",
   "execution_count": 23,
   "metadata": {},
   "outputs": [],
   "source": [
    "import collections"
   ]
  },
  {
   "cell_type": "code",
   "execution_count": 24,
   "metadata": {},
   "outputs": [],
   "source": [
    "stats_dict = collections.defaultdict(dict)\n",
    "for row in pd_means.index:\n",
    "    \n",
    "    for col in pd_means.columns:\n",
    "\n",
    "        \n",
    "        \n",
    "        \n",
    "        \n",
    "        \n",
    "        try:\n",
    "            stats_dict[row][col] = str(pd_means.loc[row][col]) + '$\\pm$' + str(pd_stds.loc[row][col])\n",
    "        except:\n",
    "            stats_dict[row][col] = pd_means.loc[row][col]"
   ]
  },
  {
   "cell_type": "code",
   "execution_count": 25,
   "metadata": {},
   "outputs": [
    {
     "data": {
      "text/plain": [
       "['BobstrapEnsemble',\n",
       " 'BootstrapEnsemble',\n",
       " 'BootstrapEnsemble prior',\n",
       " 'DropoutModel',\n",
       " 'DropoutModel prior',\n",
       " 'SaverModel',\n",
       " 'ShuffleEnsemble',\n",
       " 'ShuffleEnsemble prior',\n",
       " 'VanillaEnsemble',\n",
       " 'VanillaEnsemble prior',\n",
       " 'train set mean/std',\n",
       " 'generating function']"
      ]
     },
     "execution_count": 25,
     "metadata": {},
     "output_type": "execute_result"
    }
   ],
   "source": [
    "list(pd.DataFrame.from_dict(stats_dict).index)"
   ]
  },
  {
   "cell_type": "code",
   "execution_count": null,
   "metadata": {},
   "outputs": [],
   "source": []
  },
  {
   "cell_type": "code",
   "execution_count": 26,
   "metadata": {},
   "outputs": [],
   "source": [
    "model_names_list = ['VanillaEnsemble', 'ShuffleEnsemble', 'BootstrapEnsemble', 'SaverModel', 'BobstrapEnsemble', 'DropoutModel']\n",
    "model_names_list_bf = ['\\textbf{{{}}}'.format(x) for x in model_names_list]\n",
    "\n",
    "prior_names_list = [                                             'VanillaEnsemble prior',\n",
    "                                           'ShuffleEnsemble prior',\n",
    "                                             'BootstrapEnsemble prior',\n",
    "                                             'DropoutModel prior',]\n",
    "benchmark_names_list = [                                             'train set mean/std',\n",
    " 'generating function']\n",
    "\n",
    "pd_stats = pd.DataFrame.from_dict(stats_dict).reindex(model_names_list+prior_names_list+benchmark_names_list)\n"
   ]
  },
  {
   "cell_type": "code",
   "execution_count": 27,
   "metadata": {},
   "outputs": [
    {
     "data": {
      "text/plain": [
       "['\\textbf{VanillaEnsemble}',\n",
       " '\\textbf{ShuffleEnsemble}',\n",
       " '\\textbf{BootstrapEnsemble}',\n",
       " '\\textbf{SaverModel}',\n",
       " '\\textbf{BobstrapEnsemble}',\n",
       " '\\textbf{DropoutModel}']"
      ]
     },
     "execution_count": 27,
     "metadata": {},
     "output_type": "execute_result"
    }
   ],
   "source": [
    "model_names_list_bf"
   ]
  },
  {
   "cell_type": "code",
   "execution_count": 28,
   "metadata": {},
   "outputs": [
    {
     "data": {
      "text/plain": [
       "['\\textbf{VanillaEnsemble}',\n",
       " '\\textbf{ShuffleEnsemble}',\n",
       " '\\textbf{BootstrapEnsemble}',\n",
       " '\\textbf{SaverModel}',\n",
       " '\\textbf{BobstrapEnsemble}',\n",
       " '\\textbf{DropoutModel}',\n",
       " 'VanillaEnsemble prior',\n",
       " 'ShuffleEnsemble prior',\n",
       " 'BootstrapEnsemble prior',\n",
       " 'DropoutModel prior',\n",
       " 'train set mean/std',\n",
       " 'generating function']"
      ]
     },
     "execution_count": 28,
     "metadata": {},
     "output_type": "execute_result"
    }
   ],
   "source": [
    "model_names_list_bf+prior_names_list+benchmark_names_list"
   ]
  },
  {
   "cell_type": "code",
   "execution_count": 29,
   "metadata": {},
   "outputs": [],
   "source": [
    "rename_dict = {prev:after for prev,after in zip(model_names_list+prior_names_list+benchmark_names_list, model_names_list_bf+prior_names_list+benchmark_names_list)}"
   ]
  },
  {
   "cell_type": "code",
   "execution_count": 30,
   "metadata": {},
   "outputs": [
    {
     "data": {
      "text/plain": [
       "{'VanillaEnsemble': '\\textbf{VanillaEnsemble}',\n",
       " 'ShuffleEnsemble': '\\textbf{ShuffleEnsemble}',\n",
       " 'BootstrapEnsemble': '\\textbf{BootstrapEnsemble}',\n",
       " 'SaverModel': '\\textbf{SaverModel}',\n",
       " 'BobstrapEnsemble': '\\textbf{BobstrapEnsemble}',\n",
       " 'DropoutModel': '\\textbf{DropoutModel}',\n",
       " 'VanillaEnsemble prior': 'VanillaEnsemble prior',\n",
       " 'ShuffleEnsemble prior': 'ShuffleEnsemble prior',\n",
       " 'BootstrapEnsemble prior': 'BootstrapEnsemble prior',\n",
       " 'DropoutModel prior': 'DropoutModel prior',\n",
       " 'train set mean/std': 'train set mean/std',\n",
       " 'generating function': 'generating function'}"
      ]
     },
     "execution_count": 30,
     "metadata": {},
     "output_type": "execute_result"
    }
   ],
   "source": [
    "rename_dict"
   ]
  },
  {
   "cell_type": "code",
   "execution_count": 31,
   "metadata": {},
   "outputs": [],
   "source": [
    "pd_stats.rename(rename_dict, axis='index',inplace=True)"
   ]
  },
  {
   "cell_type": "code",
   "execution_count": 32,
   "metadata": {},
   "outputs": [
    {
     "name": "stdout",
     "output_type": "stream",
     "text": [
      "\\begin{tabular}{lllll}\n",
      "\\toprule\n",
      "{} &         cobeau &  cobeau_p_vals &         errors &            nlpd \\\\\n",
      "\\midrule\n",
      "\\textbf{VanillaEnsemble}   &  0.28$\\pm$0.05 &    0.0$\\pm$0.0 &   0.22$\\pm$0.0 &  -1.84$\\pm$0.08 \\\\\n",
      "\\textbf{ShuffleEnsemble}   &  0.28$\\pm$0.05 &    0.0$\\pm$0.0 &   0.22$\\pm$0.0 &  -1.84$\\pm$0.08 \\\\\n",
      "\\textbf{BootstrapEnsemble} &  0.33$\\pm$0.05 &    0.0$\\pm$0.0 &   0.22$\\pm$0.0 &  -1.74$\\pm$0.04 \\\\\n",
      "\\textbf{SaverModel}        &  0.32$\\pm$0.09 &   0.0$\\pm$0.02 &  0.21$\\pm$0.01 &  -1.63$\\pm$0.23 \\\\\n",
      "\\textbf{BobstrapEnsemble}  &  0.34$\\pm$0.09 &    0.0$\\pm$0.0 &  0.22$\\pm$0.01 &  -1.61$\\pm$0.18 \\\\\n",
      "\\textbf{DropoutModel}      &  0.06$\\pm$0.06 &  0.46$\\pm$0.31 &   0.21$\\pm$0.0 &   -1.7$\\pm$0.03 \\\\\n",
      "VanillaEnsemble prior      &  0.04$\\pm$0.12 &   0.3$\\pm$0.29 &  0.73$\\pm$0.01 &   1.07$\\pm$0.35 \\\\\n",
      "ShuffleEnsemble prior      &  0.04$\\pm$0.12 &   0.3$\\pm$0.29 &  0.73$\\pm$0.01 &   1.07$\\pm$0.35 \\\\\n",
      "BootstrapEnsemble prior    &  0.04$\\pm$0.12 &   0.3$\\pm$0.29 &  0.73$\\pm$0.01 &   1.07$\\pm$0.35 \\\\\n",
      "DropoutModel prior         &  0.12$\\pm$0.14 &  0.24$\\pm$0.29 &  0.74$\\pm$0.04 &  24.04$\\pm$4.42 \\\\\n",
      "train set mean/std         &              - &              - &           0.73 &            0.45 \\\\\n",
      "generating function        &              - &              - &           1.06 &            1.79 \\\\\n",
      "\\bottomrule\n",
      "\\end{tabular}\n",
      "\n"
     ]
    }
   ],
   "source": [
    "print(pd_stats.to_latex(na_rep ='-',bold_rows =False, escape=False))"
   ]
  },
  {
   "cell_type": "code",
   "execution_count": 33,
   "metadata": {},
   "outputs": [
    {
     "data": {
      "text/plain": [
       "BobstrapEnsemble           -1.61\n",
       "BootstrapEnsemble          -1.74\n",
       "BootstrapEnsemble prior     1.07\n",
       "DropoutModel               -1.70\n",
       "DropoutModel prior         24.04\n",
       "SaverModel                 -1.63\n",
       "ShuffleEnsemble            -1.84\n",
       "ShuffleEnsemble prior       1.07\n",
       "VanillaEnsemble            -1.84\n",
       "VanillaEnsemble prior       1.07\n",
       "train set mean/std          0.45\n",
       "generating function         1.79\n",
       "Name: nlpd, dtype: float64"
      ]
     },
     "execution_count": 33,
     "metadata": {},
     "output_type": "execute_result"
    }
   ],
   "source": [
    "pd_means.loc[row]"
   ]
  },
  {
   "cell_type": "code",
   "execution_count": 34,
   "metadata": {},
   "outputs": [
    {
     "data": {
      "text/plain": [
       "Index(['cobeau', 'cobeau_p_vals', 'errors', 'nlpd'], dtype='object')"
      ]
     },
     "execution_count": 34,
     "metadata": {},
     "output_type": "execute_result"
    }
   ],
   "source": [
    "pd_means.index"
   ]
  },
  {
   "cell_type": "code",
   "execution_count": null,
   "metadata": {},
   "outputs": [],
   "source": []
  }
 ],
 "metadata": {
  "kernelspec": {
   "display_name": "Python 3",
   "language": "python",
   "name": "python3"
  },
  "language_info": {
   "codemirror_mode": {
    "name": "ipython",
    "version": 3
   },
   "file_extension": ".py",
   "mimetype": "text/x-python",
   "name": "python",
   "nbconvert_exporter": "python",
   "pygments_lexer": "ipython3",
   "version": "3.7.4"
  }
 },
 "nbformat": 4,
 "nbformat_minor": 4
}
