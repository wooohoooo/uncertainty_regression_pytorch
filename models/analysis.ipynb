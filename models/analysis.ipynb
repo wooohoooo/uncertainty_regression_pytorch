{
 "cells": [
  {
   "cell_type": "code",
   "execution_count": 53,
   "metadata": {},
   "outputs": [],
   "source": [
    "import numpy as np\n",
    "import torch\n",
    "\n",
    "seed = 42 #424\n",
    "np.random.seed(seed)\n",
    "torch.manual_seed(seed)\n",
    "#NOTE! This only works for non cudnn. gpu needs\n",
    "torch.backends.cudnn.deterministic = True\n",
    "torch.backends.cudnn.benchmark = False\n",
    "\n",
    "from helpers import showcase_code\n",
    "\n",
    "import matplotlib.pyplot as plt\n",
    "#%matplotlib inline\n",
    "import seaborn as sns\n",
    "import pickle\n",
    "\n",
    "from experimentation import ExperimentAnalyzer\n",
    "import os\n",
    "import time\n",
    "import pandas as pd"
   ]
  },
  {
   "cell_type": "code",
   "execution_count": 54,
   "metadata": {},
   "outputs": [
    {
     "name": "stdout",
     "output_type": "stream",
     "text": [
      "The autoreload extension is already loaded. To reload it, use:\n",
      "  %reload_ext autoreload\n"
     ]
    }
   ],
   "source": [
    "# for working with external files, otherwise kernels needs to be restarted each time\n",
    "%load_ext autoreload\n",
    "%autoreload 2"
   ]
  },
  {
   "cell_type": "code",
   "execution_count": null,
   "metadata": {},
   "outputs": [],
   "source": []
  },
  {
   "cell_type": "markdown",
   "metadata": {},
   "source": [
    "import numpy as np\n",
    "import torch\n",
    "\n",
    "seed = 42 #424\n",
    "np.random.seed(seed)\n",
    "torch.manual_seed(seed)\n",
    "#NOTE! This only works for non cudnn. gpu needs\n",
    "torch.backends.cudnn.deterministic = True\n",
    "torch.backends.cudnn.benchmark = False\n",
    "\n",
    "from helpers import showcase_code\n",
    "\n",
    "import matplotlib.pyplot as plt\n",
    "#%matplotlib inline\n",
    "import seaborn as sns\n",
    "import pickle\n",
    "\n",
    "from experimentation import ExperimentAnalyzer\n",
    "import os\n",
    "import time\n",
    "import pandas as pd\n",
    "files = [x for x in os.listdir('pickles') if x.endswith('pkl')]\n",
    "\n",
    "\n",
    "for file in files:\n",
    "    with  open('pickles\\\\'+file, \"rb\") as f:\n",
    "        exp = pickle.load(f)\n",
    "\n",
    "\n",
    "\n",
    "    analyzer = ExperimentAnalyzer(exp)\n",
    "    df1 = analyzer.analysis()\n",
    "    print(f'{exp.model_name}')\n",
    "    print(df1.describe().to_latex())\n",
    "    analyzer.get_outlier_indices()\n",
    "    analyzer.plot_outcomes()\n",
    "    plt.figure()\n",
    "\n",
    "\n",
    "    \n",
    "    \n"
   ]
  },
  {
   "cell_type": "code",
   "execution_count": 55,
   "metadata": {},
   "outputs": [
    {
     "name": "stdout",
     "output_type": "stream",
     "text": [
      "['BobstrapEnsemble_toy_False_100.pkl', 'DropoutModel_toy_False_100.pkl', 'SaverModel_toy_False_100.pkl']\n"
     ]
    }
   ],
   "source": [
    "non_linearity_name = 'Tanh'# 'old'#'LeakyReLU'#\"old\"#'ReLU'#'Tanh'\n",
    "toy = 'False' #'False'\n",
    "\n",
    "\n",
    "files = [x for x in os.listdir(f'pickles\\\\{non_linearity_name}') if x.endswith('pkl') if toy in x]\n",
    "\n",
    "print(files)"
   ]
  },
  {
   "cell_type": "code",
   "execution_count": null,
   "metadata": {},
   "outputs": [],
   "source": []
  },
  {
   "cell_type": "code",
   "execution_count": null,
   "metadata": {},
   "outputs": [],
   "source": []
  },
  {
   "cell_type": "code",
   "execution_count": 56,
   "metadata": {},
   "outputs": [
    {
     "name": "stdout",
     "output_type": "stream",
     "text": [
      "Creation of the directory figures\\Tanh\\BobstrapEnsemble_toy_False_100\\ failed\n",
      "<class 'torch.nn.modules.activation.Tanh'>, False, BobstrapEnsemble\n",
      "\n",
      "\n",
      "\n",
      "\n",
      " /n/n/nBobstrapEnsemble\n"
     ]
    },
    {
     "name": "stderr",
     "output_type": "stream",
     "text": [
      "C:\\Users\\thoma\\Documents\\GitHub\\uncertainty_regression_pytorch\\models\\experimentation.py:239: MatplotlibDeprecationWarning: \n",
      "The frameon kwarg was deprecated in Matplotlib 3.1 and will be removed in 3.3. Use facecolor instead.\n",
      "  frameon=None, metadata=None)\n"
     ]
    },
    {
     "name": "stdout",
     "output_type": "stream",
     "text": [
      "100\n"
     ]
    },
    {
     "name": "stderr",
     "output_type": "stream",
     "text": [
      "C:\\Users\\thoma\\Miniconda3\\envs\\pytorch\\lib\\site-packages\\numpy\\core\\fromnumeric.py:3118: RuntimeWarning: Mean of empty slice.\n",
      "  out=out, **kwargs)\n",
      "C:\\Users\\thoma\\Miniconda3\\envs\\pytorch\\lib\\site-packages\\numpy\\core\\_methods.py:85: RuntimeWarning: invalid value encountered in double_scalars\n",
      "  ret = ret.dtype.type(ret / rcount)\n",
      "C:\\Users\\thoma\\Miniconda3\\envs\\pytorch\\lib\\site-packages\\numpy\\core\\_methods.py:140: RuntimeWarning: Degrees of freedom <= 0 for slice\n",
      "  keepdims=keepdims)\n",
      "C:\\Users\\thoma\\Miniconda3\\envs\\pytorch\\lib\\site-packages\\numpy\\core\\_methods.py:110: RuntimeWarning: invalid value encountered in true_divide\n",
      "  arrmean, rcount, out=arrmean, casting='unsafe', subok=False)\n",
      "C:\\Users\\thoma\\Miniconda3\\envs\\pytorch\\lib\\site-packages\\numpy\\core\\_methods.py:132: RuntimeWarning: invalid value encountered in double_scalars\n",
      "  ret = ret.dtype.type(ret / rcount)\n"
     ]
    },
    {
     "name": "stdout",
     "output_type": "stream",
     "text": [
      "'ExperimentAnalyzer' object has no attribute 'prior_errors'\n"
     ]
    },
    {
     "name": "stderr",
     "output_type": "stream",
     "text": [
      "C:\\Users\\thoma\\Documents\\GitHub\\uncertainty_regression_pytorch\\models\\experimentation.py:376: MatplotlibDeprecationWarning: \n",
      "The frameon kwarg was deprecated in Matplotlib 3.1 and will be removed in 3.3. Use facecolor instead.\n",
      "  frameon=None, metadata=None)\n",
      "C:\\Users\\thoma\\Documents\\GitHub\\uncertainty_regression_pytorch\\models\\experimentation.py:420: MatplotlibDeprecationWarning: \n",
      "The frameon kwarg was deprecated in Matplotlib 3.1 and will be removed in 3.3. Use facecolor instead.\n",
      "  frameon=None, metadata=None)\n"
     ]
    },
    {
     "name": "stdout",
     "output_type": "stream",
     "text": [
      "'ExperimentAnalyzer' object has no attribute 'prior_cobeau'\n"
     ]
    },
    {
     "name": "stderr",
     "output_type": "stream",
     "text": [
      "C:\\Users\\thoma\\Documents\\GitHub\\uncertainty_regression_pytorch\\models\\experimentation.py:454: MatplotlibDeprecationWarning: \n",
      "The frameon kwarg was deprecated in Matplotlib 3.1 and will be removed in 3.3. Use facecolor instead.\n",
      "  frameon=None, metadata=None)\n",
      "C:\\Users\\thoma\\Documents\\GitHub\\uncertainty_regression_pytorch\\models\\experimentation.py:467: MatplotlibDeprecationWarning: \n",
      "The frameon kwarg was deprecated in Matplotlib 3.1 and will be removed in 3.3. Use facecolor instead.\n",
      "  frameon=None, metadata=None)\n"
     ]
    },
    {
     "name": "stdout",
     "output_type": "stream",
     "text": [
      "Creation of the directory figures\\Tanh\\DropoutModel_toy_False_100\\ failed\n",
      "<class 'torch.nn.modules.activation.Tanh'>, False, DropoutModel\n",
      "\n",
      "\n",
      "\n",
      "\n",
      " /n/n/nDropoutModel\n"
     ]
    },
    {
     "name": "stderr",
     "output_type": "stream",
     "text": [
      "C:\\Users\\thoma\\Documents\\GitHub\\uncertainty_regression_pytorch\\models\\experimentation.py:239: MatplotlibDeprecationWarning: \n",
      "The frameon kwarg was deprecated in Matplotlib 3.1 and will be removed in 3.3. Use facecolor instead.\n",
      "  frameon=None, metadata=None)\n"
     ]
    },
    {
     "name": "stdout",
     "output_type": "stream",
     "text": [
      "100\n"
     ]
    },
    {
     "name": "stderr",
     "output_type": "stream",
     "text": [
      "100%|███████████████████████████████████████████████████████████████████████████████| 100/100 [00:00<00:00, 258.40it/s]\n",
      "100%|███████████████████████████████████████████████████████████████████████████████| 100/100 [00:00<00:00, 258.40it/s]\n",
      "100%|███████████████████████████████████████████████████████████████████████████████| 100/100 [00:00<00:00, 256.41it/s]\n",
      "100%|███████████████████████████████████████████████████████████████████████████████| 100/100 [00:00<00:00, 261.10it/s]\n",
      "100%|███████████████████████████████████████████████████████████████████████████████| 100/100 [00:00<00:00, 259.74it/s]\n",
      "100%|███████████████████████████████████████████████████████████████████████████████| 100/100 [00:00<00:00, 259.74it/s]\n",
      "C:\\Users\\thoma\\Documents\\GitHub\\uncertainty_regression_pytorch\\models\\experimentation.py:376: MatplotlibDeprecationWarning: \n",
      "The frameon kwarg was deprecated in Matplotlib 3.1 and will be removed in 3.3. Use facecolor instead.\n",
      "  frameon=None, metadata=None)\n",
      "C:\\Users\\thoma\\Documents\\GitHub\\uncertainty_regression_pytorch\\models\\experimentation.py:420: MatplotlibDeprecationWarning: \n",
      "The frameon kwarg was deprecated in Matplotlib 3.1 and will be removed in 3.3. Use facecolor instead.\n",
      "  frameon=None, metadata=None)\n",
      "C:\\Users\\thoma\\Documents\\GitHub\\uncertainty_regression_pytorch\\models\\experimentation.py:454: MatplotlibDeprecationWarning: \n",
      "The frameon kwarg was deprecated in Matplotlib 3.1 and will be removed in 3.3. Use facecolor instead.\n",
      "  frameon=None, metadata=None)\n",
      "C:\\Users\\thoma\\Documents\\GitHub\\uncertainty_regression_pytorch\\models\\experimentation.py:467: MatplotlibDeprecationWarning: \n",
      "The frameon kwarg was deprecated in Matplotlib 3.1 and will be removed in 3.3. Use facecolor instead.\n",
      "  frameon=None, metadata=None)\n"
     ]
    },
    {
     "name": "stdout",
     "output_type": "stream",
     "text": [
      "Creation of the directory figures\\Tanh\\SaverModel_toy_False_100\\ failed\n",
      "<class 'torch.nn.modules.activation.Tanh'>, False, SaverModel\n",
      "\n",
      "\n",
      "\n",
      "\n",
      " /n/n/nSaverModel\n"
     ]
    },
    {
     "name": "stderr",
     "output_type": "stream",
     "text": [
      "C:\\Users\\thoma\\Documents\\GitHub\\uncertainty_regression_pytorch\\models\\experimentation.py:239: MatplotlibDeprecationWarning: \n",
      "The frameon kwarg was deprecated in Matplotlib 3.1 and will be removed in 3.3. Use facecolor instead.\n",
      "  frameon=None, metadata=None)\n"
     ]
    },
    {
     "name": "stdout",
     "output_type": "stream",
     "text": [
      "100\n"
     ]
    },
    {
     "name": "stderr",
     "output_type": "stream",
     "text": [
      "C:\\Users\\thoma\\Miniconda3\\envs\\pytorch\\lib\\site-packages\\numpy\\core\\fromnumeric.py:3118: RuntimeWarning: Mean of empty slice.\n",
      "  out=out, **kwargs)\n",
      "C:\\Users\\thoma\\Miniconda3\\envs\\pytorch\\lib\\site-packages\\numpy\\core\\_methods.py:85: RuntimeWarning: invalid value encountered in double_scalars\n",
      "  ret = ret.dtype.type(ret / rcount)\n",
      "C:\\Users\\thoma\\Miniconda3\\envs\\pytorch\\lib\\site-packages\\numpy\\core\\_methods.py:140: RuntimeWarning: Degrees of freedom <= 0 for slice\n",
      "  keepdims=keepdims)\n",
      "C:\\Users\\thoma\\Miniconda3\\envs\\pytorch\\lib\\site-packages\\numpy\\core\\_methods.py:110: RuntimeWarning: invalid value encountered in true_divide\n",
      "  arrmean, rcount, out=arrmean, casting='unsafe', subok=False)\n",
      "C:\\Users\\thoma\\Miniconda3\\envs\\pytorch\\lib\\site-packages\\numpy\\core\\_methods.py:132: RuntimeWarning: invalid value encountered in double_scalars\n",
      "  ret = ret.dtype.type(ret / rcount)\n"
     ]
    },
    {
     "name": "stdout",
     "output_type": "stream",
     "text": [
      "'ExperimentAnalyzer' object has no attribute 'prior_errors'\n"
     ]
    },
    {
     "name": "stderr",
     "output_type": "stream",
     "text": [
      "C:\\Users\\thoma\\Documents\\GitHub\\uncertainty_regression_pytorch\\models\\experimentation.py:376: MatplotlibDeprecationWarning: \n",
      "The frameon kwarg was deprecated in Matplotlib 3.1 and will be removed in 3.3. Use facecolor instead.\n",
      "  frameon=None, metadata=None)\n",
      "C:\\Users\\thoma\\Documents\\GitHub\\uncertainty_regression_pytorch\\models\\experimentation.py:420: MatplotlibDeprecationWarning: \n",
      "The frameon kwarg was deprecated in Matplotlib 3.1 and will be removed in 3.3. Use facecolor instead.\n",
      "  frameon=None, metadata=None)\n"
     ]
    },
    {
     "name": "stdout",
     "output_type": "stream",
     "text": [
      "'ExperimentAnalyzer' object has no attribute 'prior_cobeau'\n"
     ]
    },
    {
     "name": "stderr",
     "output_type": "stream",
     "text": [
      "C:\\Users\\thoma\\Documents\\GitHub\\uncertainty_regression_pytorch\\models\\experimentation.py:454: MatplotlibDeprecationWarning: \n",
      "The frameon kwarg was deprecated in Matplotlib 3.1 and will be removed in 3.3. Use facecolor instead.\n",
      "  frameon=None, metadata=None)\n",
      "C:\\Users\\thoma\\Documents\\GitHub\\uncertainty_regression_pytorch\\models\\experimentation.py:467: MatplotlibDeprecationWarning: \n",
      "The frameon kwarg was deprecated in Matplotlib 3.1 and will be removed in 3.3. Use facecolor instead.\n",
      "  frameon=None, metadata=None)\n"
     ]
    },
    {
     "data": {
      "image/png": "[encoded data removed]",
      "text/plain": [
       "<Figure size 432x288 with 1 Axes>"
      ]
     },
     "metadata": {
      "needs_background": "light"
     },
     "output_type": "display_data"
    }
   ],
   "source": [
    "import numpy as np\n",
    "import torch\n",
    "\n",
    "seed = 42 #424\n",
    "np.random.seed(seed)\n",
    "torch.manual_seed(seed)\n",
    "#NOTE! This only works for non cudnn. gpu needs\n",
    "torch.backends.cudnn.deterministic = True\n",
    "torch.backends.cudnn.benchmark = False\n",
    "\n",
    "from helpers import showcase_code\n",
    "\n",
    "import matplotlib.pyplot as plt\n",
    "#%matplotlib inline\n",
    "import seaborn as sns\n",
    "import pickle\n",
    "\n",
    "from experimentation import ExperimentAnalyzer\n",
    "import os\n",
    "import time\n",
    "import pandas as pd\n",
    "import gc\n",
    "\n",
    "\n",
    "means_dict = {}\n",
    "stds_dict = {}\n",
    "count_dict = {}\n",
    "min_dict = {}\n",
    "max_dict = {}\n",
    "\n",
    "\n",
    "for file in files:\n",
    "    plt.close()\n",
    "    plt.clf()\n",
    "    with  open(f'pickles\\\\{non_linearity_name}\\\\'+file, \"rb\") as f:\n",
    "        exp = pickle.load(f)\n",
    "\n",
    "\n",
    "\n",
    "    analyzer = ExperimentAnalyzer(exp)\n",
    "    exp = None\n",
    "    gc.collect()\n",
    "    df1 = analyzer.analysis()\n",
    "    print(f'\\n\\n\\n\\n /n/n/n{analyzer.experiment.model_name}')\n",
    "    #print(df1.describe().to_latex())\n",
    "    analyzer.get_outlier_indices()\n",
    "    analyzer.plot_outcomes()\n",
    "    plt.figure()\n",
    "    df2 = analyzer.analysis()\n",
    "    df2 = df2.replace([np.inf, -np.inf], np.nan)\n",
    "    df2 = df2.dropna(1)\n",
    "    print(len(df2))\n",
    "\n",
    "\n",
    "    #print(df2.describe().to_latex())\n",
    "    means_dict[analyzer.model_name] = df2.describe().loc['mean']\n",
    "    \n",
    "    try:\n",
    "        means_dict[analyzer.model_name+' prior'] = {'nlpd': np.mean(analyzer.stats_dict['analysis']['prior_nlpd']),\n",
    "                                                    'errors': np.mean(analyzer.stats_dict['analysis']['prior_test_errors']),\n",
    "                                                    'cobeau': np.mean(analyzer.stats_dict['analysis']['prior_cobeau']),\n",
    "                                                    'cobeau_p_vals': np.mean(analyzer.stats_dict['analysis']['prior_cobeau_p'])\n",
    "                                                   }\n",
    "    except Exception as e:\n",
    "        print(analyzer.model_name)\n",
    "        print(e)\n",
    "    \n",
    "    \n",
    "    \n",
    "    \n",
    "    \n",
    "    \n",
    "    stds_dict[analyzer.model_name] = df2.describe().loc['std']\n",
    "    \n",
    "    try:\n",
    "        stds_dict[analyzer.model_name+' prior'] = {'nlpd': np.std(analyzer.stats_dict['analysis']['prior_nlpd']),\n",
    "                                                    'errors': np.std(analyzer.stats_dict['analysis']['prior_test_errors']),\n",
    "                                                    'cobeau': np.std(analyzer.stats_dict['analysis']['prior_cobeau']),\n",
    "                                                    'cobeau_p_vals': np.std(analyzer.stats_dict['analysis']['prior_cobeau_p'])\n",
    "                                                   }\n",
    "    except Exception as e:\n",
    "        print(analyzer.model_name)\n",
    "        print(e)\n",
    "    \n",
    "    \n",
    "    \n",
    "    \n",
    "    count_dict[analyzer.model_name] = df2.describe().loc['count']\n",
    "    min_dict[analyzer.model_name] = df2.describe().loc['min']\n",
    "    max_dict[analyzer.model_name] = df2.describe().loc['max']\n",
    "    \n",
    "    \n",
    "    \n",
    "    \n",
    "\n",
    "    analyzer.plot_models()\n",
    "\n",
    "    analyzer.plot_models('cobeau')\n",
    "\n",
    "    analyzer.plot_models('nlpd')\n",
    "    analyzer.plot_distribution_of_metrics()\n",
    "\n",
    "    gc.collect()\n",
    "\n",
    "\n",
    "#     try:\n",
    "#         analyzer.plot_outlier_models()\n",
    "\n",
    "\n",
    "\n",
    "#     except Exception as e:\n",
    "#         print(e)\n",
    "\n",
    "\n",
    "    \n",
    "    \n"
   ]
  },
  {
   "cell_type": "code",
   "execution_count": 57,
   "metadata": {},
   "outputs": [
    {
     "name": "stdout",
     "output_type": "stream",
     "text": [
      "        nlpd    errors    cobeau  cobeau_p_vals\n",
      "0  -1.856833  0.199311  0.315354   1.626320e-06\n",
      "1  -1.638708  0.197966  0.347290   1.087061e-07\n",
      "2  -1.666117  0.201343  0.203266   2.339684e-03\n",
      "3  -1.785482  0.199566  0.322733   8.943031e-07\n",
      "4  -1.728704  0.199644  0.318931   1.219437e-06\n",
      "..       ...       ...       ...            ...\n",
      "95 -1.519270  0.200862  0.229736   5.607311e-04\n",
      "96 -1.793062  0.199095  0.347838   1.034854e-07\n",
      "97 -1.728223  0.199325  0.264996   6.394107e-05\n",
      "98 -1.870555  0.199019  0.338418   2.377364e-07\n",
      "99 -1.460314  0.200746  0.191260   4.235392e-03\n",
      "\n",
      "[100 rows x 4 columns]\n"
     ]
    }
   ],
   "source": [
    "print(df2)"
   ]
  },
  {
   "cell_type": "code",
   "execution_count": 58,
   "metadata": {},
   "outputs": [
    {
     "data": {
      "text/html": [
       "<div>\n",
       "<style scoped>\n",
       "    .dataframe tbody tr th:only-of-type {\n",
       "        vertical-align: middle;\n",
       "    }\n",
       "\n",
       "    .dataframe tbody tr th {\n",
       "        vertical-align: top;\n",
       "    }\n",
       "\n",
       "    .dataframe thead th {\n",
       "        text-align: right;\n",
       "    }\n",
       "</style>\n",
       "<table border=\"1\" class=\"dataframe\">\n",
       "  <thead>\n",
       "    <tr style=\"text-align: right;\">\n",
       "      <th></th>\n",
       "      <th>nlpd</th>\n",
       "      <th>errors</th>\n",
       "      <th>cobeau</th>\n",
       "      <th>cobeau_p_vals</th>\n",
       "    </tr>\n",
       "  </thead>\n",
       "  <tbody>\n",
       "    <tr>\n",
       "      <td>0</td>\n",
       "      <td>-1.856833</td>\n",
       "      <td>0.199311</td>\n",
       "      <td>0.315354</td>\n",
       "      <td>1.626320e-06</td>\n",
       "    </tr>\n",
       "    <tr>\n",
       "      <td>1</td>\n",
       "      <td>-1.638708</td>\n",
       "      <td>0.197966</td>\n",
       "      <td>0.347290</td>\n",
       "      <td>1.087061e-07</td>\n",
       "    </tr>\n",
       "    <tr>\n",
       "      <td>2</td>\n",
       "      <td>-1.666117</td>\n",
       "      <td>0.201343</td>\n",
       "      <td>0.203266</td>\n",
       "      <td>2.339684e-03</td>\n",
       "    </tr>\n",
       "    <tr>\n",
       "      <td>3</td>\n",
       "      <td>-1.785482</td>\n",
       "      <td>0.199566</td>\n",
       "      <td>0.322733</td>\n",
       "      <td>8.943031e-07</td>\n",
       "    </tr>\n",
       "    <tr>\n",
       "      <td>4</td>\n",
       "      <td>-1.728704</td>\n",
       "      <td>0.199644</td>\n",
       "      <td>0.318931</td>\n",
       "      <td>1.219437e-06</td>\n",
       "    </tr>\n",
       "    <tr>\n",
       "      <td>...</td>\n",
       "      <td>...</td>\n",
       "      <td>...</td>\n",
       "      <td>...</td>\n",
       "      <td>...</td>\n",
       "    </tr>\n",
       "    <tr>\n",
       "      <td>95</td>\n",
       "      <td>-1.519270</td>\n",
       "      <td>0.200862</td>\n",
       "      <td>0.229736</td>\n",
       "      <td>5.607311e-04</td>\n",
       "    </tr>\n",
       "    <tr>\n",
       "      <td>96</td>\n",
       "      <td>-1.793062</td>\n",
       "      <td>0.199095</td>\n",
       "      <td>0.347838</td>\n",
       "      <td>1.034854e-07</td>\n",
       "    </tr>\n",
       "    <tr>\n",
       "      <td>97</td>\n",
       "      <td>-1.728223</td>\n",
       "      <td>0.199325</td>\n",
       "      <td>0.264996</td>\n",
       "      <td>6.394107e-05</td>\n",
       "    </tr>\n",
       "    <tr>\n",
       "      <td>98</td>\n",
       "      <td>-1.870555</td>\n",
       "      <td>0.199019</td>\n",
       "      <td>0.338418</td>\n",
       "      <td>2.377364e-07</td>\n",
       "    </tr>\n",
       "    <tr>\n",
       "      <td>99</td>\n",
       "      <td>-1.460314</td>\n",
       "      <td>0.200746</td>\n",
       "      <td>0.191260</td>\n",
       "      <td>4.235392e-03</td>\n",
       "    </tr>\n",
       "  </tbody>\n",
       "</table>\n",
       "<p>100 rows × 4 columns</p>\n",
       "</div>"
      ],
      "text/plain": [
       "        nlpd    errors    cobeau  cobeau_p_vals\n",
       "0  -1.856833  0.199311  0.315354   1.626320e-06\n",
       "1  -1.638708  0.197966  0.347290   1.087061e-07\n",
       "2  -1.666117  0.201343  0.203266   2.339684e-03\n",
       "3  -1.785482  0.199566  0.322733   8.943031e-07\n",
       "4  -1.728704  0.199644  0.318931   1.219437e-06\n",
       "..       ...       ...       ...            ...\n",
       "95 -1.519270  0.200862  0.229736   5.607311e-04\n",
       "96 -1.793062  0.199095  0.347838   1.034854e-07\n",
       "97 -1.728223  0.199325  0.264996   6.394107e-05\n",
       "98 -1.870555  0.199019  0.338418   2.377364e-07\n",
       "99 -1.460314  0.200746  0.191260   4.235392e-03\n",
       "\n",
       "[100 rows x 4 columns]"
      ]
     },
     "execution_count": 58,
     "metadata": {},
     "output_type": "execute_result"
    }
   ],
   "source": [
    "df2.dropna(0)"
   ]
  },
  {
   "cell_type": "code",
   "execution_count": 59,
   "metadata": {},
   "outputs": [],
   "source": [
    "pd_means = pd.DataFrame.from_dict(means_dict)\n",
    "pd_stds = pd.DataFrame.from_dict(stds_dict)\n",
    "pd_means = pd.DataFrame.from_dict(means_dict)"
   ]
  },
  {
   "cell_type": "code",
   "execution_count": null,
   "metadata": {},
   "outputs": [],
   "source": []
  },
  {
   "cell_type": "code",
   "execution_count": null,
   "metadata": {},
   "outputs": [],
   "source": []
  },
  {
   "cell_type": "code",
   "execution_count": 60,
   "metadata": {},
   "outputs": [],
   "source": [
    "# pd_means['prior'] = [np.mean(analyzer.stats_dict['analysis']['prior_nlpd']),\n",
    "#                      np.mean(analyzer.stats_dict['analysis']['prior_test_errors']),\n",
    "#                      np.mean(analyzer.stats_dict['analysis']['prior_cobeau']),\n",
    "#                      np.mean(analyzer.stats_dict['analysis']['prior_cobeau_p'])]"
   ]
  },
  {
   "cell_type": "code",
   "execution_count": 61,
   "metadata": {},
   "outputs": [],
   "source": [
    "\n",
    "pd_means = pd_means.dropna(1)\n",
    "pd_means['train set mean/std'] = [analyzer.stupid_function_nlpd,analyzer.stupid_function_error, None, None][::-1]\n",
    "if toy == 'True':\n",
    "    pd_means['generating function'] = [analyzer.original_function_nlpd,analyzer.original_function_error , None, None][::-1]\n",
    "pd_means = pd_means.round(2)"
   ]
  },
  {
   "cell_type": "code",
   "execution_count": 62,
   "metadata": {},
   "outputs": [
    {
     "data": {
      "text/html": [
       "<div>\n",
       "<style scoped>\n",
       "    .dataframe tbody tr th:only-of-type {\n",
       "        vertical-align: middle;\n",
       "    }\n",
       "\n",
       "    .dataframe tbody tr th {\n",
       "        vertical-align: top;\n",
       "    }\n",
       "\n",
       "    .dataframe thead th {\n",
       "        text-align: right;\n",
       "    }\n",
       "</style>\n",
       "<table border=\"1\" class=\"dataframe\">\n",
       "  <thead>\n",
       "    <tr style=\"text-align: right;\">\n",
       "      <th></th>\n",
       "      <th>BobstrapEnsemble</th>\n",
       "      <th>DropoutModel</th>\n",
       "      <th>DropoutModel prior</th>\n",
       "      <th>SaverModel</th>\n",
       "      <th>train set mean/std</th>\n",
       "    </tr>\n",
       "  </thead>\n",
       "  <tbody>\n",
       "    <tr>\n",
       "      <td>cobeau</td>\n",
       "      <td>0.30</td>\n",
       "      <td>0.03</td>\n",
       "      <td>0.08</td>\n",
       "      <td>0.27</td>\n",
       "      <td>NaN</td>\n",
       "    </tr>\n",
       "    <tr>\n",
       "      <td>cobeau_p_vals</td>\n",
       "      <td>0.00</td>\n",
       "      <td>0.51</td>\n",
       "      <td>0.33</td>\n",
       "      <td>0.01</td>\n",
       "      <td>NaN</td>\n",
       "    </tr>\n",
       "    <tr>\n",
       "      <td>errors</td>\n",
       "      <td>0.21</td>\n",
       "      <td>0.21</td>\n",
       "      <td>0.74</td>\n",
       "      <td>0.20</td>\n",
       "      <td>0.73</td>\n",
       "    </tr>\n",
       "    <tr>\n",
       "      <td>nlpd</td>\n",
       "      <td>-1.67</td>\n",
       "      <td>-1.65</td>\n",
       "      <td>42.51</td>\n",
       "      <td>-1.69</td>\n",
       "      <td>0.45</td>\n",
       "    </tr>\n",
       "  </tbody>\n",
       "</table>\n",
       "</div>"
      ],
      "text/plain": [
       "               BobstrapEnsemble  DropoutModel  DropoutModel prior  SaverModel  \\\n",
       "cobeau                     0.30          0.03                0.08        0.27   \n",
       "cobeau_p_vals              0.00          0.51                0.33        0.01   \n",
       "errors                     0.21          0.21                0.74        0.20   \n",
       "nlpd                      -1.67         -1.65               42.51       -1.69   \n",
       "\n",
       "               train set mean/std  \n",
       "cobeau                        NaN  \n",
       "cobeau_p_vals                 NaN  \n",
       "errors                       0.73  \n",
       "nlpd                         0.45  "
      ]
     },
     "execution_count": 62,
     "metadata": {},
     "output_type": "execute_result"
    }
   ],
   "source": [
    "pd_means.head()"
   ]
  },
  {
   "cell_type": "code",
   "execution_count": 63,
   "metadata": {},
   "outputs": [
    {
     "data": {
      "text/html": [
       "<div>\n",
       "<style scoped>\n",
       "    .dataframe tbody tr th:only-of-type {\n",
       "        vertical-align: middle;\n",
       "    }\n",
       "\n",
       "    .dataframe tbody tr th {\n",
       "        vertical-align: top;\n",
       "    }\n",
       "\n",
       "    .dataframe thead th {\n",
       "        text-align: right;\n",
       "    }\n",
       "</style>\n",
       "<table border=\"1\" class=\"dataframe\">\n",
       "  <thead>\n",
       "    <tr style=\"text-align: right;\">\n",
       "      <th></th>\n",
       "      <th>cobeau</th>\n",
       "      <th>cobeau_p_vals</th>\n",
       "      <th>errors</th>\n",
       "      <th>nlpd</th>\n",
       "    </tr>\n",
       "  </thead>\n",
       "  <tbody>\n",
       "    <tr>\n",
       "      <td>BobstrapEnsemble</td>\n",
       "      <td>0.30</td>\n",
       "      <td>0.00</td>\n",
       "      <td>0.21</td>\n",
       "      <td>-1.67</td>\n",
       "    </tr>\n",
       "    <tr>\n",
       "      <td>DropoutModel</td>\n",
       "      <td>0.03</td>\n",
       "      <td>0.51</td>\n",
       "      <td>0.21</td>\n",
       "      <td>-1.65</td>\n",
       "    </tr>\n",
       "    <tr>\n",
       "      <td>DropoutModel prior</td>\n",
       "      <td>0.08</td>\n",
       "      <td>0.33</td>\n",
       "      <td>0.74</td>\n",
       "      <td>42.51</td>\n",
       "    </tr>\n",
       "    <tr>\n",
       "      <td>SaverModel</td>\n",
       "      <td>0.27</td>\n",
       "      <td>0.01</td>\n",
       "      <td>0.20</td>\n",
       "      <td>-1.69</td>\n",
       "    </tr>\n",
       "    <tr>\n",
       "      <td>train set mean/std</td>\n",
       "      <td>NaN</td>\n",
       "      <td>NaN</td>\n",
       "      <td>0.73</td>\n",
       "      <td>0.45</td>\n",
       "    </tr>\n",
       "  </tbody>\n",
       "</table>\n",
       "</div>"
      ],
      "text/plain": [
       "                    cobeau  cobeau_p_vals  errors   nlpd\n",
       "BobstrapEnsemble      0.30           0.00    0.21  -1.67\n",
       "DropoutModel          0.03           0.51    0.21  -1.65\n",
       "DropoutModel prior    0.08           0.33    0.74  42.51\n",
       "SaverModel            0.27           0.01    0.20  -1.69\n",
       "train set mean/std     NaN            NaN    0.73   0.45"
      ]
     },
     "execution_count": 63,
     "metadata": {},
     "output_type": "execute_result"
    }
   ],
   "source": [
    "pd_means.T"
   ]
  },
  {
   "cell_type": "code",
   "execution_count": null,
   "metadata": {},
   "outputs": [],
   "source": []
  },
  {
   "cell_type": "code",
   "execution_count": 64,
   "metadata": {},
   "outputs": [
    {
     "data": {
      "text/html": [
       "<div>\n",
       "<style scoped>\n",
       "    .dataframe tbody tr th:only-of-type {\n",
       "        vertical-align: middle;\n",
       "    }\n",
       "\n",
       "    .dataframe tbody tr th {\n",
       "        vertical-align: top;\n",
       "    }\n",
       "\n",
       "    .dataframe thead th {\n",
       "        text-align: right;\n",
       "    }\n",
       "</style>\n",
       "<table border=\"1\" class=\"dataframe\">\n",
       "  <thead>\n",
       "    <tr style=\"text-align: right;\">\n",
       "      <th></th>\n",
       "      <th>cobeau</th>\n",
       "      <th>cobeau_p_vals</th>\n",
       "      <th>errors</th>\n",
       "      <th>nlpd</th>\n",
       "    </tr>\n",
       "  </thead>\n",
       "  <tbody>\n",
       "    <tr>\n",
       "      <td>BobstrapEnsemble</td>\n",
       "      <td>0.07</td>\n",
       "      <td>0.01</td>\n",
       "      <td>0.00</td>\n",
       "      <td>0.19</td>\n",
       "    </tr>\n",
       "    <tr>\n",
       "      <td>DropoutModel</td>\n",
       "      <td>0.07</td>\n",
       "      <td>0.30</td>\n",
       "      <td>0.00</td>\n",
       "      <td>0.29</td>\n",
       "    </tr>\n",
       "    <tr>\n",
       "      <td>DropoutModel prior</td>\n",
       "      <td>0.11</td>\n",
       "      <td>0.31</td>\n",
       "      <td>0.04</td>\n",
       "      <td>23.80</td>\n",
       "    </tr>\n",
       "    <tr>\n",
       "      <td>SaverModel</td>\n",
       "      <td>0.07</td>\n",
       "      <td>0.02</td>\n",
       "      <td>0.00</td>\n",
       "      <td>0.21</td>\n",
       "    </tr>\n",
       "  </tbody>\n",
       "</table>\n",
       "</div>"
      ],
      "text/plain": [
       "                    cobeau  cobeau_p_vals  errors   nlpd\n",
       "BobstrapEnsemble      0.07           0.01    0.00   0.19\n",
       "DropoutModel          0.07           0.30    0.00   0.29\n",
       "DropoutModel prior    0.11           0.31    0.04  23.80\n",
       "SaverModel            0.07           0.02    0.00   0.21"
      ]
     },
     "execution_count": 64,
     "metadata": {},
     "output_type": "execute_result"
    }
   ],
   "source": [
    "pd_stds = pd_stds.dropna(1).round(2)\n",
    "pd_stds.round(3).T"
   ]
  },
  {
   "cell_type": "code",
   "execution_count": 65,
   "metadata": {},
   "outputs": [],
   "source": [
    "import collections"
   ]
  },
  {
   "cell_type": "code",
   "execution_count": 66,
   "metadata": {},
   "outputs": [],
   "source": [
    "stats_dict = collections.defaultdict(dict)\n",
    "for row in pd_means.index:\n",
    "    \n",
    "    for col in pd_means.columns:\n",
    "\n",
    "        \n",
    "        \n",
    "        \n",
    "        \n",
    "        \n",
    "        try:\n",
    "            stats_dict[row][col] = str(pd_means.loc[row][col]) + ' \\\\footnotesize$\\pm$' + str(pd_stds.loc[row][col]) + '\\normalsize'\n",
    "        except:\n",
    "            stats_dict[row][col] = pd_means.loc[row][col]"
   ]
  },
  {
   "cell_type": "code",
   "execution_count": 67,
   "metadata": {},
   "outputs": [
    {
     "data": {
      "text/plain": [
       "['BobstrapEnsemble',\n",
       " 'DropoutModel',\n",
       " 'DropoutModel prior',\n",
       " 'SaverModel',\n",
       " 'train set mean/std']"
      ]
     },
     "execution_count": 67,
     "metadata": {},
     "output_type": "execute_result"
    }
   ],
   "source": [
    "list(pd.DataFrame.from_dict(stats_dict).index)"
   ]
  },
  {
   "cell_type": "code",
   "execution_count": null,
   "metadata": {},
   "outputs": [],
   "source": []
  },
  {
   "cell_type": "code",
   "execution_count": 68,
   "metadata": {},
   "outputs": [],
   "source": [
    "model_names_list = ['VanillaEnsemble', 'ShuffleEnsemble', 'BootstrapEnsemble', 'SaverModel', 'BobstrapEnsemble', 'DropoutModel']\n",
    "model_names_list_bf = ['\\textbf{{{}}}'.format(x) for x in model_names_list]\n",
    "\n",
    "prior_names_list = [                                             'VanillaEnsemble prior',\n",
    "                                           'ShuffleEnsemble prior',\n",
    "                                             'BootstrapEnsemble prior',\n",
    "                                             'DropoutModel prior',]\n",
    "benchmark_names_list = [                                             'train set mean/std',\n",
    "]\n",
    "if toy == 'True':\n",
    "    benchmark_names_list += [ 'generating function']\n",
    "\n",
    "pd_stats = pd.DataFrame.from_dict(stats_dict).reindex(model_names_list+prior_names_list+benchmark_names_list)\n"
   ]
  },
  {
   "cell_type": "code",
   "execution_count": 69,
   "metadata": {},
   "outputs": [
    {
     "data": {
      "text/plain": [
       "['\\textbf{VanillaEnsemble}',\n",
       " '\\textbf{ShuffleEnsemble}',\n",
       " '\\textbf{BootstrapEnsemble}',\n",
       " '\\textbf{SaverModel}',\n",
       " '\\textbf{BobstrapEnsemble}',\n",
       " '\\textbf{DropoutModel}']"
      ]
     },
     "execution_count": 69,
     "metadata": {},
     "output_type": "execute_result"
    }
   ],
   "source": [
    "model_names_list_bf"
   ]
  },
  {
   "cell_type": "code",
   "execution_count": 70,
   "metadata": {},
   "outputs": [
    {
     "data": {
      "text/plain": [
       "['\\textbf{VanillaEnsemble}',\n",
       " '\\textbf{ShuffleEnsemble}',\n",
       " '\\textbf{BootstrapEnsemble}',\n",
       " '\\textbf{SaverModel}',\n",
       " '\\textbf{BobstrapEnsemble}',\n",
       " '\\textbf{DropoutModel}',\n",
       " 'VanillaEnsemble prior',\n",
       " 'ShuffleEnsemble prior',\n",
       " 'BootstrapEnsemble prior',\n",
       " 'DropoutModel prior',\n",
       " 'train set mean/std']"
      ]
     },
     "execution_count": 70,
     "metadata": {},
     "output_type": "execute_result"
    }
   ],
   "source": [
    "model_names_list_bf+prior_names_list+benchmark_names_list"
   ]
  },
  {
   "cell_type": "code",
   "execution_count": 71,
   "metadata": {},
   "outputs": [],
   "source": [
    "rename_dict = {prev:after for prev,after in zip(model_names_list+prior_names_list+benchmark_names_list, model_names_list_bf+prior_names_list+benchmark_names_list)}"
   ]
  },
  {
   "cell_type": "code",
   "execution_count": 72,
   "metadata": {},
   "outputs": [
    {
     "data": {
      "text/plain": [
       "{'VanillaEnsemble': '\\textbf{VanillaEnsemble}',\n",
       " 'ShuffleEnsemble': '\\textbf{ShuffleEnsemble}',\n",
       " 'BootstrapEnsemble': '\\textbf{BootstrapEnsemble}',\n",
       " 'SaverModel': '\\textbf{SaverModel}',\n",
       " 'BobstrapEnsemble': '\\textbf{BobstrapEnsemble}',\n",
       " 'DropoutModel': '\\textbf{DropoutModel}',\n",
       " 'VanillaEnsemble prior': 'VanillaEnsemble prior',\n",
       " 'ShuffleEnsemble prior': 'ShuffleEnsemble prior',\n",
       " 'BootstrapEnsemble prior': 'BootstrapEnsemble prior',\n",
       " 'DropoutModel prior': 'DropoutModel prior',\n",
       " 'train set mean/std': 'train set mean/std'}"
      ]
     },
     "execution_count": 72,
     "metadata": {},
     "output_type": "execute_result"
    }
   ],
   "source": [
    "rename_dict"
   ]
  },
  {
   "cell_type": "code",
   "execution_count": 73,
   "metadata": {},
   "outputs": [],
   "source": [
    "pd_stats.rename(rename_dict, axis='index',inplace=True)"
   ]
  },
  {
   "cell_type": "code",
   "execution_count": null,
   "metadata": {},
   "outputs": [],
   "source": []
  },
  {
   "cell_type": "code",
   "execution_count": 74,
   "metadata": {},
   "outputs": [],
   "source": [
    "col_rename_dict = {x:f'\\textbf{{{x}}}' for x in pd_stats.columns}\n",
    "col_rename_dict['cobeau_p_vals'] = '\\textbf{cobeau p-vals}'"
   ]
  },
  {
   "cell_type": "code",
   "execution_count": 75,
   "metadata": {},
   "outputs": [],
   "source": [
    "pd_stats.rename(col_rename_dict,axis = 'columns',inplace=True)"
   ]
  },
  {
   "cell_type": "code",
   "execution_count": 76,
   "metadata": {},
   "outputs": [
    {
     "data": {
      "text/html": [
       "<div>\n",
       "<style scoped>\n",
       "    .dataframe tbody tr th:only-of-type {\n",
       "        vertical-align: middle;\n",
       "    }\n",
       "\n",
       "    .dataframe tbody tr th {\n",
       "        vertical-align: top;\n",
       "    }\n",
       "\n",
       "    .dataframe thead th {\n",
       "        text-align: right;\n",
       "    }\n",
       "</style>\n",
       "<table border=\"1\" class=\"dataframe\">\n",
       "  <thead>\n",
       "    <tr style=\"text-align: right;\">\n",
       "      <th></th>\n",
       "      <th>\\textbf{cobeau}</th>\n",
       "      <th>\\textbf{cobeau p-vals}</th>\n",
       "      <th>\\textbf{errors}</th>\n",
       "      <th>\\textbf{nlpd}</th>\n",
       "    </tr>\n",
       "  </thead>\n",
       "  <tbody>\n",
       "    <tr>\n",
       "      <td>\\textbf{VanillaEnsemble}</td>\n",
       "      <td>NaN</td>\n",
       "      <td>NaN</td>\n",
       "      <td>NaN</td>\n",
       "      <td>NaN</td>\n",
       "    </tr>\n",
       "    <tr>\n",
       "      <td>\\textbf{ShuffleEnsemble}</td>\n",
       "      <td>NaN</td>\n",
       "      <td>NaN</td>\n",
       "      <td>NaN</td>\n",
       "      <td>NaN</td>\n",
       "    </tr>\n",
       "    <tr>\n",
       "      <td>\\textbf{BootstrapEnsemble}</td>\n",
       "      <td>NaN</td>\n",
       "      <td>NaN</td>\n",
       "      <td>NaN</td>\n",
       "      <td>NaN</td>\n",
       "    </tr>\n",
       "    <tr>\n",
       "      <td>\\textbf{SaverModel}</td>\n",
       "      <td>0.27 \\footnotesize$\\pm$0.07\\normalsize</td>\n",
       "      <td>0.01 \\footnotesize$\\pm$0.02\\normalsize</td>\n",
       "      <td>0.2 \\footnotesize$\\pm$0.0\\normalsize</td>\n",
       "      <td>-1.69 \\footnotesize$\\pm$0.21\\normalsize</td>\n",
       "    </tr>\n",
       "    <tr>\n",
       "      <td>\\textbf{BobstrapEnsemble}</td>\n",
       "      <td>0.3 \\footnotesize$\\pm$0.07\\normalsize</td>\n",
       "      <td>0.0 \\footnotesize$\\pm$0.01\\normalsize</td>\n",
       "      <td>0.21 \\footnotesize$\\pm$0.0\\normalsize</td>\n",
       "      <td>-1.67 \\footnotesize$\\pm$0.19\\normalsize</td>\n",
       "    </tr>\n",
       "    <tr>\n",
       "      <td>\\textbf{DropoutModel}</td>\n",
       "      <td>0.03 \\footnotesize$\\pm$0.07\\normalsize</td>\n",
       "      <td>0.51 \\footnotesize$\\pm$0.3\\normalsize</td>\n",
       "      <td>0.21 \\footnotesize$\\pm$0.0\\normalsize</td>\n",
       "      <td>-1.65 \\footnotesize$\\pm$0.29\\normalsize</td>\n",
       "    </tr>\n",
       "    <tr>\n",
       "      <td>VanillaEnsemble prior</td>\n",
       "      <td>NaN</td>\n",
       "      <td>NaN</td>\n",
       "      <td>NaN</td>\n",
       "      <td>NaN</td>\n",
       "    </tr>\n",
       "    <tr>\n",
       "      <td>ShuffleEnsemble prior</td>\n",
       "      <td>NaN</td>\n",
       "      <td>NaN</td>\n",
       "      <td>NaN</td>\n",
       "      <td>NaN</td>\n",
       "    </tr>\n",
       "    <tr>\n",
       "      <td>BootstrapEnsemble prior</td>\n",
       "      <td>NaN</td>\n",
       "      <td>NaN</td>\n",
       "      <td>NaN</td>\n",
       "      <td>NaN</td>\n",
       "    </tr>\n",
       "    <tr>\n",
       "      <td>DropoutModel prior</td>\n",
       "      <td>0.08 \\footnotesize$\\pm$0.11\\normalsize</td>\n",
       "      <td>0.33 \\footnotesize$\\pm$0.31\\normalsize</td>\n",
       "      <td>0.74 \\footnotesize$\\pm$0.04\\normalsize</td>\n",
       "      <td>42.51 \\footnotesize$\\pm$23.8\\normalsize</td>\n",
       "    </tr>\n",
       "    <tr>\n",
       "      <td>train set mean/std</td>\n",
       "      <td>NaN</td>\n",
       "      <td>NaN</td>\n",
       "      <td>0.73</td>\n",
       "      <td>0.45</td>\n",
       "    </tr>\n",
       "  </tbody>\n",
       "</table>\n",
       "</div>"
      ],
      "text/plain": [
       "                                                   \\textbf{cobeau}  \\\n",
       "\\textbf{VanillaEnsemble}                                       NaN   \n",
       "\\textbf{ShuffleEnsemble}                                       NaN   \n",
       "\\textbf{BootstrapEnsemble}                                     NaN   \n",
       "\\textbf{SaverModel}         0.27 \\footnotesize$\\pm$0.07\\normalsize   \n",
       "\\textbf{BobstrapEnsemble}    0.3 \\footnotesize$\\pm$0.07\\normalsize   \n",
       "\\textbf{DropoutModel}       0.03 \\footnotesize$\\pm$0.07\\normalsize   \n",
       "VanillaEnsemble prior                                          NaN   \n",
       "ShuffleEnsemble prior                                          NaN   \n",
       "BootstrapEnsemble prior                                        NaN   \n",
       "DropoutModel prior          0.08 \\footnotesize$\\pm$0.11\\normalsize   \n",
       "train set mean/std                                             NaN   \n",
       "\n",
       "                                            \\textbf{cobeau p-vals}  \\\n",
       "\\textbf{VanillaEnsemble}                                       NaN   \n",
       "\\textbf{ShuffleEnsemble}                                       NaN   \n",
       "\\textbf{BootstrapEnsemble}                                     NaN   \n",
       "\\textbf{SaverModel}         0.01 \\footnotesize$\\pm$0.02\\normalsize   \n",
       "\\textbf{BobstrapEnsemble}    0.0 \\footnotesize$\\pm$0.01\\normalsize   \n",
       "\\textbf{DropoutModel}        0.51 \\footnotesize$\\pm$0.3\\normalsize   \n",
       "VanillaEnsemble prior                                          NaN   \n",
       "ShuffleEnsemble prior                                          NaN   \n",
       "BootstrapEnsemble prior                                        NaN   \n",
       "DropoutModel prior          0.33 \\footnotesize$\\pm$0.31\\normalsize   \n",
       "train set mean/std                                             NaN   \n",
       "\n",
       "                                                   \\textbf{errors}  \\\n",
       "\\textbf{VanillaEnsemble}                                       NaN   \n",
       "\\textbf{ShuffleEnsemble}                                       NaN   \n",
       "\\textbf{BootstrapEnsemble}                                     NaN   \n",
       "\\textbf{SaverModel}           0.2 \\footnotesize$\\pm$0.0\\normalsize   \n",
       "\\textbf{BobstrapEnsemble}    0.21 \\footnotesize$\\pm$0.0\\normalsize   \n",
       "\\textbf{DropoutModel}        0.21 \\footnotesize$\\pm$0.0\\normalsize   \n",
       "VanillaEnsemble prior                                          NaN   \n",
       "ShuffleEnsemble prior                                          NaN   \n",
       "BootstrapEnsemble prior                                        NaN   \n",
       "DropoutModel prior          0.74 \\footnotesize$\\pm$0.04\\normalsize   \n",
       "train set mean/std                                            0.73   \n",
       "\n",
       "                                                      \\textbf{nlpd}  \n",
       "\\textbf{VanillaEnsemble}                                        NaN  \n",
       "\\textbf{ShuffleEnsemble}                                        NaN  \n",
       "\\textbf{BootstrapEnsemble}                                      NaN  \n",
       "\\textbf{SaverModel}         -1.69 \\footnotesize$\\pm$0.21\\normalsize  \n",
       "\\textbf{BobstrapEnsemble}   -1.67 \\footnotesize$\\pm$0.19\\normalsize  \n",
       "\\textbf{DropoutModel}       -1.65 \\footnotesize$\\pm$0.29\\normalsize  \n",
       "VanillaEnsemble prior                                           NaN  \n",
       "ShuffleEnsemble prior                                           NaN  \n",
       "BootstrapEnsemble prior                                         NaN  \n",
       "DropoutModel prior          42.51 \\footnotesize$\\pm$23.8\\normalsize  \n",
       "train set mean/std                                             0.45  "
      ]
     },
     "execution_count": 76,
     "metadata": {},
     "output_type": "execute_result"
    }
   ],
   "source": [
    "pd_stats"
   ]
  },
  {
   "cell_type": "code",
   "execution_count": 77,
   "metadata": {},
   "outputs": [
    {
     "data": {
      "text/plain": [
       "['\\textbf{cobeau}',\n",
       " '\\textbf{cobeau p-vals}',\n",
       " '\\textbf{errors}',\n",
       " '\\textbf{nlpd}']"
      ]
     },
     "execution_count": 77,
     "metadata": {},
     "output_type": "execute_result"
    }
   ],
   "source": [
    "list(pd_stats.columns)"
   ]
  },
  {
   "cell_type": "code",
   "execution_count": 78,
   "metadata": {},
   "outputs": [],
   "source": [
    "cols = ['\\textbf{errors}',\n",
    " '\\textbf{nlpd}',\n",
    "         '\\textbf{cobeau}',\n",
    " '\\textbf{cobeau p-vals}',\n",
    "]\n",
    "pd_stats = pd_stats[cols]"
   ]
  },
  {
   "cell_type": "code",
   "execution_count": 79,
   "metadata": {},
   "outputs": [
    {
     "name": "stdout",
     "output_type": "stream",
     "text": [
      "\\begin{tabular}{lllll}\n",
      "\\toprule\n",
      "{} &                         \\textbf{errors} &                            \\textbf{nlpd} &                         \\textbf{cobeau} &                  \\textbf{cobeau p-vals} \\\\\n",
      "\\midrule\n",
      "\\textbf{VanillaEnsemble}   &                                       - &                                        - &                                       - &                                       - \\\\\n",
      "\\textbf{ShuffleEnsemble}   &                                       - &                                        - &                                       - &                                       - \\\\\n",
      "\\textbf{BootstrapEnsemble} &                                       - &                                        - &                                       - &                                       - \\\\\n",
      "\\textbf{SaverModel}        &    0.2 \\footnotesize$\\pm$0.0\\normalsize &  -1.69 \\footnotesize$\\pm$0.21\\normalsize &  0.27 \\footnotesize$\\pm$0.07\\normalsize &  0.01 \\footnotesize$\\pm$0.02\\normalsize \\\\\n",
      "\\textbf{BobstrapEnsemble}  &   0.21 \\footnotesize$\\pm$0.0\\normalsize &  -1.67 \\footnotesize$\\pm$0.19\\normalsize &   0.3 \\footnotesize$\\pm$0.07\\normalsize &   0.0 \\footnotesize$\\pm$0.01\\normalsize \\\\\n",
      "\\textbf{DropoutModel}      &   0.21 \\footnotesize$\\pm$0.0\\normalsize &  -1.65 \\footnotesize$\\pm$0.29\\normalsize &  0.03 \\footnotesize$\\pm$0.07\\normalsize &   0.51 \\footnotesize$\\pm$0.3\\normalsize \\\\\n",
      "VanillaEnsemble prior      &                                       - &                                        - &                                       - &                                       - \\\\\n",
      "ShuffleEnsemble prior      &                                       - &                                        - &                                       - &                                       - \\\\\n",
      "BootstrapEnsemble prior    &                                       - &                                        - &                                       - &                                       - \\\\\n",
      "DropoutModel prior         &  0.74 \\footnotesize$\\pm$0.04\\normalsize &  42.51 \\footnotesize$\\pm$23.8\\normalsize &  0.08 \\footnotesize$\\pm$0.11\\normalsize &  0.33 \\footnotesize$\\pm$0.31\\normalsize \\\\\n",
      "train set mean/std         &                                    0.73 &                                     0.45 &                                       - &                                       - \\\\\n",
      "\\bottomrule\n",
      "\\end{tabular}\n",
      "\n"
     ]
    }
   ],
   "source": [
    "print(pd_stats.to_latex(na_rep ='-',bold_rows =False, escape=False))"
   ]
  },
  {
   "cell_type": "code",
   "execution_count": null,
   "metadata": {},
   "outputs": [],
   "source": []
  },
  {
   "cell_type": "markdown",
   "metadata": {},
   "source": [
    "# model table"
   ]
  },
  {
   "cell_type": "code",
   "execution_count": null,
   "metadata": {},
   "outputs": [],
   "source": []
  },
  {
   "cell_type": "code",
   "execution_count": null,
   "metadata": {},
   "outputs": [],
   "source": []
  },
  {
   "cell_type": "code",
   "execution_count": 80,
   "metadata": {},
   "outputs": [
    {
     "name": "stdout",
     "output_type": "stream",
     "text": [
      "----------------------------------------------------------------\n",
      "        Layer (type)               Output Shape         Param #\n",
      "================================================================\n",
      "            Linear-1               [-1, 0, 100]             200\n",
      "         LeakyReLU-2               [-1, 0, 100]               0\n",
      "            Linear-3               [-1, 0, 100]          10,100\n",
      "         LeakyReLU-4               [-1, 0, 100]               0\n",
      "           Dropout-5               [-1, 0, 100]               0\n",
      "            Linear-6                [-1, 0, 10]           1,010\n",
      "         LeakyReLU-7                [-1, 0, 10]               0\n",
      "            Linear-8                 [-1, 0, 1]              11\n",
      "================================================================\n",
      "Total params: 11,321\n",
      "Trainable params: 11,321\n",
      "Non-trainable params: 0\n",
      "----------------------------------------------------------------\n",
      "Input size (MB): 0.00\n",
      "Forward/backward pass size (MB): 0.00\n",
      "Params size (MB): 0.04\n",
      "Estimated Total Size (MB): 0.04\n",
      "----------------------------------------------------------------\n",
      "Sequential(\n",
      "  (0): Linear(in_features=1, out_features=100, bias=True)\n",
      "  (1): LeakyReLU(negative_slope=0.01)\n",
      "  (2): Linear(in_features=100, out_features=100, bias=True)\n",
      "  (3): LeakyReLU(negative_slope=0.01)\n",
      "  (4): Dropout(p=0, inplace=False)\n",
      "  (5): Linear(in_features=100, out_features=10, bias=True)\n",
      "  (6): LeakyReLU(negative_slope=0.01)\n",
      "  (7): Linear(in_features=10, out_features=1, bias=True)\n",
      ")\n",
      "Sequential(\n",
      "  (0): Linear(in_features=1, out_features=500, bias=True)\n",
      "  (1): LeakyReLU(negative_slope=0.01)\n",
      "  (2): Linear(in_features=500, out_features=500, bias=True)\n",
      "  (3): LeakyReLU(negative_slope=0.01)\n",
      "  (4): Linear(in_features=500, out_features=15, bias=True)\n",
      "  (5): LeakyReLU(negative_slope=0.01)\n",
      "  (6): Dropout(p=0, inplace=False)\n",
      "  (7): Linear(in_features=15, out_features=1, bias=True)\n",
      ")\n"
     ]
    },
    {
     "data": {
      "text/html": [
       "<div>\n",
       "<style scoped>\n",
       "    .dataframe tbody tr th:only-of-type {\n",
       "        vertical-align: middle;\n",
       "    }\n",
       "\n",
       "    .dataframe tbody tr th {\n",
       "        vertical-align: top;\n",
       "    }\n",
       "\n",
       "    .dataframe thead th {\n",
       "        text-align: right;\n",
       "    }\n",
       "</style>\n",
       "<table border=\"1\" class=\"dataframe\">\n",
       "  <thead>\n",
       "    <tr style=\"text-align: right;\">\n",
       "      <th></th>\n",
       "      <th>toy</th>\n",
       "      <th>housing</th>\n",
       "    </tr>\n",
       "  </thead>\n",
       "  <tbody>\n",
       "    <tr>\n",
       "      <td>layer sizes</td>\n",
       "      <td>[100, 100, 10, 1]</td>\n",
       "      <td>[500, 500, 15, 1]</td>\n",
       "    </tr>\n",
       "    <tr>\n",
       "      <td>non-linearity</td>\n",
       "      <td>Tanh</td>\n",
       "      <td>Tanh</td>\n",
       "    </tr>\n",
       "  </tbody>\n",
       "</table>\n",
       "</div>"
      ],
      "text/plain": [
       "                             toy            housing\n",
       "layer sizes    [100, 100, 10, 1]  [500, 500, 15, 1]\n",
       "non-linearity               Tanh               Tanh"
      ]
     },
     "execution_count": 80,
     "metadata": {},
     "output_type": "execute_result"
    }
   ],
   "source": [
    "from nn_models.base_model import get_toy_model,get_kaggle_model\n",
    "import torch\n",
    "from torchsummary import summary\n",
    "import collections\n",
    "import pandas as pd\n",
    "device = torch.device(\"cuda\" if torch.cuda.is_available() else \"cpu\")\n",
    "model = get_toy_model(1,torch.nn.LeakyReLU,0).to(device)\n",
    "summary(model, (0,1))\n",
    "model_dict = collections.defaultdict(dict)\n",
    "for name, get_func in zip(['toy','housing'],[get_toy_model, get_kaggle_model]):\n",
    "    model = get_func(1,torch.nn.LeakyReLU,0)\n",
    "    model_params = [x.out_features for x in list(model) if hasattr(x,'out_features')]\n",
    "    model_dict[name]['layer sizes'] = model_params\n",
    "    model_dict[name]['non-linearity'] = 'Tanh'\n",
    "    print(model)\n",
    "a = pd.DataFrame.from_dict(model_dict)\n",
    "a"
   ]
  },
  {
   "cell_type": "code",
   "execution_count": null,
   "metadata": {},
   "outputs": [],
   "source": []
  },
  {
   "cell_type": "code",
   "execution_count": null,
   "metadata": {},
   "outputs": [],
   "source": []
  },
  {
   "cell_type": "code",
   "execution_count": null,
   "metadata": {},
   "outputs": [],
   "source": []
  },
  {
   "cell_type": "code",
   "execution_count": 81,
   "metadata": {},
   "outputs": [
    {
     "name": "stdout",
     "output_type": "stream",
     "text": [
      "\\begin{tabular}{lll}\n",
      "\\toprule\n",
      "{} &                toy &            housing \\\\\n",
      "\\midrule\n",
      "layer sizes   &  [100, 100, 10, 1] &  [500, 500, 15, 1] \\\\\n",
      "non-linearity &               Tanh &               Tanh \\\\\n",
      "\\bottomrule\n",
      "\\end{tabular}\n",
      "\n"
     ]
    }
   ],
   "source": [
    "print(a.to_latex())"
   ]
  },
  {
   "cell_type": "code",
   "execution_count": 82,
   "metadata": {},
   "outputs": [
    {
     "data": {
      "text/plain": [
       "torch.nn.modules.activation.ReLU"
      ]
     },
     "execution_count": 82,
     "metadata": {},
     "output_type": "execute_result"
    }
   ],
   "source": [
    "torch.nn.ReLU"
   ]
  },
  {
   "cell_type": "code",
   "execution_count": null,
   "metadata": {},
   "outputs": [],
   "source": []
  },
  {
   "cell_type": "code",
   "execution_count": null,
   "metadata": {},
   "outputs": [],
   "source": []
  }
 ],
 "metadata": {
  "kernelspec": {
   "display_name": "Python 3",
   "language": "python",
   "name": "python3"
  },
  "language_info": {
   "codemirror_mode": {
    "name": "ipython",
    "version": 3
   },
   "file_extension": ".py",
   "mimetype": "text/x-python",
   "name": "python",
   "nbconvert_exporter": "python",
   "pygments_lexer": "ipython3",
   "version": "3.7.4"
  }
 },
 "nbformat": 4,
 "nbformat_minor": 4
}
