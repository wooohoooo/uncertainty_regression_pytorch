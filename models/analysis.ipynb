{
 "cells": [
  {
   "cell_type": "code",
   "execution_count": 1,
   "metadata": {},
   "outputs": [],
   "source": [
    "import numpy as np\n",
    "import torch\n",
    "\n",
    "seed = 42 #424\n",
    "np.random.seed(seed)\n",
    "torch.manual_seed(seed)\n",
    "#NOTE! This only works for non cudnn. gpu needs\n",
    "torch.backends.cudnn.deterministic = True\n",
    "torch.backends.cudnn.benchmark = False\n",
    "\n",
    "from helpers import showcase_code\n",
    "\n",
    "import matplotlib.pyplot as plt\n",
    "#%matplotlib inline\n",
    "import seaborn as sns\n",
    "import pickle\n",
    "\n",
    "from experimentation import ExperimentAnalyzer\n",
    "import os\n",
    "import time\n",
    "import pandas as pd"
   ]
  },
  {
   "cell_type": "code",
   "execution_count": 2,
   "metadata": {},
   "outputs": [],
   "source": [
    "# for working with external files, otherwise kernels needs to be restarted each time\n",
    "%load_ext autoreload\n",
    "%autoreload 2"
   ]
  },
  {
   "cell_type": "code",
   "execution_count": null,
   "metadata": {},
   "outputs": [],
   "source": []
  },
  {
   "cell_type": "markdown",
   "metadata": {},
   "source": [
    "import numpy as np\n",
    "import torch\n",
    "\n",
    "seed = 42 #424\n",
    "np.random.seed(seed)\n",
    "torch.manual_seed(seed)\n",
    "#NOTE! This only works for non cudnn. gpu needs\n",
    "torch.backends.cudnn.deterministic = True\n",
    "torch.backends.cudnn.benchmark = False\n",
    "\n",
    "from helpers import showcase_code\n",
    "\n",
    "import matplotlib.pyplot as plt\n",
    "#%matplotlib inline\n",
    "import seaborn as sns\n",
    "import pickle\n",
    "\n",
    "from experimentation import ExperimentAnalyzer\n",
    "import os\n",
    "import time\n",
    "import pandas as pd\n",
    "files = [x for x in os.listdir('pickles') if x.endswith('pkl')]\n",
    "\n",
    "\n",
    "for file in files:\n",
    "    with  open('pickles\\\\'+file, \"rb\") as f:\n",
    "        exp = pickle.load(f)\n",
    "\n",
    "\n",
    "\n",
    "    analyzer = ExperimentAnalyzer(exp)\n",
    "    df1 = analyzer.analysis()\n",
    "    print(f'{exp.model_name}')\n",
    "    print(df1.describe().to_latex())\n",
    "    analyzer.get_outlier_indices()\n",
    "    analyzer.plot_outcomes()\n",
    "    plt.figure()\n",
    "\n",
    "\n",
    "    \n",
    "    \n"
   ]
  },
  {
   "cell_type": "code",
   "execution_count": 3,
   "metadata": {},
   "outputs": [
    {
     "name": "stdout",
     "output_type": "stream",
     "text": [
      "['BobstrapEnsemble_toy_True_20.pkl', 'BootstrapEnsemble_toy_True_20.pkl', 'DropoutModel_toy_True_20.pkl', 'SaverModel_toy_True_20.pkl', 'ShuffleEnsemble_toy_True_20.pkl', 'VanillaEnsemble_toy_True_20.pkl']\n"
     ]
    }
   ],
   "source": [
    "non_linearity_name = 'Tanh'# 'old'#'LeakyReLU'#\"old\"#'ReLU'#'Tanh'\n",
    "toy = 'True' #'False'\n",
    "pre_set_data = 'False'\n",
    "out_of_sample = 'True'\n",
    "\n",
    "file_path = f'pickles\\\\{pre_set_data}\\\\{non_linearity_name}\\\\'\n",
    "if toy == 'True':\n",
    "    file_path = f\"pickles\\\\{pre_set_data}\\\\{non_linearity_name}_out_of_sample{out_of_sample}\\\\\"\n",
    "\n",
    "files = [x for x in os.listdir(file_path) if x.endswith('pkl') if toy in x]\n",
    "\n",
    "print(files)"
   ]
  },
  {
   "cell_type": "code",
   "execution_count": 4,
   "metadata": {},
   "outputs": [
    {
     "data": {
      "text/plain": [
       "'pickles\\\\False\\\\Tanh_out_of_sampleTrue\\\\'"
      ]
     },
     "execution_count": 4,
     "metadata": {},
     "output_type": "execute_result"
    }
   ],
   "source": [
    "file_path"
   ]
  },
  {
   "cell_type": "code",
   "execution_count": null,
   "metadata": {},
   "outputs": [],
   "source": []
  },
  {
   "cell_type": "code",
   "execution_count": 5,
   "metadata": {},
   "outputs": [
    {
     "name": "stdout",
     "output_type": "stream",
     "text": [
      "Creation of the directory figures\\Tanh\\BobstrapEnsemble_toy_True_20_out_of_sample\\ failed\n",
      "<class 'torch.nn.modules.activation.Tanh'>, True, BobstrapEnsemble\n",
      "\n",
      "\n",
      "\n",
      "\n",
      " /n/n/nBobstrapEnsemble\n",
      "(array([ 0,  1,  2,  3,  4,  5,  6,  7,  8,  9, 10, 11, 12, 13, 14, 15, 16,\n",
      "       17, 18, 19], dtype=int64),)\n",
      "[ 0  1  2  3  4  5  6  7  8  9 10 11 12 13 14 15 16 17 18 19]\n"
     ]
    },
    {
     "name": "stderr",
     "output_type": "stream",
     "text": [
      "C:\\Users\\thoma\\Documents\\GitHub\\uncertainty_regression_pytorch\\models\\experimentation.py:261: MatplotlibDeprecationWarning: \n",
      "The frameon kwarg was deprecated in Matplotlib 3.1 and will be removed in 3.3. Use facecolor instead.\n",
      "  frameon=None, metadata=None)\n"
     ]
    },
    {
     "name": "stdout",
     "output_type": "stream",
     "text": [
      "20\n"
     ]
    },
    {
     "name": "stderr",
     "output_type": "stream",
     "text": [
      "C:\\Users\\thoma\\Miniconda3\\envs\\pytorch\\lib\\site-packages\\numpy\\core\\fromnumeric.py:3118: RuntimeWarning: Mean of empty slice.\n",
      "  out=out, **kwargs)\n",
      "C:\\Users\\thoma\\Miniconda3\\envs\\pytorch\\lib\\site-packages\\numpy\\core\\_methods.py:85: RuntimeWarning: invalid value encountered in double_scalars\n",
      "  ret = ret.dtype.type(ret / rcount)\n",
      "C:\\Users\\thoma\\Miniconda3\\envs\\pytorch\\lib\\site-packages\\numpy\\core\\_methods.py:140: RuntimeWarning: Degrees of freedom <= 0 for slice\n",
      "  keepdims=keepdims)\n",
      "C:\\Users\\thoma\\Miniconda3\\envs\\pytorch\\lib\\site-packages\\numpy\\core\\_methods.py:110: RuntimeWarning: invalid value encountered in true_divide\n",
      "  arrmean, rcount, out=arrmean, casting='unsafe', subok=False)\n",
      "C:\\Users\\thoma\\Miniconda3\\envs\\pytorch\\lib\\site-packages\\numpy\\core\\_methods.py:132: RuntimeWarning: invalid value encountered in double_scalars\n",
      "  ret = ret.dtype.type(ret / rcount)\n"
     ]
    },
    {
     "name": "stdout",
     "output_type": "stream",
     "text": [
      "cobeau: (-0.05066412735897044, 0.8417578163248034)\n",
      "nlpd: -0.805652973181165.\n",
      " nlpds of just mean and just std of the model:\n",
      "0.557991326207176\n"
     ]
    },
    {
     "name": "stderr",
     "output_type": "stream",
     "text": [
      "C:\\Users\\thoma\\Documents\\GitHub\\uncertainty_regression_pytorch\\models\\measures.py:6: RuntimeWarning: invalid value encountered in log\n",
      "  return np.log(x+0.0001)\n"
     ]
    },
    {
     "name": "stdout",
     "output_type": "stream",
     "text": [
      "nan\n",
      "error: 0.3839216545300402\n",
      "cobeau: (0.6849923421267966, 0.0017081815626798866)\n",
      "nlpd: -0.732675388306658.\n",
      " nlpds of just mean and just std of the model:\n",
      "0.557991326207176\n",
      "nan\n",
      "error: 0.4250234067951972\n",
      "cobeau: (0.24849645578026247, 0.3200745404706143)\n",
      "nlpd: -0.35966382701199207.\n",
      " nlpds of just mean and just std of the model:\n",
      "0.557991326207176\n"
     ]
    },
    {
     "name": "stderr",
     "output_type": "stream",
     "text": [
      "C:\\Users\\thoma\\Documents\\GitHub\\uncertainty_regression_pytorch\\models\\measures.py:6: RuntimeWarning: invalid value encountered in log\n",
      "  return np.log(x+0.0001)\n"
     ]
    },
    {
     "name": "stdout",
     "output_type": "stream",
     "text": [
      "nan\n",
      "error: 0.44422742020818395\n",
      "cobeau: (0.6492803279419163, 0.0035476370999715187)\n",
      "nlpd: -0.5028021490710882.\n",
      " nlpds of just mean and just std of the model:\n",
      "0.557991326207176\n",
      "nan\n",
      "error: 0.49759973269299895\n",
      "cobeau: (-0.10213929156449679, 0.686736485890626)\n",
      "nlpd: 0.08172755531429152.\n",
      " nlpds of just mean and just std of the model:\n",
      "0.557991326207176\n"
     ]
    },
    {
     "name": "stderr",
     "output_type": "stream",
     "text": [
      "C:\\Users\\thoma\\Documents\\GitHub\\uncertainty_regression_pytorch\\models\\measures.py:6: RuntimeWarning: invalid value encountered in log\n",
      "  return np.log(x+0.0001)\n"
     ]
    },
    {
     "name": "stdout",
     "output_type": "stream",
     "text": [
      "nan\n",
      "error: 0.4387411912794247\n",
      "cobeau: (-0.055530451859734375, 0.8267668083526657)\n",
      "nlpd: -0.2081797288165862.\n",
      " nlpds of just mean and just std of the model:\n",
      "0.557991326207176\n",
      "nan\n",
      "error: 0.4012185072718429\n",
      "'ExperimentAnalyzer' object has no attribute 'prior_errors'\n"
     ]
    },
    {
     "name": "stderr",
     "output_type": "stream",
     "text": [
      "C:\\Users\\thoma\\Documents\\GitHub\\uncertainty_regression_pytorch\\models\\experimentation.py:407: MatplotlibDeprecationWarning: \n",
      "The frameon kwarg was deprecated in Matplotlib 3.1 and will be removed in 3.3. Use facecolor instead.\n",
      "  frameon=None, metadata=None)\n",
      "C:\\Users\\thoma\\Documents\\GitHub\\uncertainty_regression_pytorch\\models\\experimentation.py:451: MatplotlibDeprecationWarning: \n",
      "The frameon kwarg was deprecated in Matplotlib 3.1 and will be removed in 3.3. Use facecolor instead.\n",
      "  frameon=None, metadata=None)\n"
     ]
    },
    {
     "name": "stdout",
     "output_type": "stream",
     "text": [
      "'ExperimentAnalyzer' object has no attribute 'prior_cobeau'\n"
     ]
    },
    {
     "name": "stderr",
     "output_type": "stream",
     "text": [
      "C:\\Users\\thoma\\Documents\\GitHub\\uncertainty_regression_pytorch\\models\\experimentation.py:485: MatplotlibDeprecationWarning: \n",
      "The frameon kwarg was deprecated in Matplotlib 3.1 and will be removed in 3.3. Use facecolor instead.\n",
      "  frameon=None, metadata=None)\n",
      "C:\\Users\\thoma\\Documents\\GitHub\\uncertainty_regression_pytorch\\models\\experimentation.py:498: MatplotlibDeprecationWarning: \n",
      "The frameon kwarg was deprecated in Matplotlib 3.1 and will be removed in 3.3. Use facecolor instead.\n",
      "  frameon=None, metadata=None)\n"
     ]
    },
    {
     "name": "stdout",
     "output_type": "stream",
     "text": [
      "Creation of the directory figures\\Tanh\\BootstrapEnsemble_toy_True_20_out_of_sample\\ failed\n",
      "<class 'torch.nn.modules.activation.Tanh'>, True, BootstrapEnsemble\n",
      "\n",
      "\n",
      "\n",
      "\n",
      " /n/n/nBootstrapEnsemble\n",
      "(array([ 0,  1,  2,  3,  4,  5,  6,  7,  8,  9, 10, 11, 12, 13, 14, 15, 16,\n",
      "       17, 18, 19], dtype=int64),)\n",
      "[ 0  1  2  3  4  5  6  7  8  9 10 11 12 13 14 15 16 17 18 19]\n"
     ]
    },
    {
     "name": "stderr",
     "output_type": "stream",
     "text": [
      "C:\\Users\\thoma\\Documents\\GitHub\\uncertainty_regression_pytorch\\models\\experimentation.py:261: MatplotlibDeprecationWarning: \n",
      "The frameon kwarg was deprecated in Matplotlib 3.1 and will be removed in 3.3. Use facecolor instead.\n",
      "  frameon=None, metadata=None)\n"
     ]
    },
    {
     "name": "stdout",
     "output_type": "stream",
     "text": [
      "20\n",
      "cobeau: (0.6024010002169017, 0.008152891809105828)\n",
      "nlpd: -0.9768197436634318.\n",
      " nlpds of just mean and just std of the model:\n",
      "0.557991326207176\n"
     ]
    },
    {
     "name": "stderr",
     "output_type": "stream",
     "text": [
      "C:\\Users\\thoma\\Documents\\GitHub\\uncertainty_regression_pytorch\\models\\measures.py:6: RuntimeWarning: invalid value encountered in log\n",
      "  return np.log(x+0.0001)\n"
     ]
    },
    {
     "name": "stdout",
     "output_type": "stream",
     "text": [
      "nan\n",
      "error: 0.40063091805739914\n",
      "cobeau: (0.8707178147994589, 2.595261347601072e-06)\n",
      "nlpd: -1.236855587106098.\n",
      " nlpds of just mean and just std of the model:\n",
      "0.557991326207176\n",
      "nan\n",
      "error: 0.4225787684031783\n",
      "cobeau: (0.46009394966495937, 0.054704063331628576)\n",
      "nlpd: -1.0215674093306049.\n",
      " nlpds of just mean and just std of the model:\n",
      "0.557991326207176\n"
     ]
    },
    {
     "name": "stderr",
     "output_type": "stream",
     "text": [
      "C:\\Users\\thoma\\Documents\\GitHub\\uncertainty_regression_pytorch\\models\\measures.py:6: RuntimeWarning: invalid value encountered in log\n",
      "  return np.log(x+0.0001)\n"
     ]
    },
    {
     "name": "stdout",
     "output_type": "stream",
     "text": [
      "nan\n",
      "error: 0.42124914736410685\n",
      "cobeau: (0.8592449792784699, 4.933758507151289e-06)\n",
      "nlpd: -1.1303273379168768.\n",
      " nlpds of just mean and just std of the model:\n",
      "0.557991326207176\n",
      "nan\n",
      "error: 0.44572340016559564\n",
      "cobeau: (0.5490944758539271, 0.018270278448754607)\n",
      "nlpd: -0.8857007742203787.\n",
      " nlpds of just mean and just std of the model:\n",
      "0.557991326207176\n"
     ]
    },
    {
     "name": "stderr",
     "output_type": "stream",
     "text": [
      "C:\\Users\\thoma\\Documents\\GitHub\\uncertainty_regression_pytorch\\models\\measures.py:6: RuntimeWarning: invalid value encountered in log\n",
      "  return np.log(x+0.0001)\n"
     ]
    },
    {
     "name": "stdout",
     "output_type": "stream",
     "text": [
      "nan\n",
      "error: 0.4197690146088008\n",
      "cobeau: (0.7887712186351432, 0.00010021256040219925)\n",
      "nlpd: -1.1864497804194878.\n",
      " nlpds of just mean and just std of the model:\n",
      "0.557991326207176\n",
      "nan\n",
      "error: 0.4401263253807429\n"
     ]
    },
    {
     "name": "stderr",
     "output_type": "stream",
     "text": [
      "C:\\Users\\thoma\\Documents\\GitHub\\uncertainty_regression_pytorch\\models\\experimentation.py:407: MatplotlibDeprecationWarning: \n",
      "The frameon kwarg was deprecated in Matplotlib 3.1 and will be removed in 3.3. Use facecolor instead.\n",
      "  frameon=None, metadata=None)\n",
      "C:\\Users\\thoma\\Documents\\GitHub\\uncertainty_regression_pytorch\\models\\experimentation.py:451: MatplotlibDeprecationWarning: \n",
      "The frameon kwarg was deprecated in Matplotlib 3.1 and will be removed in 3.3. Use facecolor instead.\n",
      "  frameon=None, metadata=None)\n",
      "C:\\Users\\thoma\\Documents\\GitHub\\uncertainty_regression_pytorch\\models\\experimentation.py:485: MatplotlibDeprecationWarning: \n",
      "The frameon kwarg was deprecated in Matplotlib 3.1 and will be removed in 3.3. Use facecolor instead.\n",
      "  frameon=None, metadata=None)\n",
      "C:\\Users\\thoma\\Documents\\GitHub\\uncertainty_regression_pytorch\\models\\experimentation.py:498: MatplotlibDeprecationWarning: \n",
      "The frameon kwarg was deprecated in Matplotlib 3.1 and will be removed in 3.3. Use facecolor instead.\n",
      "  frameon=None, metadata=None)\n"
     ]
    },
    {
     "name": "stdout",
     "output_type": "stream",
     "text": [
      "Creation of the directory figures\\Tanh\\DropoutModel_toy_True_20_out_of_sample\\ failed\n",
      "<class 'torch.nn.modules.activation.Tanh'>, True, DropoutModel\n",
      "\n",
      "\n",
      "\n",
      "\n",
      " /n/n/nDropoutModel\n",
      "(array([ 0,  1,  2,  3,  4,  5,  6,  7,  8,  9, 10, 11, 12, 13, 14, 15, 16,\n",
      "       17, 18, 19], dtype=int64),)\n",
      "[ 0  1  2  3  4  5  6  7  8  9 10 11 12 13 14 15 16 17 18 19]\n"
     ]
    },
    {
     "name": "stderr",
     "output_type": "stream",
     "text": [
      "C:\\Users\\thoma\\Documents\\GitHub\\uncertainty_regression_pytorch\\models\\experimentation.py:261: MatplotlibDeprecationWarning: \n",
      "The frameon kwarg was deprecated in Matplotlib 3.1 and will be removed in 3.3. Use facecolor instead.\n",
      "  frameon=None, metadata=None)\n"
     ]
    },
    {
     "name": "stdout",
     "output_type": "stream",
     "text": [
      "20\n"
     ]
    },
    {
     "name": "stderr",
     "output_type": "stream",
     "text": [
      "100%|████████████████████████████████████████████████████████████████████████████████| 10/10 [00:00<00:00, 2501.08it/s]\n",
      "100%|████████████████████████████████████████████████████████████████████████████████| 10/10 [00:00<00:00, 2000.14it/s]\n"
     ]
    },
    {
     "name": "stdout",
     "output_type": "stream",
     "text": [
      "cobeau: (0.18736099021486124, 0.4565925453842813)\n",
      "nlpd: -0.7802221550010702.\n",
      " nlpds of just mean and just std of the model:\n",
      "0.557991326207176\n"
     ]
    },
    {
     "name": "stderr",
     "output_type": "stream",
     "text": [
      "C:\\Users\\thoma\\Documents\\GitHub\\uncertainty_regression_pytorch\\models\\measures.py:6: RuntimeWarning: invalid value encountered in log\n",
      "  return np.log(x+0.0001)\n"
     ]
    },
    {
     "name": "stdout",
     "output_type": "stream",
     "text": [
      "nan\n",
      "error: 0.43237288677087393\n"
     ]
    },
    {
     "name": "stderr",
     "output_type": "stream",
     "text": [
      "100%|████████████████████████████████████████████████████████████████████████████████| 10/10 [00:00<00:00, 2000.34it/s]\n",
      "100%|████████████████████████████████████████████████████████████████████████████████| 10/10 [00:00<00:00, 2501.37it/s]\n"
     ]
    },
    {
     "name": "stdout",
     "output_type": "stream",
     "text": [
      "cobeau: (0.05423355163943551, 0.8307566362669927)\n",
      "nlpd: -0.7073668486320099.\n",
      " nlpds of just mean and just std of the model:\n",
      "0.557991326207176\n",
      "nan\n",
      "error: 0.44544774241004326\n"
     ]
    },
    {
     "name": "stderr",
     "output_type": "stream",
     "text": [
      "100%|████████████████████████████████████████████████████████████████████████████████| 10/10 [00:00<00:00, 2501.82it/s]\n",
      "100%|████████████████████████████████████████████████████████████████████████████████| 10/10 [00:00<00:00, 2000.34it/s]\n"
     ]
    },
    {
     "name": "stdout",
     "output_type": "stream",
     "text": [
      "cobeau: (0.23218123257949802, 0.3538743732074992)\n",
      "nlpd: -0.2333583830199449.\n",
      " nlpds of just mean and just std of the model:\n",
      "0.557991326207176\n"
     ]
    },
    {
     "name": "stderr",
     "output_type": "stream",
     "text": [
      "C:\\Users\\thoma\\Documents\\GitHub\\uncertainty_regression_pytorch\\models\\measures.py:6: RuntimeWarning: invalid value encountered in log\n",
      "  return np.log(x+0.0001)\n"
     ]
    },
    {
     "name": "stdout",
     "output_type": "stream",
     "text": [
      "nan\n",
      "error: 0.4199711545422147\n"
     ]
    },
    {
     "name": "stderr",
     "output_type": "stream",
     "text": [
      "100%|████████████████████████████████████████████████████████████████████████████████| 10/10 [00:00<00:00, 2499.88it/s]\n",
      "100%|████████████████████████████████████████████████████████████████████████████████| 10/10 [00:00<00:00, 1665.13it/s]\n"
     ]
    },
    {
     "name": "stdout",
     "output_type": "stream",
     "text": [
      "cobeau: (-0.30538159338426835, 0.21783250839089077)\n",
      "nlpd: -0.17497475554121275.\n",
      " nlpds of just mean and just std of the model:\n",
      "0.557991326207176\n",
      "nan\n",
      "error: 0.4655794967348379\n"
     ]
    },
    {
     "name": "stderr",
     "output_type": "stream",
     "text": [
      "100%|████████████████████████████████████████████████████████████████████████████████| 10/10 [00:00<00:00, 2525.47it/s]\n",
      "100%|████████████████████████████████████████████████████████████████████████████████| 10/10 [00:00<00:00, 2481.25it/s]\n"
     ]
    },
    {
     "name": "stdout",
     "output_type": "stream",
     "text": [
      "cobeau: (-0.3149126004965761, 0.20307882925570084)\n",
      "nlpd: -0.5922176216864339.\n",
      " nlpds of just mean and just std of the model:\n",
      "0.557991326207176\n"
     ]
    },
    {
     "name": "stderr",
     "output_type": "stream",
     "text": [
      "C:\\Users\\thoma\\Documents\\GitHub\\uncertainty_regression_pytorch\\models\\measures.py:6: RuntimeWarning: invalid value encountered in log\n",
      "  return np.log(x+0.0001)\n"
     ]
    },
    {
     "name": "stdout",
     "output_type": "stream",
     "text": [
      "nan\n",
      "error: 0.4360665323896978\n"
     ]
    },
    {
     "name": "stderr",
     "output_type": "stream",
     "text": [
      "100%|████████████████████████████████████████████████████████████████████████████████| 10/10 [00:00<00:00, 2499.73it/s]\n",
      "100%|████████████████████████████████████████████████████████████████████████████████| 10/10 [00:00<00:00, 1999.76it/s]\n"
     ]
    },
    {
     "name": "stdout",
     "output_type": "stream",
     "text": [
      "cobeau: (-0.28464546452447836, 0.2522793223470944)\n",
      "nlpd: -0.569709557523749.\n",
      " nlpds of just mean and just std of the model:\n",
      "0.557991326207176\n",
      "nan\n",
      "error: 0.43431423177290124\n"
     ]
    },
    {
     "name": "stderr",
     "output_type": "stream",
     "text": [
      "C:\\Users\\thoma\\Documents\\GitHub\\uncertainty_regression_pytorch\\models\\experimentation.py:407: MatplotlibDeprecationWarning: \n",
      "The frameon kwarg was deprecated in Matplotlib 3.1 and will be removed in 3.3. Use facecolor instead.\n",
      "  frameon=None, metadata=None)\n",
      "C:\\Users\\thoma\\Documents\\GitHub\\uncertainty_regression_pytorch\\models\\experimentation.py:451: MatplotlibDeprecationWarning: \n",
      "The frameon kwarg was deprecated in Matplotlib 3.1 and will be removed in 3.3. Use facecolor instead.\n",
      "  frameon=None, metadata=None)\n",
      "C:\\Users\\thoma\\Documents\\GitHub\\uncertainty_regression_pytorch\\models\\experimentation.py:485: MatplotlibDeprecationWarning: \n",
      "The frameon kwarg was deprecated in Matplotlib 3.1 and will be removed in 3.3. Use facecolor instead.\n",
      "  frameon=None, metadata=None)\n",
      "C:\\Users\\thoma\\Documents\\GitHub\\uncertainty_regression_pytorch\\models\\experimentation.py:498: MatplotlibDeprecationWarning: \n",
      "The frameon kwarg was deprecated in Matplotlib 3.1 and will be removed in 3.3. Use facecolor instead.\n",
      "  frameon=None, metadata=None)\n"
     ]
    },
    {
     "name": "stdout",
     "output_type": "stream",
     "text": [
      "Creation of the directory figures\\Tanh\\SaverModel_toy_True_20_out_of_sample\\ failed\n",
      "<class 'torch.nn.modules.activation.Tanh'>, True, SaverModel\n",
      "\n",
      "\n",
      "\n",
      "\n",
      " /n/n/nSaverModel\n",
      "(array([ 0,  1,  2,  3,  4,  5,  6,  7,  8,  9, 10, 11, 12, 13, 14, 15, 16,\n",
      "       17, 18, 19], dtype=int64),)\n",
      "[ 0  1  2  3  4  5  6  8  9 10 11 12 13 14 15 16 17 18 19]\n"
     ]
    },
    {
     "name": "stderr",
     "output_type": "stream",
     "text": [
      "C:\\Users\\thoma\\Documents\\GitHub\\uncertainty_regression_pytorch\\models\\experimentation.py:261: MatplotlibDeprecationWarning: \n",
      "The frameon kwarg was deprecated in Matplotlib 3.1 and will be removed in 3.3. Use facecolor instead.\n",
      "  frameon=None, metadata=None)\n"
     ]
    },
    {
     "name": "stdout",
     "output_type": "stream",
     "text": [
      "19\n"
     ]
    },
    {
     "name": "stderr",
     "output_type": "stream",
     "text": [
      "C:\\Users\\thoma\\Miniconda3\\envs\\pytorch\\lib\\site-packages\\numpy\\core\\fromnumeric.py:3118: RuntimeWarning: Mean of empty slice.\n",
      "  out=out, **kwargs)\n",
      "C:\\Users\\thoma\\Miniconda3\\envs\\pytorch\\lib\\site-packages\\numpy\\core\\_methods.py:85: RuntimeWarning: invalid value encountered in double_scalars\n",
      "  ret = ret.dtype.type(ret / rcount)\n",
      "C:\\Users\\thoma\\Miniconda3\\envs\\pytorch\\lib\\site-packages\\numpy\\core\\_methods.py:140: RuntimeWarning: Degrees of freedom <= 0 for slice\n",
      "  keepdims=keepdims)\n",
      "C:\\Users\\thoma\\Miniconda3\\envs\\pytorch\\lib\\site-packages\\numpy\\core\\_methods.py:110: RuntimeWarning: invalid value encountered in true_divide\n",
      "  arrmean, rcount, out=arrmean, casting='unsafe', subok=False)\n",
      "C:\\Users\\thoma\\Miniconda3\\envs\\pytorch\\lib\\site-packages\\numpy\\core\\_methods.py:132: RuntimeWarning: invalid value encountered in double_scalars\n",
      "  ret = ret.dtype.type(ret / rcount)\n"
     ]
    },
    {
     "name": "stdout",
     "output_type": "stream",
     "text": [
      "cobeau: (0.3653775371882582, 0.13596301155788448)\n",
      "nlpd: 6.441005781270203.\n",
      " nlpds of just mean and just std of the model:\n",
      "0.557991326207176\n"
     ]
    },
    {
     "name": "stderr",
     "output_type": "stream",
     "text": [
      "C:\\Users\\thoma\\Documents\\GitHub\\uncertainty_regression_pytorch\\models\\measures.py:6: RuntimeWarning: invalid value encountered in log\n",
      "  return np.log(x+0.0001)\n"
     ]
    },
    {
     "name": "stdout",
     "output_type": "stream",
     "text": [
      "nan\n",
      "error: 0.4270118112704789\n",
      "cobeau: (0.08568506100292744, 0.7353216444497616)\n",
      "nlpd: 2.3180990543248132.\n",
      " nlpds of just mean and just std of the model:\n",
      "0.557991326207176\n",
      "nan\n",
      "error: 0.4037383046630739\n",
      "cobeau: (0.26315553252847856, 0.2913968834883504)\n",
      "nlpd: 0.7626601406681205.\n",
      " nlpds of just mean and just std of the model:\n",
      "0.557991326207176\n"
     ]
    },
    {
     "name": "stderr",
     "output_type": "stream",
     "text": [
      "C:\\Users\\thoma\\Documents\\GitHub\\uncertainty_regression_pytorch\\models\\measures.py:6: RuntimeWarning: invalid value encountered in log\n",
      "  return np.log(x+0.0001)\n"
     ]
    },
    {
     "name": "stdout",
     "output_type": "stream",
     "text": [
      "nan\n",
      "error: 0.40072493684261956\n",
      "cobeau: (0.7105832415385636, 0.0009495706678000769)\n",
      "nlpd: -0.44000272721388234.\n",
      " nlpds of just mean and just std of the model:\n",
      "0.557991326207176\n",
      "nan\n",
      "error: 0.41903384421425155\n",
      "cobeau: (0.6807066574532572, 0.0018743299916714393)\n",
      "nlpd: -0.7722519608238205.\n",
      " nlpds of just mean and just std of the model:\n",
      "0.557991326207176\n"
     ]
    },
    {
     "name": "stderr",
     "output_type": "stream",
     "text": [
      "C:\\Users\\thoma\\Documents\\GitHub\\uncertainty_regression_pytorch\\models\\measures.py:6: RuntimeWarning: invalid value encountered in log\n",
      "  return np.log(x+0.0001)\n"
     ]
    },
    {
     "name": "stdout",
     "output_type": "stream",
     "text": [
      "nan\n",
      "error: 0.4579188128287553\n",
      "cobeau: (-0.15114801168696376, 0.5493825577683225)\n",
      "nlpd: 11.592755020632847.\n",
      " nlpds of just mean and just std of the model:\n",
      "0.557991326207176\n",
      "nan\n",
      "error: 0.4565082276570058\n",
      "no comparisson possible for error\n",
      "index 19 is out of bounds for axis 0 with size 19\n",
      "'ExperimentAnalyzer' object has no attribute 'prior_errors'\n"
     ]
    },
    {
     "name": "stderr",
     "output_type": "stream",
     "text": [
      "C:\\Users\\thoma\\Documents\\GitHub\\uncertainty_regression_pytorch\\models\\experimentation.py:430: MatplotlibDeprecationWarning: \n",
      "The frameon kwarg was deprecated in Matplotlib 3.1 and will be removed in 3.3. Use facecolor instead.\n",
      "  frameon=None, metadata=None)\n",
      "C:\\Users\\thoma\\Documents\\GitHub\\uncertainty_regression_pytorch\\models\\experimentation.py:451: MatplotlibDeprecationWarning: \n",
      "The frameon kwarg was deprecated in Matplotlib 3.1 and will be removed in 3.3. Use facecolor instead.\n",
      "  frameon=None, metadata=None)\n"
     ]
    },
    {
     "name": "stdout",
     "output_type": "stream",
     "text": [
      "'ExperimentAnalyzer' object has no attribute 'prior_cobeau'\n"
     ]
    },
    {
     "name": "stderr",
     "output_type": "stream",
     "text": [
      "C:\\Users\\thoma\\Documents\\GitHub\\uncertainty_regression_pytorch\\models\\experimentation.py:485: MatplotlibDeprecationWarning: \n",
      "The frameon kwarg was deprecated in Matplotlib 3.1 and will be removed in 3.3. Use facecolor instead.\n",
      "  frameon=None, metadata=None)\n",
      "C:\\Users\\thoma\\Documents\\GitHub\\uncertainty_regression_pytorch\\models\\experimentation.py:498: MatplotlibDeprecationWarning: \n",
      "The frameon kwarg was deprecated in Matplotlib 3.1 and will be removed in 3.3. Use facecolor instead.\n",
      "  frameon=None, metadata=None)\n"
     ]
    },
    {
     "name": "stdout",
     "output_type": "stream",
     "text": [
      "Creation of the directory figures\\Tanh\\ShuffleEnsemble_toy_True_20_out_of_sample\\ failed\n",
      "<class 'torch.nn.modules.activation.Tanh'>, True, ShuffleEnsemble\n",
      "\n",
      "\n",
      "\n",
      "\n",
      " /n/n/nShuffleEnsemble\n",
      "(array([ 0,  1,  2,  3,  4,  5,  6,  7,  8,  9, 10, 11, 12, 13, 14, 15, 16,\n",
      "       17, 18, 19], dtype=int64),)\n",
      "[ 0  1  2  3  4  5  6  7  8  9 10 11 12 13 14 15 16 17 18 19]\n"
     ]
    },
    {
     "name": "stderr",
     "output_type": "stream",
     "text": [
      "C:\\Users\\thoma\\Documents\\GitHub\\uncertainty_regression_pytorch\\models\\experimentation.py:261: MatplotlibDeprecationWarning: \n",
      "The frameon kwarg was deprecated in Matplotlib 3.1 and will be removed in 3.3. Use facecolor instead.\n",
      "  frameon=None, metadata=None)\n"
     ]
    },
    {
     "name": "stdout",
     "output_type": "stream",
     "text": [
      "20\n",
      "cobeau: (0.7345021741781206, 0.0005178710330488161)\n",
      "nlpd: -1.1866073590455404.\n",
      " nlpds of just mean and just std of the model:\n",
      "0.557991326207176\n"
     ]
    },
    {
     "name": "stderr",
     "output_type": "stream",
     "text": [
      "C:\\Users\\thoma\\Documents\\GitHub\\uncertainty_regression_pytorch\\models\\measures.py:6: RuntimeWarning: invalid value encountered in log\n",
      "  return np.log(x+0.0001)\n"
     ]
    },
    {
     "name": "stdout",
     "output_type": "stream",
     "text": [
      "nan\n",
      "error: 0.40466555645064317\n",
      "cobeau: (0.47601664986483383, 0.0458387888463991)\n",
      "nlpd: -0.6686041058149118.\n",
      " nlpds of just mean and just std of the model:\n",
      "0.557991326207176\n",
      "nan\n",
      "error: 0.43158211830722126\n",
      "cobeau: (0.48133480299595605, 0.043135642695479356)\n",
      "nlpd: -0.882962389604234.\n",
      " nlpds of just mean and just std of the model:\n",
      "0.557991326207176\n"
     ]
    },
    {
     "name": "stderr",
     "output_type": "stream",
     "text": [
      "C:\\Users\\thoma\\Documents\\GitHub\\uncertainty_regression_pytorch\\models\\measures.py:6: RuntimeWarning: invalid value encountered in log\n",
      "  return np.log(x+0.0001)\n"
     ]
    },
    {
     "name": "stdout",
     "output_type": "stream",
     "text": [
      "nan\n",
      "error: 0.3816177632969804\n",
      "cobeau: (0.8057833229065285, 5.422970352819136e-05)\n",
      "nlpd: -1.0844520732168141.\n",
      " nlpds of just mean and just std of the model:\n",
      "0.557991326207176\n",
      "nan\n",
      "error: 0.40467623731355573\n",
      "cobeau: (0.7505405274688361, 0.0003326005222877699)\n",
      "nlpd: -0.9646751040013974.\n",
      " nlpds of just mean and just std of the model:\n",
      "0.557991326207176\n"
     ]
    },
    {
     "name": "stderr",
     "output_type": "stream",
     "text": [
      "C:\\Users\\thoma\\Documents\\GitHub\\uncertainty_regression_pytorch\\models\\measures.py:6: RuntimeWarning: invalid value encountered in log\n",
      "  return np.log(x+0.0001)\n"
     ]
    },
    {
     "name": "stdout",
     "output_type": "stream",
     "text": [
      "nan\n",
      "error: 0.4073956719126374\n",
      "cobeau: (0.7345021741781206, 0.0005178710330488161)\n",
      "nlpd: -1.1866073590455404.\n",
      " nlpds of just mean and just std of the model:\n",
      "0.557991326207176\n",
      "nan\n",
      "error: 0.40466555645064317\n"
     ]
    },
    {
     "name": "stderr",
     "output_type": "stream",
     "text": [
      "C:\\Users\\thoma\\Documents\\GitHub\\uncertainty_regression_pytorch\\models\\experimentation.py:407: MatplotlibDeprecationWarning: \n",
      "The frameon kwarg was deprecated in Matplotlib 3.1 and will be removed in 3.3. Use facecolor instead.\n",
      "  frameon=None, metadata=None)\n",
      "C:\\Users\\thoma\\Documents\\GitHub\\uncertainty_regression_pytorch\\models\\experimentation.py:451: MatplotlibDeprecationWarning: \n",
      "The frameon kwarg was deprecated in Matplotlib 3.1 and will be removed in 3.3. Use facecolor instead.\n",
      "  frameon=None, metadata=None)\n",
      "C:\\Users\\thoma\\Documents\\GitHub\\uncertainty_regression_pytorch\\models\\experimentation.py:485: MatplotlibDeprecationWarning: \n",
      "The frameon kwarg was deprecated in Matplotlib 3.1 and will be removed in 3.3. Use facecolor instead.\n",
      "  frameon=None, metadata=None)\n",
      "C:\\Users\\thoma\\Documents\\GitHub\\uncertainty_regression_pytorch\\models\\experimentation.py:498: MatplotlibDeprecationWarning: \n",
      "The frameon kwarg was deprecated in Matplotlib 3.1 and will be removed in 3.3. Use facecolor instead.\n",
      "  frameon=None, metadata=None)\n"
     ]
    },
    {
     "name": "stdout",
     "output_type": "stream",
     "text": [
      "Creation of the directory figures\\Tanh\\VanillaEnsemble_toy_True_20_out_of_sample\\ failed\n",
      "<class 'torch.nn.modules.activation.Tanh'>, True, VanillaEnsemble\n",
      "\n",
      "\n",
      "\n",
      "\n",
      " /n/n/nVanillaEnsemble\n",
      "(array([ 0,  1,  2,  3,  4,  5,  6,  7,  8,  9, 10, 11, 12, 13, 14, 15, 16,\n",
      "       17, 18, 19], dtype=int64),)\n",
      "[ 0  1  2  3  4  5  6  7  8  9 10 11 12 13 14 15 16 17 18 19]\n"
     ]
    },
    {
     "name": "stderr",
     "output_type": "stream",
     "text": [
      "C:\\Users\\thoma\\Documents\\GitHub\\uncertainty_regression_pytorch\\models\\experimentation.py:261: MatplotlibDeprecationWarning: \n",
      "The frameon kwarg was deprecated in Matplotlib 3.1 and will be removed in 3.3. Use facecolor instead.\n",
      "  frameon=None, metadata=None)\n"
     ]
    },
    {
     "name": "stdout",
     "output_type": "stream",
     "text": [
      "20\n",
      "cobeau: (0.7342716543393721, 0.0005210603338012419)\n",
      "nlpd: -1.177422107960018.\n",
      " nlpds of just mean and just std of the model:\n",
      "0.557991326207176\n"
     ]
    },
    {
     "name": "stderr",
     "output_type": "stream",
     "text": [
      "C:\\Users\\thoma\\Documents\\GitHub\\uncertainty_regression_pytorch\\models\\measures.py:6: RuntimeWarning: invalid value encountered in log\n",
      "  return np.log(x+0.0001)\n"
     ]
    },
    {
     "name": "stdout",
     "output_type": "stream",
     "text": [
      "nan\n",
      "error: 0.4046374615529756\n",
      "cobeau: (0.47597042465162764, 0.04586283497791878)\n",
      "nlpd: -0.6682229107328939.\n",
      " nlpds of just mean and just std of the model:\n",
      "0.557991326207176\n",
      "nan\n",
      "error: 0.4315837768892463\n",
      "cobeau: (0.4810087808913301, 0.04329777472758954)\n",
      "nlpd: -0.8686569021426434.\n",
      " nlpds of just mean and just std of the model:\n",
      "0.557991326207176\n"
     ]
    },
    {
     "name": "stderr",
     "output_type": "stream",
     "text": [
      "C:\\Users\\thoma\\Documents\\GitHub\\uncertainty_regression_pytorch\\models\\measures.py:6: RuntimeWarning: invalid value encountered in log\n",
      "  return np.log(x+0.0001)\n"
     ]
    },
    {
     "name": "stdout",
     "output_type": "stream",
     "text": [
      "nan\n",
      "error: 0.3816758995564965\n",
      "cobeau: (0.805933365458679, 5.3922765814345616e-05)\n",
      "nlpd: -1.084903257952251.\n",
      " nlpds of just mean and just std of the model:\n",
      "0.557991326207176\n",
      "nan\n",
      "error: 0.4047349685847167\n",
      "cobeau: (0.750647152464911, 0.000331587251027102)\n",
      "nlpd: -0.9653063321581692.\n",
      " nlpds of just mean and just std of the model:\n",
      "0.557991326207176\n"
     ]
    },
    {
     "name": "stderr",
     "output_type": "stream",
     "text": [
      "C:\\Users\\thoma\\Documents\\GitHub\\uncertainty_regression_pytorch\\models\\measures.py:6: RuntimeWarning: invalid value encountered in log\n",
      "  return np.log(x+0.0001)\n"
     ]
    },
    {
     "name": "stdout",
     "output_type": "stream",
     "text": [
      "nan\n",
      "error: 0.40744399720623137\n",
      "cobeau: (0.7342716543393721, 0.0005210603338012419)\n",
      "nlpd: -1.177422107960018.\n",
      " nlpds of just mean and just std of the model:\n",
      "0.557991326207176\n",
      "nan\n",
      "error: 0.4046374615529756\n"
     ]
    },
    {
     "name": "stderr",
     "output_type": "stream",
     "text": [
      "C:\\Users\\thoma\\Documents\\GitHub\\uncertainty_regression_pytorch\\models\\experimentation.py:407: MatplotlibDeprecationWarning: \n",
      "The frameon kwarg was deprecated in Matplotlib 3.1 and will be removed in 3.3. Use facecolor instead.\n",
      "  frameon=None, metadata=None)\n",
      "C:\\Users\\thoma\\Documents\\GitHub\\uncertainty_regression_pytorch\\models\\experimentation.py:451: MatplotlibDeprecationWarning: \n",
      "The frameon kwarg was deprecated in Matplotlib 3.1 and will be removed in 3.3. Use facecolor instead.\n",
      "  frameon=None, metadata=None)\n",
      "C:\\Users\\thoma\\Documents\\GitHub\\uncertainty_regression_pytorch\\models\\experimentation.py:485: MatplotlibDeprecationWarning: \n",
      "The frameon kwarg was deprecated in Matplotlib 3.1 and will be removed in 3.3. Use facecolor instead.\n",
      "  frameon=None, metadata=None)\n",
      "C:\\Users\\thoma\\Documents\\GitHub\\uncertainty_regression_pytorch\\models\\experimentation.py:498: MatplotlibDeprecationWarning: \n",
      "The frameon kwarg was deprecated in Matplotlib 3.1 and will be removed in 3.3. Use facecolor instead.\n",
      "  frameon=None, metadata=None)\n"
     ]
    },
    {
     "data": {
      "text/plain": [
       "<Figure size 432x288 with 0 Axes>"
      ]
     },
     "metadata": {},
     "output_type": "display_data"
    },
    {
     "data": {
      "image/png": "[encoded data removed]",
      "text/plain": [
       "<Figure size 432x288 with 1 Axes>"
      ]
     },
     "metadata": {
      "needs_background": "light"
     },
     "output_type": "display_data"
    }
   ],
   "source": [
    "import numpy as np\n",
    "import torch\n",
    "\n",
    "seed = 42 #424\n",
    "np.random.seed(seed)\n",
    "torch.manual_seed(seed)\n",
    "#NOTE! This only works for non cudnn. gpu needs\n",
    "torch.backends.cudnn.deterministic = True\n",
    "torch.backends.cudnn.benchmark = False\n",
    "\n",
    "from helpers import showcase_code\n",
    "\n",
    "import matplotlib.pyplot as plt\n",
    "#%matplotlib inline\n",
    "import seaborn as sns\n",
    "import pickle\n",
    "\n",
    "from experimentation import ExperimentAnalyzer\n",
    "import os\n",
    "import time\n",
    "import pandas as pd\n",
    "import gc\n",
    "\n",
    "\n",
    "means_dict = {}\n",
    "stds_dict = {}\n",
    "count_dict = {}\n",
    "min_dict = {}\n",
    "max_dict = {}\n",
    "\n",
    "\n",
    "for file in files:\n",
    "    plt.close()\n",
    "    plt.clf()\n",
    "    with  open(file_path+file, \"rb\") as f:\n",
    "        exp = pickle.load(f)\n",
    "\n",
    "\n",
    "\n",
    "    analyzer = ExperimentAnalyzer(exp)\n",
    "    exp = None\n",
    "    gc.collect()\n",
    "    df1 = analyzer.analysis()\n",
    "    print(f'\\n\\n\\n\\n /n/n/n{analyzer.experiment.model_name}')\n",
    "    #print(df1.describe().to_latex())\n",
    "    analyzer.get_outlier_indices()\n",
    "    analyzer.plot_outcomes()\n",
    "    plt.figure()\n",
    "    df2 = analyzer.analysis()\n",
    "    df2 = df2.replace([np.inf, -np.inf], np.nan)\n",
    "    df2 = df2.dropna(1)\n",
    "    print(len(df2))\n",
    "\n",
    "\n",
    "    #print(df2.describe().to_latex())\n",
    "    means_dict[analyzer.model_name] = df2.describe().loc['mean']\n",
    "    \n",
    "    try:\n",
    "        means_dict[analyzer.model_name+' prior'] = {'nlpd': np.mean(analyzer.stats_dict['analysis']['prior_nlpd']),\n",
    "                                                    'errors': np.mean(analyzer.stats_dict['analysis']['prior_test_errors']),\n",
    "                                                    'cobeau': np.mean(analyzer.stats_dict['analysis']['prior_cobeau']),\n",
    "                                                    'cobeau_p_vals': np.mean(analyzer.stats_dict['analysis']['prior_cobeau_p'])\n",
    "                                                   }\n",
    "    except Exception as e:\n",
    "        print(analyzer.model_name)\n",
    "        print(e)\n",
    "    \n",
    "    \n",
    "    \n",
    "    \n",
    "    \n",
    "    \n",
    "    stds_dict[analyzer.model_name] = df2.describe().loc['std']\n",
    "    \n",
    "    try:\n",
    "        stds_dict[analyzer.model_name+' prior'] = {'nlpd': np.std(analyzer.stats_dict['analysis']['prior_nlpd']),\n",
    "                                                    'errors': np.std(analyzer.stats_dict['analysis']['prior_test_errors']),\n",
    "                                                    'cobeau': np.std(analyzer.stats_dict['analysis']['prior_cobeau']),\n",
    "                                                    'cobeau_p_vals': np.std(analyzer.stats_dict['analysis']['prior_cobeau_p'])\n",
    "                                                   }\n",
    "    except Exception as e:\n",
    "        print(analyzer.model_name)\n",
    "        print(e)\n",
    "    \n",
    "    \n",
    "    \n",
    "    \n",
    "    count_dict[analyzer.model_name] = df2.describe().loc['count']\n",
    "    min_dict[analyzer.model_name] = df2.describe().loc['min']\n",
    "    max_dict[analyzer.model_name] = df2.describe().loc['max']\n",
    "    \n",
    "    \n",
    "    \n",
    "    \n",
    "\n",
    "    analyzer.plot_models()\n",
    "\n",
    "    analyzer.plot_models('cobeau')\n",
    "\n",
    "    analyzer.plot_models('nlpd')\n",
    "    analyzer.plot_distribution_of_metrics()\n",
    "\n",
    "    gc.collect()\n",
    "\n",
    "\n",
    "#     try:\n",
    "#         analyzer.plot_outlier_models()\n",
    "\n",
    "\n",
    "\n",
    "#     except Exception as e:\n",
    "#         print(e)\n",
    "\n",
    "\n",
    "    \n",
    "    \n"
   ]
  },
  {
   "cell_type": "code",
   "execution_count": 6,
   "metadata": {},
   "outputs": [
    {
     "data": {
      "text/plain": [
       "0.0005"
      ]
     },
     "execution_count": 6,
     "metadata": {},
     "output_type": "execute_result"
    }
   ],
   "source": [
    "analyzer.experiment.decay"
   ]
  },
  {
   "cell_type": "code",
   "execution_count": 7,
   "metadata": {},
   "outputs": [
    {
     "data": {
      "text/plain": [
       "torch.nn.modules.activation.Tanh"
      ]
     },
     "execution_count": 7,
     "metadata": {},
     "output_type": "execute_result"
    }
   ],
   "source": [
    "analyzer.experiment.non_linearity"
   ]
  },
  {
   "cell_type": "code",
   "execution_count": null,
   "metadata": {},
   "outputs": [],
   "source": []
  },
  {
   "cell_type": "code",
   "execution_count": 8,
   "metadata": {},
   "outputs": [
    {
     "name": "stdout",
     "output_type": "stream",
     "text": [
      "        nlpd    errors    cobeau  cobeau_p_vals\n",
      "0   0.277604  0.530495  0.438691       0.068578\n",
      "1  -0.096553  0.511461  0.485476       0.041116\n",
      "2  -1.523935  0.400416  0.857616       0.000005\n",
      "3  -1.312897  0.376662  0.724601       0.000671\n",
      "4  -1.252071  0.443474  0.741714       0.000426\n",
      "5  -0.638510  0.491153  0.800921       0.000065\n",
      "6  -0.691550  0.472430  0.604893       0.007825\n",
      "7  -0.890306  0.372171  0.539550       0.020834\n",
      "8  -1.223491  0.441223  0.845990       0.000010\n",
      "9  -1.198023  0.426281  0.757280       0.000273\n",
      "10 -1.541609  0.350197  0.702834       0.001141\n",
      "11 -0.362894  0.436176  0.285980       0.249965\n",
      "12  0.477793  0.506763  0.535202       0.022092\n",
      "13 -0.668565  0.427120  0.669596       0.002368\n",
      "14 -0.745931  0.483767  0.623957       0.005651\n",
      "15 -0.557222  0.429065  0.559157       0.015844\n",
      "16 -0.952190  0.402312  0.824235       0.000026\n",
      "17 -0.868267  0.409068  0.770507       0.000183\n",
      "18 -1.421881  0.451137  0.883317       0.000001\n",
      "19 -0.468707  0.452547  0.610325       0.007146\n"
     ]
    }
   ],
   "source": [
    "print(df2)"
   ]
  },
  {
   "cell_type": "code",
   "execution_count": 9,
   "metadata": {},
   "outputs": [
    {
     "data": {
      "text/html": [
       "<div>\n",
       "<style scoped>\n",
       "    .dataframe tbody tr th:only-of-type {\n",
       "        vertical-align: middle;\n",
       "    }\n",
       "\n",
       "    .dataframe tbody tr th {\n",
       "        vertical-align: top;\n",
       "    }\n",
       "\n",
       "    .dataframe thead th {\n",
       "        text-align: right;\n",
       "    }\n",
       "</style>\n",
       "<table border=\"1\" class=\"dataframe\">\n",
       "  <thead>\n",
       "    <tr style=\"text-align: right;\">\n",
       "      <th></th>\n",
       "      <th>nlpd</th>\n",
       "      <th>errors</th>\n",
       "      <th>cobeau</th>\n",
       "      <th>cobeau_p_vals</th>\n",
       "    </tr>\n",
       "  </thead>\n",
       "  <tbody>\n",
       "    <tr>\n",
       "      <td>0</td>\n",
       "      <td>0.277604</td>\n",
       "      <td>0.530495</td>\n",
       "      <td>0.438691</td>\n",
       "      <td>0.068578</td>\n",
       "    </tr>\n",
       "    <tr>\n",
       "      <td>1</td>\n",
       "      <td>-0.096553</td>\n",
       "      <td>0.511461</td>\n",
       "      <td>0.485476</td>\n",
       "      <td>0.041116</td>\n",
       "    </tr>\n",
       "    <tr>\n",
       "      <td>2</td>\n",
       "      <td>-1.523935</td>\n",
       "      <td>0.400416</td>\n",
       "      <td>0.857616</td>\n",
       "      <td>0.000005</td>\n",
       "    </tr>\n",
       "    <tr>\n",
       "      <td>3</td>\n",
       "      <td>-1.312897</td>\n",
       "      <td>0.376662</td>\n",
       "      <td>0.724601</td>\n",
       "      <td>0.000671</td>\n",
       "    </tr>\n",
       "    <tr>\n",
       "      <td>4</td>\n",
       "      <td>-1.252071</td>\n",
       "      <td>0.443474</td>\n",
       "      <td>0.741714</td>\n",
       "      <td>0.000426</td>\n",
       "    </tr>\n",
       "    <tr>\n",
       "      <td>5</td>\n",
       "      <td>-0.638510</td>\n",
       "      <td>0.491153</td>\n",
       "      <td>0.800921</td>\n",
       "      <td>0.000065</td>\n",
       "    </tr>\n",
       "    <tr>\n",
       "      <td>6</td>\n",
       "      <td>-0.691550</td>\n",
       "      <td>0.472430</td>\n",
       "      <td>0.604893</td>\n",
       "      <td>0.007825</td>\n",
       "    </tr>\n",
       "    <tr>\n",
       "      <td>7</td>\n",
       "      <td>-0.890306</td>\n",
       "      <td>0.372171</td>\n",
       "      <td>0.539550</td>\n",
       "      <td>0.020834</td>\n",
       "    </tr>\n",
       "    <tr>\n",
       "      <td>8</td>\n",
       "      <td>-1.223491</td>\n",
       "      <td>0.441223</td>\n",
       "      <td>0.845990</td>\n",
       "      <td>0.000010</td>\n",
       "    </tr>\n",
       "    <tr>\n",
       "      <td>9</td>\n",
       "      <td>-1.198023</td>\n",
       "      <td>0.426281</td>\n",
       "      <td>0.757280</td>\n",
       "      <td>0.000273</td>\n",
       "    </tr>\n",
       "    <tr>\n",
       "      <td>10</td>\n",
       "      <td>-1.541609</td>\n",
       "      <td>0.350197</td>\n",
       "      <td>0.702834</td>\n",
       "      <td>0.001141</td>\n",
       "    </tr>\n",
       "    <tr>\n",
       "      <td>11</td>\n",
       "      <td>-0.362894</td>\n",
       "      <td>0.436176</td>\n",
       "      <td>0.285980</td>\n",
       "      <td>0.249965</td>\n",
       "    </tr>\n",
       "    <tr>\n",
       "      <td>12</td>\n",
       "      <td>0.477793</td>\n",
       "      <td>0.506763</td>\n",
       "      <td>0.535202</td>\n",
       "      <td>0.022092</td>\n",
       "    </tr>\n",
       "    <tr>\n",
       "      <td>13</td>\n",
       "      <td>-0.668565</td>\n",
       "      <td>0.427120</td>\n",
       "      <td>0.669596</td>\n",
       "      <td>0.002368</td>\n",
       "    </tr>\n",
       "    <tr>\n",
       "      <td>14</td>\n",
       "      <td>-0.745931</td>\n",
       "      <td>0.483767</td>\n",
       "      <td>0.623957</td>\n",
       "      <td>0.005651</td>\n",
       "    </tr>\n",
       "    <tr>\n",
       "      <td>15</td>\n",
       "      <td>-0.557222</td>\n",
       "      <td>0.429065</td>\n",
       "      <td>0.559157</td>\n",
       "      <td>0.015844</td>\n",
       "    </tr>\n",
       "    <tr>\n",
       "      <td>16</td>\n",
       "      <td>-0.952190</td>\n",
       "      <td>0.402312</td>\n",
       "      <td>0.824235</td>\n",
       "      <td>0.000026</td>\n",
       "    </tr>\n",
       "    <tr>\n",
       "      <td>17</td>\n",
       "      <td>-0.868267</td>\n",
       "      <td>0.409068</td>\n",
       "      <td>0.770507</td>\n",
       "      <td>0.000183</td>\n",
       "    </tr>\n",
       "    <tr>\n",
       "      <td>18</td>\n",
       "      <td>-1.421881</td>\n",
       "      <td>0.451137</td>\n",
       "      <td>0.883317</td>\n",
       "      <td>0.000001</td>\n",
       "    </tr>\n",
       "    <tr>\n",
       "      <td>19</td>\n",
       "      <td>-0.468707</td>\n",
       "      <td>0.452547</td>\n",
       "      <td>0.610325</td>\n",
       "      <td>0.007146</td>\n",
       "    </tr>\n",
       "  </tbody>\n",
       "</table>\n",
       "</div>"
      ],
      "text/plain": [
       "        nlpd    errors    cobeau  cobeau_p_vals\n",
       "0   0.277604  0.530495  0.438691       0.068578\n",
       "1  -0.096553  0.511461  0.485476       0.041116\n",
       "2  -1.523935  0.400416  0.857616       0.000005\n",
       "3  -1.312897  0.376662  0.724601       0.000671\n",
       "4  -1.252071  0.443474  0.741714       0.000426\n",
       "5  -0.638510  0.491153  0.800921       0.000065\n",
       "6  -0.691550  0.472430  0.604893       0.007825\n",
       "7  -0.890306  0.372171  0.539550       0.020834\n",
       "8  -1.223491  0.441223  0.845990       0.000010\n",
       "9  -1.198023  0.426281  0.757280       0.000273\n",
       "10 -1.541609  0.350197  0.702834       0.001141\n",
       "11 -0.362894  0.436176  0.285980       0.249965\n",
       "12  0.477793  0.506763  0.535202       0.022092\n",
       "13 -0.668565  0.427120  0.669596       0.002368\n",
       "14 -0.745931  0.483767  0.623957       0.005651\n",
       "15 -0.557222  0.429065  0.559157       0.015844\n",
       "16 -0.952190  0.402312  0.824235       0.000026\n",
       "17 -0.868267  0.409068  0.770507       0.000183\n",
       "18 -1.421881  0.451137  0.883317       0.000001\n",
       "19 -0.468707  0.452547  0.610325       0.007146"
      ]
     },
     "execution_count": 9,
     "metadata": {},
     "output_type": "execute_result"
    }
   ],
   "source": [
    "df2.dropna(0)"
   ]
  },
  {
   "cell_type": "code",
   "execution_count": 10,
   "metadata": {},
   "outputs": [],
   "source": [
    "pd_means = pd.DataFrame.from_dict(means_dict)\n",
    "pd_stds = pd.DataFrame.from_dict(stds_dict)\n",
    "pd_means = pd.DataFrame.from_dict(means_dict)"
   ]
  },
  {
   "cell_type": "code",
   "execution_count": null,
   "metadata": {},
   "outputs": [],
   "source": []
  },
  {
   "cell_type": "code",
   "execution_count": null,
   "metadata": {},
   "outputs": [],
   "source": []
  },
  {
   "cell_type": "code",
   "execution_count": 11,
   "metadata": {},
   "outputs": [],
   "source": [
    "# pd_means['prior'] = [np.mean(analyzer.stats_dict['analysis']['prior_nlpd']),\n",
    "#                      np.mean(analyzer.stats_dict['analysis']['prior_test_errors']),\n",
    "#                      np.mean(analyzer.stats_dict['analysis']['prior_cobeau']),\n",
    "#                      np.mean(analyzer.stats_dict['analysis']['prior_cobeau_p'])]"
   ]
  },
  {
   "cell_type": "code",
   "execution_count": 12,
   "metadata": {},
   "outputs": [],
   "source": [
    "\n",
    "pd_means = pd_means.dropna(1)\n",
    "pd_means['train set mean/std'] = [analyzer.stupid_function_nlpd,analyzer.stupid_function_error, None, None][::-1]\n",
    "if toy == 'True':\n",
    "    pd_means['generating function'] = [analyzer.original_function_nlpd,analyzer.original_function_error , None, None][::-1]\n",
    "pd_means = pd_means.round(2)"
   ]
  },
  {
   "cell_type": "code",
   "execution_count": 13,
   "metadata": {},
   "outputs": [
    {
     "data": {
      "text/html": [
       "<div>\n",
       "<style scoped>\n",
       "    .dataframe tbody tr th:only-of-type {\n",
       "        vertical-align: middle;\n",
       "    }\n",
       "\n",
       "    .dataframe tbody tr th {\n",
       "        vertical-align: top;\n",
       "    }\n",
       "\n",
       "    .dataframe thead th {\n",
       "        text-align: right;\n",
       "    }\n",
       "</style>\n",
       "<table border=\"1\" class=\"dataframe\">\n",
       "  <thead>\n",
       "    <tr style=\"text-align: right;\">\n",
       "      <th></th>\n",
       "      <th>BobstrapEnsemble</th>\n",
       "      <th>BootstrapEnsemble</th>\n",
       "      <th>BootstrapEnsemble prior</th>\n",
       "      <th>DropoutModel</th>\n",
       "      <th>DropoutModel prior</th>\n",
       "      <th>SaverModel</th>\n",
       "      <th>ShuffleEnsemble</th>\n",
       "      <th>ShuffleEnsemble prior</th>\n",
       "      <th>VanillaEnsemble</th>\n",
       "      <th>VanillaEnsemble prior</th>\n",
       "      <th>train set mean/std</th>\n",
       "      <th>generating function</th>\n",
       "    </tr>\n",
       "  </thead>\n",
       "  <tbody>\n",
       "    <tr>\n",
       "      <td>cobeau</td>\n",
       "      <td>0.17</td>\n",
       "      <td>0.63</td>\n",
       "      <td>0.12</td>\n",
       "      <td>0.04</td>\n",
       "      <td>0.06</td>\n",
       "      <td>0.40</td>\n",
       "      <td>0.66</td>\n",
       "      <td>0.12</td>\n",
       "      <td>0.66</td>\n",
       "      <td>0.12</td>\n",
       "      <td>NaN</td>\n",
       "      <td>NaN</td>\n",
       "    </tr>\n",
       "    <tr>\n",
       "      <td>cobeau_p_vals</td>\n",
       "      <td>0.36</td>\n",
       "      <td>0.02</td>\n",
       "      <td>0.41</td>\n",
       "      <td>0.51</td>\n",
       "      <td>0.54</td>\n",
       "      <td>0.18</td>\n",
       "      <td>0.02</td>\n",
       "      <td>0.41</td>\n",
       "      <td>0.02</td>\n",
       "      <td>0.41</td>\n",
       "      <td>NaN</td>\n",
       "      <td>NaN</td>\n",
       "    </tr>\n",
       "    <tr>\n",
       "      <td>errors</td>\n",
       "      <td>0.45</td>\n",
       "      <td>0.44</td>\n",
       "      <td>0.89</td>\n",
       "      <td>0.46</td>\n",
       "      <td>0.90</td>\n",
       "      <td>0.45</td>\n",
       "      <td>0.44</td>\n",
       "      <td>0.89</td>\n",
       "      <td>0.44</td>\n",
       "      <td>0.89</td>\n",
       "      <td>0.89</td>\n",
       "      <td>0.28</td>\n",
       "    </tr>\n",
       "    <tr>\n",
       "      <td>nlpd</td>\n",
       "      <td>-0.23</td>\n",
       "      <td>-0.90</td>\n",
       "      <td>1.18</td>\n",
       "      <td>-0.56</td>\n",
       "      <td>15.23</td>\n",
       "      <td>0.81</td>\n",
       "      <td>-0.78</td>\n",
       "      <td>1.18</td>\n",
       "      <td>-0.78</td>\n",
       "      <td>1.18</td>\n",
       "      <td>0.53</td>\n",
       "      <td>-0.98</td>\n",
       "    </tr>\n",
       "  </tbody>\n",
       "</table>\n",
       "</div>"
      ],
      "text/plain": [
       "               BobstrapEnsemble  BootstrapEnsemble  BootstrapEnsemble prior  \\\n",
       "cobeau                     0.17               0.63                     0.12   \n",
       "cobeau_p_vals              0.36               0.02                     0.41   \n",
       "errors                     0.45               0.44                     0.89   \n",
       "nlpd                      -0.23              -0.90                     1.18   \n",
       "\n",
       "               DropoutModel  DropoutModel prior  SaverModel  ShuffleEnsemble  \\\n",
       "cobeau                 0.04                0.06        0.40             0.66   \n",
       "cobeau_p_vals          0.51                0.54        0.18             0.02   \n",
       "errors                 0.46                0.90        0.45             0.44   \n",
       "nlpd                  -0.56               15.23        0.81            -0.78   \n",
       "\n",
       "               ShuffleEnsemble prior  VanillaEnsemble  VanillaEnsemble prior  \\\n",
       "cobeau                          0.12             0.66                   0.12   \n",
       "cobeau_p_vals                   0.41             0.02                   0.41   \n",
       "errors                          0.89             0.44                   0.89   \n",
       "nlpd                            1.18            -0.78                   1.18   \n",
       "\n",
       "               train set mean/std  generating function  \n",
       "cobeau                        NaN                  NaN  \n",
       "cobeau_p_vals                 NaN                  NaN  \n",
       "errors                       0.89                 0.28  \n",
       "nlpd                         0.53                -0.98  "
      ]
     },
     "execution_count": 13,
     "metadata": {},
     "output_type": "execute_result"
    }
   ],
   "source": [
    "pd_means.head()"
   ]
  },
  {
   "cell_type": "code",
   "execution_count": 14,
   "metadata": {},
   "outputs": [
    {
     "data": {
      "text/html": [
       "<div>\n",
       "<style scoped>\n",
       "    .dataframe tbody tr th:only-of-type {\n",
       "        vertical-align: middle;\n",
       "    }\n",
       "\n",
       "    .dataframe tbody tr th {\n",
       "        vertical-align: top;\n",
       "    }\n",
       "\n",
       "    .dataframe thead th {\n",
       "        text-align: right;\n",
       "    }\n",
       "</style>\n",
       "<table border=\"1\" class=\"dataframe\">\n",
       "  <thead>\n",
       "    <tr style=\"text-align: right;\">\n",
       "      <th></th>\n",
       "      <th>cobeau</th>\n",
       "      <th>cobeau_p_vals</th>\n",
       "      <th>errors</th>\n",
       "      <th>nlpd</th>\n",
       "    </tr>\n",
       "  </thead>\n",
       "  <tbody>\n",
       "    <tr>\n",
       "      <td>BobstrapEnsemble</td>\n",
       "      <td>0.17</td>\n",
       "      <td>0.36</td>\n",
       "      <td>0.45</td>\n",
       "      <td>-0.23</td>\n",
       "    </tr>\n",
       "    <tr>\n",
       "      <td>BootstrapEnsemble</td>\n",
       "      <td>0.63</td>\n",
       "      <td>0.02</td>\n",
       "      <td>0.44</td>\n",
       "      <td>-0.90</td>\n",
       "    </tr>\n",
       "    <tr>\n",
       "      <td>BootstrapEnsemble prior</td>\n",
       "      <td>0.12</td>\n",
       "      <td>0.41</td>\n",
       "      <td>0.89</td>\n",
       "      <td>1.18</td>\n",
       "    </tr>\n",
       "    <tr>\n",
       "      <td>DropoutModel</td>\n",
       "      <td>0.04</td>\n",
       "      <td>0.51</td>\n",
       "      <td>0.46</td>\n",
       "      <td>-0.56</td>\n",
       "    </tr>\n",
       "    <tr>\n",
       "      <td>DropoutModel prior</td>\n",
       "      <td>0.06</td>\n",
       "      <td>0.54</td>\n",
       "      <td>0.90</td>\n",
       "      <td>15.23</td>\n",
       "    </tr>\n",
       "    <tr>\n",
       "      <td>SaverModel</td>\n",
       "      <td>0.40</td>\n",
       "      <td>0.18</td>\n",
       "      <td>0.45</td>\n",
       "      <td>0.81</td>\n",
       "    </tr>\n",
       "    <tr>\n",
       "      <td>ShuffleEnsemble</td>\n",
       "      <td>0.66</td>\n",
       "      <td>0.02</td>\n",
       "      <td>0.44</td>\n",
       "      <td>-0.78</td>\n",
       "    </tr>\n",
       "    <tr>\n",
       "      <td>ShuffleEnsemble prior</td>\n",
       "      <td>0.12</td>\n",
       "      <td>0.41</td>\n",
       "      <td>0.89</td>\n",
       "      <td>1.18</td>\n",
       "    </tr>\n",
       "    <tr>\n",
       "      <td>VanillaEnsemble</td>\n",
       "      <td>0.66</td>\n",
       "      <td>0.02</td>\n",
       "      <td>0.44</td>\n",
       "      <td>-0.78</td>\n",
       "    </tr>\n",
       "    <tr>\n",
       "      <td>VanillaEnsemble prior</td>\n",
       "      <td>0.12</td>\n",
       "      <td>0.41</td>\n",
       "      <td>0.89</td>\n",
       "      <td>1.18</td>\n",
       "    </tr>\n",
       "    <tr>\n",
       "      <td>train set mean/std</td>\n",
       "      <td>NaN</td>\n",
       "      <td>NaN</td>\n",
       "      <td>0.89</td>\n",
       "      <td>0.53</td>\n",
       "    </tr>\n",
       "    <tr>\n",
       "      <td>generating function</td>\n",
       "      <td>NaN</td>\n",
       "      <td>NaN</td>\n",
       "      <td>0.28</td>\n",
       "      <td>-0.98</td>\n",
       "    </tr>\n",
       "  </tbody>\n",
       "</table>\n",
       "</div>"
      ],
      "text/plain": [
       "                         cobeau  cobeau_p_vals  errors   nlpd\n",
       "BobstrapEnsemble           0.17           0.36    0.45  -0.23\n",
       "BootstrapEnsemble          0.63           0.02    0.44  -0.90\n",
       "BootstrapEnsemble prior    0.12           0.41    0.89   1.18\n",
       "DropoutModel               0.04           0.51    0.46  -0.56\n",
       "DropoutModel prior         0.06           0.54    0.90  15.23\n",
       "SaverModel                 0.40           0.18    0.45   0.81\n",
       "ShuffleEnsemble            0.66           0.02    0.44  -0.78\n",
       "ShuffleEnsemble prior      0.12           0.41    0.89   1.18\n",
       "VanillaEnsemble            0.66           0.02    0.44  -0.78\n",
       "VanillaEnsemble prior      0.12           0.41    0.89   1.18\n",
       "train set mean/std          NaN            NaN    0.89   0.53\n",
       "generating function         NaN            NaN    0.28  -0.98"
      ]
     },
     "execution_count": 14,
     "metadata": {},
     "output_type": "execute_result"
    }
   ],
   "source": [
    "pd_means.T"
   ]
  },
  {
   "cell_type": "code",
   "execution_count": null,
   "metadata": {},
   "outputs": [],
   "source": []
  },
  {
   "cell_type": "code",
   "execution_count": 15,
   "metadata": {},
   "outputs": [
    {
     "data": {
      "text/html": [
       "<div>\n",
       "<style scoped>\n",
       "    .dataframe tbody tr th:only-of-type {\n",
       "        vertical-align: middle;\n",
       "    }\n",
       "\n",
       "    .dataframe tbody tr th {\n",
       "        vertical-align: top;\n",
       "    }\n",
       "\n",
       "    .dataframe thead th {\n",
       "        text-align: right;\n",
       "    }\n",
       "</style>\n",
       "<table border=\"1\" class=\"dataframe\">\n",
       "  <thead>\n",
       "    <tr style=\"text-align: right;\">\n",
       "      <th></th>\n",
       "      <th>cobeau</th>\n",
       "      <th>cobeau_p_vals</th>\n",
       "      <th>errors</th>\n",
       "      <th>nlpd</th>\n",
       "    </tr>\n",
       "  </thead>\n",
       "  <tbody>\n",
       "    <tr>\n",
       "      <td>BobstrapEnsemble</td>\n",
       "      <td>0.29</td>\n",
       "      <td>0.31</td>\n",
       "      <td>0.07</td>\n",
       "      <td>0.72</td>\n",
       "    </tr>\n",
       "    <tr>\n",
       "      <td>BootstrapEnsemble</td>\n",
       "      <td>0.13</td>\n",
       "      <td>0.02</td>\n",
       "      <td>0.06</td>\n",
       "      <td>0.24</td>\n",
       "    </tr>\n",
       "    <tr>\n",
       "      <td>BootstrapEnsemble prior</td>\n",
       "      <td>0.26</td>\n",
       "      <td>0.30</td>\n",
       "      <td>0.00</td>\n",
       "      <td>0.37</td>\n",
       "    </tr>\n",
       "    <tr>\n",
       "      <td>DropoutModel</td>\n",
       "      <td>0.21</td>\n",
       "      <td>0.26</td>\n",
       "      <td>0.06</td>\n",
       "      <td>0.32</td>\n",
       "    </tr>\n",
       "    <tr>\n",
       "      <td>DropoutModel prior</td>\n",
       "      <td>0.23</td>\n",
       "      <td>0.34</td>\n",
       "      <td>0.02</td>\n",
       "      <td>2.59</td>\n",
       "    </tr>\n",
       "    <tr>\n",
       "      <td>SaverModel</td>\n",
       "      <td>0.23</td>\n",
       "      <td>0.24</td>\n",
       "      <td>0.06</td>\n",
       "      <td>2.32</td>\n",
       "    </tr>\n",
       "    <tr>\n",
       "      <td>ShuffleEnsemble</td>\n",
       "      <td>0.16</td>\n",
       "      <td>0.06</td>\n",
       "      <td>0.05</td>\n",
       "      <td>0.56</td>\n",
       "    </tr>\n",
       "    <tr>\n",
       "      <td>ShuffleEnsemble prior</td>\n",
       "      <td>0.26</td>\n",
       "      <td>0.30</td>\n",
       "      <td>0.00</td>\n",
       "      <td>0.37</td>\n",
       "    </tr>\n",
       "    <tr>\n",
       "      <td>VanillaEnsemble</td>\n",
       "      <td>0.16</td>\n",
       "      <td>0.06</td>\n",
       "      <td>0.05</td>\n",
       "      <td>0.56</td>\n",
       "    </tr>\n",
       "    <tr>\n",
       "      <td>VanillaEnsemble prior</td>\n",
       "      <td>0.26</td>\n",
       "      <td>0.30</td>\n",
       "      <td>0.00</td>\n",
       "      <td>0.37</td>\n",
       "    </tr>\n",
       "  </tbody>\n",
       "</table>\n",
       "</div>"
      ],
      "text/plain": [
       "                         cobeau  cobeau_p_vals  errors  nlpd\n",
       "BobstrapEnsemble           0.29           0.31    0.07  0.72\n",
       "BootstrapEnsemble          0.13           0.02    0.06  0.24\n",
       "BootstrapEnsemble prior    0.26           0.30    0.00  0.37\n",
       "DropoutModel               0.21           0.26    0.06  0.32\n",
       "DropoutModel prior         0.23           0.34    0.02  2.59\n",
       "SaverModel                 0.23           0.24    0.06  2.32\n",
       "ShuffleEnsemble            0.16           0.06    0.05  0.56\n",
       "ShuffleEnsemble prior      0.26           0.30    0.00  0.37\n",
       "VanillaEnsemble            0.16           0.06    0.05  0.56\n",
       "VanillaEnsemble prior      0.26           0.30    0.00  0.37"
      ]
     },
     "execution_count": 15,
     "metadata": {},
     "output_type": "execute_result"
    }
   ],
   "source": [
    "pd_stds = pd_stds.dropna(1).round(2)\n",
    "pd_stds.round(3).T"
   ]
  },
  {
   "cell_type": "code",
   "execution_count": 16,
   "metadata": {},
   "outputs": [],
   "source": [
    "import collections"
   ]
  },
  {
   "cell_type": "code",
   "execution_count": 17,
   "metadata": {},
   "outputs": [],
   "source": [
    "stats_dict = collections.defaultdict(dict)\n",
    "for row in pd_means.index:\n",
    "    \n",
    "    for col in pd_means.columns:\n",
    "\n",
    "        \n",
    "        \n",
    "        \n",
    "        \n",
    "        \n",
    "        try:\n",
    "            stats_dict[row][col] = str(pd_means.loc[row][col]) + ' \\\\footnotesize$\\pm$' + str(pd_stds.loc[row][col]) + '\\normalsize'\n",
    "        except:\n",
    "            stats_dict[row][col] = pd_means.loc[row][col]"
   ]
  },
  {
   "cell_type": "code",
   "execution_count": 18,
   "metadata": {},
   "outputs": [
    {
     "data": {
      "text/plain": [
       "['BobstrapEnsemble',\n",
       " 'BootstrapEnsemble',\n",
       " 'BootstrapEnsemble prior',\n",
       " 'DropoutModel',\n",
       " 'DropoutModel prior',\n",
       " 'SaverModel',\n",
       " 'ShuffleEnsemble',\n",
       " 'ShuffleEnsemble prior',\n",
       " 'VanillaEnsemble',\n",
       " 'VanillaEnsemble prior',\n",
       " 'train set mean/std',\n",
       " 'generating function']"
      ]
     },
     "execution_count": 18,
     "metadata": {},
     "output_type": "execute_result"
    }
   ],
   "source": [
    "list(pd.DataFrame.from_dict(stats_dict).index)"
   ]
  },
  {
   "cell_type": "code",
   "execution_count": null,
   "metadata": {},
   "outputs": [],
   "source": []
  },
  {
   "cell_type": "code",
   "execution_count": 19,
   "metadata": {},
   "outputs": [],
   "source": [
    "model_names_list = ['VanillaEnsemble', 'ShuffleEnsemble', 'BootstrapEnsemble', 'SaverModel', 'BobstrapEnsemble', 'DropoutModel']\n",
    "model_names_list_bf = ['\\textbf{{{}}}'.format(x) for x in model_names_list]\n",
    "\n",
    "prior_names_list = [                                             'VanillaEnsemble prior',\n",
    "                                           'ShuffleEnsemble prior',\n",
    "                                             'BootstrapEnsemble prior',\n",
    "                                             'DropoutModel prior',]\n",
    "benchmark_names_list = [                                             'train set mean/std',\n",
    "]\n",
    "if toy == 'True':\n",
    "    benchmark_names_list += [ 'generating function']\n",
    "\n",
    "pd_stats = pd.DataFrame.from_dict(stats_dict).reindex(model_names_list+prior_names_list+benchmark_names_list)\n"
   ]
  },
  {
   "cell_type": "code",
   "execution_count": 20,
   "metadata": {},
   "outputs": [
    {
     "data": {
      "text/plain": [
       "['\\textbf{VanillaEnsemble}',\n",
       " '\\textbf{ShuffleEnsemble}',\n",
       " '\\textbf{BootstrapEnsemble}',\n",
       " '\\textbf{SaverModel}',\n",
       " '\\textbf{BobstrapEnsemble}',\n",
       " '\\textbf{DropoutModel}']"
      ]
     },
     "execution_count": 20,
     "metadata": {},
     "output_type": "execute_result"
    }
   ],
   "source": [
    "model_names_list_bf"
   ]
  },
  {
   "cell_type": "code",
   "execution_count": 21,
   "metadata": {},
   "outputs": [
    {
     "data": {
      "text/plain": [
       "['\\textbf{VanillaEnsemble}',\n",
       " '\\textbf{ShuffleEnsemble}',\n",
       " '\\textbf{BootstrapEnsemble}',\n",
       " '\\textbf{SaverModel}',\n",
       " '\\textbf{BobstrapEnsemble}',\n",
       " '\\textbf{DropoutModel}',\n",
       " 'VanillaEnsemble prior',\n",
       " 'ShuffleEnsemble prior',\n",
       " 'BootstrapEnsemble prior',\n",
       " 'DropoutModel prior',\n",
       " 'train set mean/std',\n",
       " 'generating function']"
      ]
     },
     "execution_count": 21,
     "metadata": {},
     "output_type": "execute_result"
    }
   ],
   "source": [
    "model_names_list_bf+prior_names_list+benchmark_names_list"
   ]
  },
  {
   "cell_type": "code",
   "execution_count": 22,
   "metadata": {},
   "outputs": [],
   "source": [
    "rename_dict = {prev:after for prev,after in zip(model_names_list+prior_names_list+benchmark_names_list, model_names_list_bf+prior_names_list+benchmark_names_list)}"
   ]
  },
  {
   "cell_type": "code",
   "execution_count": 23,
   "metadata": {},
   "outputs": [
    {
     "data": {
      "text/plain": [
       "{'VanillaEnsemble': '\\textbf{VanillaEnsemble}',\n",
       " 'ShuffleEnsemble': '\\textbf{ShuffleEnsemble}',\n",
       " 'BootstrapEnsemble': '\\textbf{BootstrapEnsemble}',\n",
       " 'SaverModel': '\\textbf{SaverModel}',\n",
       " 'BobstrapEnsemble': '\\textbf{BobstrapEnsemble}',\n",
       " 'DropoutModel': '\\textbf{DropoutModel}',\n",
       " 'VanillaEnsemble prior': 'VanillaEnsemble prior',\n",
       " 'ShuffleEnsemble prior': 'ShuffleEnsemble prior',\n",
       " 'BootstrapEnsemble prior': 'BootstrapEnsemble prior',\n",
       " 'DropoutModel prior': 'DropoutModel prior',\n",
       " 'train set mean/std': 'train set mean/std',\n",
       " 'generating function': 'generating function'}"
      ]
     },
     "execution_count": 23,
     "metadata": {},
     "output_type": "execute_result"
    }
   ],
   "source": [
    "rename_dict"
   ]
  },
  {
   "cell_type": "code",
   "execution_count": 24,
   "metadata": {},
   "outputs": [],
   "source": [
    "pd_stats.rename(rename_dict, axis='index',inplace=True)"
   ]
  },
  {
   "cell_type": "code",
   "execution_count": null,
   "metadata": {},
   "outputs": [],
   "source": []
  },
  {
   "cell_type": "code",
   "execution_count": 25,
   "metadata": {},
   "outputs": [],
   "source": [
    "col_rename_dict = {x:f'\\textbf{{{x}}}' for x in pd_stats.columns}\n",
    "col_rename_dict['cobeau_p_vals'] = '\\textbf{cobeau p-vals}'"
   ]
  },
  {
   "cell_type": "code",
   "execution_count": 26,
   "metadata": {},
   "outputs": [],
   "source": [
    "pd_stats.rename(col_rename_dict,axis = 'columns',inplace=True)"
   ]
  },
  {
   "cell_type": "code",
   "execution_count": 27,
   "metadata": {},
   "outputs": [
    {
     "data": {
      "text/html": [
       "<div>\n",
       "<style scoped>\n",
       "    .dataframe tbody tr th:only-of-type {\n",
       "        vertical-align: middle;\n",
       "    }\n",
       "\n",
       "    .dataframe tbody tr th {\n",
       "        vertical-align: top;\n",
       "    }\n",
       "\n",
       "    .dataframe thead th {\n",
       "        text-align: right;\n",
       "    }\n",
       "</style>\n",
       "<table border=\"1\" class=\"dataframe\">\n",
       "  <thead>\n",
       "    <tr style=\"text-align: right;\">\n",
       "      <th></th>\n",
       "      <th>\\textbf{cobeau}</th>\n",
       "      <th>\\textbf{cobeau p-vals}</th>\n",
       "      <th>\\textbf{errors}</th>\n",
       "      <th>\\textbf{nlpd}</th>\n",
       "    </tr>\n",
       "  </thead>\n",
       "  <tbody>\n",
       "    <tr>\n",
       "      <td>\\textbf{VanillaEnsemble}</td>\n",
       "      <td>0.66 \\footnotesize$\\pm$0.16\\normalsize</td>\n",
       "      <td>0.02 \\footnotesize$\\pm$0.06\\normalsize</td>\n",
       "      <td>0.44 \\footnotesize$\\pm$0.05\\normalsize</td>\n",
       "      <td>-0.78 \\footnotesize$\\pm$0.56\\normalsize</td>\n",
       "    </tr>\n",
       "    <tr>\n",
       "      <td>\\textbf{ShuffleEnsemble}</td>\n",
       "      <td>0.66 \\footnotesize$\\pm$0.16\\normalsize</td>\n",
       "      <td>0.02 \\footnotesize$\\pm$0.06\\normalsize</td>\n",
       "      <td>0.44 \\footnotesize$\\pm$0.05\\normalsize</td>\n",
       "      <td>-0.78 \\footnotesize$\\pm$0.56\\normalsize</td>\n",
       "    </tr>\n",
       "    <tr>\n",
       "      <td>\\textbf{BootstrapEnsemble}</td>\n",
       "      <td>0.63 \\footnotesize$\\pm$0.13\\normalsize</td>\n",
       "      <td>0.02 \\footnotesize$\\pm$0.02\\normalsize</td>\n",
       "      <td>0.44 \\footnotesize$\\pm$0.06\\normalsize</td>\n",
       "      <td>-0.9 \\footnotesize$\\pm$0.24\\normalsize</td>\n",
       "    </tr>\n",
       "    <tr>\n",
       "      <td>\\textbf{SaverModel}</td>\n",
       "      <td>0.4 \\footnotesize$\\pm$0.23\\normalsize</td>\n",
       "      <td>0.18 \\footnotesize$\\pm$0.24\\normalsize</td>\n",
       "      <td>0.45 \\footnotesize$\\pm$0.06\\normalsize</td>\n",
       "      <td>0.81 \\footnotesize$\\pm$2.32\\normalsize</td>\n",
       "    </tr>\n",
       "    <tr>\n",
       "      <td>\\textbf{BobstrapEnsemble}</td>\n",
       "      <td>0.17 \\footnotesize$\\pm$0.29\\normalsize</td>\n",
       "      <td>0.36 \\footnotesize$\\pm$0.31\\normalsize</td>\n",
       "      <td>0.45 \\footnotesize$\\pm$0.07\\normalsize</td>\n",
       "      <td>-0.23 \\footnotesize$\\pm$0.72\\normalsize</td>\n",
       "    </tr>\n",
       "    <tr>\n",
       "      <td>\\textbf{DropoutModel}</td>\n",
       "      <td>0.04 \\footnotesize$\\pm$0.21\\normalsize</td>\n",
       "      <td>0.51 \\footnotesize$\\pm$0.26\\normalsize</td>\n",
       "      <td>0.46 \\footnotesize$\\pm$0.06\\normalsize</td>\n",
       "      <td>-0.56 \\footnotesize$\\pm$0.32\\normalsize</td>\n",
       "    </tr>\n",
       "    <tr>\n",
       "      <td>VanillaEnsemble prior</td>\n",
       "      <td>0.12 \\footnotesize$\\pm$0.26\\normalsize</td>\n",
       "      <td>0.41 \\footnotesize$\\pm$0.3\\normalsize</td>\n",
       "      <td>0.89 \\footnotesize$\\pm$0.0\\normalsize</td>\n",
       "      <td>1.18 \\footnotesize$\\pm$0.37\\normalsize</td>\n",
       "    </tr>\n",
       "    <tr>\n",
       "      <td>ShuffleEnsemble prior</td>\n",
       "      <td>0.12 \\footnotesize$\\pm$0.26\\normalsize</td>\n",
       "      <td>0.41 \\footnotesize$\\pm$0.3\\normalsize</td>\n",
       "      <td>0.89 \\footnotesize$\\pm$0.0\\normalsize</td>\n",
       "      <td>1.18 \\footnotesize$\\pm$0.37\\normalsize</td>\n",
       "    </tr>\n",
       "    <tr>\n",
       "      <td>BootstrapEnsemble prior</td>\n",
       "      <td>0.12 \\footnotesize$\\pm$0.26\\normalsize</td>\n",
       "      <td>0.41 \\footnotesize$\\pm$0.3\\normalsize</td>\n",
       "      <td>0.89 \\footnotesize$\\pm$0.0\\normalsize</td>\n",
       "      <td>1.18 \\footnotesize$\\pm$0.37\\normalsize</td>\n",
       "    </tr>\n",
       "    <tr>\n",
       "      <td>DropoutModel prior</td>\n",
       "      <td>0.06 \\footnotesize$\\pm$0.23\\normalsize</td>\n",
       "      <td>0.54 \\footnotesize$\\pm$0.34\\normalsize</td>\n",
       "      <td>0.9 \\footnotesize$\\pm$0.02\\normalsize</td>\n",
       "      <td>15.23 \\footnotesize$\\pm$2.59\\normalsize</td>\n",
       "    </tr>\n",
       "    <tr>\n",
       "      <td>train set mean/std</td>\n",
       "      <td>NaN</td>\n",
       "      <td>NaN</td>\n",
       "      <td>0.89</td>\n",
       "      <td>0.53</td>\n",
       "    </tr>\n",
       "    <tr>\n",
       "      <td>generating function</td>\n",
       "      <td>NaN</td>\n",
       "      <td>NaN</td>\n",
       "      <td>0.28</td>\n",
       "      <td>-0.98</td>\n",
       "    </tr>\n",
       "  </tbody>\n",
       "</table>\n",
       "</div>"
      ],
      "text/plain": [
       "                                                   \\textbf{cobeau}  \\\n",
       "\\textbf{VanillaEnsemble}    0.66 \\footnotesize$\\pm$0.16\\normalsize   \n",
       "\\textbf{ShuffleEnsemble}    0.66 \\footnotesize$\\pm$0.16\\normalsize   \n",
       "\\textbf{BootstrapEnsemble}  0.63 \\footnotesize$\\pm$0.13\\normalsize   \n",
       "\\textbf{SaverModel}          0.4 \\footnotesize$\\pm$0.23\\normalsize   \n",
       "\\textbf{BobstrapEnsemble}   0.17 \\footnotesize$\\pm$0.29\\normalsize   \n",
       "\\textbf{DropoutModel}       0.04 \\footnotesize$\\pm$0.21\\normalsize   \n",
       "VanillaEnsemble prior       0.12 \\footnotesize$\\pm$0.26\\normalsize   \n",
       "ShuffleEnsemble prior       0.12 \\footnotesize$\\pm$0.26\\normalsize   \n",
       "BootstrapEnsemble prior     0.12 \\footnotesize$\\pm$0.26\\normalsize   \n",
       "DropoutModel prior          0.06 \\footnotesize$\\pm$0.23\\normalsize   \n",
       "train set mean/std                                             NaN   \n",
       "generating function                                            NaN   \n",
       "\n",
       "                                            \\textbf{cobeau p-vals}  \\\n",
       "\\textbf{VanillaEnsemble}    0.02 \\footnotesize$\\pm$0.06\\normalsize   \n",
       "\\textbf{ShuffleEnsemble}    0.02 \\footnotesize$\\pm$0.06\\normalsize   \n",
       "\\textbf{BootstrapEnsemble}  0.02 \\footnotesize$\\pm$0.02\\normalsize   \n",
       "\\textbf{SaverModel}         0.18 \\footnotesize$\\pm$0.24\\normalsize   \n",
       "\\textbf{BobstrapEnsemble}   0.36 \\footnotesize$\\pm$0.31\\normalsize   \n",
       "\\textbf{DropoutModel}       0.51 \\footnotesize$\\pm$0.26\\normalsize   \n",
       "VanillaEnsemble prior        0.41 \\footnotesize$\\pm$0.3\\normalsize   \n",
       "ShuffleEnsemble prior        0.41 \\footnotesize$\\pm$0.3\\normalsize   \n",
       "BootstrapEnsemble prior      0.41 \\footnotesize$\\pm$0.3\\normalsize   \n",
       "DropoutModel prior          0.54 \\footnotesize$\\pm$0.34\\normalsize   \n",
       "train set mean/std                                             NaN   \n",
       "generating function                                            NaN   \n",
       "\n",
       "                                                   \\textbf{errors}  \\\n",
       "\\textbf{VanillaEnsemble}    0.44 \\footnotesize$\\pm$0.05\\normalsize   \n",
       "\\textbf{ShuffleEnsemble}    0.44 \\footnotesize$\\pm$0.05\\normalsize   \n",
       "\\textbf{BootstrapEnsemble}  0.44 \\footnotesize$\\pm$0.06\\normalsize   \n",
       "\\textbf{SaverModel}         0.45 \\footnotesize$\\pm$0.06\\normalsize   \n",
       "\\textbf{BobstrapEnsemble}   0.45 \\footnotesize$\\pm$0.07\\normalsize   \n",
       "\\textbf{DropoutModel}       0.46 \\footnotesize$\\pm$0.06\\normalsize   \n",
       "VanillaEnsemble prior        0.89 \\footnotesize$\\pm$0.0\\normalsize   \n",
       "ShuffleEnsemble prior        0.89 \\footnotesize$\\pm$0.0\\normalsize   \n",
       "BootstrapEnsemble prior      0.89 \\footnotesize$\\pm$0.0\\normalsize   \n",
       "DropoutModel prior           0.9 \\footnotesize$\\pm$0.02\\normalsize   \n",
       "train set mean/std                                            0.89   \n",
       "generating function                                           0.28   \n",
       "\n",
       "                                                      \\textbf{nlpd}  \n",
       "\\textbf{VanillaEnsemble}    -0.78 \\footnotesize$\\pm$0.56\\normalsize  \n",
       "\\textbf{ShuffleEnsemble}    -0.78 \\footnotesize$\\pm$0.56\\normalsize  \n",
       "\\textbf{BootstrapEnsemble}   -0.9 \\footnotesize$\\pm$0.24\\normalsize  \n",
       "\\textbf{SaverModel}          0.81 \\footnotesize$\\pm$2.32\\normalsize  \n",
       "\\textbf{BobstrapEnsemble}   -0.23 \\footnotesize$\\pm$0.72\\normalsize  \n",
       "\\textbf{DropoutModel}       -0.56 \\footnotesize$\\pm$0.32\\normalsize  \n",
       "VanillaEnsemble prior        1.18 \\footnotesize$\\pm$0.37\\normalsize  \n",
       "ShuffleEnsemble prior        1.18 \\footnotesize$\\pm$0.37\\normalsize  \n",
       "BootstrapEnsemble prior      1.18 \\footnotesize$\\pm$0.37\\normalsize  \n",
       "DropoutModel prior          15.23 \\footnotesize$\\pm$2.59\\normalsize  \n",
       "train set mean/std                                             0.53  \n",
       "generating function                                           -0.98  "
      ]
     },
     "execution_count": 27,
     "metadata": {},
     "output_type": "execute_result"
    }
   ],
   "source": [
    "pd_stats"
   ]
  },
  {
   "cell_type": "code",
   "execution_count": 28,
   "metadata": {},
   "outputs": [
    {
     "data": {
      "text/plain": [
       "['\\textbf{cobeau}',\n",
       " '\\textbf{cobeau p-vals}',\n",
       " '\\textbf{errors}',\n",
       " '\\textbf{nlpd}']"
      ]
     },
     "execution_count": 28,
     "metadata": {},
     "output_type": "execute_result"
    }
   ],
   "source": [
    "list(pd_stats.columns)"
   ]
  },
  {
   "cell_type": "code",
   "execution_count": 29,
   "metadata": {},
   "outputs": [],
   "source": [
    "cols = ['\\textbf{errors}',\n",
    " '\\textbf{nlpd}',\n",
    "         '\\textbf{cobeau}',\n",
    " '\\textbf{cobeau p-vals}',\n",
    "]\n",
    "pd_stats = pd_stats[cols]"
   ]
  },
  {
   "cell_type": "code",
   "execution_count": 30,
   "metadata": {},
   "outputs": [
    {
     "name": "stdout",
     "output_type": "stream",
     "text": [
      "\\begin{tabular}{lllll}\n",
      "\\toprule\n",
      "{} &                         \\textbf{errors} &                            \\textbf{nlpd} &                         \\textbf{cobeau} &                  \\textbf{cobeau p-vals} \\\\\n",
      "\\midrule\n",
      "\\textbf{VanillaEnsemble}   &  0.44 \\footnotesize$\\pm$0.05\\normalsize &  -0.78 \\footnotesize$\\pm$0.56\\normalsize &  0.66 \\footnotesize$\\pm$0.16\\normalsize &  0.02 \\footnotesize$\\pm$0.06\\normalsize \\\\\n",
      "\\textbf{ShuffleEnsemble}   &  0.44 \\footnotesize$\\pm$0.05\\normalsize &  -0.78 \\footnotesize$\\pm$0.56\\normalsize &  0.66 \\footnotesize$\\pm$0.16\\normalsize &  0.02 \\footnotesize$\\pm$0.06\\normalsize \\\\\n",
      "\\textbf{BootstrapEnsemble} &  0.44 \\footnotesize$\\pm$0.06\\normalsize &   -0.9 \\footnotesize$\\pm$0.24\\normalsize &  0.63 \\footnotesize$\\pm$0.13\\normalsize &  0.02 \\footnotesize$\\pm$0.02\\normalsize \\\\\n",
      "\\textbf{SaverModel}        &  0.45 \\footnotesize$\\pm$0.06\\normalsize &   0.81 \\footnotesize$\\pm$2.32\\normalsize &   0.4 \\footnotesize$\\pm$0.23\\normalsize &  0.18 \\footnotesize$\\pm$0.24\\normalsize \\\\\n",
      "\\textbf{BobstrapEnsemble}  &  0.45 \\footnotesize$\\pm$0.07\\normalsize &  -0.23 \\footnotesize$\\pm$0.72\\normalsize &  0.17 \\footnotesize$\\pm$0.29\\normalsize &  0.36 \\footnotesize$\\pm$0.31\\normalsize \\\\\n",
      "\\textbf{DropoutModel}      &  0.46 \\footnotesize$\\pm$0.06\\normalsize &  -0.56 \\footnotesize$\\pm$0.32\\normalsize &  0.04 \\footnotesize$\\pm$0.21\\normalsize &  0.51 \\footnotesize$\\pm$0.26\\normalsize \\\\\n",
      "VanillaEnsemble prior      &   0.89 \\footnotesize$\\pm$0.0\\normalsize &   1.18 \\footnotesize$\\pm$0.37\\normalsize &  0.12 \\footnotesize$\\pm$0.26\\normalsize &   0.41 \\footnotesize$\\pm$0.3\\normalsize \\\\\n",
      "ShuffleEnsemble prior      &   0.89 \\footnotesize$\\pm$0.0\\normalsize &   1.18 \\footnotesize$\\pm$0.37\\normalsize &  0.12 \\footnotesize$\\pm$0.26\\normalsize &   0.41 \\footnotesize$\\pm$0.3\\normalsize \\\\\n",
      "BootstrapEnsemble prior    &   0.89 \\footnotesize$\\pm$0.0\\normalsize &   1.18 \\footnotesize$\\pm$0.37\\normalsize &  0.12 \\footnotesize$\\pm$0.26\\normalsize &   0.41 \\footnotesize$\\pm$0.3\\normalsize \\\\\n",
      "DropoutModel prior         &   0.9 \\footnotesize$\\pm$0.02\\normalsize &  15.23 \\footnotesize$\\pm$2.59\\normalsize &  0.06 \\footnotesize$\\pm$0.23\\normalsize &  0.54 \\footnotesize$\\pm$0.34\\normalsize \\\\\n",
      "train set mean/std         &                                    0.89 &                                     0.53 &                                       - &                                       - \\\\\n",
      "generating function        &                                    0.28 &                                    -0.98 &                                       - &                                       - \\\\\n",
      "\\bottomrule\n",
      "\\end{tabular}\n",
      "\n"
     ]
    }
   ],
   "source": [
    "print(pd_stats.to_latex(na_rep ='-',bold_rows =False, escape=False))"
   ]
  },
  {
   "cell_type": "code",
   "execution_count": 31,
   "metadata": {},
   "outputs": [
    {
     "name": "stdout",
     "output_type": "stream",
     "text": [
      "3.7.4\n"
     ]
    }
   ],
   "source": [
    "from platform import python_version\n",
    "\n",
    "print(python_version())\n"
   ]
  },
  {
   "cell_type": "markdown",
   "metadata": {},
   "source": [
    "# model table"
   ]
  },
  {
   "cell_type": "code",
   "execution_count": null,
   "metadata": {},
   "outputs": [],
   "source": []
  },
  {
   "cell_type": "code",
   "execution_count": null,
   "metadata": {},
   "outputs": [],
   "source": []
  },
  {
   "cell_type": "code",
   "execution_count": 31,
   "metadata": {},
   "outputs": [
    {
     "name": "stdout",
     "output_type": "stream",
     "text": [
      "----------------------------------------------------------------\n",
      "        Layer (type)               Output Shape         Param #\n",
      "================================================================\n",
      "            Linear-1               [-1, 0, 100]             200\n",
      "           Dropout-2               [-1, 0, 100]               0\n",
      "         LeakyReLU-3               [-1, 0, 100]               0\n",
      "            Linear-4               [-1, 0, 100]          10,100\n",
      "           Dropout-5               [-1, 0, 100]               0\n",
      "         LeakyReLU-6               [-1, 0, 100]               0\n",
      "            Linear-7                [-1, 0, 10]           1,010\n",
      "           Dropout-8                [-1, 0, 10]               0\n",
      "         LeakyReLU-9                [-1, 0, 10]               0\n",
      "           Linear-10                 [-1, 0, 1]              11\n",
      "================================================================\n",
      "Total params: 11,321\n",
      "Trainable params: 11,321\n",
      "Non-trainable params: 0\n",
      "----------------------------------------------------------------\n",
      "Input size (MB): 0.00\n",
      "Forward/backward pass size (MB): 0.00\n",
      "Params size (MB): 0.04\n",
      "Estimated Total Size (MB): 0.04\n",
      "----------------------------------------------------------------\n",
      "Sequential(\n",
      "  (0): Linear(in_features=1, out_features=100, bias=True)\n",
      "  (1): Dropout(p=0, inplace=False)\n",
      "  (2): LeakyReLU(negative_slope=0.01)\n",
      "  (3): Linear(in_features=100, out_features=100, bias=True)\n",
      "  (4): Dropout(p=0, inplace=False)\n",
      "  (5): LeakyReLU(negative_slope=0.01)\n",
      "  (6): Linear(in_features=100, out_features=10, bias=True)\n",
      "  (7): Dropout(p=0, inplace=False)\n",
      "  (8): LeakyReLU(negative_slope=0.01)\n",
      "  (9): Linear(in_features=10, out_features=1, bias=True)\n",
      ")\n",
      "Sequential(\n",
      "  (0): Linear(in_features=1, out_features=500, bias=True)\n",
      "  (1): LeakyReLU(negative_slope=0.01)\n",
      "  (2): Dropout(p=0, inplace=False)\n",
      "  (3): Linear(in_features=500, out_features=500, bias=True)\n",
      "  (4): LeakyReLU(negative_slope=0.01)\n",
      "  (5): Dropout(p=0, inplace=False)\n",
      "  (6): Linear(in_features=500, out_features=15, bias=True)\n",
      "  (7): LeakyReLU(negative_slope=0.01)\n",
      "  (8): Dropout(p=0, inplace=False)\n",
      "  (9): Linear(in_features=15, out_features=1, bias=True)\n",
      ")\n"
     ]
    },
    {
     "data": {
      "text/html": [
       "<div>\n",
       "<style scoped>\n",
       "    .dataframe tbody tr th:only-of-type {\n",
       "        vertical-align: middle;\n",
       "    }\n",
       "\n",
       "    .dataframe tbody tr th {\n",
       "        vertical-align: top;\n",
       "    }\n",
       "\n",
       "    .dataframe thead th {\n",
       "        text-align: right;\n",
       "    }\n",
       "</style>\n",
       "<table border=\"1\" class=\"dataframe\">\n",
       "  <thead>\n",
       "    <tr style=\"text-align: right;\">\n",
       "      <th></th>\n",
       "      <th>toy</th>\n",
       "      <th>housing</th>\n",
       "    </tr>\n",
       "  </thead>\n",
       "  <tbody>\n",
       "    <tr>\n",
       "      <td>layer sizes</td>\n",
       "      <td>[100, 100, 10, 1]</td>\n",
       "      <td>[500, 500, 15, 1]</td>\n",
       "    </tr>\n",
       "    <tr>\n",
       "      <td>non-linearity</td>\n",
       "      <td>Tanh</td>\n",
       "      <td>Tanh</td>\n",
       "    </tr>\n",
       "  </tbody>\n",
       "</table>\n",
       "</div>"
      ],
      "text/plain": [
       "                             toy            housing\n",
       "layer sizes    [100, 100, 10, 1]  [500, 500, 15, 1]\n",
       "non-linearity               Tanh               Tanh"
      ]
     },
     "execution_count": 31,
     "metadata": {},
     "output_type": "execute_result"
    }
   ],
   "source": [
    "from nn_models.base_model import get_toy_model,get_kaggle_model\n",
    "import torch\n",
    "from torchsummary import summary\n",
    "import collections\n",
    "import pandas as pd\n",
    "device = torch.device(\"cuda\" if torch.cuda.is_available() else \"cpu\")\n",
    "model = get_toy_model(1,torch.nn.LeakyReLU,0).to(device)\n",
    "summary(model, (0,1))\n",
    "model_dict = collections.defaultdict(dict)\n",
    "for name, get_func in zip(['toy','housing'],[get_toy_model, get_kaggle_model]):\n",
    "    model = get_func(1,torch.nn.LeakyReLU,0)\n",
    "    model_params = [x.out_features for x in list(model) if hasattr(x,'out_features')]\n",
    "    model_dict[name]['layer sizes'] = model_params\n",
    "    model_dict[name]['non-linearity'] = 'Tanh'\n",
    "    print(model)\n",
    "a = pd.DataFrame.from_dict(model_dict)\n",
    "a"
   ]
  },
  {
   "cell_type": "code",
   "execution_count": null,
   "metadata": {},
   "outputs": [],
   "source": []
  },
  {
   "cell_type": "code",
   "execution_count": null,
   "metadata": {},
   "outputs": [],
   "source": []
  },
  {
   "cell_type": "code",
   "execution_count": null,
   "metadata": {},
   "outputs": [],
   "source": []
  },
  {
   "cell_type": "code",
   "execution_count": 32,
   "metadata": {},
   "outputs": [
    {
     "name": "stdout",
     "output_type": "stream",
     "text": [
      "\\begin{tabular}{lll}\n",
      "\\toprule\n",
      "{} &                toy &            housing \\\\\n",
      "\\midrule\n",
      "layer sizes   &  [100, 100, 10, 1] &  [500, 500, 15, 1] \\\\\n",
      "non-linearity &               Tanh &               Tanh \\\\\n",
      "\\bottomrule\n",
      "\\end{tabular}\n",
      "\n"
     ]
    }
   ],
   "source": [
    "print(a.to_latex())"
   ]
  },
  {
   "cell_type": "code",
   "execution_count": 33,
   "metadata": {},
   "outputs": [
    {
     "data": {
      "text/plain": [
       "torch.nn.modules.activation.ReLU"
      ]
     },
     "execution_count": 33,
     "metadata": {},
     "output_type": "execute_result"
    }
   ],
   "source": [
    "torch.nn.ReLU"
   ]
  },
  {
   "cell_type": "code",
   "execution_count": null,
   "metadata": {},
   "outputs": [],
   "source": []
  },
  {
   "cell_type": "code",
   "execution_count": null,
   "metadata": {},
   "outputs": [],
   "source": []
  }
 ],
 "metadata": {
  "kernelspec": {
   "display_name": "Python 3",
   "language": "python",
   "name": "python3"
  },
  "language_info": {
   "codemirror_mode": {
    "name": "ipython",
    "version": 3
   },
   "file_extension": ".py",
   "mimetype": "text/x-python",
   "name": "python",
   "nbconvert_exporter": "python",
   "pygments_lexer": "ipython3",
   "version": "3.7.4"
  }
 },
 "nbformat": 4,
 "nbformat_minor": 4
}
