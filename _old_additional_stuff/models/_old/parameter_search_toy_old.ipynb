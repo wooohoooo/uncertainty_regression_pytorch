{
 "cells": [
  {
   "cell_type": "code",
   "execution_count": 1,
   "metadata": {},
   "outputs": [],
   "source": [
    "import torch\n",
    "import numpy as np\n",
    "import matplotlib.pyplot as plt\n",
    "\n",
    "%matplotlib inline\n",
    "%config InlineBackend.figure_format = 'retina'\n",
    "\n",
    "seed = 42 #424\n",
    "np.random.seed(seed)\n",
    "torch.manual_seed(seed)\n",
    "#NOTE! This only works for non cudnn. gpu needs\n",
    "torch.backends.cudnn.deterministic = True\n",
    "torch.backends.cudnn.benchmark = False\n",
    "\n",
    "from bayes_opt import BayesianOptimization\n",
    "\n",
    "\n",
    "\n",
    "from helpers import showcase_code\n",
    "from measures import compute_error\n",
    "\n",
    "import itertools"
   ]
  },
  {
   "cell_type": "code",
   "execution_count": 2,
   "metadata": {},
   "outputs": [],
   "source": [
    "showcase = True"
   ]
  },
  {
   "cell_type": "markdown",
   "metadata": {},
   "source": [
    "# parameter search\n",
    "\n",
    "1. Bayesian optimization\n",
    "2. to ensure comparability, we only optimize the simple model that is the base for all the ensembles\n",
    "3. Optimize once for toy and once for kaggle dataset\n",
    "4. parameters to optimize:\n",
    "5. function to be optimized: \"an objective function ceases to be a good measuerement of success when it's used as optimization target\" or something like that. So we're happy to optimize for error while we're actually interested in things like cobeau and nlpd!\n",
    "\n",
    "\n",
    "\n",
    "\n"
   ]
  },
  {
   "cell_type": "code",
   "execution_count": 3,
   "metadata": {},
   "outputs": [
    {
     "data": {
      "text/html": [
       "<style type=\"text/css\">.highlight .hll { background-color: #ffffcc }\n",
       ".highlight  { background: #f8f8f8; }\n",
       ".highlight .c { color: #408080; font-style: italic } /* Comment */\n",
       ".highlight .err { border: 1px solid #FF0000 } /* Error */\n",
       ".highlight .k { color: #008000; font-weight: bold } /* Keyword */\n",
       ".highlight .o { color: #666666 } /* Operator */\n",
       ".highlight .ch { color: #408080; font-style: italic } /* Comment.Hashbang */\n",
       ".highlight .cm { color: #408080; font-style: italic } /* Comment.Multiline */\n",
       ".highlight .cp { color: #BC7A00 } /* Comment.Preproc */\n",
       ".highlight .cpf { color: #408080; font-style: italic } /* Comment.PreprocFile */\n",
       ".highlight .c1 { color: #408080; font-style: italic } /* Comment.Single */\n",
       ".highlight .cs { color: #408080; font-style: italic } /* Comment.Special */\n",
       ".highlight .gd { color: #A00000 } /* Generic.Deleted */\n",
       ".highlight .ge { font-style: italic } /* Generic.Emph */\n",
       ".highlight .gr { color: #FF0000 } /* Generic.Error */\n",
       ".highlight .gh { color: #000080; font-weight: bold } /* Generic.Heading */\n",
       ".highlight .gi { color: #00A000 } /* Generic.Inserted */\n",
       ".highlight .go { color: #888888 } /* Generic.Output */\n",
       ".highlight .gp { color: #000080; font-weight: bold } /* Generic.Prompt */\n",
       ".highlight .gs { font-weight: bold } /* Generic.Strong */\n",
       ".highlight .gu { color: #800080; font-weight: bold } /* Generic.Subheading */\n",
       ".highlight .gt { color: #0044DD } /* Generic.Traceback */\n",
       ".highlight .kc { color: #008000; font-weight: bold } /* Keyword.Constant */\n",
       ".highlight .kd { color: #008000; font-weight: bold } /* Keyword.Declaration */\n",
       ".highlight .kn { color: #008000; font-weight: bold } /* Keyword.Namespace */\n",
       ".highlight .kp { color: #008000 } /* Keyword.Pseudo */\n",
       ".highlight .kr { color: #008000; font-weight: bold } /* Keyword.Reserved */\n",
       ".highlight .kt { color: #B00040 } /* Keyword.Type */\n",
       ".highlight .m { color: #666666 } /* Literal.Number */\n",
       ".highlight .s { color: #BA2121 } /* Literal.String */\n",
       ".highlight .na { color: #7D9029 } /* Name.Attribute */\n",
       ".highlight .nb { color: #008000 } /* Name.Builtin */\n",
       ".highlight .nc { color: #0000FF; font-weight: bold } /* Name.Class */\n",
       ".highlight .no { color: #880000 } /* Name.Constant */\n",
       ".highlight .nd { color: #AA22FF } /* Name.Decorator */\n",
       ".highlight .ni { color: #999999; font-weight: bold } /* Name.Entity */\n",
       ".highlight .ne { color: #D2413A; font-weight: bold } /* Name.Exception */\n",
       ".highlight .nf { color: #0000FF } /* Name.Function */\n",
       ".highlight .nl { color: #A0A000 } /* Name.Label */\n",
       ".highlight .nn { color: #0000FF; font-weight: bold } /* Name.Namespace */\n",
       ".highlight .nt { color: #008000; font-weight: bold } /* Name.Tag */\n",
       ".highlight .nv { color: #19177C } /* Name.Variable */\n",
       ".highlight .ow { color: #AA22FF; font-weight: bold } /* Operator.Word */\n",
       ".highlight .w { color: #bbbbbb } /* Text.Whitespace */\n",
       ".highlight .mb { color: #666666 } /* Literal.Number.Bin */\n",
       ".highlight .mf { color: #666666 } /* Literal.Number.Float */\n",
       ".highlight .mh { color: #666666 } /* Literal.Number.Hex */\n",
       ".highlight .mi { color: #666666 } /* Literal.Number.Integer */\n",
       ".highlight .mo { color: #666666 } /* Literal.Number.Oct */\n",
       ".highlight .sa { color: #BA2121 } /* Literal.String.Affix */\n",
       ".highlight .sb { color: #BA2121 } /* Literal.String.Backtick */\n",
       ".highlight .sc { color: #BA2121 } /* Literal.String.Char */\n",
       ".highlight .dl { color: #BA2121 } /* Literal.String.Delimiter */\n",
       ".highlight .sd { color: #BA2121; font-style: italic } /* Literal.String.Doc */\n",
       ".highlight .s2 { color: #BA2121 } /* Literal.String.Double */\n",
       ".highlight .se { color: #BB6622; font-weight: bold } /* Literal.String.Escape */\n",
       ".highlight .sh { color: #BA2121 } /* Literal.String.Heredoc */\n",
       ".highlight .si { color: #BB6688; font-weight: bold } /* Literal.String.Interpol */\n",
       ".highlight .sx { color: #008000 } /* Literal.String.Other */\n",
       ".highlight .sr { color: #BB6688 } /* Literal.String.Regex */\n",
       ".highlight .s1 { color: #BA2121 } /* Literal.String.Single */\n",
       ".highlight .ss { color: #19177C } /* Literal.String.Symbol */\n",
       ".highlight .bp { color: #008000 } /* Name.Builtin.Pseudo */\n",
       ".highlight .fm { color: #0000FF } /* Name.Function.Magic */\n",
       ".highlight .vc { color: #19177C } /* Name.Variable.Class */\n",
       ".highlight .vg { color: #19177C } /* Name.Variable.Global */\n",
       ".highlight .vi { color: #19177C } /* Name.Variable.Instance */\n",
       ".highlight .vm { color: #19177C } /* Name.Variable.Magic */\n",
       ".highlight .il { color: #666666 } /* Literal.Number.Integer.Long */</style><div class=\"highlight\"><pre><span></span><span class=\"k\">class</span> <span class=\"nc\">SimpleModel</span><span class=\"p\">(</span><span class=\"n\">torch</span><span class=\"o\">.</span><span class=\"n\">nn</span><span class=\"o\">.</span><span class=\"n\">Module</span><span class=\"p\">):</span>\n",
       "    <span class=\"sd\">&quot;&quot;&quot;base NN model used in ensembles&quot;&quot;&quot;</span>\n",
       "    <span class=\"k\">def</span> <span class=\"fm\">__init__</span><span class=\"p\">(</span><span class=\"bp\">self</span><span class=\"p\">,</span><span class=\"n\">toy</span><span class=\"p\">,</span><span class=\"n\">n_dims_input</span><span class=\"p\">,</span><span class=\"n\">p</span><span class=\"o\">=</span><span class=\"mf\">0.05</span><span class=\"p\">,</span> <span class=\"n\">decay</span><span class=\"o\">=</span><span class=\"mf\">0.001</span><span class=\"p\">,</span> <span class=\"n\">non_linearity</span><span class=\"o\">=</span><span class=\"n\">torch</span><span class=\"o\">.</span><span class=\"n\">nn</span><span class=\"o\">.</span><span class=\"n\">LeakyReLU</span><span class=\"p\">,</span><span class=\"n\">model_provided</span> <span class=\"o\">=</span> <span class=\"bp\">False</span><span class=\"p\">):</span>\n",
       "        <span class=\"nb\">super</span><span class=\"p\">(</span><span class=\"n\">SimpleModel</span><span class=\"p\">,</span> <span class=\"bp\">self</span><span class=\"p\">)</span><span class=\"o\">.</span><span class=\"fm\">__init__</span><span class=\"p\">()</span>\n",
       "        <span class=\"bp\">self</span><span class=\"o\">.</span><span class=\"n\">dropout_p</span> <span class=\"o\">=</span> <span class=\"n\">p</span>\n",
       "        <span class=\"bp\">self</span><span class=\"o\">.</span><span class=\"n\">decay</span> <span class=\"o\">=</span> <span class=\"n\">decay</span>\n",
       "        <span class=\"bp\">self</span><span class=\"o\">.</span><span class=\"n\">criterion</span> <span class=\"o\">=</span> <span class=\"n\">torch</span><span class=\"o\">.</span><span class=\"n\">nn</span><span class=\"o\">.</span><span class=\"n\">MSELoss</span><span class=\"p\">()</span>\n",
       "        <span class=\"k\">if</span> <span class=\"ow\">not</span> <span class=\"n\">model_provided</span><span class=\"p\">:</span>\n",
       "            <span class=\"k\">if</span> <span class=\"n\">toy</span><span class=\"p\">:</span>\n",
       "                <span class=\"bp\">self</span><span class=\"o\">.</span><span class=\"n\">f</span> <span class=\"o\">=</span> <span class=\"n\">torch</span><span class=\"o\">.</span><span class=\"n\">nn</span><span class=\"o\">.</span><span class=\"n\">Sequential</span><span class=\"p\">(</span>\n",
       "                    <span class=\"n\">torch</span><span class=\"o\">.</span><span class=\"n\">nn</span><span class=\"o\">.</span><span class=\"n\">Linear</span><span class=\"p\">(</span><span class=\"n\">n_dims_input</span><span class=\"p\">,</span><span class=\"mi\">20</span><span class=\"p\">),</span>\n",
       "                    <span class=\"n\">non_linearity</span><span class=\"p\">(),</span>\n",
       "                    <span class=\"n\">torch</span><span class=\"o\">.</span><span class=\"n\">nn</span><span class=\"o\">.</span><span class=\"n\">Linear</span><span class=\"p\">(</span><span class=\"mi\">20</span><span class=\"p\">,</span><span class=\"mi\">20</span><span class=\"p\">),</span>\n",
       "                    <span class=\"n\">non_linearity</span><span class=\"p\">(),</span>\n",
       "                    <span class=\"n\">torch</span><span class=\"o\">.</span><span class=\"n\">nn</span><span class=\"o\">.</span><span class=\"n\">Linear</span><span class=\"p\">(</span><span class=\"mi\">20</span><span class=\"p\">,</span> <span class=\"mi\">10</span><span class=\"p\">),</span>\n",
       "                    <span class=\"n\">non_linearity</span><span class=\"p\">(),</span>\n",
       "                    <span class=\"n\">torch</span><span class=\"o\">.</span><span class=\"n\">nn</span><span class=\"o\">.</span><span class=\"n\">Linear</span><span class=\"p\">(</span><span class=\"mi\">10</span><span class=\"p\">,</span> <span class=\"mi\">10</span><span class=\"p\">),</span>\n",
       "                    <span class=\"n\">non_linearity</span><span class=\"p\">(),</span>\n",
       "                    <span class=\"n\">torch</span><span class=\"o\">.</span><span class=\"n\">nn</span><span class=\"o\">.</span><span class=\"n\">Dropout</span><span class=\"p\">(</span><span class=\"n\">p</span><span class=\"o\">=</span><span class=\"bp\">self</span><span class=\"o\">.</span><span class=\"n\">dropout_p</span><span class=\"p\">),</span>\n",
       "                    <span class=\"n\">torch</span><span class=\"o\">.</span><span class=\"n\">nn</span><span class=\"o\">.</span><span class=\"n\">Linear</span><span class=\"p\">(</span><span class=\"mi\">10</span><span class=\"p\">,</span><span class=\"mi\">1</span><span class=\"p\">)</span>\n",
       "                <span class=\"p\">)</span>\n",
       "            <span class=\"k\">else</span><span class=\"p\">:</span>\n",
       "                <span class=\"bp\">self</span><span class=\"o\">.</span><span class=\"n\">f</span> <span class=\"o\">=</span> <span class=\"n\">torch</span><span class=\"o\">.</span><span class=\"n\">nn</span><span class=\"o\">.</span><span class=\"n\">Sequential</span><span class=\"p\">(</span>\n",
       "                    <span class=\"n\">torch</span><span class=\"o\">.</span><span class=\"n\">nn</span><span class=\"o\">.</span><span class=\"n\">Linear</span><span class=\"p\">(</span><span class=\"n\">n_dims_input</span><span class=\"p\">,</span><span class=\"mi\">100</span><span class=\"p\">),</span>\n",
       "                    <span class=\"n\">non_linearity</span><span class=\"p\">(),</span>\n",
       "                    <span class=\"n\">torch</span><span class=\"o\">.</span><span class=\"n\">nn</span><span class=\"o\">.</span><span class=\"n\">Linear</span><span class=\"p\">(</span><span class=\"mi\">100</span><span class=\"p\">,</span><span class=\"mi\">50</span><span class=\"p\">),</span>\n",
       "                    <span class=\"n\">non_linearity</span><span class=\"p\">(),</span>            \n",
       "                    <span class=\"n\">torch</span><span class=\"o\">.</span><span class=\"n\">nn</span><span class=\"o\">.</span><span class=\"n\">Linear</span><span class=\"p\">(</span><span class=\"mi\">50</span><span class=\"p\">,</span> <span class=\"mi\">50</span><span class=\"p\">),</span>\n",
       "                    <span class=\"n\">non_linearity</span><span class=\"p\">(),</span>\n",
       "                    <span class=\"n\">torch</span><span class=\"o\">.</span><span class=\"n\">nn</span><span class=\"o\">.</span><span class=\"n\">Dropout</span><span class=\"p\">(</span><span class=\"n\">p</span><span class=\"o\">=</span><span class=\"bp\">self</span><span class=\"o\">.</span><span class=\"n\">dropout_p</span><span class=\"p\">),</span>\n",
       "                    <span class=\"n\">torch</span><span class=\"o\">.</span><span class=\"n\">nn</span><span class=\"o\">.</span><span class=\"n\">Linear</span><span class=\"p\">(</span><span class=\"mi\">50</span><span class=\"p\">,</span> <span class=\"mi\">15</span><span class=\"p\">),</span>\n",
       "                    <span class=\"n\">non_linearity</span><span class=\"p\">(),</span>\n",
       "                    <span class=\"n\">torch</span><span class=\"o\">.</span><span class=\"n\">nn</span><span class=\"o\">.</span><span class=\"n\">Dropout</span><span class=\"p\">(</span><span class=\"n\">p</span><span class=\"o\">=</span><span class=\"bp\">self</span><span class=\"o\">.</span><span class=\"n\">dropout_p</span><span class=\"p\">),</span>\n",
       "                    <span class=\"n\">torch</span><span class=\"o\">.</span><span class=\"n\">nn</span><span class=\"o\">.</span><span class=\"n\">Linear</span><span class=\"p\">(</span><span class=\"mi\">15</span><span class=\"p\">,</span><span class=\"mi\">1</span><span class=\"p\">)</span>\n",
       "                <span class=\"p\">)</span>\n",
       "        <span class=\"k\">else</span><span class=\"p\">:</span>\n",
       "            <span class=\"bp\">self</span><span class=\"o\">.</span><span class=\"n\">f</span> <span class=\"o\">=</span> <span class=\"n\">model_provided</span>\n",
       "\n",
       "        <span class=\"bp\">self</span><span class=\"o\">.</span><span class=\"n\">optimizer</span> <span class=\"o\">=</span> <span class=\"n\">torch</span><span class=\"o\">.</span><span class=\"n\">optim</span><span class=\"o\">.</span><span class=\"n\">Adam</span><span class=\"p\">(</span>\n",
       "            <span class=\"bp\">self</span><span class=\"o\">.</span><span class=\"n\">parameters</span><span class=\"p\">(),</span>\n",
       "            <span class=\"n\">weight_decay</span><span class=\"o\">=</span><span class=\"bp\">self</span><span class=\"o\">.</span><span class=\"n\">decay</span><span class=\"p\">)</span> \n",
       "        \n",
       "    <span class=\"k\">def</span> <span class=\"nf\">forward</span><span class=\"p\">(</span><span class=\"bp\">self</span><span class=\"p\">,</span> <span class=\"n\">X</span><span class=\"p\">):</span>\n",
       "        <span class=\"n\">X</span> <span class=\"o\">=</span> <span class=\"n\">torch</span><span class=\"o\">.</span><span class=\"n\">autograd</span><span class=\"o\">.</span><span class=\"n\">Variable</span><span class=\"p\">(</span><span class=\"n\">torch</span><span class=\"o\">.</span><span class=\"n\">Tensor</span><span class=\"p\">(</span><span class=\"n\">X</span><span class=\"p\">),</span> <span class=\"n\">requires_grad</span><span class=\"o\">=</span><span class=\"bp\">False</span><span class=\"p\">)</span>\n",
       "        <span class=\"k\">return</span> <span class=\"bp\">self</span><span class=\"o\">.</span><span class=\"n\">f</span><span class=\"p\">(</span><span class=\"n\">X</span><span class=\"p\">)</span>\n",
       "\n",
       "    \n",
       "    \n",
       "    \n",
       "    <span class=\"k\">def</span> <span class=\"nf\">fit_model</span><span class=\"p\">(</span><span class=\"bp\">self</span><span class=\"p\">,</span> <span class=\"n\">X_obs</span><span class=\"p\">,</span><span class=\"n\">y_obs</span><span class=\"p\">):</span>\n",
       "        <span class=\"n\">y</span> <span class=\"o\">=</span> <span class=\"n\">torch</span><span class=\"o\">.</span><span class=\"n\">autograd</span><span class=\"o\">.</span><span class=\"n\">Variable</span><span class=\"p\">(</span><span class=\"n\">torch</span><span class=\"o\">.</span><span class=\"n\">Tensor</span><span class=\"p\">(</span><span class=\"n\">y_obs</span><span class=\"p\">),</span> <span class=\"n\">requires_grad</span><span class=\"o\">=</span><span class=\"bp\">False</span><span class=\"p\">)</span>\n",
       "        <span class=\"n\">y_pred</span> <span class=\"o\">=</span> <span class=\"bp\">self</span><span class=\"p\">(</span><span class=\"n\">X_obs</span><span class=\"p\">)</span>\n",
       "        <span class=\"bp\">self</span><span class=\"o\">.</span><span class=\"n\">optimizer</span><span class=\"o\">.</span><span class=\"n\">zero_grad</span><span class=\"p\">()</span>\n",
       "        <span class=\"n\">loss</span> <span class=\"o\">=</span> <span class=\"bp\">self</span><span class=\"o\">.</span><span class=\"n\">criterion</span><span class=\"p\">(</span><span class=\"n\">y_pred</span><span class=\"p\">,</span> <span class=\"n\">y</span><span class=\"p\">)</span>\n",
       "        <span class=\"n\">loss</span><span class=\"o\">.</span><span class=\"n\">backward</span><span class=\"p\">()</span>\n",
       "        <span class=\"bp\">self</span><span class=\"o\">.</span><span class=\"n\">optimizer</span><span class=\"o\">.</span><span class=\"n\">step</span><span class=\"p\">()</span>\n",
       "        <span class=\"k\">return</span> <span class=\"n\">loss</span>\n",
       "</pre></div>\n"
      ],
      "text/plain": [
       "<IPython.core.display.HTML object>"
      ]
     },
     "execution_count": 3,
     "metadata": {},
     "output_type": "execute_result"
    }
   ],
   "source": [
    "\n",
    "from nn_models.base_model import SimpleModel\n",
    "showcase_code('nn_models/base_model.py','SimpleModel',showcase)"
   ]
  },
  {
   "cell_type": "markdown",
   "metadata": {},
   "source": [
    "\n",
    "## toy model optimisation\n"
   ]
  },
  {
   "cell_type": "code",
   "execution_count": 4,
   "metadata": {},
   "outputs": [],
   "source": [
    "from data_loaders import get_X_y, generate_y\n",
    "#showcase_code('data_loaders.py')\n",
    "toy = True"
   ]
  },
  {
   "cell_type": "code",
   "execution_count": 5,
   "metadata": {},
   "outputs": [
    {
     "data": {
      "image/png": "[encoded data removed]",
      "text/plain": [
       "<Figure size 432x288 with 1 Axes>"
      ]
     },
     "metadata": {
      "image/png": {
       "height": 283,
       "width": 384
      },
      "needs_background": "light"
     },
     "output_type": "display_data"
    }
   ],
   "source": [
    "X_train, X_test, y_train, y_test, N, output_dims  = get_X_y(toy,seed=seed)"
   ]
  },
  {
   "cell_type": "code",
   "execution_count": 6,
   "metadata": {},
   "outputs": [
    {
     "data": {
      "text/plain": [
       "(65, 1)"
      ]
     },
     "execution_count": 6,
     "metadata": {},
     "output_type": "execute_result"
    }
   ],
   "source": [
    "X_train.shape"
   ]
  },
  {
   "cell_type": "code",
   "execution_count": 7,
   "metadata": {},
   "outputs": [
    {
     "data": {
      "text/plain": [
       "(65, 1)"
      ]
     },
     "execution_count": 7,
     "metadata": {},
     "output_type": "execute_result"
    }
   ],
   "source": [
    "y_train.shape"
   ]
  },
  {
   "cell_type": "code",
   "execution_count": 8,
   "metadata": {},
   "outputs": [],
   "source": [
    "def black_box_function(model_provided, decay, num_epochs=2000):\n",
    "    model = SimpleModel(toy,X_train.shape[1], p=0.0, model_provided=model_provided, decay=decay)\n",
    "    \n",
    "    for i in range(num_epochs):\n",
    "        model.fit_model(X_train,y_train)\n",
    "        \n",
    "    y_pred = model(X_test).data.numpy()\n",
    "    \n",
    "    plt.plot(X_test,y_test,'x')\n",
    "    plt.plot(X_test,y_pred,'x')\n",
    "        \n",
    "    \n",
    "    return compute_error(y_test,y_pred)\n",
    "\n"
   ]
  },
  {
   "cell_type": "code",
   "execution_count": 9,
   "metadata": {},
   "outputs": [
    {
     "name": "stdout",
     "output_type": "stream",
     "text": [
      "Wall time: 0 ns\n"
     ]
    }
   ],
   "source": [
    "%%time\n",
    "#black_box_function(torch.nn.ReLU,0.001)"
   ]
  },
  {
   "cell_type": "code",
   "execution_count": 10,
   "metadata": {},
   "outputs": [
    {
     "name": "stdout",
     "output_type": "stream",
     "text": [
      "Wall time: 0 ns\n"
     ]
    }
   ],
   "source": [
    "%%time\n",
    "#black_box_function(torch.nn.LeakyReLU,0.001)"
   ]
  },
  {
   "cell_type": "code",
   "execution_count": 11,
   "metadata": {},
   "outputs": [],
   "source": [
    "non_linearities = [torch.nn.LeakyReLU, torch.nn.ReLU]\n",
    "\n",
    "# models = \n",
    "\n",
    "def make_models(n_dims_input, non_linearity, layer_tuples):\n",
    "                \n",
    "        \n",
    "    layers_list = [[torch.nn.Linear(*layer_tuple), non_linearity()] for layer_tuple in layer_tuples] + [[torch.nn.Dropout(p=0),\n",
    "    torch.nn.Linear(layer_tuples[-1][1],1)]]\n",
    "    layers_list = list(itertools.chain.from_iterable(layers_list))\n",
    "\n",
    "    \n",
    "    return torch.nn.Sequential(\n",
    "    torch.nn.Linear(n_dims_input,layer_tuples[0][0]),\n",
    "    non_linearity(),\n",
    "        \n",
    "        \n",
    "        \n",
    "    *layers_list\n",
    "        \n",
    "\n",
    "    )\n",
    "    \n",
    "    #return layers_list"
   ]
  },
  {
   "cell_type": "code",
   "execution_count": 12,
   "metadata": {},
   "outputs": [
    {
     "data": {
      "text/plain": [
       "Sequential(\n",
       "  (0): Linear(in_features=3, out_features=10, bias=True)\n",
       "  (1): ReLU()\n",
       "  (2): Linear(in_features=10, out_features=10, bias=True)\n",
       "  (3): ReLU()\n",
       "  (4): Linear(in_features=10, out_features=4, bias=True)\n",
       "  (5): ReLU()\n",
       "  (6): Dropout(p=0, inplace=False)\n",
       "  (7): Linear(in_features=4, out_features=1, bias=True)\n",
       ")"
      ]
     },
     "execution_count": 12,
     "metadata": {},
     "output_type": "execute_result"
    }
   ],
   "source": [
    "make_models(3,torch.nn.ReLU,[(10,10),(10,4)])"
   ]
  },
  {
   "cell_type": "code",
   "execution_count": null,
   "metadata": {},
   "outputs": [],
   "source": []
  },
  {
   "cell_type": "code",
   "execution_count": 13,
   "metadata": {},
   "outputs": [],
   "source": [
    "layer_tuple_list = [[(20,20),(20,10),(10,10)],\n",
    "                    [(20,10),(10,10),(10,10),(10,10)],\n",
    "                    [(20,50),(50,5),(5,10)],\n",
    "                    [(10,10),(10,50),(50,10)],\n",
    "                    [(100,100),(100,10)],\n",
    "                    ]"
   ]
  },
  {
   "cell_type": "code",
   "execution_count": 14,
   "metadata": {},
   "outputs": [],
   "source": [
    "models = [make_models(X_train.shape[1],non_linearity, layers) for non_linearity in [torch.nn.LeakyReLU, torch.nn.ReLU, torch.nn.Sigmoid] for layers in layer_tuple_list]"
   ]
  },
  {
   "cell_type": "code",
   "execution_count": null,
   "metadata": {},
   "outputs": [],
   "source": [
    "#models"
   ]
  },
  {
   "cell_type": "code",
   "execution_count": 16,
   "metadata": {},
   "outputs": [],
   "source": [
    "pbounds = {'model_provided':models, 'decays': (0.0005,0.005)}\n",
    "#pbounds = { 'decay': (0.0005,0.005)}\n",
    "seeds = [1, 3, 42, 69, 420, 100, 101, 102, 103, 10]"
   ]
  },
  {
   "cell_type": "code",
   "execution_count": 19,
   "metadata": {},
   "outputs": [
    {
     "name": "stdout",
     "output_type": "stream",
     "text": [
      "{'params': {'model': Sequential(\n",
      "  (0): Linear(in_features=1, out_features=20, bias=True)\n",
      "  (1): LeakyReLU(negative_slope=0.01)\n",
      "  (2): Linear(in_features=20, out_features=20, bias=True)\n",
      "  (3): LeakyReLU(negative_slope=0.01)\n",
      "  (4): Linear(in_features=20, out_features=10, bias=True)\n",
      "  (5): LeakyReLU(negative_slope=0.01)\n",
      "  (6): Linear(in_features=10, out_features=10, bias=True)\n",
      "  (7): LeakyReLU(negative_slope=0.01)\n",
      "  (8): Dropout(p=0, inplace=False)\n",
      "  (9): Linear(in_features=10, out_features=1, bias=True)\n",
      "), 'decay': 0.0005}, 'stats': {'outcome_mean': 0.43404328001194514, 'outcome_std': 0.0064825310660185246}}\n",
      "{'params': {'model': Sequential(\n",
      "  (0): Linear(in_features=1, out_features=20, bias=True)\n",
      "  (1): LeakyReLU(negative_slope=0.01)\n",
      "  (2): Linear(in_features=20, out_features=20, bias=True)\n",
      "  (3): LeakyReLU(negative_slope=0.01)\n",
      "  (4): Linear(in_features=20, out_features=10, bias=True)\n",
      "  (5): LeakyReLU(negative_slope=0.01)\n",
      "  (6): Linear(in_features=10, out_features=10, bias=True)\n",
      "  (7): LeakyReLU(negative_slope=0.01)\n",
      "  (8): Dropout(p=0, inplace=False)\n",
      "  (9): Linear(in_features=10, out_features=1, bias=True)\n",
      "), 'decay': 0.005}, 'stats': {'outcome_mean': 0.33655245702256714, 'outcome_std': 0.006921441382238047}}\n",
      "{'params': {'model': Sequential(\n",
      "  (0): Linear(in_features=1, out_features=20, bias=True)\n",
      "  (1): LeakyReLU(negative_slope=0.01)\n",
      "  (2): Linear(in_features=20, out_features=10, bias=True)\n",
      "  (3): LeakyReLU(negative_slope=0.01)\n",
      "  (4): Linear(in_features=10, out_features=10, bias=True)\n",
      "  (5): LeakyReLU(negative_slope=0.01)\n",
      "  (6): Linear(in_features=10, out_features=10, bias=True)\n",
      "  (7): LeakyReLU(negative_slope=0.01)\n",
      "  (8): Linear(in_features=10, out_features=10, bias=True)\n",
      "  (9): LeakyReLU(negative_slope=0.01)\n",
      "  (10): Dropout(p=0, inplace=False)\n",
      "  (11): Linear(in_features=10, out_features=1, bias=True)\n",
      "), 'decay': 0.0005}, 'stats': {'outcome_mean': 0.35834107132008686, 'outcome_std': 0.011577488932295278}}\n",
      "{'params': {'model': Sequential(\n",
      "  (0): Linear(in_features=1, out_features=20, bias=True)\n",
      "  (1): LeakyReLU(negative_slope=0.01)\n",
      "  (2): Linear(in_features=20, out_features=10, bias=True)\n",
      "  (3): LeakyReLU(negative_slope=0.01)\n",
      "  (4): Linear(in_features=10, out_features=10, bias=True)\n",
      "  (5): LeakyReLU(negative_slope=0.01)\n",
      "  (6): Linear(in_features=10, out_features=10, bias=True)\n",
      "  (7): LeakyReLU(negative_slope=0.01)\n",
      "  (8): Linear(in_features=10, out_features=10, bias=True)\n",
      "  (9): LeakyReLU(negative_slope=0.01)\n",
      "  (10): Dropout(p=0, inplace=False)\n",
      "  (11): Linear(in_features=10, out_features=1, bias=True)\n",
      "), 'decay': 0.005}, 'stats': {'outcome_mean': 0.354511395208137, 'outcome_std': 0.005658371424496817}}\n",
      "{'params': {'model': Sequential(\n",
      "  (0): Linear(in_features=1, out_features=20, bias=True)\n",
      "  (1): LeakyReLU(negative_slope=0.01)\n",
      "  (2): Linear(in_features=20, out_features=50, bias=True)\n",
      "  (3): LeakyReLU(negative_slope=0.01)\n",
      "  (4): Linear(in_features=50, out_features=5, bias=True)\n",
      "  (5): LeakyReLU(negative_slope=0.01)\n",
      "  (6): Linear(in_features=5, out_features=10, bias=True)\n",
      "  (7): LeakyReLU(negative_slope=0.01)\n",
      "  (8): Dropout(p=0, inplace=False)\n",
      "  (9): Linear(in_features=10, out_features=1, bias=True)\n",
      "), 'decay': 0.0005}, 'stats': {'outcome_mean': 0.29148975789283516, 'outcome_std': 0.03645185013799744}}\n",
      "{'params': {'model': Sequential(\n",
      "  (0): Linear(in_features=1, out_features=20, bias=True)\n",
      "  (1): LeakyReLU(negative_slope=0.01)\n",
      "  (2): Linear(in_features=20, out_features=50, bias=True)\n",
      "  (3): LeakyReLU(negative_slope=0.01)\n",
      "  (4): Linear(in_features=50, out_features=5, bias=True)\n",
      "  (5): LeakyReLU(negative_slope=0.01)\n",
      "  (6): Linear(in_features=5, out_features=10, bias=True)\n",
      "  (7): LeakyReLU(negative_slope=0.01)\n",
      "  (8): Dropout(p=0, inplace=False)\n",
      "  (9): Linear(in_features=10, out_features=1, bias=True)\n",
      "), 'decay': 0.005}, 'stats': {'outcome_mean': 0.27845421407518856, 'outcome_std': 0.0050013187484342515}}\n",
      "{'params': {'model': Sequential(\n",
      "  (0): Linear(in_features=1, out_features=10, bias=True)\n",
      "  (1): LeakyReLU(negative_slope=0.01)\n",
      "  (2): Linear(in_features=10, out_features=10, bias=True)\n",
      "  (3): LeakyReLU(negative_slope=0.01)\n",
      "  (4): Linear(in_features=10, out_features=50, bias=True)\n",
      "  (5): LeakyReLU(negative_slope=0.01)\n",
      "  (6): Linear(in_features=50, out_features=10, bias=True)\n",
      "  (7): LeakyReLU(negative_slope=0.01)\n",
      "  (8): Dropout(p=0, inplace=False)\n",
      "  (9): Linear(in_features=10, out_features=1, bias=True)\n",
      "), 'decay': 0.0005}, 'stats': {'outcome_mean': 0.324142985297238, 'outcome_std': 0.017867782384409187}}\n",
      "{'params': {'model': Sequential(\n",
      "  (0): Linear(in_features=1, out_features=10, bias=True)\n",
      "  (1): LeakyReLU(negative_slope=0.01)\n",
      "  (2): Linear(in_features=10, out_features=10, bias=True)\n",
      "  (3): LeakyReLU(negative_slope=0.01)\n",
      "  (4): Linear(in_features=10, out_features=50, bias=True)\n",
      "  (5): LeakyReLU(negative_slope=0.01)\n",
      "  (6): Linear(in_features=50, out_features=10, bias=True)\n",
      "  (7): LeakyReLU(negative_slope=0.01)\n",
      "  (8): Dropout(p=0, inplace=False)\n",
      "  (9): Linear(in_features=10, out_features=1, bias=True)\n",
      "), 'decay': 0.005}, 'stats': {'outcome_mean': 0.34542800385945793, 'outcome_std': 0.006990760771189024}}\n",
      "{'params': {'model': Sequential(\n",
      "  (0): Linear(in_features=1, out_features=100, bias=True)\n",
      "  (1): LeakyReLU(negative_slope=0.01)\n",
      "  (2): Linear(in_features=100, out_features=100, bias=True)\n",
      "  (3): LeakyReLU(negative_slope=0.01)\n",
      "  (4): Linear(in_features=100, out_features=10, bias=True)\n",
      "  (5): LeakyReLU(negative_slope=0.01)\n",
      "  (6): Dropout(p=0, inplace=False)\n",
      "  (7): Linear(in_features=10, out_features=1, bias=True)\n",
      "), 'decay': 0.0005}, 'stats': {'outcome_mean': 0.3505462500719928, 'outcome_std': 0.00781505623972151}}\n",
      "{'params': {'model': Sequential(\n",
      "  (0): Linear(in_features=1, out_features=100, bias=True)\n",
      "  (1): LeakyReLU(negative_slope=0.01)\n",
      "  (2): Linear(in_features=100, out_features=100, bias=True)\n",
      "  (3): LeakyReLU(negative_slope=0.01)\n",
      "  (4): Linear(in_features=100, out_features=10, bias=True)\n",
      "  (5): LeakyReLU(negative_slope=0.01)\n",
      "  (6): Dropout(p=0, inplace=False)\n",
      "  (7): Linear(in_features=10, out_features=1, bias=True)\n",
      "), 'decay': 0.005}, 'stats': {'outcome_mean': 0.33342388669392115, 'outcome_std': 0.016802483423211896}}\n",
      "{'params': {'model': Sequential(\n",
      "  (0): Linear(in_features=1, out_features=20, bias=True)\n",
      "  (1): ReLU()\n",
      "  (2): Linear(in_features=20, out_features=20, bias=True)\n",
      "  (3): ReLU()\n",
      "  (4): Linear(in_features=20, out_features=10, bias=True)\n",
      "  (5): ReLU()\n",
      "  (6): Linear(in_features=10, out_features=10, bias=True)\n",
      "  (7): ReLU()\n",
      "  (8): Dropout(p=0, inplace=False)\n",
      "  (9): Linear(in_features=10, out_features=1, bias=True)\n",
      "), 'decay': 0.0005}, 'stats': {'outcome_mean': 0.4092745208217523, 'outcome_std': 0.016096510004504874}}\n",
      "{'params': {'model': Sequential(\n",
      "  (0): Linear(in_features=1, out_features=20, bias=True)\n",
      "  (1): ReLU()\n",
      "  (2): Linear(in_features=20, out_features=20, bias=True)\n",
      "  (3): ReLU()\n",
      "  (4): Linear(in_features=20, out_features=10, bias=True)\n",
      "  (5): ReLU()\n",
      "  (6): Linear(in_features=10, out_features=10, bias=True)\n",
      "  (7): ReLU()\n",
      "  (8): Dropout(p=0, inplace=False)\n",
      "  (9): Linear(in_features=10, out_features=1, bias=True)\n",
      "), 'decay': 0.005}, 'stats': {'outcome_mean': 0.3463445184898536, 'outcome_std': 0.01555915690406218}}\n",
      "{'params': {'model': Sequential(\n",
      "  (0): Linear(in_features=1, out_features=20, bias=True)\n",
      "  (1): ReLU()\n",
      "  (2): Linear(in_features=20, out_features=10, bias=True)\n",
      "  (3): ReLU()\n",
      "  (4): Linear(in_features=10, out_features=10, bias=True)\n",
      "  (5): ReLU()\n",
      "  (6): Linear(in_features=10, out_features=10, bias=True)\n",
      "  (7): ReLU()\n",
      "  (8): Linear(in_features=10, out_features=10, bias=True)\n",
      "  (9): ReLU()\n",
      "  (10): Dropout(p=0, inplace=False)\n",
      "  (11): Linear(in_features=10, out_features=1, bias=True)\n",
      "), 'decay': 0.0005}, 'stats': {'outcome_mean': 0.4106598266564384, 'outcome_std': 0.035363743764370265}}\n",
      "{'params': {'model': Sequential(\n",
      "  (0): Linear(in_features=1, out_features=20, bias=True)\n",
      "  (1): ReLU()\n",
      "  (2): Linear(in_features=20, out_features=10, bias=True)\n",
      "  (3): ReLU()\n",
      "  (4): Linear(in_features=10, out_features=10, bias=True)\n",
      "  (5): ReLU()\n",
      "  (6): Linear(in_features=10, out_features=10, bias=True)\n",
      "  (7): ReLU()\n",
      "  (8): Linear(in_features=10, out_features=10, bias=True)\n",
      "  (9): ReLU()\n",
      "  (10): Dropout(p=0, inplace=False)\n",
      "  (11): Linear(in_features=10, out_features=1, bias=True)\n",
      "), 'decay': 0.005}, 'stats': {'outcome_mean': 0.34338846387839184, 'outcome_std': 0.00858160391883268}}\n",
      "{'params': {'model': Sequential(\n",
      "  (0): Linear(in_features=1, out_features=20, bias=True)\n",
      "  (1): ReLU()\n",
      "  (2): Linear(in_features=20, out_features=50, bias=True)\n",
      "  (3): ReLU()\n",
      "  (4): Linear(in_features=50, out_features=5, bias=True)\n",
      "  (5): ReLU()\n",
      "  (6): Linear(in_features=5, out_features=10, bias=True)\n",
      "  (7): ReLU()\n",
      "  (8): Dropout(p=0, inplace=False)\n",
      "  (9): Linear(in_features=10, out_features=1, bias=True)\n",
      "), 'decay': 0.0005}, 'stats': {'outcome_mean': 0.3982565137868227, 'outcome_std': 0.006442814712136151}}\n",
      "{'params': {'model': Sequential(\n",
      "  (0): Linear(in_features=1, out_features=20, bias=True)\n",
      "  (1): ReLU()\n",
      "  (2): Linear(in_features=20, out_features=50, bias=True)\n",
      "  (3): ReLU()\n",
      "  (4): Linear(in_features=50, out_features=5, bias=True)\n",
      "  (5): ReLU()\n",
      "  (6): Linear(in_features=5, out_features=10, bias=True)\n",
      "  (7): ReLU()\n",
      "  (8): Dropout(p=0, inplace=False)\n",
      "  (9): Linear(in_features=10, out_features=1, bias=True)\n",
      "), 'decay': 0.005}, 'stats': {'outcome_mean': 0.3570603063990364, 'outcome_std': 0.0045359905039797895}}\n",
      "{'params': {'model': Sequential(\n",
      "  (0): Linear(in_features=1, out_features=10, bias=True)\n",
      "  (1): ReLU()\n",
      "  (2): Linear(in_features=10, out_features=10, bias=True)\n",
      "  (3): ReLU()\n",
      "  (4): Linear(in_features=10, out_features=50, bias=True)\n",
      "  (5): ReLU()\n",
      "  (6): Linear(in_features=50, out_features=10, bias=True)\n",
      "  (7): ReLU()\n",
      "  (8): Dropout(p=0, inplace=False)\n",
      "  (9): Linear(in_features=10, out_features=1, bias=True)\n",
      "), 'decay': 0.0005}, 'stats': {'outcome_mean': 0.31451321538246574, 'outcome_std': 0.015322838507762072}}\n",
      "{'params': {'model': Sequential(\n",
      "  (0): Linear(in_features=1, out_features=10, bias=True)\n",
      "  (1): ReLU()\n",
      "  (2): Linear(in_features=10, out_features=10, bias=True)\n",
      "  (3): ReLU()\n",
      "  (4): Linear(in_features=10, out_features=50, bias=True)\n",
      "  (5): ReLU()\n",
      "  (6): Linear(in_features=50, out_features=10, bias=True)\n",
      "  (7): ReLU()\n",
      "  (8): Dropout(p=0, inplace=False)\n",
      "  (9): Linear(in_features=10, out_features=1, bias=True)\n",
      "), 'decay': 0.005}, 'stats': {'outcome_mean': 0.3353915122976884, 'outcome_std': 0.0064714763569025035}}\n",
      "{'params': {'model': Sequential(\n",
      "  (0): Linear(in_features=1, out_features=100, bias=True)\n",
      "  (1): ReLU()\n",
      "  (2): Linear(in_features=100, out_features=100, bias=True)\n",
      "  (3): ReLU()\n",
      "  (4): Linear(in_features=100, out_features=10, bias=True)\n",
      "  (5): ReLU()\n",
      "  (6): Dropout(p=0, inplace=False)\n",
      "  (7): Linear(in_features=10, out_features=1, bias=True)\n",
      "), 'decay': 0.0005}, 'stats': {'outcome_mean': 0.4124762021041777, 'outcome_std': 0.009092896325457442}}\n",
      "{'params': {'model': Sequential(\n",
      "  (0): Linear(in_features=1, out_features=100, bias=True)\n",
      "  (1): ReLU()\n",
      "  (2): Linear(in_features=100, out_features=100, bias=True)\n",
      "  (3): ReLU()\n",
      "  (4): Linear(in_features=100, out_features=10, bias=True)\n",
      "  (5): ReLU()\n",
      "  (6): Dropout(p=0, inplace=False)\n",
      "  (7): Linear(in_features=10, out_features=1, bias=True)\n",
      "), 'decay': 0.005}, 'stats': {'outcome_mean': 0.38544022910518616, 'outcome_std': 0.005358169085508028}}\n",
      "{'params': {'model': Sequential(\n",
      "  (0): Linear(in_features=1, out_features=20, bias=True)\n",
      "  (1): Sigmoid()\n",
      "  (2): Linear(in_features=20, out_features=20, bias=True)\n",
      "  (3): Sigmoid()\n",
      "  (4): Linear(in_features=20, out_features=10, bias=True)\n",
      "  (5): Sigmoid()\n",
      "  (6): Linear(in_features=10, out_features=10, bias=True)\n",
      "  (7): Sigmoid()\n",
      "  (8): Dropout(p=0, inplace=False)\n",
      "  (9): Linear(in_features=10, out_features=1, bias=True)\n",
      "), 'decay': 0.0005}, 'stats': {'outcome_mean': 0.8033129256820987, 'outcome_std': 2.1790498061972964e-05}}\n",
      "{'params': {'model': Sequential(\n",
      "  (0): Linear(in_features=1, out_features=20, bias=True)\n",
      "  (1): Sigmoid()\n",
      "  (2): Linear(in_features=20, out_features=20, bias=True)\n",
      "  (3): Sigmoid()\n",
      "  (4): Linear(in_features=20, out_features=10, bias=True)\n",
      "  (5): Sigmoid()\n",
      "  (6): Linear(in_features=10, out_features=10, bias=True)\n",
      "  (7): Sigmoid()\n",
      "  (8): Dropout(p=0, inplace=False)\n",
      "  (9): Linear(in_features=10, out_features=1, bias=True)\n",
      "), 'decay': 0.005}, 'stats': {'outcome_mean': 0.8033001207636692, 'outcome_std': 2.2474748250965208e-05}}\n",
      "{'params': {'model': Sequential(\n",
      "  (0): Linear(in_features=1, out_features=20, bias=True)\n",
      "  (1): Sigmoid()\n",
      "  (2): Linear(in_features=20, out_features=10, bias=True)\n",
      "  (3): Sigmoid()\n",
      "  (4): Linear(in_features=10, out_features=10, bias=True)\n",
      "  (5): Sigmoid()\n",
      "  (6): Linear(in_features=10, out_features=10, bias=True)\n",
      "  (7): Sigmoid()\n",
      "  (8): Linear(in_features=10, out_features=10, bias=True)\n",
      "  (9): Sigmoid()\n",
      "  (10): Dropout(p=0, inplace=False)\n",
      "  (11): Linear(in_features=10, out_features=1, bias=True)\n",
      "), 'decay': 0.0005}, 'stats': {'outcome_mean': 0.8033180593512647, 'outcome_std': 1.9800203629141218e-05}}\n",
      "{'params': {'model': Sequential(\n",
      "  (0): Linear(in_features=1, out_features=20, bias=True)\n",
      "  (1): Sigmoid()\n",
      "  (2): Linear(in_features=20, out_features=10, bias=True)\n",
      "  (3): Sigmoid()\n",
      "  (4): Linear(in_features=10, out_features=10, bias=True)\n",
      "  (5): Sigmoid()\n",
      "  (6): Linear(in_features=10, out_features=10, bias=True)\n",
      "  (7): Sigmoid()\n",
      "  (8): Linear(in_features=10, out_features=10, bias=True)\n",
      "  (9): Sigmoid()\n",
      "  (10): Dropout(p=0, inplace=False)\n",
      "  (11): Linear(in_features=10, out_features=1, bias=True)\n",
      "), 'decay': 0.005}, 'stats': {'outcome_mean': 0.8032991909750378, 'outcome_std': 2.699551387263036e-06}}\n",
      "{'params': {'model': Sequential(\n",
      "  (0): Linear(in_features=1, out_features=20, bias=True)\n",
      "  (1): Sigmoid()\n",
      "  (2): Linear(in_features=20, out_features=50, bias=True)\n",
      "  (3): Sigmoid()\n",
      "  (4): Linear(in_features=50, out_features=5, bias=True)\n",
      "  (5): Sigmoid()\n",
      "  (6): Linear(in_features=5, out_features=10, bias=True)\n",
      "  (7): Sigmoid()\n",
      "  (8): Dropout(p=0, inplace=False)\n",
      "  (9): Linear(in_features=10, out_features=1, bias=True)\n",
      "), 'decay': 0.0005}, 'stats': {'outcome_mean': 0.8033239295322361, 'outcome_std': 2.287724425852973e-05}}\n",
      "{'params': {'model': Sequential(\n",
      "  (0): Linear(in_features=1, out_features=20, bias=True)\n",
      "  (1): Sigmoid()\n",
      "  (2): Linear(in_features=20, out_features=50, bias=True)\n",
      "  (3): Sigmoid()\n",
      "  (4): Linear(in_features=50, out_features=5, bias=True)\n",
      "  (5): Sigmoid()\n",
      "  (6): Linear(in_features=5, out_features=10, bias=True)\n",
      "  (7): Sigmoid()\n",
      "  (8): Dropout(p=0, inplace=False)\n",
      "  (9): Linear(in_features=10, out_features=1, bias=True)\n",
      "), 'decay': 0.005}, 'stats': {'outcome_mean': 0.8032913019058592, 'outcome_std': 3.349365400408968e-05}}\n",
      "{'params': {'model': Sequential(\n",
      "  (0): Linear(in_features=1, out_features=10, bias=True)\n",
      "  (1): Sigmoid()\n",
      "  (2): Linear(in_features=10, out_features=10, bias=True)\n",
      "  (3): Sigmoid()\n",
      "  (4): Linear(in_features=10, out_features=50, bias=True)\n",
      "  (5): Sigmoid()\n",
      "  (6): Linear(in_features=50, out_features=10, bias=True)\n",
      "  (7): Sigmoid()\n",
      "  (8): Dropout(p=0, inplace=False)\n",
      "  (9): Linear(in_features=10, out_features=1, bias=True)\n",
      "), 'decay': 0.0005}, 'stats': {'outcome_mean': 0.8033310507533438, 'outcome_std': 3.49888350444905e-05}}\n",
      "{'params': {'model': Sequential(\n",
      "  (0): Linear(in_features=1, out_features=10, bias=True)\n",
      "  (1): Sigmoid()\n",
      "  (2): Linear(in_features=10, out_features=10, bias=True)\n",
      "  (3): Sigmoid()\n",
      "  (4): Linear(in_features=10, out_features=50, bias=True)\n",
      "  (5): Sigmoid()\n",
      "  (6): Linear(in_features=50, out_features=10, bias=True)\n",
      "  (7): Sigmoid()\n",
      "  (8): Dropout(p=0, inplace=False)\n",
      "  (9): Linear(in_features=10, out_features=1, bias=True)\n",
      "), 'decay': 0.005}, 'stats': {'outcome_mean': 0.8033087921438102, 'outcome_std': 3.6412973881772e-05}}\n",
      "{'params': {'model': Sequential(\n",
      "  (0): Linear(in_features=1, out_features=100, bias=True)\n",
      "  (1): Sigmoid()\n",
      "  (2): Linear(in_features=100, out_features=100, bias=True)\n",
      "  (3): Sigmoid()\n",
      "  (4): Linear(in_features=100, out_features=10, bias=True)\n",
      "  (5): Sigmoid()\n",
      "  (6): Dropout(p=0, inplace=False)\n",
      "  (7): Linear(in_features=10, out_features=1, bias=True)\n",
      "), 'decay': 0.0005}, 'stats': {'outcome_mean': 0.3497751592483399, 'outcome_std': 0.06970792946094692}}\n",
      "{'params': {'model': Sequential(\n",
      "  (0): Linear(in_features=1, out_features=100, bias=True)\n",
      "  (1): Sigmoid()\n",
      "  (2): Linear(in_features=100, out_features=100, bias=True)\n",
      "  (3): Sigmoid()\n",
      "  (4): Linear(in_features=100, out_features=10, bias=True)\n",
      "  (5): Sigmoid()\n",
      "  (6): Dropout(p=0, inplace=False)\n",
      "  (7): Linear(in_features=10, out_features=1, bias=True)\n",
      "), 'decay': 0.005}, 'stats': {'outcome_mean': 0.7248497822315813, 'outcome_std': 0.07080300890885169}}\n"
     ]
    },
    {
     "data": {
      "image/png": "[encoded data removed]",
      "text/plain": [
       "<Figure size 432x288 with 1 Axes>"
      ]
     },
     "metadata": {
      "image/png": {
       "height": 248,
       "width": 370
      },
      "needs_background": "light"
     },
     "output_type": "display_data"
    }
   ],
   "source": [
    "outcome_list = []\n",
    "\n",
    "for model in pbounds['model_provided']:\n",
    "    print(model)\n",
    "    for decay in pbounds['decays']:\n",
    "        print(decay)\n",
    "        seed_outcomes = []\n",
    "        for seed in seeds:\n",
    "            np.random.seed(seed)\n",
    "            torch.manual_seed(seed)            \n",
    "            seed_outcomes.append(black_box_function(model,decay))\n",
    "            \n",
    "            \n",
    "        outcome_mean = np.mean(seed_outcomes)\n",
    "        outcome_std = np.std(seed_outcomes)\n",
    "        outcome_dict = {'params':{'model':model,'decay':decay},\n",
    "                             'stats':{'outcome_mean':outcome_mean,'outcome_std':outcome_std}\n",
    "                            }\n",
    "        outcome_list.append(outcome_dict)\n",
    "        #print(outcome_dict)\n",
    "\n",
    "        #print(f'for the combination of {non_linearity} and decay {decay}: {np.mean(seed_outcomes), np.std(seed_outcomes)}')\n"
   ]
  },
  {
   "cell_type": "code",
   "execution_count": 20,
   "metadata": {},
   "outputs": [],
   "source": [
    "stats = [x['stats'] for x in outcome_list] "
   ]
  },
  {
   "cell_type": "code",
   "execution_count": 21,
   "metadata": {},
   "outputs": [],
   "source": [
    "means = [ x['outcome_mean'] for x in stats]\n",
    "stds = [ x['outcome_std'] for x in stats]"
   ]
  },
  {
   "cell_type": "code",
   "execution_count": 22,
   "metadata": {},
   "outputs": [
    {
     "data": {
      "text/plain": [
       "<BarContainer object of 30 artists>"
      ]
     },
     "execution_count": 22,
     "metadata": {},
     "output_type": "execute_result"
    },
    {
     "data": {
      "image/png": "[encoded data removed]",
      "text/plain": [
       "<Figure size 432x288 with 1 Axes>"
      ]
     },
     "metadata": {
      "image/png": {
       "height": 248,
       "width": 372
      },
      "needs_background": "light"
     },
     "output_type": "display_data"
    }
   ],
   "source": [
    "plt.bar(list(range(len(means))),means,yerr=stds)"
   ]
  },
  {
   "cell_type": "code",
   "execution_count": 27,
   "metadata": {},
   "outputs": [],
   "source": [
    "index = np.argmin(means)"
   ]
  },
  {
   "cell_type": "code",
   "execution_count": 28,
   "metadata": {},
   "outputs": [],
   "source": [
    "params = [x['params'] for x in outcome_list]"
   ]
  },
  {
   "cell_type": "code",
   "execution_count": 29,
   "metadata": {},
   "outputs": [
    {
     "data": {
      "text/plain": [
       "0.27845421407518856"
      ]
     },
     "execution_count": 29,
     "metadata": {},
     "output_type": "execute_result"
    }
   ],
   "source": [
    "means[index]\n"
   ]
  },
  {
   "cell_type": "code",
   "execution_count": 31,
   "metadata": {},
   "outputs": [
    {
     "data": {
      "text/plain": [
       "0.0050013187484342515"
      ]
     },
     "execution_count": 31,
     "metadata": {},
     "output_type": "execute_result"
    }
   ],
   "source": [
    "stds[index]"
   ]
  },
  {
   "cell_type": "code",
   "execution_count": 33,
   "metadata": {},
   "outputs": [
    {
     "data": {
      "text/plain": [
       "{'model': Sequential(\n",
       "   (0): Linear(in_features=1, out_features=20, bias=True)\n",
       "   (1): LeakyReLU(negative_slope=0.01)\n",
       "   (2): Linear(in_features=20, out_features=50, bias=True)\n",
       "   (3): LeakyReLU(negative_slope=0.01)\n",
       "   (4): Linear(in_features=50, out_features=5, bias=True)\n",
       "   (5): LeakyReLU(negative_slope=0.01)\n",
       "   (6): Linear(in_features=5, out_features=10, bias=True)\n",
       "   (7): LeakyReLU(negative_slope=0.01)\n",
       "   (8): Dropout(p=0, inplace=False)\n",
       "   (9): Linear(in_features=10, out_features=1, bias=True)\n",
       " ), 'decay': 0.005}"
      ]
     },
     "execution_count": 33,
     "metadata": {},
     "output_type": "execute_result"
    }
   ],
   "source": [
    "params[index]"
   ]
  },
  {
   "cell_type": "code",
   "execution_count": null,
   "metadata": {},
   "outputs": [],
   "source": []
  }
 ],
 "metadata": {
  "kernelspec": {
   "display_name": "Python 3",
   "language": "python",
   "name": "python3"
  },
  "language_info": {
   "codemirror_mode": {
    "name": "ipython",
    "version": 3
   },
   "file_extension": ".py",
   "mimetype": "text/x-python",
   "name": "python",
   "nbconvert_exporter": "python",
   "pygments_lexer": "ipython3",
   "version": "3.7.4"
  }
 },
 "nbformat": 4,
 "nbformat_minor": 4
}
